{
 "cells": [
  {
   "cell_type": "markdown",
   "source": [
    "## 의사결정나무(DT)\n",
    "- IF-ELSE 방식의 질문에 대한 답변으로 문제를 해결하는 알고리즘\n",
    "- 피쳐(특성) 중에서 선택한 기준으로 데이터 분할\n",
    "    - 엔트로피 (불순 정도) => 낮아지는 방향\n",
    "    - 정보이득 : 1-엔트로피 => 높아지는 방향\n",
    "    - 지니계수 : 불평등수치값 => 낮아지는 방향\n",
    "- 단점 : 과대적합이 될 가능성 높음! 성능이 좋지 않음\n",
    "- 장점 : 전처리 영향을 받지 않음 / 직관성이 높음 / 피쳐들 중 주요 피쳐 확인 가능\n",
    "- 주의\n",
    "    - 여기서의 주요 피쳐는 데이터 분할을 위한 주요 피쳐\n",
    "    - 100% 데이터의 주요 피쳐가 아닐 수도 있음 => 다른 검사(상관계수, 시각화)"
   ],
   "metadata": {
    "collapsed": false
   },
   "id": "7d3f26b09ed50027"
  },
  {
   "cell_type": "markdown",
   "source": [
    "### [1] 모듈 로딩 및 데이터 준비"
   ],
   "metadata": {
    "collapsed": false
   },
   "id": "5b6d6ccabb56ea83"
  },
  {
   "cell_type": "code",
   "outputs": [
    {
     "data": {
      "text/plain": "     sepal_length  sepal_width  petal_length  petal_width    species\n0             5.1          3.5           1.4          0.2     setosa\n1             4.9          3.0           1.4          0.2     setosa\n2             4.7          3.2           1.3          0.2     setosa\n3             4.6          3.1           1.5          0.2     setosa\n4             5.0          3.6           1.4          0.2     setosa\n..            ...          ...           ...          ...        ...\n145           6.7          3.0           5.2          2.3  virginica\n146           6.3          2.5           5.0          1.9  virginica\n147           6.5          3.0           5.2          2.0  virginica\n148           6.2          3.4           5.4          2.3  virginica\n149           5.9          3.0           5.1          1.8  virginica\n\n[150 rows x 5 columns]",
      "text/html": "<div>\n<style scoped>\n    .dataframe tbody tr th:only-of-type {\n        vertical-align: middle;\n    }\n\n    .dataframe tbody tr th {\n        vertical-align: top;\n    }\n\n    .dataframe thead th {\n        text-align: right;\n    }\n</style>\n<table border=\"1\" class=\"dataframe\">\n  <thead>\n    <tr style=\"text-align: right;\">\n      <th></th>\n      <th>sepal_length</th>\n      <th>sepal_width</th>\n      <th>petal_length</th>\n      <th>petal_width</th>\n      <th>species</th>\n    </tr>\n  </thead>\n  <tbody>\n    <tr>\n      <th>0</th>\n      <td>5.1</td>\n      <td>3.5</td>\n      <td>1.4</td>\n      <td>0.2</td>\n      <td>setosa</td>\n    </tr>\n    <tr>\n      <th>1</th>\n      <td>4.9</td>\n      <td>3.0</td>\n      <td>1.4</td>\n      <td>0.2</td>\n      <td>setosa</td>\n    </tr>\n    <tr>\n      <th>2</th>\n      <td>4.7</td>\n      <td>3.2</td>\n      <td>1.3</td>\n      <td>0.2</td>\n      <td>setosa</td>\n    </tr>\n    <tr>\n      <th>3</th>\n      <td>4.6</td>\n      <td>3.1</td>\n      <td>1.5</td>\n      <td>0.2</td>\n      <td>setosa</td>\n    </tr>\n    <tr>\n      <th>4</th>\n      <td>5.0</td>\n      <td>3.6</td>\n      <td>1.4</td>\n      <td>0.2</td>\n      <td>setosa</td>\n    </tr>\n    <tr>\n      <th>...</th>\n      <td>...</td>\n      <td>...</td>\n      <td>...</td>\n      <td>...</td>\n      <td>...</td>\n    </tr>\n    <tr>\n      <th>145</th>\n      <td>6.7</td>\n      <td>3.0</td>\n      <td>5.2</td>\n      <td>2.3</td>\n      <td>virginica</td>\n    </tr>\n    <tr>\n      <th>146</th>\n      <td>6.3</td>\n      <td>2.5</td>\n      <td>5.0</td>\n      <td>1.9</td>\n      <td>virginica</td>\n    </tr>\n    <tr>\n      <th>147</th>\n      <td>6.5</td>\n      <td>3.0</td>\n      <td>5.2</td>\n      <td>2.0</td>\n      <td>virginica</td>\n    </tr>\n    <tr>\n      <th>148</th>\n      <td>6.2</td>\n      <td>3.4</td>\n      <td>5.4</td>\n      <td>2.3</td>\n      <td>virginica</td>\n    </tr>\n    <tr>\n      <th>149</th>\n      <td>5.9</td>\n      <td>3.0</td>\n      <td>5.1</td>\n      <td>1.8</td>\n      <td>virginica</td>\n    </tr>\n  </tbody>\n</table>\n<p>150 rows × 5 columns</p>\n</div>"
     },
     "execution_count": 2,
     "metadata": {},
     "output_type": "execute_result"
    }
   ],
   "source": [
    "import pandas as pd\n",
    "import numpy as np\n",
    "\n",
    "irisDF = pd.read_csv('../data/iris.csv')\n",
    "irisDF"
   ],
   "metadata": {
    "collapsed": false,
    "ExecuteTime": {
     "end_time": "2024-03-07T00:39:43.720935Z",
     "start_time": "2024-03-07T00:39:43.667143Z"
    }
   },
   "id": "fdd3fa8bf3628ccf",
   "execution_count": 2
  },
  {
   "cell_type": "markdown",
   "source": [
    "### [2] 학습용 데이터 셋 준비"
   ],
   "metadata": {
    "collapsed": false
   },
   "id": "62f37f787b6085a2"
  },
  {
   "cell_type": "markdown",
   "source": [
    "#### [2-1] 피쳐와 타겟 분리"
   ],
   "metadata": {
    "collapsed": false
   },
   "id": "c45be0a9b584ba21"
  },
  {
   "cell_type": "code",
   "outputs": [
    {
     "data": {
      "text/plain": "     sepal_length  sepal_width  petal_length  petal_width\n0             5.1          3.5           1.4          0.2\n1             4.9          3.0           1.4          0.2\n2             4.7          3.2           1.3          0.2\n3             4.6          3.1           1.5          0.2\n4             5.0          3.6           1.4          0.2\n..            ...          ...           ...          ...\n145           6.7          3.0           5.2          2.3\n146           6.3          2.5           5.0          1.9\n147           6.5          3.0           5.2          2.0\n148           6.2          3.4           5.4          2.3\n149           5.9          3.0           5.1          1.8\n\n[150 rows x 4 columns]",
      "text/html": "<div>\n<style scoped>\n    .dataframe tbody tr th:only-of-type {\n        vertical-align: middle;\n    }\n\n    .dataframe tbody tr th {\n        vertical-align: top;\n    }\n\n    .dataframe thead th {\n        text-align: right;\n    }\n</style>\n<table border=\"1\" class=\"dataframe\">\n  <thead>\n    <tr style=\"text-align: right;\">\n      <th></th>\n      <th>sepal_length</th>\n      <th>sepal_width</th>\n      <th>petal_length</th>\n      <th>petal_width</th>\n    </tr>\n  </thead>\n  <tbody>\n    <tr>\n      <th>0</th>\n      <td>5.1</td>\n      <td>3.5</td>\n      <td>1.4</td>\n      <td>0.2</td>\n    </tr>\n    <tr>\n      <th>1</th>\n      <td>4.9</td>\n      <td>3.0</td>\n      <td>1.4</td>\n      <td>0.2</td>\n    </tr>\n    <tr>\n      <th>2</th>\n      <td>4.7</td>\n      <td>3.2</td>\n      <td>1.3</td>\n      <td>0.2</td>\n    </tr>\n    <tr>\n      <th>3</th>\n      <td>4.6</td>\n      <td>3.1</td>\n      <td>1.5</td>\n      <td>0.2</td>\n    </tr>\n    <tr>\n      <th>4</th>\n      <td>5.0</td>\n      <td>3.6</td>\n      <td>1.4</td>\n      <td>0.2</td>\n    </tr>\n    <tr>\n      <th>...</th>\n      <td>...</td>\n      <td>...</td>\n      <td>...</td>\n      <td>...</td>\n    </tr>\n    <tr>\n      <th>145</th>\n      <td>6.7</td>\n      <td>3.0</td>\n      <td>5.2</td>\n      <td>2.3</td>\n    </tr>\n    <tr>\n      <th>146</th>\n      <td>6.3</td>\n      <td>2.5</td>\n      <td>5.0</td>\n      <td>1.9</td>\n    </tr>\n    <tr>\n      <th>147</th>\n      <td>6.5</td>\n      <td>3.0</td>\n      <td>5.2</td>\n      <td>2.0</td>\n    </tr>\n    <tr>\n      <th>148</th>\n      <td>6.2</td>\n      <td>3.4</td>\n      <td>5.4</td>\n      <td>2.3</td>\n    </tr>\n    <tr>\n      <th>149</th>\n      <td>5.9</td>\n      <td>3.0</td>\n      <td>5.1</td>\n      <td>1.8</td>\n    </tr>\n  </tbody>\n</table>\n<p>150 rows × 4 columns</p>\n</div>"
     },
     "execution_count": 9,
     "metadata": {},
     "output_type": "execute_result"
    }
   ],
   "source": [
    "featureDF = irisDF[irisDF.columns[:4]]\n",
    "featureDF"
   ],
   "metadata": {
    "collapsed": false,
    "ExecuteTime": {
     "end_time": "2024-03-07T00:43:03.041820Z",
     "start_time": "2024-03-07T00:43:03.037347Z"
    }
   },
   "id": "5e2a6b783fde5b98",
   "execution_count": 9
  },
  {
   "cell_type": "code",
   "outputs": [
    {
     "data": {
      "text/plain": "0         setosa\n1         setosa\n2         setosa\n3         setosa\n4         setosa\n         ...    \n145    virginica\n146    virginica\n147    virginica\n148    virginica\n149    virginica\nName: species, Length: 150, dtype: object"
     },
     "execution_count": 10,
     "metadata": {},
     "output_type": "execute_result"
    }
   ],
   "source": [
    "targetSR = irisDF.species\n",
    "targetSR"
   ],
   "metadata": {
    "collapsed": false,
    "ExecuteTime": {
     "end_time": "2024-03-07T00:43:03.252234Z",
     "start_time": "2024-03-07T00:43:03.248525Z"
    }
   },
   "id": "a7a8040c57526829",
   "execution_count": 10
  },
  {
   "cell_type": "markdown",
   "source": [
    "#### [2-2] 훈련용과 테스트용 데이터셋 분리"
   ],
   "metadata": {
    "collapsed": false
   },
   "id": "c4eddc9bfce5908c"
  },
  {
   "cell_type": "code",
   "outputs": [],
   "source": [
    "from sklearn.model_selection import train_test_split"
   ],
   "metadata": {
    "collapsed": false,
    "ExecuteTime": {
     "end_time": "2024-03-07T00:43:03.663435Z",
     "start_time": "2024-03-07T00:43:03.659580Z"
    }
   },
   "id": "bfc34213ea94c751",
   "execution_count": 11
  },
  {
   "cell_type": "code",
   "outputs": [],
   "source": [
    "X_train, x_test, y_train, y_test = train_test_split(featureDF,\n",
    "                                                    targetSR,\n",
    "                                                    test_size=0.2,\n",
    "                                                    stratify=targetSR)"
   ],
   "metadata": {
    "collapsed": false,
    "ExecuteTime": {
     "end_time": "2024-03-07T00:43:03.870321Z",
     "start_time": "2024-03-07T00:43:03.866471Z"
    }
   },
   "id": "1b0c1ba61d40b2eb",
   "execution_count": 12
  },
  {
   "cell_type": "markdown",
   "source": [
    "## [3] 기계학습 진행 <hr>\n",
    "- 타겟 데이터 확인 결과 : 3개의 분류\n",
    "- 학습 유형 : 지도학습 + 분류\n",
    "    - 분류 알고리즘 => KNN, LogisticRegression, SVM-SVC, DecisionTree"
   ],
   "metadata": {
    "collapsed": false
   },
   "id": "c22c703530a0dc4c"
  },
  {
   "cell_type": "markdown",
   "source": [
    "#### [3-1] 의사결정 알고리즘으로 분류"
   ],
   "metadata": {
    "collapsed": false
   },
   "id": "87dbb39d7bc9688"
  },
  {
   "cell_type": "code",
   "outputs": [],
   "source": [
    "from sklearn.tree import DecisionTreeClassifier"
   ],
   "metadata": {
    "collapsed": false,
    "ExecuteTime": {
     "end_time": "2024-03-07T00:52:31.299300Z",
     "start_time": "2024-03-07T00:52:31.203033Z"
    }
   },
   "id": "eb8da6e7d7acd6b9",
   "execution_count": 13
  },
  {
   "cell_type": "code",
   "outputs": [
    {
     "data": {
      "text/plain": "DecisionTreeClassifier()",
      "text/html": "<style>#sk-container-id-1 {color: black;}#sk-container-id-1 pre{padding: 0;}#sk-container-id-1 div.sk-toggleable {background-color: white;}#sk-container-id-1 label.sk-toggleable__label {cursor: pointer;display: block;width: 100%;margin-bottom: 0;padding: 0.3em;box-sizing: border-box;text-align: center;}#sk-container-id-1 label.sk-toggleable__label-arrow:before {content: \"▸\";float: left;margin-right: 0.25em;color: #696969;}#sk-container-id-1 label.sk-toggleable__label-arrow:hover:before {color: black;}#sk-container-id-1 div.sk-estimator:hover label.sk-toggleable__label-arrow:before {color: black;}#sk-container-id-1 div.sk-toggleable__content {max-height: 0;max-width: 0;overflow: hidden;text-align: left;background-color: #f0f8ff;}#sk-container-id-1 div.sk-toggleable__content pre {margin: 0.2em;color: black;border-radius: 0.25em;background-color: #f0f8ff;}#sk-container-id-1 input.sk-toggleable__control:checked~div.sk-toggleable__content {max-height: 200px;max-width: 100%;overflow: auto;}#sk-container-id-1 input.sk-toggleable__control:checked~label.sk-toggleable__label-arrow:before {content: \"▾\";}#sk-container-id-1 div.sk-estimator input.sk-toggleable__control:checked~label.sk-toggleable__label {background-color: #d4ebff;}#sk-container-id-1 div.sk-label input.sk-toggleable__control:checked~label.sk-toggleable__label {background-color: #d4ebff;}#sk-container-id-1 input.sk-hidden--visually {border: 0;clip: rect(1px 1px 1px 1px);clip: rect(1px, 1px, 1px, 1px);height: 1px;margin: -1px;overflow: hidden;padding: 0;position: absolute;width: 1px;}#sk-container-id-1 div.sk-estimator {font-family: monospace;background-color: #f0f8ff;border: 1px dotted black;border-radius: 0.25em;box-sizing: border-box;margin-bottom: 0.5em;}#sk-container-id-1 div.sk-estimator:hover {background-color: #d4ebff;}#sk-container-id-1 div.sk-parallel-item::after {content: \"\";width: 100%;border-bottom: 1px solid gray;flex-grow: 1;}#sk-container-id-1 div.sk-label:hover label.sk-toggleable__label {background-color: #d4ebff;}#sk-container-id-1 div.sk-serial::before {content: \"\";position: absolute;border-left: 1px solid gray;box-sizing: border-box;top: 0;bottom: 0;left: 50%;z-index: 0;}#sk-container-id-1 div.sk-serial {display: flex;flex-direction: column;align-items: center;background-color: white;padding-right: 0.2em;padding-left: 0.2em;position: relative;}#sk-container-id-1 div.sk-item {position: relative;z-index: 1;}#sk-container-id-1 div.sk-parallel {display: flex;align-items: stretch;justify-content: center;background-color: white;position: relative;}#sk-container-id-1 div.sk-item::before, #sk-container-id-1 div.sk-parallel-item::before {content: \"\";position: absolute;border-left: 1px solid gray;box-sizing: border-box;top: 0;bottom: 0;left: 50%;z-index: -1;}#sk-container-id-1 div.sk-parallel-item {display: flex;flex-direction: column;z-index: 1;position: relative;background-color: white;}#sk-container-id-1 div.sk-parallel-item:first-child::after {align-self: flex-end;width: 50%;}#sk-container-id-1 div.sk-parallel-item:last-child::after {align-self: flex-start;width: 50%;}#sk-container-id-1 div.sk-parallel-item:only-child::after {width: 0;}#sk-container-id-1 div.sk-dashed-wrapped {border: 1px dashed gray;margin: 0 0.4em 0.5em 0.4em;box-sizing: border-box;padding-bottom: 0.4em;background-color: white;}#sk-container-id-1 div.sk-label label {font-family: monospace;font-weight: bold;display: inline-block;line-height: 1.2em;}#sk-container-id-1 div.sk-label-container {text-align: center;}#sk-container-id-1 div.sk-container {/* jupyter's `normalize.less` sets `[hidden] { display: none; }` but bootstrap.min.css set `[hidden] { display: none !important; }` so we also need the `!important` here to be able to override the default hidden behavior on the sphinx rendered scikit-learn.org. See: https://github.com/scikit-learn/scikit-learn/issues/21755 */display: inline-block !important;position: relative;}#sk-container-id-1 div.sk-text-repr-fallback {display: none;}</style><div id=\"sk-container-id-1\" class=\"sk-top-container\"><div class=\"sk-text-repr-fallback\"><pre>DecisionTreeClassifier()</pre><b>In a Jupyter environment, please rerun this cell to show the HTML representation or trust the notebook. <br />On GitHub, the HTML representation is unable to render, please try loading this page with nbviewer.org.</b></div><div class=\"sk-container\" hidden><div class=\"sk-item\"><div class=\"sk-estimator sk-toggleable\"><input class=\"sk-toggleable__control sk-hidden--visually\" id=\"sk-estimator-id-1\" type=\"checkbox\" checked><label for=\"sk-estimator-id-1\" class=\"sk-toggleable__label sk-toggleable__label-arrow\">DecisionTreeClassifier</label><div class=\"sk-toggleable__content\"><pre>DecisionTreeClassifier()</pre></div></div></div></div></div>"
     },
     "execution_count": 14,
     "metadata": {},
     "output_type": "execute_result"
    }
   ],
   "source": [
    "# 모델 인스턴스 생성\n",
    "model = DecisionTreeClassifier()\n",
    "model.fit(X_train, y_train)"
   ],
   "metadata": {
    "collapsed": false,
    "ExecuteTime": {
     "end_time": "2024-03-07T00:53:05.752890Z",
     "start_time": "2024-03-07T00:53:05.747646Z"
    }
   },
   "id": "ddd90f569e4fa6b6",
   "execution_count": 14
  },
  {
   "cell_type": "code",
   "outputs": [],
   "source": [
    "# 생성된 모델 구조 시각화\n",
    "from sklearn.tree import export_graphviz\n",
    "\n",
    "# DT 모델의 시각화 정보를 dot언어로 작성해서 파일로 저장\n",
    "export_graphviz(model, 'iris_dt_model.dot', feature_names=featureDF.columns, filled=True, class_names=featureDF.columns)\n"
   ],
   "metadata": {
    "collapsed": false,
    "ExecuteTime": {
     "end_time": "2024-03-07T01:32:28.154038Z",
     "start_time": "2024-03-07T01:32:28.147696Z"
    }
   },
   "id": "fea644cfdd6e32f0",
   "execution_count": 35
  },
  {
   "cell_type": "code",
   "outputs": [
    {
     "data": {
      "image/svg+xml": "<?xml version=\"1.0\" encoding=\"UTF-8\" standalone=\"no\"?>\n<!DOCTYPE svg PUBLIC \"-//W3C//DTD SVG 1.1//EN\"\n \"http://www.w3.org/Graphics/SVG/1.1/DTD/svg11.dtd\">\n<!-- Generated by graphviz version 10.0.1 (20240210.2158)\n -->\n<!-- Title: Tree Pages: 1 -->\n<svg width=\"603pt\" height=\"909pt\"\n viewBox=\"0.00 0.00 603.00 909.00\" xmlns=\"http://www.w3.org/2000/svg\" xmlns:xlink=\"http://www.w3.org/1999/xlink\">\n<g id=\"graph0\" class=\"graph\" transform=\"scale(1 1) rotate(0) translate(4 905)\">\n<title>Tree</title>\n<polygon fill=\"white\" stroke=\"none\" points=\"-4,4 -4,-905 599,-905 599,4 -4,4\"/>\n<!-- 0 -->\n<g id=\"node1\" class=\"node\">\n<title>0</title>\n<polygon fill=\"#ffffff\" stroke=\"black\" points=\"362.88,-901 223.12,-901 223.12,-818 362.88,-818 362.88,-901\"/>\n<text text-anchor=\"middle\" x=\"293\" y=\"-883.7\" font-family=\"Helvetica,sans-Serif\" font-size=\"14.00\">petal_length &lt;= 2.45</text>\n<text text-anchor=\"middle\" x=\"293\" y=\"-868.7\" font-family=\"Helvetica,sans-Serif\" font-size=\"14.00\">gini = 0.667</text>\n<text text-anchor=\"middle\" x=\"293\" y=\"-853.7\" font-family=\"Helvetica,sans-Serif\" font-size=\"14.00\">samples = 120</text>\n<text text-anchor=\"middle\" x=\"293\" y=\"-838.7\" font-family=\"Helvetica,sans-Serif\" font-size=\"14.00\">value = [40, 40, 40]</text>\n<text text-anchor=\"middle\" x=\"293\" y=\"-823.7\" font-family=\"Helvetica,sans-Serif\" font-size=\"14.00\">class = sepal_length</text>\n</g>\n<!-- 1 -->\n<g id=\"node2\" class=\"node\">\n<title>1</title>\n<polygon fill=\"#e58139\" stroke=\"black\" points=\"284.5,-774.5 145.5,-774.5 145.5,-706.5 284.5,-706.5 284.5,-774.5\"/>\n<text text-anchor=\"middle\" x=\"215\" y=\"-757.2\" font-family=\"Helvetica,sans-Serif\" font-size=\"14.00\">gini = 0.0</text>\n<text text-anchor=\"middle\" x=\"215\" y=\"-742.2\" font-family=\"Helvetica,sans-Serif\" font-size=\"14.00\">samples = 40</text>\n<text text-anchor=\"middle\" x=\"215\" y=\"-727.2\" font-family=\"Helvetica,sans-Serif\" font-size=\"14.00\">value = [40, 0, 0]</text>\n<text text-anchor=\"middle\" x=\"215\" y=\"-712.2\" font-family=\"Helvetica,sans-Serif\" font-size=\"14.00\">class = sepal_length</text>\n</g>\n<!-- 0&#45;&gt;1 -->\n<g id=\"edge1\" class=\"edge\">\n<title>0&#45;&gt;1</title>\n<path fill=\"none\" stroke=\"black\" d=\"M265.72,-817.58C258.52,-806.77 250.72,-795.09 243.46,-784.19\"/>\n<polygon fill=\"black\" stroke=\"black\" points=\"246.54,-782.5 238.08,-776.12 240.72,-786.38 246.54,-782.5\"/>\n<text text-anchor=\"middle\" x=\"232.34\" y=\"-793.58\" font-family=\"Helvetica,sans-Serif\" font-size=\"14.00\">True</text>\n</g>\n<!-- 2 -->\n<g id=\"node3\" class=\"node\">\n<title>2</title>\n<polygon fill=\"#ffffff\" stroke=\"black\" points=\"441.88,-782 302.12,-782 302.12,-699 441.88,-699 441.88,-782\"/>\n<text text-anchor=\"middle\" x=\"372\" y=\"-764.7\" font-family=\"Helvetica,sans-Serif\" font-size=\"14.00\">petal_length &lt;= 4.75</text>\n<text text-anchor=\"middle\" x=\"372\" y=\"-749.7\" font-family=\"Helvetica,sans-Serif\" font-size=\"14.00\">gini = 0.5</text>\n<text text-anchor=\"middle\" x=\"372\" y=\"-734.7\" font-family=\"Helvetica,sans-Serif\" font-size=\"14.00\">samples = 80</text>\n<text text-anchor=\"middle\" x=\"372\" y=\"-719.7\" font-family=\"Helvetica,sans-Serif\" font-size=\"14.00\">value = [0, 40, 40]</text>\n<text text-anchor=\"middle\" x=\"372\" y=\"-704.7\" font-family=\"Helvetica,sans-Serif\" font-size=\"14.00\">class = sepal_width</text>\n</g>\n<!-- 0&#45;&gt;2 -->\n<g id=\"edge2\" class=\"edge\">\n<title>0&#45;&gt;2</title>\n<path fill=\"none\" stroke=\"black\" d=\"M320.63,-817.58C326.32,-809.16 332.36,-800.2 338.24,-791.5\"/>\n<polygon fill=\"black\" stroke=\"black\" points=\"340.98,-793.7 343.67,-783.45 335.17,-789.78 340.98,-793.7\"/>\n<text text-anchor=\"middle\" x=\"349.28\" y=\"-800.94\" font-family=\"Helvetica,sans-Serif\" font-size=\"14.00\">False</text>\n</g>\n<!-- 3 -->\n<g id=\"node4\" class=\"node\">\n<title>3</title>\n<polygon fill=\"#39e581\" stroke=\"black\" points=\"361.88,-655.5 228.12,-655.5 228.12,-587.5 361.88,-587.5 361.88,-655.5\"/>\n<text text-anchor=\"middle\" x=\"295\" y=\"-638.2\" font-family=\"Helvetica,sans-Serif\" font-size=\"14.00\">gini = 0.0</text>\n<text text-anchor=\"middle\" x=\"295\" y=\"-623.2\" font-family=\"Helvetica,sans-Serif\" font-size=\"14.00\">samples = 36</text>\n<text text-anchor=\"middle\" x=\"295\" y=\"-608.2\" font-family=\"Helvetica,sans-Serif\" font-size=\"14.00\">value = [0, 36, 0]</text>\n<text text-anchor=\"middle\" x=\"295\" y=\"-593.2\" font-family=\"Helvetica,sans-Serif\" font-size=\"14.00\">class = sepal_width</text>\n</g>\n<!-- 2&#45;&gt;3 -->\n<g id=\"edge3\" class=\"edge\">\n<title>2&#45;&gt;3</title>\n<path fill=\"none\" stroke=\"black\" d=\"M345.07,-698.58C337.96,-687.77 330.27,-676.09 323.1,-665.19\"/>\n<polygon fill=\"black\" stroke=\"black\" points=\"326.21,-663.55 317.79,-657.13 320.36,-667.4 326.21,-663.55\"/>\n</g>\n<!-- 4 -->\n<g id=\"node5\" class=\"node\">\n<title>4</title>\n<polygon fill=\"#8e4de8\" stroke=\"black\" points=\"519.88,-663 380.12,-663 380.12,-580 519.88,-580 519.88,-663\"/>\n<text text-anchor=\"middle\" x=\"450\" y=\"-645.7\" font-family=\"Helvetica,sans-Serif\" font-size=\"14.00\">petal_length &lt;= 5.05</text>\n<text text-anchor=\"middle\" x=\"450\" y=\"-630.7\" font-family=\"Helvetica,sans-Serif\" font-size=\"14.00\">gini = 0.165</text>\n<text text-anchor=\"middle\" x=\"450\" y=\"-615.7\" font-family=\"Helvetica,sans-Serif\" font-size=\"14.00\">samples = 44</text>\n<text text-anchor=\"middle\" x=\"450\" y=\"-600.7\" font-family=\"Helvetica,sans-Serif\" font-size=\"14.00\">value = [0, 4, 40]</text>\n<text text-anchor=\"middle\" x=\"450\" y=\"-585.7\" font-family=\"Helvetica,sans-Serif\" font-size=\"14.00\">class = petal_length</text>\n</g>\n<!-- 2&#45;&gt;4 -->\n<g id=\"edge4\" class=\"edge\">\n<title>2&#45;&gt;4</title>\n<path fill=\"none\" stroke=\"black\" d=\"M399.28,-698.58C404.89,-690.16 410.86,-681.2 416.66,-672.5\"/>\n<polygon fill=\"black\" stroke=\"black\" points=\"419.39,-674.72 422.03,-664.46 413.57,-670.84 419.39,-674.72\"/>\n</g>\n<!-- 5 -->\n<g id=\"node6\" class=\"node\">\n<title>5</title>\n<polygon fill=\"#d5bdf6\" stroke=\"black\" points=\"441,-544 305,-544 305,-461 441,-461 441,-544\"/>\n<text text-anchor=\"middle\" x=\"373\" y=\"-526.7\" font-family=\"Helvetica,sans-Serif\" font-size=\"14.00\">sepal_length &lt;= 6.5</text>\n<text text-anchor=\"middle\" x=\"373\" y=\"-511.7\" font-family=\"Helvetica,sans-Serif\" font-size=\"14.00\">gini = 0.48</text>\n<text text-anchor=\"middle\" x=\"373\" y=\"-496.7\" font-family=\"Helvetica,sans-Serif\" font-size=\"14.00\">samples = 10</text>\n<text text-anchor=\"middle\" x=\"373\" y=\"-481.7\" font-family=\"Helvetica,sans-Serif\" font-size=\"14.00\">value = [0, 4, 6]</text>\n<text text-anchor=\"middle\" x=\"373\" y=\"-466.7\" font-family=\"Helvetica,sans-Serif\" font-size=\"14.00\">class = petal_length</text>\n</g>\n<!-- 4&#45;&gt;5 -->\n<g id=\"edge5\" class=\"edge\">\n<title>4&#45;&gt;5</title>\n<path fill=\"none\" stroke=\"black\" d=\"M423.07,-579.58C417.59,-571.25 411.76,-562.39 406.09,-553.78\"/>\n<polygon fill=\"black\" stroke=\"black\" points=\"409.04,-551.89 400.62,-545.46 403.19,-555.74 409.04,-551.89\"/>\n</g>\n<!-- 14 -->\n<g id=\"node15\" class=\"node\">\n<title>14</title>\n<polygon fill=\"#8139e5\" stroke=\"black\" points=\"595,-536.5 459,-536.5 459,-468.5 595,-468.5 595,-536.5\"/>\n<text text-anchor=\"middle\" x=\"527\" y=\"-519.2\" font-family=\"Helvetica,sans-Serif\" font-size=\"14.00\">gini = 0.0</text>\n<text text-anchor=\"middle\" x=\"527\" y=\"-504.2\" font-family=\"Helvetica,sans-Serif\" font-size=\"14.00\">samples = 34</text>\n<text text-anchor=\"middle\" x=\"527\" y=\"-489.2\" font-family=\"Helvetica,sans-Serif\" font-size=\"14.00\">value = [0, 0, 34]</text>\n<text text-anchor=\"middle\" x=\"527\" y=\"-474.2\" font-family=\"Helvetica,sans-Serif\" font-size=\"14.00\">class = petal_length</text>\n</g>\n<!-- 4&#45;&gt;14 -->\n<g id=\"edge14\" class=\"edge\">\n<title>4&#45;&gt;14</title>\n<path fill=\"none\" stroke=\"black\" d=\"M476.93,-579.58C484.04,-568.77 491.73,-557.09 498.9,-546.19\"/>\n<polygon fill=\"black\" stroke=\"black\" points=\"501.64,-548.4 504.21,-538.13 495.79,-544.55 501.64,-548.4\"/>\n</g>\n<!-- 6 -->\n<g id=\"node7\" class=\"node\">\n<title>6</title>\n<polygon fill=\"#ab7bee\" stroke=\"black\" points=\"365,-425 229,-425 229,-342 365,-342 365,-425\"/>\n<text text-anchor=\"middle\" x=\"297\" y=\"-407.7\" font-family=\"Helvetica,sans-Serif\" font-size=\"14.00\">sepal_width &lt;= 3.1</text>\n<text text-anchor=\"middle\" x=\"297\" y=\"-392.7\" font-family=\"Helvetica,sans-Serif\" font-size=\"14.00\">gini = 0.375</text>\n<text text-anchor=\"middle\" x=\"297\" y=\"-377.7\" font-family=\"Helvetica,sans-Serif\" font-size=\"14.00\">samples = 8</text>\n<text text-anchor=\"middle\" x=\"297\" y=\"-362.7\" font-family=\"Helvetica,sans-Serif\" font-size=\"14.00\">value = [0, 2, 6]</text>\n<text text-anchor=\"middle\" x=\"297\" y=\"-347.7\" font-family=\"Helvetica,sans-Serif\" font-size=\"14.00\">class = petal_length</text>\n</g>\n<!-- 5&#45;&gt;6 -->\n<g id=\"edge6\" class=\"edge\">\n<title>5&#45;&gt;6</title>\n<path fill=\"none\" stroke=\"black\" d=\"M346.42,-460.58C341.01,-452.25 335.26,-443.39 329.66,-434.78\"/>\n<polygon fill=\"black\" stroke=\"black\" points=\"332.64,-432.95 324.26,-426.47 326.77,-436.76 332.64,-432.95\"/>\n</g>\n<!-- 13 -->\n<g id=\"node14\" class=\"node\">\n<title>13</title>\n<polygon fill=\"#39e581\" stroke=\"black\" points=\"516.88,-417.5 383.12,-417.5 383.12,-349.5 516.88,-349.5 516.88,-417.5\"/>\n<text text-anchor=\"middle\" x=\"450\" y=\"-400.2\" font-family=\"Helvetica,sans-Serif\" font-size=\"14.00\">gini = 0.0</text>\n<text text-anchor=\"middle\" x=\"450\" y=\"-385.2\" font-family=\"Helvetica,sans-Serif\" font-size=\"14.00\">samples = 2</text>\n<text text-anchor=\"middle\" x=\"450\" y=\"-370.2\" font-family=\"Helvetica,sans-Serif\" font-size=\"14.00\">value = [0, 2, 0]</text>\n<text text-anchor=\"middle\" x=\"450\" y=\"-355.2\" font-family=\"Helvetica,sans-Serif\" font-size=\"14.00\">class = sepal_width</text>\n</g>\n<!-- 5&#45;&gt;13 -->\n<g id=\"edge13\" class=\"edge\">\n<title>5&#45;&gt;13</title>\n<path fill=\"none\" stroke=\"black\" d=\"M399.93,-460.58C407.04,-449.77 414.73,-438.09 421.9,-427.19\"/>\n<polygon fill=\"black\" stroke=\"black\" points=\"424.64,-429.4 427.21,-419.13 418.79,-425.55 424.64,-429.4\"/>\n</g>\n<!-- 7 -->\n<g id=\"node8\" class=\"node\">\n<title>7</title>\n<polygon fill=\"#965ae9\" stroke=\"black\" points=\"289,-306 153,-306 153,-223 289,-223 289,-306\"/>\n<text text-anchor=\"middle\" x=\"221\" y=\"-288.7\" font-family=\"Helvetica,sans-Serif\" font-size=\"14.00\">petal_width &lt;= 1.65</text>\n<text text-anchor=\"middle\" x=\"221\" y=\"-273.7\" font-family=\"Helvetica,sans-Serif\" font-size=\"14.00\">gini = 0.245</text>\n<text text-anchor=\"middle\" x=\"221\" y=\"-258.7\" font-family=\"Helvetica,sans-Serif\" font-size=\"14.00\">samples = 7</text>\n<text text-anchor=\"middle\" x=\"221\" y=\"-243.7\" font-family=\"Helvetica,sans-Serif\" font-size=\"14.00\">value = [0, 1, 6]</text>\n<text text-anchor=\"middle\" x=\"221\" y=\"-228.7\" font-family=\"Helvetica,sans-Serif\" font-size=\"14.00\">class = petal_length</text>\n</g>\n<!-- 6&#45;&gt;7 -->\n<g id=\"edge7\" class=\"edge\">\n<title>6&#45;&gt;7</title>\n<path fill=\"none\" stroke=\"black\" d=\"M270.42,-341.58C265.01,-333.25 259.26,-324.39 253.66,-315.78\"/>\n<polygon fill=\"black\" stroke=\"black\" points=\"256.64,-313.95 248.26,-307.47 250.77,-317.76 256.64,-313.95\"/>\n</g>\n<!-- 12 -->\n<g id=\"node13\" class=\"node\">\n<title>12</title>\n<polygon fill=\"#39e581\" stroke=\"black\" points=\"440.88,-298.5 307.12,-298.5 307.12,-230.5 440.88,-230.5 440.88,-298.5\"/>\n<text text-anchor=\"middle\" x=\"374\" y=\"-281.2\" font-family=\"Helvetica,sans-Serif\" font-size=\"14.00\">gini = 0.0</text>\n<text text-anchor=\"middle\" x=\"374\" y=\"-266.2\" font-family=\"Helvetica,sans-Serif\" font-size=\"14.00\">samples = 1</text>\n<text text-anchor=\"middle\" x=\"374\" y=\"-251.2\" font-family=\"Helvetica,sans-Serif\" font-size=\"14.00\">value = [0, 1, 0]</text>\n<text text-anchor=\"middle\" x=\"374\" y=\"-236.2\" font-family=\"Helvetica,sans-Serif\" font-size=\"14.00\">class = sepal_width</text>\n</g>\n<!-- 6&#45;&gt;12 -->\n<g id=\"edge12\" class=\"edge\">\n<title>6&#45;&gt;12</title>\n<path fill=\"none\" stroke=\"black\" d=\"M323.93,-341.58C331.04,-330.77 338.73,-319.09 345.9,-308.19\"/>\n<polygon fill=\"black\" stroke=\"black\" points=\"348.64,-310.4 351.21,-300.13 342.79,-306.55 348.64,-310.4\"/>\n</g>\n<!-- 8 -->\n<g id=\"node9\" class=\"node\">\n<title>8</title>\n<polygon fill=\"#ffffff\" stroke=\"black\" points=\"212.75,-187 75.25,-187 75.25,-104 212.75,-104 212.75,-187\"/>\n<text text-anchor=\"middle\" x=\"144\" y=\"-169.7\" font-family=\"Helvetica,sans-Serif\" font-size=\"14.00\">sepal_width &lt;= 2.35</text>\n<text text-anchor=\"middle\" x=\"144\" y=\"-154.7\" font-family=\"Helvetica,sans-Serif\" font-size=\"14.00\">gini = 0.5</text>\n<text text-anchor=\"middle\" x=\"144\" y=\"-139.7\" font-family=\"Helvetica,sans-Serif\" font-size=\"14.00\">samples = 2</text>\n<text text-anchor=\"middle\" x=\"144\" y=\"-124.7\" font-family=\"Helvetica,sans-Serif\" font-size=\"14.00\">value = [0, 1, 1]</text>\n<text text-anchor=\"middle\" x=\"144\" y=\"-109.7\" font-family=\"Helvetica,sans-Serif\" font-size=\"14.00\">class = sepal_width</text>\n</g>\n<!-- 7&#45;&gt;8 -->\n<g id=\"edge8\" class=\"edge\">\n<title>7&#45;&gt;8</title>\n<path fill=\"none\" stroke=\"black\" d=\"M194.07,-222.58C188.59,-214.25 182.76,-205.39 177.09,-196.78\"/>\n<polygon fill=\"black\" stroke=\"black\" points=\"180.04,-194.89 171.62,-188.46 174.19,-198.74 180.04,-194.89\"/>\n</g>\n<!-- 11 -->\n<g id=\"node12\" class=\"node\">\n<title>11</title>\n<polygon fill=\"#8139e5\" stroke=\"black\" points=\"367,-179.5 231,-179.5 231,-111.5 367,-111.5 367,-179.5\"/>\n<text text-anchor=\"middle\" x=\"299\" y=\"-162.2\" font-family=\"Helvetica,sans-Serif\" font-size=\"14.00\">gini = 0.0</text>\n<text text-anchor=\"middle\" x=\"299\" y=\"-147.2\" font-family=\"Helvetica,sans-Serif\" font-size=\"14.00\">samples = 5</text>\n<text text-anchor=\"middle\" x=\"299\" y=\"-132.2\" font-family=\"Helvetica,sans-Serif\" font-size=\"14.00\">value = [0, 0, 5]</text>\n<text text-anchor=\"middle\" x=\"299\" y=\"-117.2\" font-family=\"Helvetica,sans-Serif\" font-size=\"14.00\">class = petal_length</text>\n</g>\n<!-- 7&#45;&gt;11 -->\n<g id=\"edge11\" class=\"edge\">\n<title>7&#45;&gt;11</title>\n<path fill=\"none\" stroke=\"black\" d=\"M248.28,-222.58C255.48,-211.77 263.28,-200.09 270.54,-189.19\"/>\n<polygon fill=\"black\" stroke=\"black\" points=\"273.28,-191.38 275.92,-181.12 267.46,-187.5 273.28,-191.38\"/>\n</g>\n<!-- 9 -->\n<g id=\"node10\" class=\"node\">\n<title>9</title>\n<polygon fill=\"#8139e5\" stroke=\"black\" points=\"136,-68 0,-68 0,0 136,0 136,-68\"/>\n<text text-anchor=\"middle\" x=\"68\" y=\"-50.7\" font-family=\"Helvetica,sans-Serif\" font-size=\"14.00\">gini = 0.0</text>\n<text text-anchor=\"middle\" x=\"68\" y=\"-35.7\" font-family=\"Helvetica,sans-Serif\" font-size=\"14.00\">samples = 1</text>\n<text text-anchor=\"middle\" x=\"68\" y=\"-20.7\" font-family=\"Helvetica,sans-Serif\" font-size=\"14.00\">value = [0, 0, 1]</text>\n<text text-anchor=\"middle\" x=\"68\" y=\"-5.7\" font-family=\"Helvetica,sans-Serif\" font-size=\"14.00\">class = petal_length</text>\n</g>\n<!-- 8&#45;&gt;9 -->\n<g id=\"edge9\" class=\"edge\">\n<title>8&#45;&gt;9</title>\n<path fill=\"none\" stroke=\"black\" d=\"M115.7,-103.73C109.81,-95.24 103.59,-86.28 97.66,-77.73\"/>\n<polygon fill=\"black\" stroke=\"black\" points=\"100.55,-75.76 91.98,-69.54 94.8,-79.75 100.55,-75.76\"/>\n</g>\n<!-- 10 -->\n<g id=\"node11\" class=\"node\">\n<title>10</title>\n<polygon fill=\"#39e581\" stroke=\"black\" points=\"287.88,-68 154.12,-68 154.12,0 287.88,0 287.88,-68\"/>\n<text text-anchor=\"middle\" x=\"221\" y=\"-50.7\" font-family=\"Helvetica,sans-Serif\" font-size=\"14.00\">gini = 0.0</text>\n<text text-anchor=\"middle\" x=\"221\" y=\"-35.7\" font-family=\"Helvetica,sans-Serif\" font-size=\"14.00\">samples = 1</text>\n<text text-anchor=\"middle\" x=\"221\" y=\"-20.7\" font-family=\"Helvetica,sans-Serif\" font-size=\"14.00\">value = [0, 1, 0]</text>\n<text text-anchor=\"middle\" x=\"221\" y=\"-5.7\" font-family=\"Helvetica,sans-Serif\" font-size=\"14.00\">class = sepal_width</text>\n</g>\n<!-- 8&#45;&gt;10 -->\n<g id=\"edge10\" class=\"edge\">\n<title>8&#45;&gt;10</title>\n<path fill=\"none\" stroke=\"black\" d=\"M172.67,-103.73C178.7,-95.15 185.07,-86.09 191.15,-77.46\"/>\n<polygon fill=\"black\" stroke=\"black\" points=\"193.82,-79.73 196.71,-69.54 188.1,-75.7 193.82,-79.73\"/>\n</g>\n</g>\n</svg>\n",
      "text/plain": "<graphviz.sources.Source at 0x162b9d850>"
     },
     "execution_count": 36,
     "metadata": {},
     "output_type": "execute_result"
    }
   ],
   "source": [
    "import graphviz as gz\n",
    "\n",
    "gz.Source.from_file(\"./iris_dt_model.dot\")\n",
    "# 보라색은 아직 분리가 안된 것\n",
    "# 가장 많이 값을 준 class_names가 찍힘, 동일한 경우 앞선 이름이 나옴"
   ],
   "metadata": {
    "collapsed": false,
    "ExecuteTime": {
     "end_time": "2024-03-07T01:32:28.617740Z",
     "start_time": "2024-03-07T01:32:28.418938Z"
    }
   },
   "id": "c036b7aaadf05fbb",
   "execution_count": 36
  },
  {
   "cell_type": "markdown",
   "source": [
    "### [4] 모델 평가 <hr>"
   ],
   "metadata": {
    "collapsed": false
   },
   "id": "546a8de3a00d88c3"
  },
  {
   "cell_type": "code",
   "outputs": [
    {
     "name": "stdout",
     "output_type": "stream",
     "text": [
      "[Train] : 1.0, [Test] : 0.9333333333333333\n"
     ]
    }
   ],
   "source": [
    "train_score = model.score(X_train, y_train)\n",
    "test_score = model.score(x_test, y_test)\n",
    "\n",
    "print(f'[Train] : {train_score}, [Test] : {test_score}')"
   ],
   "metadata": {
    "collapsed": false,
    "ExecuteTime": {
     "end_time": "2024-03-07T01:51:50.329875Z",
     "start_time": "2024-03-07T01:51:50.323988Z"
    }
   },
   "id": "68dd64a172ba2fe3",
   "execution_count": 37
  },
  {
   "cell_type": "markdown",
   "source": [
    "### [5] 문제 해결 및 성능 향상 즉, 튜닝 <hr>\n",
    "- 원인 예상\n",
    "    - 데이터 셋 부족 => cv\n",
    "    - DT의 여러가지 하이퍼 파라미터 기본값으로만 사용 => 다양한 값 조절\n",
    "- 해결 방법\n",
    "    - 2개의 원인을 한꺼번에 해결하기 위해서 GridSearchCV"
   ],
   "metadata": {
    "collapsed": false
   },
   "id": "77b50f185b240ce0"
  },
  {
   "cell_type": "code",
   "outputs": [],
   "source": [
    "# 모듈 로딩\n",
    "from sklearn.model_selection import GridSearchCV, RandomizedSearchCV"
   ],
   "metadata": {
    "collapsed": false,
    "ExecuteTime": {
     "end_time": "2024-03-07T01:55:36.298478Z",
     "start_time": "2024-03-07T01:55:36.292071Z"
    }
   },
   "id": "f0ddf3432d4daadd",
   "execution_count": 38
  },
  {
   "cell_type": "code",
   "outputs": [],
   "source": [
    "# 모델 조합 조건\n",
    "# cv => 기본 5, ...\n",
    "# DT의 하이퍼 파라미터 => max_depth, ..\n",
    "dt_model = DecisionTreeClassifier()\n",
    "n_cv = 5\n",
    "params = {'criterion' : ['gini', 'entropy', 'log_loss'],\n",
    "        'max_depth': [5, 10, 15],\n",
    "        'min_samples_split': [2, 4, 6],\n",
    "        'min_samples_leaf': range(1, 31)    \n",
    "}\n",
    "\n",
    "# 하이퍼 파라미터 조합된 모델 생성 후 교차검증 데이터셋으로 학습 진행해주는 인스턴스\n",
    "gs = GridSearchCV(dt_model, param_grid=params, cv=n_cv,)"
   ],
   "metadata": {
    "collapsed": false,
    "ExecuteTime": {
     "end_time": "2024-03-07T02:07:06.325020Z",
     "start_time": "2024-03-07T02:07:06.319009Z"
    }
   },
   "id": "60dd1eb0a8387725",
   "execution_count": 48
  },
  {
   "cell_type": "code",
   "outputs": [],
   "source": [
    "# 조합된 모델들의 학습 진행\n",
    "result = gs.fit(X_train, y_train)"
   ],
   "metadata": {
    "collapsed": false,
    "ExecuteTime": {
     "end_time": "2024-03-07T02:07:11.237902Z",
     "start_time": "2024-03-07T02:07:06.477977Z"
    }
   },
   "id": "17bbc61f0ce68747",
   "execution_count": 49
  },
  {
   "cell_type": "code",
   "outputs": [
    {
     "data": {
      "text/plain": "GridSearchCV(cv=5, estimator=DecisionTreeClassifier(),\n             param_grid={'criterion': ['gini', 'entropy', 'log_loss'],\n                         'max_depth': [5, 10, 15],\n                         'min_samples_leaf': range(1, 31),\n                         'min_samples_split': [2, 4, 6]})",
      "text/html": "<style>#sk-container-id-5 {color: black;}#sk-container-id-5 pre{padding: 0;}#sk-container-id-5 div.sk-toggleable {background-color: white;}#sk-container-id-5 label.sk-toggleable__label {cursor: pointer;display: block;width: 100%;margin-bottom: 0;padding: 0.3em;box-sizing: border-box;text-align: center;}#sk-container-id-5 label.sk-toggleable__label-arrow:before {content: \"▸\";float: left;margin-right: 0.25em;color: #696969;}#sk-container-id-5 label.sk-toggleable__label-arrow:hover:before {color: black;}#sk-container-id-5 div.sk-estimator:hover label.sk-toggleable__label-arrow:before {color: black;}#sk-container-id-5 div.sk-toggleable__content {max-height: 0;max-width: 0;overflow: hidden;text-align: left;background-color: #f0f8ff;}#sk-container-id-5 div.sk-toggleable__content pre {margin: 0.2em;color: black;border-radius: 0.25em;background-color: #f0f8ff;}#sk-container-id-5 input.sk-toggleable__control:checked~div.sk-toggleable__content {max-height: 200px;max-width: 100%;overflow: auto;}#sk-container-id-5 input.sk-toggleable__control:checked~label.sk-toggleable__label-arrow:before {content: \"▾\";}#sk-container-id-5 div.sk-estimator input.sk-toggleable__control:checked~label.sk-toggleable__label {background-color: #d4ebff;}#sk-container-id-5 div.sk-label input.sk-toggleable__control:checked~label.sk-toggleable__label {background-color: #d4ebff;}#sk-container-id-5 input.sk-hidden--visually {border: 0;clip: rect(1px 1px 1px 1px);clip: rect(1px, 1px, 1px, 1px);height: 1px;margin: -1px;overflow: hidden;padding: 0;position: absolute;width: 1px;}#sk-container-id-5 div.sk-estimator {font-family: monospace;background-color: #f0f8ff;border: 1px dotted black;border-radius: 0.25em;box-sizing: border-box;margin-bottom: 0.5em;}#sk-container-id-5 div.sk-estimator:hover {background-color: #d4ebff;}#sk-container-id-5 div.sk-parallel-item::after {content: \"\";width: 100%;border-bottom: 1px solid gray;flex-grow: 1;}#sk-container-id-5 div.sk-label:hover label.sk-toggleable__label {background-color: #d4ebff;}#sk-container-id-5 div.sk-serial::before {content: \"\";position: absolute;border-left: 1px solid gray;box-sizing: border-box;top: 0;bottom: 0;left: 50%;z-index: 0;}#sk-container-id-5 div.sk-serial {display: flex;flex-direction: column;align-items: center;background-color: white;padding-right: 0.2em;padding-left: 0.2em;position: relative;}#sk-container-id-5 div.sk-item {position: relative;z-index: 1;}#sk-container-id-5 div.sk-parallel {display: flex;align-items: stretch;justify-content: center;background-color: white;position: relative;}#sk-container-id-5 div.sk-item::before, #sk-container-id-5 div.sk-parallel-item::before {content: \"\";position: absolute;border-left: 1px solid gray;box-sizing: border-box;top: 0;bottom: 0;left: 50%;z-index: -1;}#sk-container-id-5 div.sk-parallel-item {display: flex;flex-direction: column;z-index: 1;position: relative;background-color: white;}#sk-container-id-5 div.sk-parallel-item:first-child::after {align-self: flex-end;width: 50%;}#sk-container-id-5 div.sk-parallel-item:last-child::after {align-self: flex-start;width: 50%;}#sk-container-id-5 div.sk-parallel-item:only-child::after {width: 0;}#sk-container-id-5 div.sk-dashed-wrapped {border: 1px dashed gray;margin: 0 0.4em 0.5em 0.4em;box-sizing: border-box;padding-bottom: 0.4em;background-color: white;}#sk-container-id-5 div.sk-label label {font-family: monospace;font-weight: bold;display: inline-block;line-height: 1.2em;}#sk-container-id-5 div.sk-label-container {text-align: center;}#sk-container-id-5 div.sk-container {/* jupyter's `normalize.less` sets `[hidden] { display: none; }` but bootstrap.min.css set `[hidden] { display: none !important; }` so we also need the `!important` here to be able to override the default hidden behavior on the sphinx rendered scikit-learn.org. See: https://github.com/scikit-learn/scikit-learn/issues/21755 */display: inline-block !important;position: relative;}#sk-container-id-5 div.sk-text-repr-fallback {display: none;}</style><div id=\"sk-container-id-5\" class=\"sk-top-container\"><div class=\"sk-text-repr-fallback\"><pre>GridSearchCV(cv=5, estimator=DecisionTreeClassifier(),\n             param_grid={&#x27;criterion&#x27;: [&#x27;gini&#x27;, &#x27;entropy&#x27;, &#x27;log_loss&#x27;],\n                         &#x27;max_depth&#x27;: [5, 10, 15],\n                         &#x27;min_samples_leaf&#x27;: range(1, 31),\n                         &#x27;min_samples_split&#x27;: [2, 4, 6]})</pre><b>In a Jupyter environment, please rerun this cell to show the HTML representation or trust the notebook. <br />On GitHub, the HTML representation is unable to render, please try loading this page with nbviewer.org.</b></div><div class=\"sk-container\" hidden><div class=\"sk-item sk-dashed-wrapped\"><div class=\"sk-label-container\"><div class=\"sk-label sk-toggleable\"><input class=\"sk-toggleable__control sk-hidden--visually\" id=\"sk-estimator-id-11\" type=\"checkbox\" ><label for=\"sk-estimator-id-11\" class=\"sk-toggleable__label sk-toggleable__label-arrow\">GridSearchCV</label><div class=\"sk-toggleable__content\"><pre>GridSearchCV(cv=5, estimator=DecisionTreeClassifier(),\n             param_grid={&#x27;criterion&#x27;: [&#x27;gini&#x27;, &#x27;entropy&#x27;, &#x27;log_loss&#x27;],\n                         &#x27;max_depth&#x27;: [5, 10, 15],\n                         &#x27;min_samples_leaf&#x27;: range(1, 31),\n                         &#x27;min_samples_split&#x27;: [2, 4, 6]})</pre></div></div></div><div class=\"sk-parallel\"><div class=\"sk-parallel-item\"><div class=\"sk-item\"><div class=\"sk-label-container\"><div class=\"sk-label sk-toggleable\"><input class=\"sk-toggleable__control sk-hidden--visually\" id=\"sk-estimator-id-12\" type=\"checkbox\" ><label for=\"sk-estimator-id-12\" class=\"sk-toggleable__label sk-toggleable__label-arrow\">estimator: DecisionTreeClassifier</label><div class=\"sk-toggleable__content\"><pre>DecisionTreeClassifier()</pre></div></div></div><div class=\"sk-serial\"><div class=\"sk-item\"><div class=\"sk-estimator sk-toggleable\"><input class=\"sk-toggleable__control sk-hidden--visually\" id=\"sk-estimator-id-13\" type=\"checkbox\" ><label for=\"sk-estimator-id-13\" class=\"sk-toggleable__label sk-toggleable__label-arrow\">DecisionTreeClassifier</label><div class=\"sk-toggleable__content\"><pre>DecisionTreeClassifier()</pre></div></div></div></div></div></div></div></div></div></div>"
     },
     "execution_count": 50,
     "metadata": {},
     "output_type": "execute_result"
    }
   ],
   "source": [
    "# 결과 확인\n",
    "result"
   ],
   "metadata": {
    "collapsed": false,
    "ExecuteTime": {
     "end_time": "2024-03-07T02:07:11.243530Z",
     "start_time": "2024-03-07T02:07:11.239402Z"
    }
   },
   "id": "3a71516482db3886",
   "execution_count": 50
  },
  {
   "cell_type": "code",
   "outputs": [
    {
     "data": {
      "text/plain": "     mean_fit_time  std_fit_time  mean_score_time  std_score_time  \\\n0         0.000793      0.000236         0.000510        0.000139   \n1         0.000603      0.000062         0.000501        0.000114   \n2         0.000618      0.000085         0.000419        0.000021   \n3         0.000688      0.000178         0.000462        0.000097   \n4         0.000550      0.000038         0.000395        0.000009   \n..             ...           ...              ...             ...   \n805       0.000505      0.000013         0.000374        0.000002   \n806       0.000588      0.000080         0.000484        0.000133   \n807       0.000561      0.000052         0.000400        0.000012   \n808       0.000581      0.000040         0.000459        0.000027   \n809       0.000507      0.000033         0.000397        0.000053   \n\n    param_criterion param_max_depth param_min_samples_leaf  \\\n0              gini               5                      1   \n1              gini               5                      1   \n2              gini               5                      1   \n3              gini               5                      2   \n4              gini               5                      2   \n..              ...             ...                    ...   \n805        log_loss              15                     29   \n806        log_loss              15                     29   \n807        log_loss              15                     30   \n808        log_loss              15                     30   \n809        log_loss              15                     30   \n\n    param_min_samples_split  \\\n0                         2   \n1                         4   \n2                         6   \n3                         2   \n4                         4   \n..                      ...   \n805                       4   \n806                       6   \n807                       2   \n808                       4   \n809                       6   \n\n                                                params  split0_test_score  \\\n0    {'criterion': 'gini', 'max_depth': 5, 'min_sam...           1.000000   \n1    {'criterion': 'gini', 'max_depth': 5, 'min_sam...           0.916667   \n2    {'criterion': 'gini', 'max_depth': 5, 'min_sam...           0.958333   \n3    {'criterion': 'gini', 'max_depth': 5, 'min_sam...           0.916667   \n4    {'criterion': 'gini', 'max_depth': 5, 'min_sam...           0.916667   \n..                                                 ...                ...   \n805  {'criterion': 'log_loss', 'max_depth': 15, 'mi...           0.958333   \n806  {'criterion': 'log_loss', 'max_depth': 15, 'mi...           0.958333   \n807  {'criterion': 'log_loss', 'max_depth': 15, 'mi...           0.958333   \n808  {'criterion': 'log_loss', 'max_depth': 15, 'mi...           0.958333   \n809  {'criterion': 'log_loss', 'max_depth': 15, 'mi...           0.958333   \n\n     split1_test_score  split2_test_score  split3_test_score  \\\n0             0.916667           0.958333           0.958333   \n1             0.916667           0.958333           0.958333   \n2             0.916667           0.958333           0.958333   \n3             0.916667           0.958333           0.958333   \n4             0.916667           0.958333           0.958333   \n..                 ...                ...                ...   \n805           0.916667           0.958333           0.916667   \n806           0.916667           0.958333           0.916667   \n807           0.916667           0.958333           0.916667   \n808           0.916667           0.958333           0.916667   \n809           0.916667           0.958333           0.916667   \n\n     split4_test_score  mean_test_score  std_test_score  rank_test_score  \n0             0.958333         0.958333        0.026352               11  \n1             0.916667         0.933333        0.020412              803  \n2             0.958333         0.950000        0.016667               32  \n3             0.958333         0.941667        0.020412               63  \n4             0.958333         0.941667        0.020412               63  \n..                 ...              ...             ...              ...  \n805           0.958333         0.941667        0.020412               63  \n806           0.958333         0.941667        0.020412               63  \n807           0.958333         0.941667        0.020412               63  \n808           0.958333         0.941667        0.020412               63  \n809           0.958333         0.941667        0.020412               63  \n\n[810 rows x 17 columns]",
      "text/html": "<div>\n<style scoped>\n    .dataframe tbody tr th:only-of-type {\n        vertical-align: middle;\n    }\n\n    .dataframe tbody tr th {\n        vertical-align: top;\n    }\n\n    .dataframe thead th {\n        text-align: right;\n    }\n</style>\n<table border=\"1\" class=\"dataframe\">\n  <thead>\n    <tr style=\"text-align: right;\">\n      <th></th>\n      <th>mean_fit_time</th>\n      <th>std_fit_time</th>\n      <th>mean_score_time</th>\n      <th>std_score_time</th>\n      <th>param_criterion</th>\n      <th>param_max_depth</th>\n      <th>param_min_samples_leaf</th>\n      <th>param_min_samples_split</th>\n      <th>params</th>\n      <th>split0_test_score</th>\n      <th>split1_test_score</th>\n      <th>split2_test_score</th>\n      <th>split3_test_score</th>\n      <th>split4_test_score</th>\n      <th>mean_test_score</th>\n      <th>std_test_score</th>\n      <th>rank_test_score</th>\n    </tr>\n  </thead>\n  <tbody>\n    <tr>\n      <th>0</th>\n      <td>0.000793</td>\n      <td>0.000236</td>\n      <td>0.000510</td>\n      <td>0.000139</td>\n      <td>gini</td>\n      <td>5</td>\n      <td>1</td>\n      <td>2</td>\n      <td>{'criterion': 'gini', 'max_depth': 5, 'min_sam...</td>\n      <td>1.000000</td>\n      <td>0.916667</td>\n      <td>0.958333</td>\n      <td>0.958333</td>\n      <td>0.958333</td>\n      <td>0.958333</td>\n      <td>0.026352</td>\n      <td>11</td>\n    </tr>\n    <tr>\n      <th>1</th>\n      <td>0.000603</td>\n      <td>0.000062</td>\n      <td>0.000501</td>\n      <td>0.000114</td>\n      <td>gini</td>\n      <td>5</td>\n      <td>1</td>\n      <td>4</td>\n      <td>{'criterion': 'gini', 'max_depth': 5, 'min_sam...</td>\n      <td>0.916667</td>\n      <td>0.916667</td>\n      <td>0.958333</td>\n      <td>0.958333</td>\n      <td>0.916667</td>\n      <td>0.933333</td>\n      <td>0.020412</td>\n      <td>803</td>\n    </tr>\n    <tr>\n      <th>2</th>\n      <td>0.000618</td>\n      <td>0.000085</td>\n      <td>0.000419</td>\n      <td>0.000021</td>\n      <td>gini</td>\n      <td>5</td>\n      <td>1</td>\n      <td>6</td>\n      <td>{'criterion': 'gini', 'max_depth': 5, 'min_sam...</td>\n      <td>0.958333</td>\n      <td>0.916667</td>\n      <td>0.958333</td>\n      <td>0.958333</td>\n      <td>0.958333</td>\n      <td>0.950000</td>\n      <td>0.016667</td>\n      <td>32</td>\n    </tr>\n    <tr>\n      <th>3</th>\n      <td>0.000688</td>\n      <td>0.000178</td>\n      <td>0.000462</td>\n      <td>0.000097</td>\n      <td>gini</td>\n      <td>5</td>\n      <td>2</td>\n      <td>2</td>\n      <td>{'criterion': 'gini', 'max_depth': 5, 'min_sam...</td>\n      <td>0.916667</td>\n      <td>0.916667</td>\n      <td>0.958333</td>\n      <td>0.958333</td>\n      <td>0.958333</td>\n      <td>0.941667</td>\n      <td>0.020412</td>\n      <td>63</td>\n    </tr>\n    <tr>\n      <th>4</th>\n      <td>0.000550</td>\n      <td>0.000038</td>\n      <td>0.000395</td>\n      <td>0.000009</td>\n      <td>gini</td>\n      <td>5</td>\n      <td>2</td>\n      <td>4</td>\n      <td>{'criterion': 'gini', 'max_depth': 5, 'min_sam...</td>\n      <td>0.916667</td>\n      <td>0.916667</td>\n      <td>0.958333</td>\n      <td>0.958333</td>\n      <td>0.958333</td>\n      <td>0.941667</td>\n      <td>0.020412</td>\n      <td>63</td>\n    </tr>\n    <tr>\n      <th>...</th>\n      <td>...</td>\n      <td>...</td>\n      <td>...</td>\n      <td>...</td>\n      <td>...</td>\n      <td>...</td>\n      <td>...</td>\n      <td>...</td>\n      <td>...</td>\n      <td>...</td>\n      <td>...</td>\n      <td>...</td>\n      <td>...</td>\n      <td>...</td>\n      <td>...</td>\n      <td>...</td>\n      <td>...</td>\n    </tr>\n    <tr>\n      <th>805</th>\n      <td>0.000505</td>\n      <td>0.000013</td>\n      <td>0.000374</td>\n      <td>0.000002</td>\n      <td>log_loss</td>\n      <td>15</td>\n      <td>29</td>\n      <td>4</td>\n      <td>{'criterion': 'log_loss', 'max_depth': 15, 'mi...</td>\n      <td>0.958333</td>\n      <td>0.916667</td>\n      <td>0.958333</td>\n      <td>0.916667</td>\n      <td>0.958333</td>\n      <td>0.941667</td>\n      <td>0.020412</td>\n      <td>63</td>\n    </tr>\n    <tr>\n      <th>806</th>\n      <td>0.000588</td>\n      <td>0.000080</td>\n      <td>0.000484</td>\n      <td>0.000133</td>\n      <td>log_loss</td>\n      <td>15</td>\n      <td>29</td>\n      <td>6</td>\n      <td>{'criterion': 'log_loss', 'max_depth': 15, 'mi...</td>\n      <td>0.958333</td>\n      <td>0.916667</td>\n      <td>0.958333</td>\n      <td>0.916667</td>\n      <td>0.958333</td>\n      <td>0.941667</td>\n      <td>0.020412</td>\n      <td>63</td>\n    </tr>\n    <tr>\n      <th>807</th>\n      <td>0.000561</td>\n      <td>0.000052</td>\n      <td>0.000400</td>\n      <td>0.000012</td>\n      <td>log_loss</td>\n      <td>15</td>\n      <td>30</td>\n      <td>2</td>\n      <td>{'criterion': 'log_loss', 'max_depth': 15, 'mi...</td>\n      <td>0.958333</td>\n      <td>0.916667</td>\n      <td>0.958333</td>\n      <td>0.916667</td>\n      <td>0.958333</td>\n      <td>0.941667</td>\n      <td>0.020412</td>\n      <td>63</td>\n    </tr>\n    <tr>\n      <th>808</th>\n      <td>0.000581</td>\n      <td>0.000040</td>\n      <td>0.000459</td>\n      <td>0.000027</td>\n      <td>log_loss</td>\n      <td>15</td>\n      <td>30</td>\n      <td>4</td>\n      <td>{'criterion': 'log_loss', 'max_depth': 15, 'mi...</td>\n      <td>0.958333</td>\n      <td>0.916667</td>\n      <td>0.958333</td>\n      <td>0.916667</td>\n      <td>0.958333</td>\n      <td>0.941667</td>\n      <td>0.020412</td>\n      <td>63</td>\n    </tr>\n    <tr>\n      <th>809</th>\n      <td>0.000507</td>\n      <td>0.000033</td>\n      <td>0.000397</td>\n      <td>0.000053</td>\n      <td>log_loss</td>\n      <td>15</td>\n      <td>30</td>\n      <td>6</td>\n      <td>{'criterion': 'log_loss', 'max_depth': 15, 'mi...</td>\n      <td>0.958333</td>\n      <td>0.916667</td>\n      <td>0.958333</td>\n      <td>0.916667</td>\n      <td>0.958333</td>\n      <td>0.941667</td>\n      <td>0.020412</td>\n      <td>63</td>\n    </tr>\n  </tbody>\n</table>\n<p>810 rows × 17 columns</p>\n</div>"
     },
     "execution_count": 53,
     "metadata": {},
     "output_type": "execute_result"
    }
   ],
   "source": [
    "# 학습 후 저장된 모델 파라미터 확인\n",
    "# 교차학습 결과\n",
    "cv_resultsDF = pd.DataFrame(gs.cv_results_)\n",
    "cv_resultsDF"
   ],
   "metadata": {
    "collapsed": false,
    "ExecuteTime": {
     "end_time": "2024-03-07T02:07:36.289584Z",
     "start_time": "2024-03-07T02:07:36.277730Z"
    }
   },
   "id": "29aaf63b36d6d959",
   "execution_count": 53
  },
  {
   "cell_type": "code",
   "outputs": [
    {
     "data": {
      "text/plain": "{'criterion': 'gini',\n 'max_depth': 10,\n 'min_samples_leaf': 3,\n 'min_samples_split': 2}"
     },
     "execution_count": 58,
     "metadata": {},
     "output_type": "execute_result"
    }
   ],
   "source": [
    "# 조합된 모델 중 최고의 성능을 내는 하이퍼파라미터 값\n",
    "gs.best_params_"
   ],
   "metadata": {
    "collapsed": false,
    "ExecuteTime": {
     "end_time": "2024-03-07T02:15:54.142147Z",
     "start_time": "2024-03-07T02:15:54.138453Z"
    }
   },
   "id": "4b6bb4c0af05e981",
   "execution_count": 58
  },
  {
   "cell_type": "code",
   "outputs": [],
   "source": [
    "# 조합된 모델 중 최고의 성능을 내는 모델 인스턴스\n",
    "my_best_model = gs.best_estimator_"
   ],
   "metadata": {
    "collapsed": false,
    "ExecuteTime": {
     "end_time": "2024-03-07T02:15:54.313285Z",
     "start_time": "2024-03-07T02:15:54.309591Z"
    }
   },
   "id": "55fdb6cdbcd5596b",
   "execution_count": 59
  },
  {
   "cell_type": "code",
   "outputs": [
    {
     "data": {
      "text/plain": "0.9666666666666668"
     },
     "execution_count": 60,
     "metadata": {},
     "output_type": "execute_result"
    }
   ],
   "source": [
    "# 조합된 모델 중 최고의 점수\n",
    "gs.best_score_"
   ],
   "metadata": {
    "collapsed": false,
    "ExecuteTime": {
     "end_time": "2024-03-07T02:15:54.485725Z",
     "start_time": "2024-03-07T02:15:54.473524Z"
    }
   },
   "id": "c3fcdf4e6dbc172",
   "execution_count": 60
  },
  {
   "cell_type": "markdown",
   "source": [
    "### [6] 학습 및 튜닝 후 모델 저장 <hr>\n",
    "- 다른 파일에서 활용이 가능한 파일 형태로 저장\n",
    "- 웹/앱 원하는 곳에서 활용 가능\n",
    "- scikit-learn에서는 pickle 포맷으로 저장\n",
    "- joblib 모듈에 해당 기능 포함되어 있음"
   ],
   "metadata": {
    "collapsed": false
   },
   "id": "e5764ff215b604d6"
  },
  {
   "cell_type": "code",
   "outputs": [],
   "source": [
    "import joblib\n",
    "import os"
   ],
   "metadata": {
    "collapsed": false,
    "ExecuteTime": {
     "end_time": "2024-03-07T02:17:27.787284Z",
     "start_time": "2024-03-07T02:17:27.780774Z"
    }
   },
   "id": "757289b66b431dbf",
   "execution_count": 63
  },
  {
   "cell_type": "code",
   "outputs": [],
   "source": [
    "# 모델 저장\n",
    "model_dir='../model'\n",
    "model_filename=model_dir+'/iris_dt.pkl'\n",
    "\n",
    "# 저장 폴더 존재여부 확인 후 저장\n",
    "if not os.path.exists(model_dir):\n",
    "    os.mkdir(model_dir)"
   ],
   "metadata": {
    "collapsed": false,
    "ExecuteTime": {
     "end_time": "2024-03-07T02:27:25.401006Z",
     "start_time": "2024-03-07T02:27:25.396281Z"
    }
   },
   "id": "a1af808a837517f7",
   "execution_count": 69
  },
  {
   "cell_type": "code",
   "outputs": [
    {
     "data": {
      "text/plain": "['../model/iris_dt.pkl']"
     },
     "execution_count": 70,
     "metadata": {},
     "output_type": "execute_result"
    }
   ],
   "source": [
    "# 모델 파일을 지정된 경로에 저장\n",
    "joblib.dump(my_best_model, model_filename)"
   ],
   "metadata": {
    "collapsed": false,
    "ExecuteTime": {
     "end_time": "2024-03-07T02:27:25.777802Z",
     "start_time": "2024-03-07T02:27:25.771916Z"
    }
   },
   "id": "e33522f6fccc208",
   "execution_count": 70
  },
  {
   "cell_type": "code",
   "outputs": [],
   "source": [],
   "metadata": {
    "collapsed": false
   },
   "id": "c55e2e697e1219e7"
  }
 ],
 "metadata": {
  "kernelspec": {
   "display_name": "Python 3",
   "language": "python",
   "name": "python3"
  },
  "language_info": {
   "codemirror_mode": {
    "name": "ipython",
    "version": 2
   },
   "file_extension": ".py",
   "mimetype": "text/x-python",
   "name": "python",
   "nbconvert_exporter": "python",
   "pygments_lexer": "ipython2",
   "version": "2.7.6"
  }
 },
 "nbformat": 4,
 "nbformat_minor": 5
}
