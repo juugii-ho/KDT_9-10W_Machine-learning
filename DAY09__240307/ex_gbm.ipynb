{
 "cells": [
  {
   "cell_type": "markdown",
   "source": [
    "## 그레디언트 부스팅 계열의 앙상블 모델\n",
    "- 대표 모델 : XGBoost, LightGBM\n",
    "- 추가 설치 및 사용법 숙지 필요"
   ],
   "metadata": {
    "collapsed": false
   },
   "id": "6383b5ba724d3dc3"
  },
  {
   "cell_type": "markdown",
   "source": [
    "- 설치 여부 확인"
   ],
   "metadata": {
    "collapsed": false
   },
   "id": "67774bdc0c6440b4"
  },
  {
   "cell_type": "code",
   "outputs": [
    {
     "name": "stdout",
     "output_type": "stream",
     "text": [
      "xgboost : 2.0.3\n",
      "lightgbm : 4.1.0\n"
     ]
    }
   ],
   "source": [
    "import pandas as pd\n",
    "import xgboost, lightgbm\n",
    "\n",
    "print(f'xgboost : {xgboost.__version__}')\n",
    "print(f'lightgbm : {lightgbm.__version__}')"
   ],
   "metadata": {
    "collapsed": false,
    "ExecuteTime": {
     "end_time": "2024-03-07T07:11:37.013188Z",
     "start_time": "2024-03-07T07:11:37.008686Z"
    }
   },
   "id": "a4c192988b688069",
   "execution_count": 62
  },
  {
   "cell_type": "markdown",
   "source": [
    "### [1] 모듈 로딩 및 데이터 준비 <hr>"
   ],
   "metadata": {
    "collapsed": false
   },
   "id": "e59be88ed1768f29"
  },
  {
   "cell_type": "code",
   "outputs": [],
   "source": [
    "## 데이터 파일 변수 선언\n",
    "feature_name_file = '../data/human_activity/features.txt'\n",
    "label_file = '../data/human_activity/activity_labels.txt'\n",
    "\n",
    "X_train_file = '../data/human_activity/train/X_train.txt'\n",
    "y_train_file = '../data/human_activity/train/y_train.txt'\n",
    "\n",
    "x_test_file = '../data/human_activity/test/X_test.txt'\n",
    "y_test_file = '../data/human_activity/test/y_test.txt'"
   ],
   "metadata": {
    "collapsed": false,
    "ExecuteTime": {
     "end_time": "2024-03-07T07:11:37.014571Z",
     "start_time": "2024-03-07T07:11:37.012715Z"
    }
   },
   "id": "4341b93466515871",
   "execution_count": 63
  },
  {
   "cell_type": "code",
   "outputs": [],
   "source": [
    "## 데이터 로딩\n",
    "import pandas as pd\n",
    "import numpy as np\n",
    "\n",
    "feature_nameDF = pd.read_csv(feature_name_file, header=None, names=['col_id', 'col_name'], sep='\\s+')\n",
    "# labelDF = pd.read_csv(label_file, header=None, names=['col_id', 'col_name'], sep='\\s+')\n",
    "# # labelDF\n",
    "X_trainDF = pd.read_csv(X_train_file, header=None, sep='\\s+')\n",
    "y_trainDF = pd.read_csv(y_train_file, header=None, sep='\\s+')\n",
    "x_testDF = pd.read_csv(x_test_file, header=None, sep='\\s+')\n",
    "y_testDF = pd.read_csv(y_test_file, header=None, sep='\\s+')\n"
   ],
   "metadata": {
    "collapsed": false,
    "ExecuteTime": {
     "end_time": "2024-03-07T07:11:37.593788Z",
     "start_time": "2024-03-07T07:11:37.017201Z"
    }
   },
   "id": "e6f01ac31dd7184a",
   "execution_count": 64
  },
  {
   "cell_type": "code",
   "outputs": [
    {
     "name": "stdout",
     "output_type": "stream",
     "text": [
      "<class 'pandas.core.frame.DataFrame'>\n",
      "RangeIndex: 561 entries, 0 to 560\n",
      "Data columns (total 2 columns):\n",
      " #   Column    Non-Null Count  Dtype \n",
      "---  ------    --------------  ----- \n",
      " 0   col_id    561 non-null    int64 \n",
      " 1   col_name  561 non-null    object\n",
      "dtypes: int64(1), object(1)\n",
      "memory usage: 8.9+ KB\n"
     ]
    }
   ],
   "source": [
    "# 데이터 확인\n",
    "feature_nameDF.info()"
   ],
   "metadata": {
    "collapsed": false,
    "ExecuteTime": {
     "end_time": "2024-03-07T07:11:37.600092Z",
     "start_time": "2024-03-07T07:11:37.597303Z"
    }
   },
   "id": "cb96783b8597400e",
   "execution_count": 65
  },
  {
   "cell_type": "code",
   "outputs": [
    {
     "data": {
      "text/plain": "     col_id                              col_name\n0         1                     tBodyAcc-mean()-X\n1         2                     tBodyAcc-mean()-Y\n2         3                     tBodyAcc-mean()-Z\n3         4                      tBodyAcc-std()-X\n4         5                      tBodyAcc-std()-Y\n..      ...                                   ...\n556     557      angle(tBodyGyroMean,gravityMean)\n557     558  angle(tBodyGyroJerkMean,gravityMean)\n558     559                  angle(X,gravityMean)\n559     560                  angle(Y,gravityMean)\n560     561                  angle(Z,gravityMean)\n\n[561 rows x 2 columns]",
      "text/html": "<div>\n<style scoped>\n    .dataframe tbody tr th:only-of-type {\n        vertical-align: middle;\n    }\n\n    .dataframe tbody tr th {\n        vertical-align: top;\n    }\n\n    .dataframe thead th {\n        text-align: right;\n    }\n</style>\n<table border=\"1\" class=\"dataframe\">\n  <thead>\n    <tr style=\"text-align: right;\">\n      <th></th>\n      <th>col_id</th>\n      <th>col_name</th>\n    </tr>\n  </thead>\n  <tbody>\n    <tr>\n      <th>0</th>\n      <td>1</td>\n      <td>tBodyAcc-mean()-X</td>\n    </tr>\n    <tr>\n      <th>1</th>\n      <td>2</td>\n      <td>tBodyAcc-mean()-Y</td>\n    </tr>\n    <tr>\n      <th>2</th>\n      <td>3</td>\n      <td>tBodyAcc-mean()-Z</td>\n    </tr>\n    <tr>\n      <th>3</th>\n      <td>4</td>\n      <td>tBodyAcc-std()-X</td>\n    </tr>\n    <tr>\n      <th>4</th>\n      <td>5</td>\n      <td>tBodyAcc-std()-Y</td>\n    </tr>\n    <tr>\n      <th>...</th>\n      <td>...</td>\n      <td>...</td>\n    </tr>\n    <tr>\n      <th>556</th>\n      <td>557</td>\n      <td>angle(tBodyGyroMean,gravityMean)</td>\n    </tr>\n    <tr>\n      <th>557</th>\n      <td>558</td>\n      <td>angle(tBodyGyroJerkMean,gravityMean)</td>\n    </tr>\n    <tr>\n      <th>558</th>\n      <td>559</td>\n      <td>angle(X,gravityMean)</td>\n    </tr>\n    <tr>\n      <th>559</th>\n      <td>560</td>\n      <td>angle(Y,gravityMean)</td>\n    </tr>\n    <tr>\n      <th>560</th>\n      <td>561</td>\n      <td>angle(Z,gravityMean)</td>\n    </tr>\n  </tbody>\n</table>\n<p>561 rows × 2 columns</p>\n</div>"
     },
     "execution_count": 66,
     "metadata": {},
     "output_type": "execute_result"
    }
   ],
   "source": [
    "## 중복 체크\n",
    "feature_nameDF.col_name.duplicated().sum()\n",
    "feature_nameDF"
   ],
   "metadata": {
    "collapsed": false,
    "ExecuteTime": {
     "end_time": "2024-03-07T07:11:37.606353Z",
     "start_time": "2024-03-07T07:11:37.599400Z"
    }
   },
   "id": "f0c99cc75cb60ab7",
   "execution_count": 66
  },
  {
   "cell_type": "code",
   "outputs": [
    {
     "data": {
      "text/plain": "     col_id                              col_name\n0         1                     tBodyAcc-mean()-X\n1         2                     tBodyAcc-mean()-Y\n2         3                     tBodyAcc-mean()-Z\n3         4                      tBodyAcc-std()-X\n4         5                      tBodyAcc-std()-Y\n..      ...                                   ...\n556     557      angle(tBodyGyroMean,gravityMean)\n557     558  angle(tBodyGyroJerkMean,gravityMean)\n558     559                  angle(X,gravityMean)\n559     560                  angle(Y,gravityMean)\n560     561                  angle(Z,gravityMean)\n\n[477 rows x 2 columns]",
      "text/html": "<div>\n<style scoped>\n    .dataframe tbody tr th:only-of-type {\n        vertical-align: middle;\n    }\n\n    .dataframe tbody tr th {\n        vertical-align: top;\n    }\n\n    .dataframe thead th {\n        text-align: right;\n    }\n</style>\n<table border=\"1\" class=\"dataframe\">\n  <thead>\n    <tr style=\"text-align: right;\">\n      <th></th>\n      <th>col_id</th>\n      <th>col_name</th>\n    </tr>\n  </thead>\n  <tbody>\n    <tr>\n      <th>0</th>\n      <td>1</td>\n      <td>tBodyAcc-mean()-X</td>\n    </tr>\n    <tr>\n      <th>1</th>\n      <td>2</td>\n      <td>tBodyAcc-mean()-Y</td>\n    </tr>\n    <tr>\n      <th>2</th>\n      <td>3</td>\n      <td>tBodyAcc-mean()-Z</td>\n    </tr>\n    <tr>\n      <th>3</th>\n      <td>4</td>\n      <td>tBodyAcc-std()-X</td>\n    </tr>\n    <tr>\n      <th>4</th>\n      <td>5</td>\n      <td>tBodyAcc-std()-Y</td>\n    </tr>\n    <tr>\n      <th>...</th>\n      <td>...</td>\n      <td>...</td>\n    </tr>\n    <tr>\n      <th>556</th>\n      <td>557</td>\n      <td>angle(tBodyGyroMean,gravityMean)</td>\n    </tr>\n    <tr>\n      <th>557</th>\n      <td>558</td>\n      <td>angle(tBodyGyroJerkMean,gravityMean)</td>\n    </tr>\n    <tr>\n      <th>558</th>\n      <td>559</td>\n      <td>angle(X,gravityMean)</td>\n    </tr>\n    <tr>\n      <th>559</th>\n      <td>560</td>\n      <td>angle(Y,gravityMean)</td>\n    </tr>\n    <tr>\n      <th>560</th>\n      <td>561</td>\n      <td>angle(Z,gravityMean)</td>\n    </tr>\n  </tbody>\n</table>\n<p>477 rows × 2 columns</p>\n</div>"
     },
     "execution_count": 67,
     "metadata": {},
     "output_type": "execute_result"
    }
   ],
   "source": [
    "mask = feature_nameDF[feature_nameDF.col_name.duplicated()].index\n",
    "\n",
    "feature_nameDF.drop(mask)"
   ],
   "metadata": {
    "collapsed": false,
    "ExecuteTime": {
     "end_time": "2024-03-07T07:11:37.614607Z",
     "start_time": "2024-03-07T07:11:37.612296Z"
    }
   },
   "id": "b71a916aaaf9a971",
   "execution_count": 67
  },
  {
   "cell_type": "code",
   "outputs": [
    {
     "data": {
      "text/plain": "           0         1         2         3         4         5         6    \\\n0     0.257178 -0.023285 -0.014654 -0.938404 -0.920091 -0.667683 -0.952501   \n1     0.286027 -0.013163 -0.119083 -0.975415 -0.967458 -0.944958 -0.986799   \n2     0.275485 -0.026050 -0.118152 -0.993819 -0.969926 -0.962748 -0.994403   \n3     0.270298 -0.032614 -0.117520 -0.994743 -0.973268 -0.967091 -0.995274   \n4     0.274833 -0.027848 -0.129527 -0.993852 -0.967445 -0.978295 -0.994111   \n...        ...       ...       ...       ...       ...       ...       ...   \n2942  0.310155 -0.053391 -0.099109 -0.287866 -0.140589 -0.215088 -0.356083   \n2943  0.363385 -0.039214 -0.105915 -0.305388  0.028148 -0.196373 -0.373540   \n2944  0.349966  0.030077 -0.115788 -0.329638 -0.042143 -0.250181 -0.388017   \n2945  0.237594  0.018467 -0.096499 -0.323114 -0.229775 -0.207574 -0.392380   \n2946  0.153627 -0.018437 -0.137018 -0.330046 -0.195253 -0.164339 -0.430974   \n\n           7         8         9    ...       551       552       553  \\\n0    -0.925249 -0.674302 -0.894088  ...  0.071645 -0.330370 -0.705974   \n1    -0.968401 -0.945823 -0.894088  ... -0.401189 -0.121845 -0.594944   \n2    -0.970735 -0.963483 -0.939260  ...  0.062891 -0.190422 -0.640736   \n3    -0.974471 -0.968897 -0.938610  ...  0.116695 -0.344418 -0.736124   \n4    -0.965953 -0.977346 -0.938610  ... -0.121711 -0.534685 -0.846595   \n...        ...       ...       ...  ...       ...       ...       ...   \n2942 -0.148775 -0.232057  0.185361  ...  0.074472 -0.376278 -0.750809   \n2943 -0.030036 -0.270237  0.185361  ...  0.101859 -0.320418 -0.700274   \n2944 -0.133257 -0.347029  0.007471  ... -0.066249 -0.118854 -0.467179   \n2945 -0.279610 -0.289477  0.007471  ... -0.046467 -0.205445 -0.617737   \n2946 -0.218295 -0.229933 -0.111527  ... -0.010386 -0.072237 -0.436940   \n\n           554       555       556       557       558       559       560  \n0     0.006462  0.162920 -0.825886  0.271151 -0.720009  0.276801 -0.057978  \n1    -0.083495  0.017500 -0.434375  0.920593 -0.698091  0.281343 -0.083898  \n2    -0.034956  0.202302  0.064103  0.145068 -0.702771  0.280083 -0.079346  \n3    -0.017067  0.154438  0.340134  0.296407 -0.698954  0.284114 -0.077108  \n4    -0.002223 -0.040046  0.736715 -0.118545 -0.692245  0.290722 -0.073857  \n...        ...       ...       ...       ...       ...       ...       ...  \n2942 -0.337422  0.346295  0.884904 -0.698885 -0.651732  0.274627  0.184784  \n2943 -0.736701 -0.372889 -0.657421  0.322549 -0.655181  0.273578  0.182412  \n2944 -0.181560  0.088574  0.696663  0.363139 -0.655357  0.274479  0.181184  \n2945  0.444558 -0.819188  0.929294 -0.008398 -0.659719  0.264782  0.187563  \n2946  0.598808 -0.287951  0.876030 -0.024965 -0.660080  0.263936  0.188103  \n\n[2947 rows x 561 columns]",
      "text/html": "<div>\n<style scoped>\n    .dataframe tbody tr th:only-of-type {\n        vertical-align: middle;\n    }\n\n    .dataframe tbody tr th {\n        vertical-align: top;\n    }\n\n    .dataframe thead th {\n        text-align: right;\n    }\n</style>\n<table border=\"1\" class=\"dataframe\">\n  <thead>\n    <tr style=\"text-align: right;\">\n      <th></th>\n      <th>0</th>\n      <th>1</th>\n      <th>2</th>\n      <th>3</th>\n      <th>4</th>\n      <th>5</th>\n      <th>6</th>\n      <th>7</th>\n      <th>8</th>\n      <th>9</th>\n      <th>...</th>\n      <th>551</th>\n      <th>552</th>\n      <th>553</th>\n      <th>554</th>\n      <th>555</th>\n      <th>556</th>\n      <th>557</th>\n      <th>558</th>\n      <th>559</th>\n      <th>560</th>\n    </tr>\n  </thead>\n  <tbody>\n    <tr>\n      <th>0</th>\n      <td>0.257178</td>\n      <td>-0.023285</td>\n      <td>-0.014654</td>\n      <td>-0.938404</td>\n      <td>-0.920091</td>\n      <td>-0.667683</td>\n      <td>-0.952501</td>\n      <td>-0.925249</td>\n      <td>-0.674302</td>\n      <td>-0.894088</td>\n      <td>...</td>\n      <td>0.071645</td>\n      <td>-0.330370</td>\n      <td>-0.705974</td>\n      <td>0.006462</td>\n      <td>0.162920</td>\n      <td>-0.825886</td>\n      <td>0.271151</td>\n      <td>-0.720009</td>\n      <td>0.276801</td>\n      <td>-0.057978</td>\n    </tr>\n    <tr>\n      <th>1</th>\n      <td>0.286027</td>\n      <td>-0.013163</td>\n      <td>-0.119083</td>\n      <td>-0.975415</td>\n      <td>-0.967458</td>\n      <td>-0.944958</td>\n      <td>-0.986799</td>\n      <td>-0.968401</td>\n      <td>-0.945823</td>\n      <td>-0.894088</td>\n      <td>...</td>\n      <td>-0.401189</td>\n      <td>-0.121845</td>\n      <td>-0.594944</td>\n      <td>-0.083495</td>\n      <td>0.017500</td>\n      <td>-0.434375</td>\n      <td>0.920593</td>\n      <td>-0.698091</td>\n      <td>0.281343</td>\n      <td>-0.083898</td>\n    </tr>\n    <tr>\n      <th>2</th>\n      <td>0.275485</td>\n      <td>-0.026050</td>\n      <td>-0.118152</td>\n      <td>-0.993819</td>\n      <td>-0.969926</td>\n      <td>-0.962748</td>\n      <td>-0.994403</td>\n      <td>-0.970735</td>\n      <td>-0.963483</td>\n      <td>-0.939260</td>\n      <td>...</td>\n      <td>0.062891</td>\n      <td>-0.190422</td>\n      <td>-0.640736</td>\n      <td>-0.034956</td>\n      <td>0.202302</td>\n      <td>0.064103</td>\n      <td>0.145068</td>\n      <td>-0.702771</td>\n      <td>0.280083</td>\n      <td>-0.079346</td>\n    </tr>\n    <tr>\n      <th>3</th>\n      <td>0.270298</td>\n      <td>-0.032614</td>\n      <td>-0.117520</td>\n      <td>-0.994743</td>\n      <td>-0.973268</td>\n      <td>-0.967091</td>\n      <td>-0.995274</td>\n      <td>-0.974471</td>\n      <td>-0.968897</td>\n      <td>-0.938610</td>\n      <td>...</td>\n      <td>0.116695</td>\n      <td>-0.344418</td>\n      <td>-0.736124</td>\n      <td>-0.017067</td>\n      <td>0.154438</td>\n      <td>0.340134</td>\n      <td>0.296407</td>\n      <td>-0.698954</td>\n      <td>0.284114</td>\n      <td>-0.077108</td>\n    </tr>\n    <tr>\n      <th>4</th>\n      <td>0.274833</td>\n      <td>-0.027848</td>\n      <td>-0.129527</td>\n      <td>-0.993852</td>\n      <td>-0.967445</td>\n      <td>-0.978295</td>\n      <td>-0.994111</td>\n      <td>-0.965953</td>\n      <td>-0.977346</td>\n      <td>-0.938610</td>\n      <td>...</td>\n      <td>-0.121711</td>\n      <td>-0.534685</td>\n      <td>-0.846595</td>\n      <td>-0.002223</td>\n      <td>-0.040046</td>\n      <td>0.736715</td>\n      <td>-0.118545</td>\n      <td>-0.692245</td>\n      <td>0.290722</td>\n      <td>-0.073857</td>\n    </tr>\n    <tr>\n      <th>...</th>\n      <td>...</td>\n      <td>...</td>\n      <td>...</td>\n      <td>...</td>\n      <td>...</td>\n      <td>...</td>\n      <td>...</td>\n      <td>...</td>\n      <td>...</td>\n      <td>...</td>\n      <td>...</td>\n      <td>...</td>\n      <td>...</td>\n      <td>...</td>\n      <td>...</td>\n      <td>...</td>\n      <td>...</td>\n      <td>...</td>\n      <td>...</td>\n      <td>...</td>\n      <td>...</td>\n    </tr>\n    <tr>\n      <th>2942</th>\n      <td>0.310155</td>\n      <td>-0.053391</td>\n      <td>-0.099109</td>\n      <td>-0.287866</td>\n      <td>-0.140589</td>\n      <td>-0.215088</td>\n      <td>-0.356083</td>\n      <td>-0.148775</td>\n      <td>-0.232057</td>\n      <td>0.185361</td>\n      <td>...</td>\n      <td>0.074472</td>\n      <td>-0.376278</td>\n      <td>-0.750809</td>\n      <td>-0.337422</td>\n      <td>0.346295</td>\n      <td>0.884904</td>\n      <td>-0.698885</td>\n      <td>-0.651732</td>\n      <td>0.274627</td>\n      <td>0.184784</td>\n    </tr>\n    <tr>\n      <th>2943</th>\n      <td>0.363385</td>\n      <td>-0.039214</td>\n      <td>-0.105915</td>\n      <td>-0.305388</td>\n      <td>0.028148</td>\n      <td>-0.196373</td>\n      <td>-0.373540</td>\n      <td>-0.030036</td>\n      <td>-0.270237</td>\n      <td>0.185361</td>\n      <td>...</td>\n      <td>0.101859</td>\n      <td>-0.320418</td>\n      <td>-0.700274</td>\n      <td>-0.736701</td>\n      <td>-0.372889</td>\n      <td>-0.657421</td>\n      <td>0.322549</td>\n      <td>-0.655181</td>\n      <td>0.273578</td>\n      <td>0.182412</td>\n    </tr>\n    <tr>\n      <th>2944</th>\n      <td>0.349966</td>\n      <td>0.030077</td>\n      <td>-0.115788</td>\n      <td>-0.329638</td>\n      <td>-0.042143</td>\n      <td>-0.250181</td>\n      <td>-0.388017</td>\n      <td>-0.133257</td>\n      <td>-0.347029</td>\n      <td>0.007471</td>\n      <td>...</td>\n      <td>-0.066249</td>\n      <td>-0.118854</td>\n      <td>-0.467179</td>\n      <td>-0.181560</td>\n      <td>0.088574</td>\n      <td>0.696663</td>\n      <td>0.363139</td>\n      <td>-0.655357</td>\n      <td>0.274479</td>\n      <td>0.181184</td>\n    </tr>\n    <tr>\n      <th>2945</th>\n      <td>0.237594</td>\n      <td>0.018467</td>\n      <td>-0.096499</td>\n      <td>-0.323114</td>\n      <td>-0.229775</td>\n      <td>-0.207574</td>\n      <td>-0.392380</td>\n      <td>-0.279610</td>\n      <td>-0.289477</td>\n      <td>0.007471</td>\n      <td>...</td>\n      <td>-0.046467</td>\n      <td>-0.205445</td>\n      <td>-0.617737</td>\n      <td>0.444558</td>\n      <td>-0.819188</td>\n      <td>0.929294</td>\n      <td>-0.008398</td>\n      <td>-0.659719</td>\n      <td>0.264782</td>\n      <td>0.187563</td>\n    </tr>\n    <tr>\n      <th>2946</th>\n      <td>0.153627</td>\n      <td>-0.018437</td>\n      <td>-0.137018</td>\n      <td>-0.330046</td>\n      <td>-0.195253</td>\n      <td>-0.164339</td>\n      <td>-0.430974</td>\n      <td>-0.218295</td>\n      <td>-0.229933</td>\n      <td>-0.111527</td>\n      <td>...</td>\n      <td>-0.010386</td>\n      <td>-0.072237</td>\n      <td>-0.436940</td>\n      <td>0.598808</td>\n      <td>-0.287951</td>\n      <td>0.876030</td>\n      <td>-0.024965</td>\n      <td>-0.660080</td>\n      <td>0.263936</td>\n      <td>0.188103</td>\n    </tr>\n  </tbody>\n</table>\n<p>2947 rows × 561 columns</p>\n</div>"
     },
     "execution_count": 68,
     "metadata": {},
     "output_type": "execute_result"
    }
   ],
   "source": [
    "x_testDF"
   ],
   "metadata": {
    "collapsed": false,
    "ExecuteTime": {
     "end_time": "2024-03-07T07:11:37.634667Z",
     "start_time": "2024-03-07T07:11:37.622387Z"
    }
   },
   "id": "8eb80b0395dedb21",
   "execution_count": 68
  },
  {
   "cell_type": "code",
   "outputs": [],
   "source": [
    "X_trainDF = X_trainDF.T.drop(mask).T\n",
    "x_testDF = x_testDF.T.drop(mask).T"
   ],
   "metadata": {
    "collapsed": false,
    "ExecuteTime": {
     "end_time": "2024-03-07T07:11:37.667461Z",
     "start_time": "2024-03-07T07:11:37.626771Z"
    }
   },
   "id": "6483b9df526d3b1a",
   "execution_count": 69
  },
  {
   "cell_type": "code",
   "outputs": [
    {
     "data": {
      "text/plain": "      0\n0     5\n1     5\n2     5\n3     5\n4     5\n...  ..\n7347  2\n7348  2\n7349  2\n7350  2\n7351  2\n\n[7352 rows x 1 columns]",
      "text/html": "<div>\n<style scoped>\n    .dataframe tbody tr th:only-of-type {\n        vertical-align: middle;\n    }\n\n    .dataframe tbody tr th {\n        vertical-align: top;\n    }\n\n    .dataframe thead th {\n        text-align: right;\n    }\n</style>\n<table border=\"1\" class=\"dataframe\">\n  <thead>\n    <tr style=\"text-align: right;\">\n      <th></th>\n      <th>0</th>\n    </tr>\n  </thead>\n  <tbody>\n    <tr>\n      <th>0</th>\n      <td>5</td>\n    </tr>\n    <tr>\n      <th>1</th>\n      <td>5</td>\n    </tr>\n    <tr>\n      <th>2</th>\n      <td>5</td>\n    </tr>\n    <tr>\n      <th>3</th>\n      <td>5</td>\n    </tr>\n    <tr>\n      <th>4</th>\n      <td>5</td>\n    </tr>\n    <tr>\n      <th>...</th>\n      <td>...</td>\n    </tr>\n    <tr>\n      <th>7347</th>\n      <td>2</td>\n    </tr>\n    <tr>\n      <th>7348</th>\n      <td>2</td>\n    </tr>\n    <tr>\n      <th>7349</th>\n      <td>2</td>\n    </tr>\n    <tr>\n      <th>7350</th>\n      <td>2</td>\n    </tr>\n    <tr>\n      <th>7351</th>\n      <td>2</td>\n    </tr>\n  </tbody>\n</table>\n<p>7352 rows × 1 columns</p>\n</div>"
     },
     "execution_count": 72,
     "metadata": {},
     "output_type": "execute_result"
    }
   ],
   "source": [
    "y_trainDF"
   ],
   "metadata": {
    "collapsed": false,
    "ExecuteTime": {
     "end_time": "2024-03-07T07:11:56.201467Z",
     "start_time": "2024-03-07T07:11:56.198274Z"
    }
   },
   "id": "4e304b5dd5a1b0c4",
   "execution_count": 72
  },
  {
   "cell_type": "code",
   "outputs": [
    {
     "data": {
      "text/plain": "((561, 2), (7352, 477), (2947, 477))"
     },
     "execution_count": 77,
     "metadata": {},
     "output_type": "execute_result"
    }
   ],
   "source": [
    "feature_nameDF.shape, X_trainDF.shape, x_testDF.shape"
   ],
   "metadata": {
    "collapsed": false,
    "ExecuteTime": {
     "end_time": "2024-03-07T07:21:32.078629Z",
     "start_time": "2024-03-07T07:21:32.076551Z"
    }
   },
   "id": "82c9a26b104c8a7c",
   "execution_count": 77
  },
  {
   "cell_type": "code",
   "outputs": [],
   "source": [],
   "metadata": {
    "collapsed": false
   },
   "id": "49c9e4f4fd6ba35f"
  }
 ],
 "metadata": {
  "kernelspec": {
   "display_name": "Python 3",
   "language": "python",
   "name": "python3"
  },
  "language_info": {
   "codemirror_mode": {
    "name": "ipython",
    "version": 2
   },
   "file_extension": ".py",
   "mimetype": "text/x-python",
   "name": "python",
   "nbconvert_exporter": "python",
   "pygments_lexer": "ipython2",
   "version": "2.7.6"
  }
 },
 "nbformat": 4,
 "nbformat_minor": 5
}
