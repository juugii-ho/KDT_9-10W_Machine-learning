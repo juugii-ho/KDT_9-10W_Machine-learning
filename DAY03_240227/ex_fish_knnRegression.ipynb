{
 "cells": [
  {
   "cell_type": "markdown",
   "source": [
    "### 목표 : 무게에 따른 길이를 예측해주는 모델\n",
    "- 데이터 : fish.csv\n",
    "- 피쳐/특성 : 무게\n",
    "- 라벨/타겟 : 길이\n",
    "- 학습 방법 : 지도학습 + 예측 ==> KNN기반의 회귀\n",
    "- 학습/테스트 데이터 : 7:3 준비\n"
   ],
   "metadata": {
    "collapsed": false
   },
   "id": "ccac54b1aa63302a"
  },
  {
   "cell_type": "markdown",
   "source": [
    "#### (1) 모듈 로딩 및 데이터 준비 <hr>"
   ],
   "metadata": {
    "collapsed": false
   },
   "id": "82c8ef53d5c3a172"
  },
  {
   "cell_type": "code",
   "outputs": [],
   "source": [
    "import pandas as pd\n",
    "import matplotlib.pyplot as plt\n",
    "import seaborn as sns\n",
    "from sklearn.preprocessing import StandardScaler, MinMaxScaler\n",
    "from sklearn.linear_model import LinearRegression\n",
    "import numpy as np"
   ],
   "metadata": {
    "collapsed": false,
    "ExecuteTime": {
     "end_time": "2024-02-27T06:59:16.928449Z",
     "start_time": "2024-02-27T06:59:16.759733Z"
    }
   },
   "id": "e54e3cc72939fe",
   "execution_count": 385
  },
  {
   "cell_type": "code",
   "outputs": [],
   "source": [
    "data_file = '../data/fish.csv'"
   ],
   "metadata": {
    "collapsed": false,
    "ExecuteTime": {
     "end_time": "2024-02-27T06:59:16.946080Z",
     "start_time": "2024-02-27T06:59:16.889215Z"
    }
   },
   "id": "7d66d90baa270f6f",
   "execution_count": 386
  },
  {
   "cell_type": "code",
   "outputs": [
    {
     "data": {
      "text/plain": "    Species  Weight  Length\n0     Bream   242.0    25.4\n1     Bream   290.0    26.3\n2     Bream   340.0    26.5\n3     Bream   363.0    29.0\n4     Bream   430.0    29.0\n..      ...     ...     ...\n154   Smelt    12.2    12.2\n155   Smelt    13.4    12.4\n156   Smelt    12.2    13.0\n157   Smelt    19.7    14.3\n158   Smelt    19.9    15.0\n\n[159 rows x 3 columns]",
      "text/html": "<div>\n<style scoped>\n    .dataframe tbody tr th:only-of-type {\n        vertical-align: middle;\n    }\n\n    .dataframe tbody tr th {\n        vertical-align: top;\n    }\n\n    .dataframe thead th {\n        text-align: right;\n    }\n</style>\n<table border=\"1\" class=\"dataframe\">\n  <thead>\n    <tr style=\"text-align: right;\">\n      <th></th>\n      <th>Species</th>\n      <th>Weight</th>\n      <th>Length</th>\n    </tr>\n  </thead>\n  <tbody>\n    <tr>\n      <th>0</th>\n      <td>Bream</td>\n      <td>242.0</td>\n      <td>25.4</td>\n    </tr>\n    <tr>\n      <th>1</th>\n      <td>Bream</td>\n      <td>290.0</td>\n      <td>26.3</td>\n    </tr>\n    <tr>\n      <th>2</th>\n      <td>Bream</td>\n      <td>340.0</td>\n      <td>26.5</td>\n    </tr>\n    <tr>\n      <th>3</th>\n      <td>Bream</td>\n      <td>363.0</td>\n      <td>29.0</td>\n    </tr>\n    <tr>\n      <th>4</th>\n      <td>Bream</td>\n      <td>430.0</td>\n      <td>29.0</td>\n    </tr>\n    <tr>\n      <th>...</th>\n      <td>...</td>\n      <td>...</td>\n      <td>...</td>\n    </tr>\n    <tr>\n      <th>154</th>\n      <td>Smelt</td>\n      <td>12.2</td>\n      <td>12.2</td>\n    </tr>\n    <tr>\n      <th>155</th>\n      <td>Smelt</td>\n      <td>13.4</td>\n      <td>12.4</td>\n    </tr>\n    <tr>\n      <th>156</th>\n      <td>Smelt</td>\n      <td>12.2</td>\n      <td>13.0</td>\n    </tr>\n    <tr>\n      <th>157</th>\n      <td>Smelt</td>\n      <td>19.7</td>\n      <td>14.3</td>\n    </tr>\n    <tr>\n      <th>158</th>\n      <td>Smelt</td>\n      <td>19.9</td>\n      <td>15.0</td>\n    </tr>\n  </tbody>\n</table>\n<p>159 rows × 3 columns</p>\n</div>"
     },
     "execution_count": 387,
     "metadata": {},
     "output_type": "execute_result"
    }
   ],
   "source": [
    "fishDF = pd.read_csv(data_file, usecols=[0,1,2])\n",
    "fishDF"
   ],
   "metadata": {
    "collapsed": false,
    "ExecuteTime": {
     "end_time": "2024-02-27T06:59:16.962990Z",
     "start_time": "2024-02-27T06:59:16.935203Z"
    }
   },
   "id": "1739e4ca1eac2c2",
   "execution_count": 387
  },
  {
   "cell_type": "code",
   "outputs": [],
   "source": [
    "perchDF = fishDF[fishDF['Species']=='Perch']\n",
    "perchDF = perchDF.reset_index(drop=True)"
   ],
   "metadata": {
    "collapsed": false,
    "ExecuteTime": {
     "end_time": "2024-02-27T06:59:17.004470Z",
     "start_time": "2024-02-27T06:59:16.965900Z"
    }
   },
   "id": "894c14019846db8d",
   "execution_count": 388
  },
  {
   "cell_type": "code",
   "outputs": [
    {
     "name": "stdout",
     "output_type": "stream",
     "text": [
      "<class 'pandas.core.frame.DataFrame'>\n",
      "RangeIndex: 56 entries, 0 to 55\n",
      "Data columns (total 3 columns):\n",
      " #   Column   Non-Null Count  Dtype  \n",
      "---  ------   --------------  -----  \n",
      " 0   Species  56 non-null     object \n",
      " 1   Weight   56 non-null     float64\n",
      " 2   Length   56 non-null     float64\n",
      "dtypes: float64(2), object(1)\n",
      "memory usage: 1.4+ KB\n"
     ]
    },
    {
     "data": {
      "text/plain": "(None,\n   Species  Weight  Length\n 0   Perch     5.9     8.4\n 1   Perch    32.0    13.7\n 2   Perch    40.0    15.0\n 3   Perch    51.5    16.2\n 4   Perch    70.0    17.4)"
     },
     "execution_count": 389,
     "metadata": {},
     "output_type": "execute_result"
    }
   ],
   "source": [
    "perchDF.info(), perchDF.head(5)"
   ],
   "metadata": {
    "collapsed": false,
    "ExecuteTime": {
     "end_time": "2024-02-27T06:59:17.043037Z",
     "start_time": "2024-02-27T06:59:17.008746Z"
    }
   },
   "id": "823b1cde188105d1",
   "execution_count": 389
  },
  {
   "cell_type": "code",
   "outputs": [
    {
     "data": {
      "text/plain": "            Weight     Length\ncount    56.000000  56.000000\nmean    382.239286  27.892857\nstd     347.617717   9.021668\nmin       5.900000   8.400000\n25%     120.000000  21.825000\n50%     207.500000  25.300000\n75%     692.500000  36.625000\nmax    1100.000000  44.000000",
      "text/html": "<div>\n<style scoped>\n    .dataframe tbody tr th:only-of-type {\n        vertical-align: middle;\n    }\n\n    .dataframe tbody tr th {\n        vertical-align: top;\n    }\n\n    .dataframe thead th {\n        text-align: right;\n    }\n</style>\n<table border=\"1\" class=\"dataframe\">\n  <thead>\n    <tr style=\"text-align: right;\">\n      <th></th>\n      <th>Weight</th>\n      <th>Length</th>\n    </tr>\n  </thead>\n  <tbody>\n    <tr>\n      <th>count</th>\n      <td>56.000000</td>\n      <td>56.000000</td>\n    </tr>\n    <tr>\n      <th>mean</th>\n      <td>382.239286</td>\n      <td>27.892857</td>\n    </tr>\n    <tr>\n      <th>std</th>\n      <td>347.617717</td>\n      <td>9.021668</td>\n    </tr>\n    <tr>\n      <th>min</th>\n      <td>5.900000</td>\n      <td>8.400000</td>\n    </tr>\n    <tr>\n      <th>25%</th>\n      <td>120.000000</td>\n      <td>21.825000</td>\n    </tr>\n    <tr>\n      <th>50%</th>\n      <td>207.500000</td>\n      <td>25.300000</td>\n    </tr>\n    <tr>\n      <th>75%</th>\n      <td>692.500000</td>\n      <td>36.625000</td>\n    </tr>\n    <tr>\n      <th>max</th>\n      <td>1100.000000</td>\n      <td>44.000000</td>\n    </tr>\n  </tbody>\n</table>\n</div>"
     },
     "execution_count": 390,
     "metadata": {},
     "output_type": "execute_result"
    }
   ],
   "source": [
    "perchDF.describe()"
   ],
   "metadata": {
    "collapsed": false,
    "ExecuteTime": {
     "end_time": "2024-02-27T06:59:17.046058Z",
     "start_time": "2024-02-27T06:59:17.020454Z"
    }
   },
   "id": "a96e41ec210b502a",
   "execution_count": 390
  },
  {
   "cell_type": "code",
   "outputs": [],
   "source": [],
   "metadata": {
    "collapsed": false,
    "ExecuteTime": {
     "end_time": "2024-02-27T06:59:17.175757Z",
     "start_time": "2024-02-27T06:59:17.048078Z"
    }
   },
   "id": "a8adf5b2c4a52f6f",
   "execution_count": 390
  },
  {
   "cell_type": "markdown",
   "source": [
    "#### (3) 데이터 전처리 <hr>\n",
    "- 결측치, 이상치, 중복값 처리\n",
    "- 데이터 분포, 컬럼 분포, 최빈값 고유값\n",
    "- 산점도, 히스토그램"
   ],
   "metadata": {
    "collapsed": false
   },
   "id": "bfa2d68cbbd8fe50"
  },
  {
   "cell_type": "markdown",
   "source": [
    "####  (3-1) 데이터 분포"
   ],
   "metadata": {
    "collapsed": false
   },
   "id": "da8fdfc85989ff8a"
  },
  {
   "cell_type": "code",
   "outputs": [],
   "source": [],
   "metadata": {
    "collapsed": false,
    "ExecuteTime": {
     "end_time": "2024-02-27T06:59:17.255441Z",
     "start_time": "2024-02-27T06:59:17.174573Z"
    }
   },
   "id": "6ba2c86568b1ca60",
   "execution_count": 390
  },
  {
   "cell_type": "markdown",
   "source": [
    "#### (4) 학습 진행 <hr>\n",
    "- 학습 방법 : 지도학습 + 회귀(예측) => 선형회귀 LinearRegression"
   ],
   "metadata": {
    "collapsed": false
   },
   "id": "58a9035c7f62bda6"
  },
  {
   "cell_type": "code",
   "outputs": [],
   "source": [
    "# model = LinearRegression()"
   ],
   "metadata": {
    "collapsed": false,
    "ExecuteTime": {
     "end_time": "2024-02-27T06:59:17.273936Z",
     "start_time": "2024-02-27T06:59:17.256784Z"
    }
   },
   "id": "aa4373c57733f4d0",
   "execution_count": 391
  },
  {
   "cell_type": "code",
   "outputs": [],
   "source": [
    "# model.fit(perchDF[['Weight']], perchDF['Length'])"
   ],
   "metadata": {
    "collapsed": false,
    "ExecuteTime": {
     "end_time": "2024-02-27T06:59:17.322149Z",
     "start_time": "2024-02-27T06:59:17.275836Z"
    }
   },
   "id": "c4c630c2e16667f",
   "execution_count": 392
  },
  {
   "cell_type": "code",
   "outputs": [],
   "source": [],
   "metadata": {
    "collapsed": false,
    "ExecuteTime": {
     "end_time": "2024-02-27T06:59:17.324977Z",
     "start_time": "2024-02-27T06:59:17.281624Z"
    }
   },
   "id": "57b2561e59562c06",
   "execution_count": 392
  },
  {
   "cell_type": "code",
   "outputs": [
    {
     "data": {
      "text/plain": "pandas.core.frame.DataFrame"
     },
     "execution_count": 393,
     "metadata": {},
     "output_type": "execute_result"
    }
   ],
   "source": [
    "featureDF = pd.DataFrame(perchDF[perchDF.columns[1]])\n",
    "featureDF.head(2)\n",
    "type(featureDF)"
   ],
   "metadata": {
    "collapsed": false,
    "ExecuteTime": {
     "end_time": "2024-02-27T06:59:17.353007Z",
     "start_time": "2024-02-27T06:59:17.328020Z"
    }
   },
   "id": "45453665dd091596",
   "execution_count": 393
  },
  {
   "cell_type": "code",
   "outputs": [
    {
     "data": {
      "text/plain": "0     8.4\n1    13.7\nName: Length, dtype: float64"
     },
     "execution_count": 394,
     "metadata": {},
     "output_type": "execute_result"
    }
   ],
   "source": [
    "targetDF = perchDF['Length']\n",
    "targetDF.head(2)"
   ],
   "metadata": {
    "collapsed": false,
    "ExecuteTime": {
     "end_time": "2024-02-27T06:59:17.418798Z",
     "start_time": "2024-02-27T06:59:17.354857Z"
    }
   },
   "id": "a7c463a2d65902bd",
   "execution_count": 394
  },
  {
   "cell_type": "code",
   "outputs": [],
   "source": [
    "from sklearn.model_selection import train_test_split"
   ],
   "metadata": {
    "collapsed": false,
    "ExecuteTime": {
     "end_time": "2024-02-27T06:59:17.452950Z",
     "start_time": "2024-02-27T06:59:17.419303Z"
    }
   },
   "id": "691094d7c29c8921",
   "execution_count": 395
  },
  {
   "cell_type": "code",
   "outputs": [
    {
     "name": "stdout",
     "output_type": "stream",
     "text": [
      "39     Weight\n",
      "48   900.0\n",
      "10   110.0\n",
      "7     80.0\n",
      "51  1100.0\n",
      "14   120.0\n",
      "17   135.0\n",
      "25   145.0\n",
      "55  1000.0\n",
      "32   265.0\n",
      "1     32.0\n",
      "37   514.0\n",
      "54  1000.0\n",
      "2     40.0\n",
      "35   300.0\n",
      "39   840.0\n",
      "36   320.0\n",
      "0      5.9\n",
      "11   115.0\n",
      "3     51.5\n",
      "34   250.0\n",
      "52  1000.0\n",
      "9     85.0\n",
      "16   130.0\n",
      "5    100.0\n",
      "28   197.0\n",
      "46   820.0\n",
      "45   650.0\n",
      "43   690.0\n",
      "30   300.0\n",
      "26   188.0\n",
      "41   700.0\n",
      "23   170.0\n",
      "49  1015.0\n",
      "15   120.0\n",
      "24   225.0\n",
      "12   125.0\n",
      "38   556.0\n",
      "19   130.0\n",
      "47   850.0\n"
     ]
    }
   ],
   "source": [
    "X_train, X_test, y_train, y_test = train_test_split(featureDF,\n",
    "                                                    targetDF,\n",
    "                                                    test_size=0.3,\n",
    "                                                    random_state=1234)\n",
    "print(len(X_train), X_train)"
   ],
   "metadata": {
    "collapsed": false,
    "ExecuteTime": {
     "end_time": "2024-02-27T06:59:17.487674Z",
     "start_time": "2024-02-27T06:59:17.455340Z"
    }
   },
   "id": "ec720bf906d67947",
   "execution_count": 396
  },
  {
   "cell_type": "code",
   "outputs": [],
   "source": [
    "from sklearn.neighbors import KNeighborsRegressor\n",
    "\n",
    "model = KNeighborsRegressor()"
   ],
   "metadata": {
    "collapsed": false,
    "ExecuteTime": {
     "end_time": "2024-02-27T06:59:17.504539Z",
     "start_time": "2024-02-27T06:59:17.489032Z"
    }
   },
   "id": "f230c5652acda9e3",
   "execution_count": 397
  },
  {
   "cell_type": "code",
   "outputs": [
    {
     "data": {
      "text/plain": "    Weight\n48   900.0\n10   110.0\n7     80.0\n51  1100.0\n14   120.0\n17   135.0\n25   145.0\n55  1000.0\n32   265.0\n1     32.0\n37   514.0\n54  1000.0\n2     40.0\n35   300.0\n39   840.0\n36   320.0\n0      5.9\n11   115.0\n3     51.5\n34   250.0\n52  1000.0\n9     85.0\n16   130.0\n5    100.0\n28   197.0\n46   820.0\n45   650.0\n43   690.0\n30   300.0\n26   188.0\n41   700.0\n23   170.0\n49  1015.0\n15   120.0\n24   225.0\n12   125.0\n38   556.0\n19   130.0\n47   850.0",
      "text/html": "<div>\n<style scoped>\n    .dataframe tbody tr th:only-of-type {\n        vertical-align: middle;\n    }\n\n    .dataframe tbody tr th {\n        vertical-align: top;\n    }\n\n    .dataframe thead th {\n        text-align: right;\n    }\n</style>\n<table border=\"1\" class=\"dataframe\">\n  <thead>\n    <tr style=\"text-align: right;\">\n      <th></th>\n      <th>Weight</th>\n    </tr>\n  </thead>\n  <tbody>\n    <tr>\n      <th>48</th>\n      <td>900.0</td>\n    </tr>\n    <tr>\n      <th>10</th>\n      <td>110.0</td>\n    </tr>\n    <tr>\n      <th>7</th>\n      <td>80.0</td>\n    </tr>\n    <tr>\n      <th>51</th>\n      <td>1100.0</td>\n    </tr>\n    <tr>\n      <th>14</th>\n      <td>120.0</td>\n    </tr>\n    <tr>\n      <th>17</th>\n      <td>135.0</td>\n    </tr>\n    <tr>\n      <th>25</th>\n      <td>145.0</td>\n    </tr>\n    <tr>\n      <th>55</th>\n      <td>1000.0</td>\n    </tr>\n    <tr>\n      <th>32</th>\n      <td>265.0</td>\n    </tr>\n    <tr>\n      <th>1</th>\n      <td>32.0</td>\n    </tr>\n    <tr>\n      <th>37</th>\n      <td>514.0</td>\n    </tr>\n    <tr>\n      <th>54</th>\n      <td>1000.0</td>\n    </tr>\n    <tr>\n      <th>2</th>\n      <td>40.0</td>\n    </tr>\n    <tr>\n      <th>35</th>\n      <td>300.0</td>\n    </tr>\n    <tr>\n      <th>39</th>\n      <td>840.0</td>\n    </tr>\n    <tr>\n      <th>36</th>\n      <td>320.0</td>\n    </tr>\n    <tr>\n      <th>0</th>\n      <td>5.9</td>\n    </tr>\n    <tr>\n      <th>11</th>\n      <td>115.0</td>\n    </tr>\n    <tr>\n      <th>3</th>\n      <td>51.5</td>\n    </tr>\n    <tr>\n      <th>34</th>\n      <td>250.0</td>\n    </tr>\n    <tr>\n      <th>52</th>\n      <td>1000.0</td>\n    </tr>\n    <tr>\n      <th>9</th>\n      <td>85.0</td>\n    </tr>\n    <tr>\n      <th>16</th>\n      <td>130.0</td>\n    </tr>\n    <tr>\n      <th>5</th>\n      <td>100.0</td>\n    </tr>\n    <tr>\n      <th>28</th>\n      <td>197.0</td>\n    </tr>\n    <tr>\n      <th>46</th>\n      <td>820.0</td>\n    </tr>\n    <tr>\n      <th>45</th>\n      <td>650.0</td>\n    </tr>\n    <tr>\n      <th>43</th>\n      <td>690.0</td>\n    </tr>\n    <tr>\n      <th>30</th>\n      <td>300.0</td>\n    </tr>\n    <tr>\n      <th>26</th>\n      <td>188.0</td>\n    </tr>\n    <tr>\n      <th>41</th>\n      <td>700.0</td>\n    </tr>\n    <tr>\n      <th>23</th>\n      <td>170.0</td>\n    </tr>\n    <tr>\n      <th>49</th>\n      <td>1015.0</td>\n    </tr>\n    <tr>\n      <th>15</th>\n      <td>120.0</td>\n    </tr>\n    <tr>\n      <th>24</th>\n      <td>225.0</td>\n    </tr>\n    <tr>\n      <th>12</th>\n      <td>125.0</td>\n    </tr>\n    <tr>\n      <th>38</th>\n      <td>556.0</td>\n    </tr>\n    <tr>\n      <th>19</th>\n      <td>130.0</td>\n    </tr>\n    <tr>\n      <th>47</th>\n      <td>850.0</td>\n    </tr>\n  </tbody>\n</table>\n</div>"
     },
     "execution_count": 398,
     "metadata": {},
     "output_type": "execute_result"
    }
   ],
   "source": [
    "X_train"
   ],
   "metadata": {
    "collapsed": false,
    "ExecuteTime": {
     "end_time": "2024-02-27T06:59:17.529797Z",
     "start_time": "2024-02-27T06:59:17.507716Z"
    }
   },
   "id": "358e073a79d50a78",
   "execution_count": 398
  },
  {
   "cell_type": "code",
   "outputs": [
    {
     "data": {
      "text/plain": "48    40.0\n10    21.0\n7     19.0\n51    42.0\n14    22.0\n17    22.0\n25    24.0\n55    44.0\n32    27.5\n1     13.7\n37    32.8\n54    43.5\n2     15.0\n35    28.7\n39    35.0\n36    30.0\n0      8.4\n11    21.0\n3     16.2\n34    28.0\n52    43.0\n9     20.0\n16    22.0\n5     18.0\n28    25.6\n46    39.0\n45    39.0\n43    37.0\n30    27.3\n26    24.6\n41    36.0\n23    23.5\n49    40.0\n15    22.0\n24    24.0\n12    21.0\n38    34.5\n19    22.5\n47    40.0\nName: Length, dtype: float64"
     },
     "execution_count": 399,
     "metadata": {},
     "output_type": "execute_result"
    }
   ],
   "source": [
    "y_train"
   ],
   "metadata": {
    "collapsed": false,
    "ExecuteTime": {
     "end_time": "2024-02-27T06:59:17.533400Z",
     "start_time": "2024-02-27T06:59:17.520854Z"
    }
   },
   "id": "6c498ed07a0f2c30",
   "execution_count": 399
  },
  {
   "cell_type": "code",
   "outputs": [
    {
     "data": {
      "text/plain": "KNeighborsRegressor()",
      "text/html": "<style>#sk-container-id-28 {color: black;}#sk-container-id-28 pre{padding: 0;}#sk-container-id-28 div.sk-toggleable {background-color: white;}#sk-container-id-28 label.sk-toggleable__label {cursor: pointer;display: block;width: 100%;margin-bottom: 0;padding: 0.3em;box-sizing: border-box;text-align: center;}#sk-container-id-28 label.sk-toggleable__label-arrow:before {content: \"▸\";float: left;margin-right: 0.25em;color: #696969;}#sk-container-id-28 label.sk-toggleable__label-arrow:hover:before {color: black;}#sk-container-id-28 div.sk-estimator:hover label.sk-toggleable__label-arrow:before {color: black;}#sk-container-id-28 div.sk-toggleable__content {max-height: 0;max-width: 0;overflow: hidden;text-align: left;background-color: #f0f8ff;}#sk-container-id-28 div.sk-toggleable__content pre {margin: 0.2em;color: black;border-radius: 0.25em;background-color: #f0f8ff;}#sk-container-id-28 input.sk-toggleable__control:checked~div.sk-toggleable__content {max-height: 200px;max-width: 100%;overflow: auto;}#sk-container-id-28 input.sk-toggleable__control:checked~label.sk-toggleable__label-arrow:before {content: \"▾\";}#sk-container-id-28 div.sk-estimator input.sk-toggleable__control:checked~label.sk-toggleable__label {background-color: #d4ebff;}#sk-container-id-28 div.sk-label input.sk-toggleable__control:checked~label.sk-toggleable__label {background-color: #d4ebff;}#sk-container-id-28 input.sk-hidden--visually {border: 0;clip: rect(1px 1px 1px 1px);clip: rect(1px, 1px, 1px, 1px);height: 1px;margin: -1px;overflow: hidden;padding: 0;position: absolute;width: 1px;}#sk-container-id-28 div.sk-estimator {font-family: monospace;background-color: #f0f8ff;border: 1px dotted black;border-radius: 0.25em;box-sizing: border-box;margin-bottom: 0.5em;}#sk-container-id-28 div.sk-estimator:hover {background-color: #d4ebff;}#sk-container-id-28 div.sk-parallel-item::after {content: \"\";width: 100%;border-bottom: 1px solid gray;flex-grow: 1;}#sk-container-id-28 div.sk-label:hover label.sk-toggleable__label {background-color: #d4ebff;}#sk-container-id-28 div.sk-serial::before {content: \"\";position: absolute;border-left: 1px solid gray;box-sizing: border-box;top: 0;bottom: 0;left: 50%;z-index: 0;}#sk-container-id-28 div.sk-serial {display: flex;flex-direction: column;align-items: center;background-color: white;padding-right: 0.2em;padding-left: 0.2em;position: relative;}#sk-container-id-28 div.sk-item {position: relative;z-index: 1;}#sk-container-id-28 div.sk-parallel {display: flex;align-items: stretch;justify-content: center;background-color: white;position: relative;}#sk-container-id-28 div.sk-item::before, #sk-container-id-28 div.sk-parallel-item::before {content: \"\";position: absolute;border-left: 1px solid gray;box-sizing: border-box;top: 0;bottom: 0;left: 50%;z-index: -1;}#sk-container-id-28 div.sk-parallel-item {display: flex;flex-direction: column;z-index: 1;position: relative;background-color: white;}#sk-container-id-28 div.sk-parallel-item:first-child::after {align-self: flex-end;width: 50%;}#sk-container-id-28 div.sk-parallel-item:last-child::after {align-self: flex-start;width: 50%;}#sk-container-id-28 div.sk-parallel-item:only-child::after {width: 0;}#sk-container-id-28 div.sk-dashed-wrapped {border: 1px dashed gray;margin: 0 0.4em 0.5em 0.4em;box-sizing: border-box;padding-bottom: 0.4em;background-color: white;}#sk-container-id-28 div.sk-label label {font-family: monospace;font-weight: bold;display: inline-block;line-height: 1.2em;}#sk-container-id-28 div.sk-label-container {text-align: center;}#sk-container-id-28 div.sk-container {/* jupyter's `normalize.less` sets `[hidden] { display: none; }` but bootstrap.min.css set `[hidden] { display: none !important; }` so we also need the `!important` here to be able to override the default hidden behavior on the sphinx rendered scikit-learn.org. See: https://github.com/scikit-learn/scikit-learn/issues/21755 */display: inline-block !important;position: relative;}#sk-container-id-28 div.sk-text-repr-fallback {display: none;}</style><div id=\"sk-container-id-28\" class=\"sk-top-container\"><div class=\"sk-text-repr-fallback\"><pre>KNeighborsRegressor()</pre><b>In a Jupyter environment, please rerun this cell to show the HTML representation or trust the notebook. <br />On GitHub, the HTML representation is unable to render, please try loading this page with nbviewer.org.</b></div><div class=\"sk-container\" hidden><div class=\"sk-item\"><div class=\"sk-estimator sk-toggleable\"><input class=\"sk-toggleable__control sk-hidden--visually\" id=\"sk-estimator-id-28\" type=\"checkbox\" checked><label for=\"sk-estimator-id-28\" class=\"sk-toggleable__label sk-toggleable__label-arrow\">KNeighborsRegressor</label><div class=\"sk-toggleable__content\"><pre>KNeighborsRegressor()</pre></div></div></div></div></div>"
     },
     "execution_count": 400,
     "metadata": {},
     "output_type": "execute_result"
    }
   ],
   "source": [
    "model.fit(pd.DataFrame(X_train), y_train)"
   ],
   "metadata": {
    "collapsed": false,
    "ExecuteTime": {
     "end_time": "2024-02-27T06:59:17.556647Z",
     "start_time": "2024-02-27T06:59:17.535904Z"
    }
   },
   "id": "4945b7ecafc1cbd9",
   "execution_count": 400
  },
  {
   "cell_type": "code",
   "outputs": [
    {
     "data": {
      "text/plain": "(0.9698063746915628, 0.9917356711359953)"
     },
     "execution_count": 401,
     "metadata": {},
     "output_type": "execute_result"
    }
   ],
   "source": [
    "model.score(pd.DataFrame(X_train), y_train), model.score(pd.DataFrame(X_test), y_test)"
   ],
   "metadata": {
    "collapsed": false,
    "ExecuteTime": {
     "end_time": "2024-02-27T06:59:17.597128Z",
     "start_time": "2024-02-27T06:59:17.558748Z"
    }
   },
   "id": "a47134f9abca1c47",
   "execution_count": 401
  },
  {
   "cell_type": "code",
   "outputs": [
    {
     "data": {
      "text/plain": "    Weight\n48   900.0\n10   110.0\n7     80.0\n51  1100.0\n14   120.0\n17   135.0\n25   145.0\n55  1000.0\n32   265.0\n1     32.0\n37   514.0\n54  1000.0\n2     40.0\n35   300.0\n39   840.0\n36   320.0\n0      5.9\n11   115.0\n3     51.5\n34   250.0\n52  1000.0\n9     85.0\n16   130.0\n5    100.0\n28   197.0\n46   820.0\n45   650.0\n43   690.0\n30   300.0\n26   188.0\n41   700.0\n23   170.0\n49  1015.0\n15   120.0\n24   225.0\n12   125.0\n38   556.0\n19   130.0\n47   850.0",
      "text/html": "<div>\n<style scoped>\n    .dataframe tbody tr th:only-of-type {\n        vertical-align: middle;\n    }\n\n    .dataframe tbody tr th {\n        vertical-align: top;\n    }\n\n    .dataframe thead th {\n        text-align: right;\n    }\n</style>\n<table border=\"1\" class=\"dataframe\">\n  <thead>\n    <tr style=\"text-align: right;\">\n      <th></th>\n      <th>Weight</th>\n    </tr>\n  </thead>\n  <tbody>\n    <tr>\n      <th>48</th>\n      <td>900.0</td>\n    </tr>\n    <tr>\n      <th>10</th>\n      <td>110.0</td>\n    </tr>\n    <tr>\n      <th>7</th>\n      <td>80.0</td>\n    </tr>\n    <tr>\n      <th>51</th>\n      <td>1100.0</td>\n    </tr>\n    <tr>\n      <th>14</th>\n      <td>120.0</td>\n    </tr>\n    <tr>\n      <th>17</th>\n      <td>135.0</td>\n    </tr>\n    <tr>\n      <th>25</th>\n      <td>145.0</td>\n    </tr>\n    <tr>\n      <th>55</th>\n      <td>1000.0</td>\n    </tr>\n    <tr>\n      <th>32</th>\n      <td>265.0</td>\n    </tr>\n    <tr>\n      <th>1</th>\n      <td>32.0</td>\n    </tr>\n    <tr>\n      <th>37</th>\n      <td>514.0</td>\n    </tr>\n    <tr>\n      <th>54</th>\n      <td>1000.0</td>\n    </tr>\n    <tr>\n      <th>2</th>\n      <td>40.0</td>\n    </tr>\n    <tr>\n      <th>35</th>\n      <td>300.0</td>\n    </tr>\n    <tr>\n      <th>39</th>\n      <td>840.0</td>\n    </tr>\n    <tr>\n      <th>36</th>\n      <td>320.0</td>\n    </tr>\n    <tr>\n      <th>0</th>\n      <td>5.9</td>\n    </tr>\n    <tr>\n      <th>11</th>\n      <td>115.0</td>\n    </tr>\n    <tr>\n      <th>3</th>\n      <td>51.5</td>\n    </tr>\n    <tr>\n      <th>34</th>\n      <td>250.0</td>\n    </tr>\n    <tr>\n      <th>52</th>\n      <td>1000.0</td>\n    </tr>\n    <tr>\n      <th>9</th>\n      <td>85.0</td>\n    </tr>\n    <tr>\n      <th>16</th>\n      <td>130.0</td>\n    </tr>\n    <tr>\n      <th>5</th>\n      <td>100.0</td>\n    </tr>\n    <tr>\n      <th>28</th>\n      <td>197.0</td>\n    </tr>\n    <tr>\n      <th>46</th>\n      <td>820.0</td>\n    </tr>\n    <tr>\n      <th>45</th>\n      <td>650.0</td>\n    </tr>\n    <tr>\n      <th>43</th>\n      <td>690.0</td>\n    </tr>\n    <tr>\n      <th>30</th>\n      <td>300.0</td>\n    </tr>\n    <tr>\n      <th>26</th>\n      <td>188.0</td>\n    </tr>\n    <tr>\n      <th>41</th>\n      <td>700.0</td>\n    </tr>\n    <tr>\n      <th>23</th>\n      <td>170.0</td>\n    </tr>\n    <tr>\n      <th>49</th>\n      <td>1015.0</td>\n    </tr>\n    <tr>\n      <th>15</th>\n      <td>120.0</td>\n    </tr>\n    <tr>\n      <th>24</th>\n      <td>225.0</td>\n    </tr>\n    <tr>\n      <th>12</th>\n      <td>125.0</td>\n    </tr>\n    <tr>\n      <th>38</th>\n      <td>556.0</td>\n    </tr>\n    <tr>\n      <th>19</th>\n      <td>130.0</td>\n    </tr>\n    <tr>\n      <th>47</th>\n      <td>850.0</td>\n    </tr>\n  </tbody>\n</table>\n</div>"
     },
     "execution_count": 402,
     "metadata": {},
     "output_type": "execute_result"
    }
   ],
   "source": [
    "X_train\n"
   ],
   "metadata": {
    "collapsed": false,
    "ExecuteTime": {
     "end_time": "2024-02-27T06:59:17.651253Z",
     "start_time": "2024-02-27T06:59:17.590375Z"
    }
   },
   "id": "74131167b98e022",
   "execution_count": 402
  },
  {
   "cell_type": "code",
   "outputs": [
    {
     "data": {
      "text/plain": "pandas.core.frame.DataFrame"
     },
     "execution_count": 403,
     "metadata": {},
     "output_type": "execute_result"
    }
   ],
   "source": [
    "type(X_test)"
   ],
   "metadata": {
    "collapsed": false,
    "ExecuteTime": {
     "end_time": "2024-02-27T06:59:17.684055Z",
     "start_time": "2024-02-27T06:59:17.628624Z"
    }
   },
   "id": "5a56c588a016477e",
   "execution_count": 403
  },
  {
   "cell_type": "code",
   "outputs": [
    {
     "data": {
      "text/plain": "48    40.0\n10    21.0\n7     19.0\n51    42.0\n14    22.0\n17    22.0\n25    24.0\n55    44.0\n32    27.5\n1     13.7\n37    32.8\n54    43.5\n2     15.0\n35    28.7\n39    35.0\n36    30.0\n0      8.4\n11    21.0\n3     16.2\n34    28.0\n52    43.0\n9     20.0\n16    22.0\n5     18.0\n28    25.6\n46    39.0\n45    39.0\n43    37.0\n30    27.3\n26    24.6\n41    36.0\n23    23.5\n49    40.0\n15    22.0\n24    24.0\n12    21.0\n38    34.5\n19    22.5\n47    40.0\nName: Length, dtype: float64"
     },
     "execution_count": 404,
     "metadata": {},
     "output_type": "execute_result"
    }
   ],
   "source": [
    "y_train"
   ],
   "metadata": {
    "collapsed": false,
    "ExecuteTime": {
     "end_time": "2024-02-27T06:59:17.732986Z",
     "start_time": "2024-02-27T06:59:17.687294Z"
    }
   },
   "id": "4dd587504dd06496",
   "execution_count": 404
  },
  {
   "cell_type": "code",
   "outputs": [
    {
     "data": {
      "text/plain": "array([25.9, 39.6, 19.8, 22.8, 18.8, 38. , 42.5, 21.9, 20.8, 27.1, 37.1,\n       27.1, 17.6, 22.8, 37.2, 23.9, 22.3])"
     },
     "execution_count": 405,
     "metadata": {},
     "output_type": "execute_result"
    }
   ],
   "source": [
    "y_pre = model.predict(X_test)\n",
    "y_pre = np.round(y_pre,1)\n",
    "y_pre"
   ],
   "metadata": {
    "collapsed": false,
    "ExecuteTime": {
     "end_time": "2024-02-27T06:59:17.775494Z",
     "start_time": "2024-02-27T06:59:17.722471Z"
    }
   },
   "id": "1627852584b429d3",
   "execution_count": 405
  },
  {
   "cell_type": "code",
   "outputs": [
    {
     "data": {
      "text/plain": "0.9916384264034183"
     },
     "execution_count": 406,
     "metadata": {},
     "output_type": "execute_result"
    }
   ],
   "source": [
    "from sklearn.metrics import mean_squared_error, mean_absolute_error, r2_score\n",
    "\n",
    "# r2_score(.Length, y_pre)\n",
    "r2ret = r2_score(y_test, y_pre)"
   ],
   "metadata": {
    "collapsed": false,
    "ExecuteTime": {
     "end_time": "2024-02-27T06:59:17.835011Z",
     "start_time": "2024-02-27T06:59:17.772785Z"
    }
   },
   "id": "d2ca2cac4ab09ffc",
   "execution_count": 406
  },
  {
   "cell_type": "code",
   "outputs": [
    {
     "data": {
      "text/plain": "0.5341176470588237"
     },
     "execution_count": 407,
     "metadata": {},
     "output_type": "execute_result"
    }
   ],
   "source": [
    "mse = mean_squared_error(y_test, y_pre)\n"
   ],
   "metadata": {
    "collapsed": false,
    "ExecuteTime": {
     "end_time": "2024-02-27T06:59:17.864069Z",
     "start_time": "2024-02-27T06:59:17.837245Z"
    }
   },
   "id": "96f7eb775216ec1c",
   "execution_count": 407
  },
  {
   "cell_type": "code",
   "outputs": [
    {
     "data": {
      "text/plain": "0.7308335289645814"
     },
     "execution_count": 408,
     "metadata": {},
     "output_type": "execute_result"
    }
   ],
   "source": [
    "rmse = mean_squared_error(y_test, y_pre, squared=False)\n"
   ],
   "metadata": {
    "collapsed": false,
    "ExecuteTime": {
     "end_time": "2024-02-27T06:59:17.904460Z",
     "start_time": "2024-02-27T06:59:17.866440Z"
    }
   },
   "id": "d43262d5a979bbbb",
   "execution_count": 408
  },
  {
   "cell_type": "code",
   "outputs": [
    {
     "data": {
      "text/plain": "0.5647058823529415"
     },
     "execution_count": 409,
     "metadata": {},
     "output_type": "execute_result"
    }
   ],
   "source": [
    "mae = mean_absolute_error(y_test, y_pre)\n"
   ],
   "metadata": {
    "collapsed": false,
    "ExecuteTime": {
     "end_time": "2024-02-27T06:59:17.937527Z",
     "start_time": "2024-02-27T06:59:17.904502Z"
    }
   },
   "id": "66bb811ff972f3bf",
   "execution_count": 409
  },
  {
   "cell_type": "code",
   "outputs": [],
   "source": [],
   "metadata": {
    "collapsed": false,
    "ExecuteTime": {
     "end_time": "2024-02-27T06:59:17.968385Z",
     "start_time": "2024-02-27T06:59:17.937554Z"
    }
   },
   "id": "9768ff9e1526b34e",
   "execution_count": 409
  },
  {
   "cell_type": "code",
   "outputs": [
    {
     "data": {
      "text/plain": "1100.0"
     },
     "execution_count": 410,
     "metadata": {},
     "output_type": "execute_result"
    }
   ],
   "source": [
    "perchDF['Weight'].max()"
   ],
   "metadata": {
    "collapsed": false,
    "ExecuteTime": {
     "end_time": "2024-02-27T06:59:17.991776Z",
     "start_time": "2024-02-27T06:59:17.969369Z"
    }
   },
   "id": "d6115bbc258cb157",
   "execution_count": 410
  },
  {
   "cell_type": "code",
   "outputs": [],
   "source": [],
   "metadata": {
    "collapsed": false,
    "ExecuteTime": {
     "end_time": "2024-02-27T06:59:18.018189Z",
     "start_time": "2024-02-27T06:59:17.992240Z"
    }
   },
   "id": "200728af5abc38b3",
   "execution_count": 410
  },
  {
   "cell_type": "code",
   "outputs": [
    {
     "name": "stdout",
     "output_type": "stream",
     "text": [
      "k=7\n",
      "random_state : 176\n",
      "훈련 점수 : 1.0, 테스트 점수 : 1.0\n",
      "R2:0.99, MSE:0.34cm, RMSE:0.58cm, MAE:0.42cm\n",
      "k=7\n",
      "random_state : 462\n",
      "훈련 점수 : 1.0, 테스트 점수 : 1.0\n",
      "R2:0.99, MSE:0.40cm, RMSE:0.63cm, MAE:0.45cm\n",
      "k=5\n",
      "random_state : 5046\n",
      "훈련 점수 : 1.0, 테스트 점수 : 1.0\n",
      "R2:0.99, MSE:0.37cm, RMSE:0.61cm, MAE:0.51cm\n",
      "k=10\n",
      "random_state : 6001\n",
      "훈련 점수 : 0.9, 테스트 점수 : 1.0\n",
      "R2:0.99, MSE:0.37cm, RMSE:0.61cm, MAE:0.46cm\n",
      "k=9\n",
      "random_state : 8422\n",
      "훈련 점수 : 0.9, 테스트 점수 : 1.0\n",
      "R2:0.99, MSE:0.35cm, RMSE:0.59cm, MAE:0.51cm\n",
      "k=7\n",
      "random_state : 8718\n",
      "훈련 점수 : 1.0, 테스트 점수 : 1.0\n",
      "R2:0.99, MSE:0.35cm, RMSE:0.59cm, MAE:0.48cm\n",
      "k=2\n",
      "random_state : 9880\n",
      "훈련 점수 : 1.0, 테스트 점수 : 1.0\n",
      "R2:0.99, MSE:0.38cm, RMSE:0.62cm, MAE:0.44cm\n"
     ]
    }
   ],
   "source": [
    "for i in range(10000):\n",
    "    X_train, X_test, y_train, y_test = train_test_split(featureDF,\n",
    "                                                        targetDF,\n",
    "                                                        test_size=0.3,\n",
    "                                                        random_state=i)\n",
    "    for k in range(1,40):\n",
    "        model = KNeighborsRegressor(n_neighbors=k)\n",
    "        model.fit(pd.DataFrame(X_train), y_train)\n",
    "        y_pre = model.predict(X_test)\n",
    "        y_pre = np.round(y_pre,1)\n",
    "        r2ret = r2_score(y_test, y_pre)\n",
    "        mse = mean_squared_error(y_test, y_pre)\n",
    "        rmse = mean_squared_error(y_test, y_pre, squared=False)\n",
    "        mae = mean_absolute_error(y_test, y_pre)\n",
    "        # if r2ret<1:\n",
    "        if mse+rmse+mae <1.5:\n",
    "            print(f'k={k}')\n",
    "            print(f'random_state : {i}')\n",
    "            print(f'훈련 점수 : {model.score(pd.DataFrame(X_train), y_train):.1f}, 테스트 점수 : {model.score(pd.DataFrame(X_test), y_test):.1f}')\n",
    "            print(f'R2:{r2ret:.2f}, MSE:{mse:.2f}cm, RMSE:{rmse:.2f}cm, MAE:{mae:.2f}cm')"
   ],
   "metadata": {
    "collapsed": false,
    "ExecuteTime": {
     "end_time": "2024-02-27T07:51:04.308418Z",
     "start_time": "2024-02-27T07:39:16.486472Z"
    }
   },
   "id": "145d378040e22ae2",
   "execution_count": 459
  },
  {
   "cell_type": "markdown",
   "source": [
    "#### (6) 테스트 <hr>\n",
    "- 제대로 만들어진 모델인지 확인하는 과정\n",
    "    - 훈련용 데이터에 대한 점수\n",
    "    - 테스트용 데이터에 대한 점수\n",
    "    - 훈련점수와 테스트점수 비교\n",
    "        - 훈련점수 > 테스트점수 : 과대적합(Overfiting)\n",
    "        - 훈련점수 ≒ 테스트점수 : 최적적합\n",
    "        - 훈련점수▼,  테스트점수▼ : 과소적합(Underfiting)"
   ],
   "metadata": {
    "collapsed": false
   },
   "id": "8a035e11eb1a4408"
  },
  {
   "cell_type": "markdown",
   "source": [
    "#### (7) 성능평가"
   ],
   "metadata": {
    "collapsed": false
   },
   "id": "9c71f3256ec185cb"
  },
  {
   "cell_type": "code",
   "outputs": [],
   "source": [
    "from sklearn.metrics import r2_score"
   ],
   "metadata": {
    "collapsed": false,
    "ExecuteTime": {
     "end_time": "2024-02-27T06:59:18.113036Z",
     "start_time": "2024-02-27T06:59:18.095659Z"
    }
   },
   "id": "1e4d909cc9b0b979",
   "execution_count": 410
  },
  {
   "cell_type": "code",
   "outputs": [],
   "source": [],
   "metadata": {
    "collapsed": false,
    "ExecuteTime": {
     "end_time": "2024-02-27T06:59:18.123379Z",
     "start_time": "2024-02-27T06:59:18.113857Z"
    }
   },
   "id": "c58ac7cce8677c99",
   "execution_count": 410
  },
  {
   "cell_type": "code",
   "outputs": [],
   "source": [],
   "metadata": {
    "collapsed": false,
    "ExecuteTime": {
     "end_time": "2024-02-27T06:59:18.137991Z",
     "start_time": "2024-02-27T06:59:18.124001Z"
    }
   },
   "id": "7a7e2301301bd5cf",
   "execution_count": 410
  },
  {
   "cell_type": "code",
   "outputs": [],
   "source": [],
   "metadata": {
    "collapsed": false,
    "ExecuteTime": {
     "end_time": "2024-02-27T06:59:18.153234Z",
     "start_time": "2024-02-27T06:59:18.138637Z"
    }
   },
   "id": "52ed1d915ac6922a",
   "execution_count": 410
  },
  {
   "cell_type": "code",
   "outputs": [],
   "source": [],
   "metadata": {
    "collapsed": false,
    "ExecuteTime": {
     "end_time": "2024-02-27T06:59:18.170857Z",
     "start_time": "2024-02-27T06:59:18.153713Z"
    }
   },
   "id": "f01958993317486c",
   "execution_count": 410
  },
  {
   "cell_type": "code",
   "outputs": [],
   "source": [],
   "metadata": {
    "collapsed": false,
    "ExecuteTime": {
     "end_time": "2024-02-27T06:59:18.200535Z",
     "start_time": "2024-02-27T06:59:18.171452Z"
    }
   },
   "id": "982463a79910b14",
   "execution_count": 410
  },
  {
   "cell_type": "code",
   "outputs": [],
   "source": [],
   "metadata": {
    "collapsed": false,
    "ExecuteTime": {
     "end_time": "2024-02-27T06:59:18.221586Z",
     "start_time": "2024-02-27T06:59:18.201109Z"
    }
   },
   "id": "cdd12d3aa64e2639",
   "execution_count": 410
  },
  {
   "cell_type": "code",
   "outputs": [],
   "source": [],
   "metadata": {
    "collapsed": false,
    "ExecuteTime": {
     "end_time": "2024-02-27T06:59:18.271157Z",
     "start_time": "2024-02-27T06:59:18.221916Z"
    }
   },
   "id": "3e5529c195f8b6b0",
   "execution_count": 410
  },
  {
   "cell_type": "code",
   "outputs": [],
   "source": [],
   "metadata": {
    "collapsed": false,
    "ExecuteTime": {
     "end_time": "2024-02-27T06:59:18.322021Z",
     "start_time": "2024-02-27T06:59:18.267507Z"
    }
   },
   "id": "f339211ed59097c5",
   "execution_count": 410
  },
  {
   "cell_type": "code",
   "outputs": [],
   "source": [],
   "metadata": {
    "collapsed": false,
    "ExecuteTime": {
     "end_time": "2024-02-27T06:59:18.356021Z",
     "start_time": "2024-02-27T06:59:18.324201Z"
    }
   },
   "id": "b0336a6d1b97ff67",
   "execution_count": 410
  },
  {
   "cell_type": "code",
   "outputs": [],
   "source": [],
   "metadata": {
    "collapsed": false,
    "ExecuteTime": {
     "end_time": "2024-02-27T06:59:18.418595Z",
     "start_time": "2024-02-27T06:59:18.356245Z"
    }
   },
   "id": "1edb21a58be9c7e8",
   "execution_count": 410
  }
 ],
 "metadata": {
  "kernelspec": {
   "display_name": "Python 3",
   "language": "python",
   "name": "python3"
  },
  "language_info": {
   "codemirror_mode": {
    "name": "ipython",
    "version": 2
   },
   "file_extension": ".py",
   "mimetype": "text/x-python",
   "name": "python",
   "nbconvert_exporter": "python",
   "pygments_lexer": "ipython2",
   "version": "2.7.6"
  }
 },
 "nbformat": 4,
 "nbformat_minor": 5
}
