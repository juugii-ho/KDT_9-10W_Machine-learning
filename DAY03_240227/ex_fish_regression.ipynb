{
 "cells": [
  {
   "cell_type": "markdown",
   "source": [
    "### 목표 : 무게에 따른 길이를 예측해주는 모델\n",
    "- 데이터 : fish.csv\n",
    "- 피쳐/특성 : 무게\n",
    "- 라벨/타겟 : 길이"
   ],
   "metadata": {
    "collapsed": false
   },
   "id": "d9b8ccd1d23cc9ed"
  },
  {
   "cell_type": "markdown",
   "source": [
    "#### (1) 모듈 로딩 및 데이터 준비 <hr>"
   ],
   "metadata": {
    "collapsed": false
   },
   "id": "63a2621d3b654508"
  },
  {
   "cell_type": "code",
   "outputs": [],
   "source": [
    "import pandas as pd\n",
    "import matplotlib.pyplot as plt\n",
    "import seaborn as sns\n",
    "from sklearn.preprocessing import StandardScaler, MinMaxScaler\n",
    "from sklearn.linear_model import LinearRegression\n",
    "import numpy as np"
   ],
   "metadata": {
    "collapsed": false,
    "ExecuteTime": {
     "end_time": "2024-02-27T02:05:50.112648Z",
     "start_time": "2024-02-27T02:05:50.106846Z"
    }
   },
   "id": "187a7724ce6b2c61",
   "execution_count": 91
  },
  {
   "cell_type": "code",
   "outputs": [],
   "source": [
    "data_file = '../data/fish.csv'"
   ],
   "metadata": {
    "collapsed": false,
    "ExecuteTime": {
     "end_time": "2024-02-27T02:05:50.151590Z",
     "start_time": "2024-02-27T02:05:50.115045Z"
    }
   },
   "id": "c1e95db612debf2d",
   "execution_count": 92
  },
  {
   "cell_type": "code",
   "outputs": [
    {
     "data": {
      "text/plain": "    Species  Weight  Length\n0     Bream   242.0    25.4\n1     Bream   290.0    26.3\n2     Bream   340.0    26.5\n3     Bream   363.0    29.0\n4     Bream   430.0    29.0\n..      ...     ...     ...\n154   Smelt    12.2    12.2\n155   Smelt    13.4    12.4\n156   Smelt    12.2    13.0\n157   Smelt    19.7    14.3\n158   Smelt    19.9    15.0\n\n[159 rows x 3 columns]",
      "text/html": "<div>\n<style scoped>\n    .dataframe tbody tr th:only-of-type {\n        vertical-align: middle;\n    }\n\n    .dataframe tbody tr th {\n        vertical-align: top;\n    }\n\n    .dataframe thead th {\n        text-align: right;\n    }\n</style>\n<table border=\"1\" class=\"dataframe\">\n  <thead>\n    <tr style=\"text-align: right;\">\n      <th></th>\n      <th>Species</th>\n      <th>Weight</th>\n      <th>Length</th>\n    </tr>\n  </thead>\n  <tbody>\n    <tr>\n      <th>0</th>\n      <td>Bream</td>\n      <td>242.0</td>\n      <td>25.4</td>\n    </tr>\n    <tr>\n      <th>1</th>\n      <td>Bream</td>\n      <td>290.0</td>\n      <td>26.3</td>\n    </tr>\n    <tr>\n      <th>2</th>\n      <td>Bream</td>\n      <td>340.0</td>\n      <td>26.5</td>\n    </tr>\n    <tr>\n      <th>3</th>\n      <td>Bream</td>\n      <td>363.0</td>\n      <td>29.0</td>\n    </tr>\n    <tr>\n      <th>4</th>\n      <td>Bream</td>\n      <td>430.0</td>\n      <td>29.0</td>\n    </tr>\n    <tr>\n      <th>...</th>\n      <td>...</td>\n      <td>...</td>\n      <td>...</td>\n    </tr>\n    <tr>\n      <th>154</th>\n      <td>Smelt</td>\n      <td>12.2</td>\n      <td>12.2</td>\n    </tr>\n    <tr>\n      <th>155</th>\n      <td>Smelt</td>\n      <td>13.4</td>\n      <td>12.4</td>\n    </tr>\n    <tr>\n      <th>156</th>\n      <td>Smelt</td>\n      <td>12.2</td>\n      <td>13.0</td>\n    </tr>\n    <tr>\n      <th>157</th>\n      <td>Smelt</td>\n      <td>19.7</td>\n      <td>14.3</td>\n    </tr>\n    <tr>\n      <th>158</th>\n      <td>Smelt</td>\n      <td>19.9</td>\n      <td>15.0</td>\n    </tr>\n  </tbody>\n</table>\n<p>159 rows × 3 columns</p>\n</div>"
     },
     "execution_count": 93,
     "metadata": {},
     "output_type": "execute_result"
    }
   ],
   "source": [
    "fishDF = pd.read_csv(data_file, usecols=[0,1,2])\n",
    "fishDF"
   ],
   "metadata": {
    "collapsed": false,
    "ExecuteTime": {
     "end_time": "2024-02-27T02:05:50.152207Z",
     "start_time": "2024-02-27T02:05:50.118706Z"
    }
   },
   "id": "b938ee739cfee8af",
   "execution_count": 93
  },
  {
   "cell_type": "code",
   "outputs": [],
   "source": [
    "# 학습에 사용할 데이터 추출 => Perch 행만 추출\n",
    "perchDF = fishDF[fishDF['Species']=='Perch']\n",
    "perchDF = perchDF.reset_index(drop=True)"
   ],
   "metadata": {
    "collapsed": false,
    "ExecuteTime": {
     "end_time": "2024-02-27T02:05:50.173228Z",
     "start_time": "2024-02-27T02:05:50.154684Z"
    }
   },
   "id": "500c385473ef573a",
   "execution_count": 94
  },
  {
   "cell_type": "code",
   "outputs": [
    {
     "name": "stdout",
     "output_type": "stream",
     "text": [
      "<class 'pandas.core.frame.DataFrame'>\n",
      "RangeIndex: 56 entries, 0 to 55\n",
      "Data columns (total 3 columns):\n",
      " #   Column   Non-Null Count  Dtype  \n",
      "---  ------   --------------  -----  \n",
      " 0   Species  56 non-null     object \n",
      " 1   Weight   56 non-null     float64\n",
      " 2   Length   56 non-null     float64\n",
      "dtypes: float64(2), object(1)\n",
      "memory usage: 1.4+ KB\n"
     ]
    },
    {
     "data": {
      "text/plain": "(None,\n   Species  Weight  Length\n 0   Perch     5.9     8.4\n 1   Perch    32.0    13.7\n 2   Perch    40.0    15.0\n 3   Perch    51.5    16.2\n 4   Perch    70.0    17.4)"
     },
     "execution_count": 95,
     "metadata": {},
     "output_type": "execute_result"
    }
   ],
   "source": [
    "# 추출된 데이터 기본 정보 확인\n",
    "perchDF.info(), perchDF.head(5)"
   ],
   "metadata": {
    "collapsed": false,
    "ExecuteTime": {
     "end_time": "2024-02-27T02:05:50.190733Z",
     "start_time": "2024-02-27T02:05:50.168412Z"
    }
   },
   "id": "a0c4ff1c13613420",
   "execution_count": 95
  },
  {
   "cell_type": "code",
   "outputs": [
    {
     "data": {
      "text/plain": "            Weight     Length\ncount    56.000000  56.000000\nmean    382.239286  27.892857\nstd     347.617717   9.021668\nmin       5.900000   8.400000\n25%     120.000000  21.825000\n50%     207.500000  25.300000\n75%     692.500000  36.625000\nmax    1100.000000  44.000000",
      "text/html": "<div>\n<style scoped>\n    .dataframe tbody tr th:only-of-type {\n        vertical-align: middle;\n    }\n\n    .dataframe tbody tr th {\n        vertical-align: top;\n    }\n\n    .dataframe thead th {\n        text-align: right;\n    }\n</style>\n<table border=\"1\" class=\"dataframe\">\n  <thead>\n    <tr style=\"text-align: right;\">\n      <th></th>\n      <th>Weight</th>\n      <th>Length</th>\n    </tr>\n  </thead>\n  <tbody>\n    <tr>\n      <th>count</th>\n      <td>56.000000</td>\n      <td>56.000000</td>\n    </tr>\n    <tr>\n      <th>mean</th>\n      <td>382.239286</td>\n      <td>27.892857</td>\n    </tr>\n    <tr>\n      <th>std</th>\n      <td>347.617717</td>\n      <td>9.021668</td>\n    </tr>\n    <tr>\n      <th>min</th>\n      <td>5.900000</td>\n      <td>8.400000</td>\n    </tr>\n    <tr>\n      <th>25%</th>\n      <td>120.000000</td>\n      <td>21.825000</td>\n    </tr>\n    <tr>\n      <th>50%</th>\n      <td>207.500000</td>\n      <td>25.300000</td>\n    </tr>\n    <tr>\n      <th>75%</th>\n      <td>692.500000</td>\n      <td>36.625000</td>\n    </tr>\n    <tr>\n      <th>max</th>\n      <td>1100.000000</td>\n      <td>44.000000</td>\n    </tr>\n  </tbody>\n</table>\n</div>"
     },
     "execution_count": 96,
     "metadata": {},
     "output_type": "execute_result"
    }
   ],
   "source": [
    "# 수치 컬럼의 데이터 정보 확인\n",
    "perchDF.describe()"
   ],
   "metadata": {
    "collapsed": false,
    "ExecuteTime": {
     "end_time": "2024-02-27T02:05:50.212796Z",
     "start_time": "2024-02-27T02:05:50.177343Z"
    }
   },
   "id": "d1db9d3549785815",
   "execution_count": 96
  },
  {
   "cell_type": "markdown",
   "source": [
    "#### (3) 데이터 전처리 <hr>\n",
    "- 결측치, 이상치, 중복값 처리\n",
    "- 데이터 분포, 컬럼 분포, 최빈값 고유값\n",
    "- 산점도, 히스토그램"
   ],
   "metadata": {
    "collapsed": false
   },
   "id": "a17e8d5cb7ff3db7"
  },
  {
   "cell_type": "markdown",
   "source": [
    "####  (3-1) 데이터 분포"
   ],
   "metadata": {
    "collapsed": false
   },
   "id": "e0e012c0b8777478"
  },
  {
   "cell_type": "code",
   "outputs": [
    {
     "data": {
      "text/plain": "<Figure size 640x480 with 1 Axes>",
      "image/png": "[encoded data removed]"
     },
     "metadata": {},
     "output_type": "display_data"
    }
   ],
   "source": [
    "# 무게와 길이에 대한 시각화\n",
    "\n",
    "plt.plot(perchDF.Weight, perchDF.Length, 'go-')\n",
    "plt.xlabel('Weight')\n",
    "plt.ylabel('Length')\n",
    "plt.show()"
   ],
   "metadata": {
    "collapsed": false,
    "ExecuteTime": {
     "end_time": "2024-02-27T02:05:50.268765Z",
     "start_time": "2024-02-27T02:05:50.204379Z"
    }
   },
   "id": "e0780549aa6c0e62",
   "execution_count": 97
  },
  {
   "cell_type": "code",
   "outputs": [
    {
     "data": {
      "text/plain": "          Weight    Length\nWeight  1.000000  0.958656\nLength  0.958656  1.000000",
      "text/html": "<div>\n<style scoped>\n    .dataframe tbody tr th:only-of-type {\n        vertical-align: middle;\n    }\n\n    .dataframe tbody tr th {\n        vertical-align: top;\n    }\n\n    .dataframe thead th {\n        text-align: right;\n    }\n</style>\n<table border=\"1\" class=\"dataframe\">\n  <thead>\n    <tr style=\"text-align: right;\">\n      <th></th>\n      <th>Weight</th>\n      <th>Length</th>\n    </tr>\n  </thead>\n  <tbody>\n    <tr>\n      <th>Weight</th>\n      <td>1.000000</td>\n      <td>0.958656</td>\n    </tr>\n    <tr>\n      <th>Length</th>\n      <td>0.958656</td>\n      <td>1.000000</td>\n    </tr>\n  </tbody>\n</table>\n</div>"
     },
     "execution_count": 98,
     "metadata": {},
     "output_type": "execute_result"
    }
   ],
   "source": [
    "# 무게와 길이에 대한 상관계수\n",
    "perchDF.corr(numeric_only=True)"
   ],
   "metadata": {
    "collapsed": false,
    "ExecuteTime": {
     "end_time": "2024-02-27T02:05:50.269566Z",
     "start_time": "2024-02-27T02:05:50.255626Z"
    }
   },
   "id": "7deeeb488ccfd5bf",
   "execution_count": 98
  },
  {
   "cell_type": "code",
   "outputs": [
    {
     "data": {
      "text/plain": "  Species  Weight  Length\n0   Perch     5.9     8.4\n1   Perch    32.0    13.7\n2   Perch    40.0    15.0",
      "text/html": "<div>\n<style scoped>\n    .dataframe tbody tr th:only-of-type {\n        vertical-align: middle;\n    }\n\n    .dataframe tbody tr th {\n        vertical-align: top;\n    }\n\n    .dataframe thead th {\n        text-align: right;\n    }\n</style>\n<table border=\"1\" class=\"dataframe\">\n  <thead>\n    <tr style=\"text-align: right;\">\n      <th></th>\n      <th>Species</th>\n      <th>Weight</th>\n      <th>Length</th>\n    </tr>\n  </thead>\n  <tbody>\n    <tr>\n      <th>0</th>\n      <td>Perch</td>\n      <td>5.9</td>\n      <td>8.4</td>\n    </tr>\n    <tr>\n      <th>1</th>\n      <td>Perch</td>\n      <td>32.0</td>\n      <td>13.7</td>\n    </tr>\n    <tr>\n      <th>2</th>\n      <td>Perch</td>\n      <td>40.0</td>\n      <td>15.0</td>\n    </tr>\n  </tbody>\n</table>\n</div>"
     },
     "execution_count": 99,
     "metadata": {},
     "output_type": "execute_result"
    }
   ],
   "source": [
    "## [분석 결과] 무게에 따른 길이는 비례관계\n",
    "# 무게 + 연산 ===> 길이\n",
    "perchDF.iloc[:3]"
   ],
   "metadata": {
    "collapsed": false,
    "ExecuteTime": {
     "end_time": "2024-02-27T02:05:50.288893Z",
     "start_time": "2024-02-27T02:05:50.260449Z"
    }
   },
   "id": "b7eebcbd6449fb30",
   "execution_count": 99
  },
  {
   "cell_type": "code",
   "outputs": [
    {
     "data": {
      "text/plain": "0    -4272.68\n1    -4267.38\n2    -4266.08\n3    -4264.88\n4    -4263.68\n5    -4263.08\n6    -4262.38\n7    -4262.08\n8    -4261.48\n9    -4261.08\n10   -4260.08\n11   -4260.08\n12   -4260.08\n13   -4259.78\n14   -4259.08\n15   -4259.08\n16   -4259.08\n17   -4259.08\n18   -4259.08\n19   -4258.58\n20   -4258.58\n21   -4258.38\n22   -4258.08\n23   -4257.58\n24   -4257.08\n25   -4257.08\n26   -4256.48\n27   -4256.08\n28   -4255.48\n29   -4254.58\n30   -4253.78\n31   -4253.58\n32   -4253.58\n33   -4253.58\n34   -4253.08\n35   -4252.38\n36   -4251.08\n37   -4248.28\n38   -4246.58\n39   -4246.08\n40   -4244.58\n41   -4245.08\n42   -4244.08\n43   -4244.08\n44   -4242.08\n45   -4242.08\n46   -4242.08\n47   -4241.08\n48   -4241.08\n49   -4241.08\n50   -4241.08\n51   -4239.08\n52   -4238.08\n53   -4238.08\n54   -4237.58\n55   -4237.08\nName: Length, dtype: float64"
     },
     "execution_count": 105,
     "metadata": {},
     "output_type": "execute_result"
    }
   ],
   "source": [
    "model = perchDF.Weight/5\n",
    "perchDF['Length']-model.abs().sum() "
   ],
   "metadata": {
    "collapsed": false,
    "ExecuteTime": {
     "end_time": "2024-02-27T02:09:41.785492Z",
     "start_time": "2024-02-27T02:09:41.780368Z"
    }
   },
   "id": "5b03c11784b9348",
   "execution_count": 105
  },
  {
   "cell_type": "code",
   "outputs": [],
   "source": [],
   "metadata": {
    "collapsed": false,
    "ExecuteTime": {
     "end_time": "2024-02-27T02:11:31.056293Z",
     "start_time": "2024-02-27T02:11:31.053757Z"
    }
   },
   "id": "440c16b62e06a50a",
   "execution_count": 105
  },
  {
   "cell_type": "code",
   "outputs": [
    {
     "data": {
      "text/plain": "0    1.18\n1    6.40\n2    8.00\nName: Weight, dtype: float64"
     },
     "execution_count": 106,
     "metadata": {},
     "output_type": "execute_result"
    }
   ],
   "source": [
    "model[:3]"
   ],
   "metadata": {
    "collapsed": false,
    "ExecuteTime": {
     "end_time": "2024-02-27T02:11:31.629666Z",
     "start_time": "2024-02-27T02:11:31.627059Z"
    }
   },
   "id": "479a814d9b80e644",
   "execution_count": 106
  },
  {
   "cell_type": "code",
   "outputs": [
    {
     "data": {
      "text/plain": "0    -4272.68\n1    -4267.38\n2    -4266.08\n3    -4264.88\n4    -4263.68\n5    -4263.08\n6    -4262.38\n7    -4262.08\n8    -4261.48\n9    -4261.08\n10   -4260.08\n11   -4260.08\n12   -4260.08\n13   -4259.78\n14   -4259.08\n15   -4259.08\n16   -4259.08\n17   -4259.08\n18   -4259.08\n19   -4258.58\n20   -4258.58\n21   -4258.38\n22   -4258.08\n23   -4257.58\n24   -4257.08\n25   -4257.08\n26   -4256.48\n27   -4256.08\n28   -4255.48\n29   -4254.58\n30   -4253.78\n31   -4253.58\n32   -4253.58\n33   -4253.58\n34   -4253.08\n35   -4252.38\n36   -4251.08\n37   -4248.28\n38   -4246.58\n39   -4246.08\n40   -4244.58\n41   -4245.08\n42   -4244.08\n43   -4244.08\n44   -4242.08\n45   -4242.08\n46   -4242.08\n47   -4241.08\n48   -4241.08\n49   -4241.08\n50   -4241.08\n51   -4239.08\n52   -4238.08\n53   -4238.08\n54   -4237.58\n55   -4237.08\nName: Length, dtype: float64"
     },
     "execution_count": 107,
     "metadata": {},
     "output_type": "execute_result"
    }
   ],
   "source": [
    "perchDF['Length']-model.abs().sum()\n",
    "# or (model-perchDF['Length']).sum()\n"
   ],
   "metadata": {
    "collapsed": false,
    "ExecuteTime": {
     "end_time": "2024-02-27T02:11:31.935194Z",
     "start_time": "2024-02-27T02:11:31.929828Z"
    }
   },
   "id": "e451944c90fa2fd8",
   "execution_count": 107
  },
  {
   "cell_type": "markdown",
   "source": [
    "#### (4) 학습 진행 <hr>\n",
    "- 학습 방법 : 지도학습 + 회귀(예측) => 선형회귀 LinearRegression"
   ],
   "metadata": {
    "collapsed": false
   },
   "id": "20b10e2c81994931"
  },
  {
   "cell_type": "code",
   "outputs": [],
   "source": [
    "# 모델 인스턴스 생성\n",
    "model = LinearRegression()"
   ],
   "metadata": {
    "collapsed": false,
    "ExecuteTime": {
     "end_time": "2024-02-27T02:12:43.769322Z",
     "start_time": "2024-02-27T02:12:43.762491Z"
    }
   },
   "id": "6e978dd30a27678c",
   "execution_count": 108
  },
  {
   "cell_type": "code",
   "outputs": [
    {
     "data": {
      "text/plain": "LinearRegression()",
      "text/html": "<style>#sk-container-id-1 {color: black;}#sk-container-id-1 pre{padding: 0;}#sk-container-id-1 div.sk-toggleable {background-color: white;}#sk-container-id-1 label.sk-toggleable__label {cursor: pointer;display: block;width: 100%;margin-bottom: 0;padding: 0.3em;box-sizing: border-box;text-align: center;}#sk-container-id-1 label.sk-toggleable__label-arrow:before {content: \"▸\";float: left;margin-right: 0.25em;color: #696969;}#sk-container-id-1 label.sk-toggleable__label-arrow:hover:before {color: black;}#sk-container-id-1 div.sk-estimator:hover label.sk-toggleable__label-arrow:before {color: black;}#sk-container-id-1 div.sk-toggleable__content {max-height: 0;max-width: 0;overflow: hidden;text-align: left;background-color: #f0f8ff;}#sk-container-id-1 div.sk-toggleable__content pre {margin: 0.2em;color: black;border-radius: 0.25em;background-color: #f0f8ff;}#sk-container-id-1 input.sk-toggleable__control:checked~div.sk-toggleable__content {max-height: 200px;max-width: 100%;overflow: auto;}#sk-container-id-1 input.sk-toggleable__control:checked~label.sk-toggleable__label-arrow:before {content: \"▾\";}#sk-container-id-1 div.sk-estimator input.sk-toggleable__control:checked~label.sk-toggleable__label {background-color: #d4ebff;}#sk-container-id-1 div.sk-label input.sk-toggleable__control:checked~label.sk-toggleable__label {background-color: #d4ebff;}#sk-container-id-1 input.sk-hidden--visually {border: 0;clip: rect(1px 1px 1px 1px);clip: rect(1px, 1px, 1px, 1px);height: 1px;margin: -1px;overflow: hidden;padding: 0;position: absolute;width: 1px;}#sk-container-id-1 div.sk-estimator {font-family: monospace;background-color: #f0f8ff;border: 1px dotted black;border-radius: 0.25em;box-sizing: border-box;margin-bottom: 0.5em;}#sk-container-id-1 div.sk-estimator:hover {background-color: #d4ebff;}#sk-container-id-1 div.sk-parallel-item::after {content: \"\";width: 100%;border-bottom: 1px solid gray;flex-grow: 1;}#sk-container-id-1 div.sk-label:hover label.sk-toggleable__label {background-color: #d4ebff;}#sk-container-id-1 div.sk-serial::before {content: \"\";position: absolute;border-left: 1px solid gray;box-sizing: border-box;top: 0;bottom: 0;left: 50%;z-index: 0;}#sk-container-id-1 div.sk-serial {display: flex;flex-direction: column;align-items: center;background-color: white;padding-right: 0.2em;padding-left: 0.2em;position: relative;}#sk-container-id-1 div.sk-item {position: relative;z-index: 1;}#sk-container-id-1 div.sk-parallel {display: flex;align-items: stretch;justify-content: center;background-color: white;position: relative;}#sk-container-id-1 div.sk-item::before, #sk-container-id-1 div.sk-parallel-item::before {content: \"\";position: absolute;border-left: 1px solid gray;box-sizing: border-box;top: 0;bottom: 0;left: 50%;z-index: -1;}#sk-container-id-1 div.sk-parallel-item {display: flex;flex-direction: column;z-index: 1;position: relative;background-color: white;}#sk-container-id-1 div.sk-parallel-item:first-child::after {align-self: flex-end;width: 50%;}#sk-container-id-1 div.sk-parallel-item:last-child::after {align-self: flex-start;width: 50%;}#sk-container-id-1 div.sk-parallel-item:only-child::after {width: 0;}#sk-container-id-1 div.sk-dashed-wrapped {border: 1px dashed gray;margin: 0 0.4em 0.5em 0.4em;box-sizing: border-box;padding-bottom: 0.4em;background-color: white;}#sk-container-id-1 div.sk-label label {font-family: monospace;font-weight: bold;display: inline-block;line-height: 1.2em;}#sk-container-id-1 div.sk-label-container {text-align: center;}#sk-container-id-1 div.sk-container {/* jupyter's `normalize.less` sets `[hidden] { display: none; }` but bootstrap.min.css set `[hidden] { display: none !important; }` so we also need the `!important` here to be able to override the default hidden behavior on the sphinx rendered scikit-learn.org. See: https://github.com/scikit-learn/scikit-learn/issues/21755 */display: inline-block !important;position: relative;}#sk-container-id-1 div.sk-text-repr-fallback {display: none;}</style><div id=\"sk-container-id-1\" class=\"sk-top-container\"><div class=\"sk-text-repr-fallback\"><pre>LinearRegression()</pre><b>In a Jupyter environment, please rerun this cell to show the HTML representation or trust the notebook. <br />On GitHub, the HTML representation is unable to render, please try loading this page with nbviewer.org.</b></div><div class=\"sk-container\" hidden><div class=\"sk-item\"><div class=\"sk-estimator sk-toggleable\"><input class=\"sk-toggleable__control sk-hidden--visually\" id=\"sk-estimator-id-1\" type=\"checkbox\" checked><label for=\"sk-estimator-id-1\" class=\"sk-toggleable__label sk-toggleable__label-arrow\">LinearRegression</label><div class=\"sk-toggleable__content\"><pre>LinearRegression()</pre></div></div></div></div></div>"
     },
     "execution_count": 110,
     "metadata": {},
     "output_type": "execute_result"
    }
   ],
   "source": [
    "# 학습\n",
    "model.fit(perchDF[['Weight']], perchDF['Length'])"
   ],
   "metadata": {
    "collapsed": false,
    "ExecuteTime": {
     "end_time": "2024-02-27T02:13:43.320887Z",
     "start_time": "2024-02-27T02:13:43.317068Z"
    }
   },
   "id": "e2e5b7d13f297e04",
   "execution_count": 110
  },
  {
   "cell_type": "code",
   "outputs": [
    {
     "name": "stdout",
     "output_type": "stream",
     "text": [
      "피쳐에 할당되는 가중치 (x항)계수 : [0.02487985]\n",
      "수식에 사용되는 절편          : 18.382802913636723\n"
     ]
    }
   ],
   "source": [
    "# 학습 후 속성 확인\n",
    "print(f'피쳐에 할당되는 가중치 (x항)계수 : {model.coef_}')\n",
    "print(f'수식에 사용되는 절편          : {model.intercept_}')"
   ],
   "metadata": {
    "collapsed": false,
    "ExecuteTime": {
     "end_time": "2024-02-27T02:16:36.489665Z",
     "start_time": "2024-02-27T02:16:36.482384Z"
    }
   },
   "id": "4aa21eb6ad75dc6b",
   "execution_count": 117
  },
  {
   "cell_type": "code",
   "outputs": [
    {
     "data": {
      "text/plain": "0     18.529594\n1     19.178958\n2     19.377997\n3     19.664115\n4     20.124392\n5     20.870787\n6     20.323431\n7     20.373191\n8     20.497590\n9     20.497590\n10    21.119586\n11    21.243985\n12    21.492784\n13    21.617183\n14    21.368384\n15    21.368384\n16    21.617183\n17    21.741582\n18    21.119586\n19    21.617183\n20    22.114780\n21    21.990380\n22    22.114780\n23    22.612377\n24    23.980768\n25    21.990380\n26    23.060214\n27    22.861175\n28    23.284132\n29    23.806609\n30    25.846756\n31    24.851563\n32    24.975962\n33    24.602764\n34    24.602764\n35    25.846756\n36    26.344353\n37    31.171043\n38    32.215997\n39    39.281873\n40    35.425497\n41    35.798695\n42    35.798695\n43    35.549896\n44    40.774664\n45    34.554702\n46    38.784276\n47    39.530671\n48    40.774664\n49    43.635846\n50    38.784276\n51    45.750633\n52    43.262648\n53    45.750633\n54    43.262648\n55    43.262648\nName: Weight, dtype: float64"
     },
     "execution_count": 118,
     "metadata": {},
     "output_type": "execute_result"
    }
   ],
   "source": [
    "(perchDF['Weight']*model.coef_) + model.intercept_"
   ],
   "metadata": {
    "collapsed": false,
    "ExecuteTime": {
     "end_time": "2024-02-27T02:16:36.889288Z",
     "start_time": "2024-02-27T02:16:36.885874Z"
    }
   },
   "id": "c25b82b62dd9be9d",
   "execution_count": 118
  },
  {
   "cell_type": "markdown",
   "source": [
    "#### (5) 테스트 <hr>"
   ],
   "metadata": {
    "collapsed": false
   },
   "id": "bba72d6146864912"
  },
  {
   "cell_type": "code",
   "outputs": [
    {
     "data": {
      "text/plain": "0.9190210732447819"
     },
     "execution_count": 133,
     "metadata": {},
     "output_type": "execute_result"
    }
   ],
   "source": [
    "# 결정계수 R^2 즉, 얼마나 정답에 가깝고 근사하게 결과를 예측해내는지를 나타내는 계수 값\n",
    "# 범위 : 0.0 ~ 1.0\n",
    "# 1.0에 가까울수록 잘 만들어진 모델\n",
    "model.score(perchDF[['Weight']], perchDF.Length)"
   ],
   "metadata": {
    "collapsed": false,
    "ExecuteTime": {
     "end_time": "2024-02-27T04:40:58.140830Z",
     "start_time": "2024-02-27T04:40:58.132620Z"
    }
   },
   "id": "9035b0a5ee31a8e7",
   "execution_count": 133
  },
  {
   "cell_type": "code",
   "outputs": [
    {
     "data": {
      "text/plain": "array([18.5, 19.2, 19.4, 19.7, 20.1, 20.9, 20.3, 20.4, 20.5, 20.5, 21.1,\n       21.2, 21.5, 21.6, 21.4, 21.4, 21.6, 21.7, 21.1, 21.6, 22.1, 22. ,\n       22.1, 22.6, 24. , 22. , 23.1, 22.9, 23.3, 23.8, 25.8, 24.9, 25. ,\n       24.6, 24.6, 25.8, 26.3, 31.2, 32.2, 39.3, 35.4, 35.8, 35.8, 35.5,\n       40.8, 34.6, 38.8, 39.5, 40.8, 43.6, 38.8, 45.8, 43.3, 45.8, 43.3,\n       43.3])"
     },
     "execution_count": 137,
     "metadata": {},
     "output_type": "execute_result"
    }
   ],
   "source": [
    "y_pre = model.predict(perchDF[['Weight']])\n",
    "y_pre = np.round(y_pre,1)\n",
    "y_pre"
   ],
   "metadata": {
    "collapsed": false,
    "ExecuteTime": {
     "end_time": "2024-02-27T04:44:38.215118Z",
     "start_time": "2024-02-27T04:44:38.207948Z"
    }
   },
   "id": "6886b9d30370d5a9",
   "execution_count": 137
  },
  {
   "cell_type": "code",
   "outputs": [
    {
     "data": {
      "text/plain": "0     10.1\n1      5.5\n2      4.4\n3      3.5\n4      2.7\n5      2.9\n6      1.6\n7      1.4\n8      0.9\n9      0.5\n10     0.1\n11     0.2\n12     0.5\n13     0.3\n14    -0.6\n15    -0.6\n16    -0.4\n17    -0.3\n18    -0.9\n19    -0.9\n20    -0.4\n21    -0.7\n22    -0.9\n23    -0.9\n24     0.0\n25    -2.0\n26    -1.5\n27    -2.1\n28    -2.3\n29    -2.7\n30    -1.5\n31    -2.6\n32    -2.5\n33    -2.9\n34    -3.4\n35    -2.9\n36    -3.7\n37    -1.6\n38    -2.3\n39     4.3\n40    -1.1\n41    -0.2\n42    -1.2\n43    -1.5\n44     1.8\n45    -4.4\n46    -0.2\n47    -0.5\n48     0.8\n49     3.6\n50    -1.2\n51     3.8\n52     0.3\n53     2.8\n54    -0.2\n55    -0.7\nName: Length, dtype: float64"
     },
     "execution_count": 139,
     "metadata": {},
     "output_type": "execute_result"
    }
   ],
   "source": [
    "# 오차 계산 => 예측값 - 정답\n",
    "errorSR = y_pre - perchDF.Length\n",
    "errorSR"
   ],
   "metadata": {
    "collapsed": false,
    "ExecuteTime": {
     "end_time": "2024-02-27T04:45:02.709514Z",
     "start_time": "2024-02-27T04:45:02.702715Z"
    }
   },
   "id": "d0404f837ed2cfcd",
   "execution_count": 139
  },
  {
   "cell_type": "code",
   "outputs": [
    {
     "data": {
      "text/plain": "(array([18.5, 19.2, 19.4, 19.7, 20.1, 20.9, 20.3, 20.4, 20.5, 20.5, 21.1,\n        21.2, 21.5, 21.6, 21.4, 21.4, 21.6, 21.7, 21.1, 21.6, 22.1, 22. ,\n        22.1, 22.6, 24. , 22. , 23.1, 22.9, 23.3, 23.8, 25.8, 24.9, 25. ,\n        24.6, 24.6, 25.8, 26.3, 31.2, 32.2, 39.3, 35.4, 35.8, 35.8, 35.5,\n        40.8, 34.6, 38.8, 39.5, 40.8, 43.6, 38.8, 45.8, 43.3, 45.8, 43.3,\n        43.3]),\n 0      8.4\n 1     13.7\n 2     15.0\n 3     16.2\n 4     17.4\n 5     18.0\n 6     18.7\n 7     19.0\n 8     19.6\n 9     20.0\n 10    21.0\n 11    21.0\n 12    21.0\n 13    21.3\n 14    22.0\n 15    22.0\n 16    22.0\n 17    22.0\n 18    22.0\n 19    22.5\n 20    22.5\n 21    22.7\n 22    23.0\n 23    23.5\n 24    24.0\n 25    24.0\n 26    24.6\n 27    25.0\n 28    25.6\n 29    26.5\n 30    27.3\n 31    27.5\n 32    27.5\n 33    27.5\n 34    28.0\n 35    28.7\n 36    30.0\n 37    32.8\n 38    34.5\n 39    35.0\n 40    36.5\n 41    36.0\n 42    37.0\n 43    37.0\n 44    39.0\n 45    39.0\n 46    39.0\n 47    40.0\n 48    40.0\n 49    40.0\n 50    40.0\n 51    42.0\n 52    43.0\n 53    43.0\n 54    43.5\n 55    44.0\n Name: Length, dtype: float64)"
     },
     "execution_count": 130,
     "metadata": {},
     "output_type": "execute_result"
    }
   ],
   "source": [
    "np.round(y_pre,1), perchDF.Length"
   ],
   "metadata": {
    "collapsed": false,
    "ExecuteTime": {
     "end_time": "2024-02-27T02:26:58.368698Z",
     "start_time": "2024-02-27T02:26:58.363544Z"
    }
   },
   "id": "15431708d017968f",
   "execution_count": 130
  },
  {
   "cell_type": "code",
   "outputs": [
    {
     "data": {
      "text/plain": "6.483571428571426"
     },
     "execution_count": 146,
     "metadata": {},
     "output_type": "execute_result"
    }
   ],
   "source": [
    "(errorSR**2).sum() / errorSR.shape[0] # 분산"
   ],
   "metadata": {
    "collapsed": false,
    "ExecuteTime": {
     "end_time": "2024-02-27T04:52:53.830688Z",
     "start_time": "2024-02-27T04:52:53.824962Z"
    }
   },
   "id": "70ea7ff1ef7b8a2c",
   "execution_count": 146
  },
  {
   "cell_type": "code",
   "outputs": [
    {
     "data": {
      "text/plain": "24    0.0\nName: Length, dtype: float64"
     },
     "execution_count": 147,
     "metadata": {},
     "output_type": "execute_result"
    }
   ],
   "source": [
    "# 정답과 완벽히 똑같은 갯수 찾기\n",
    "errorSR[(y_pre-perchDF.Length) == 0.0]"
   ],
   "metadata": {
    "collapsed": false,
    "ExecuteTime": {
     "end_time": "2024-02-27T04:52:53.957990Z",
     "start_time": "2024-02-27T04:52:53.954178Z"
    }
   },
   "id": "227cf3517087a9eb",
   "execution_count": 147
  },
  {
   "cell_type": "markdown",
   "source": [
    "#### (6) 성능평가 <hr>\n",
    "- 결정계수 값 : 1.0에 가까울 수록 좋음\n",
    "- 오차평균 값 : 낮을 수록 좋음\n",
    "- 활용  모듈 : sklearn.metrics"
   ],
   "metadata": {
    "collapsed": false
   },
   "id": "a3b639b037235515"
  },
  {
   "cell_type": "code",
   "outputs": [
    {
     "name": "stdout",
     "output_type": "stream",
     "text": [
      "1.3.0\n"
     ]
    }
   ],
   "source": [
    "from sklearn.metrics import mean_squared_error, mean_absolute_error, r2_score\n",
    "import sklearn\n",
    "\n",
    "print(sklearn.__version__)"
   ],
   "metadata": {
    "collapsed": false,
    "ExecuteTime": {
     "end_time": "2024-02-27T05:18:10.057545Z",
     "start_time": "2024-02-27T05:18:10.050404Z"
    }
   },
   "id": "63251264e23a52ca",
   "execution_count": 153
  },
  {
   "cell_type": "code",
   "outputs": [
    {
     "data": {
      "text/plain": "0.918891577369194"
     },
     "execution_count": 149,
     "metadata": {},
     "output_type": "execute_result"
    }
   ],
   "source": [
    "# 결정 계수 값\n",
    "r2_score(perchDF.Length, y_pre)"
   ],
   "metadata": {
    "collapsed": false,
    "ExecuteTime": {
     "end_time": "2024-02-27T04:53:28.194550Z",
     "start_time": "2024-02-27T04:53:28.176195Z"
    }
   },
   "id": "e8c4aeea8994e250",
   "execution_count": 149
  },
  {
   "cell_type": "code",
   "outputs": [
    {
     "data": {
      "text/plain": "6.483571428571426"
     },
     "execution_count": 150,
     "metadata": {},
     "output_type": "execute_result"
    }
   ],
   "source": [
    "# 평균제곱오차 : MSE\n",
    "mean_squared_error(perchDF.Length, y_pre)"
   ],
   "metadata": {
    "collapsed": false,
    "ExecuteTime": {
     "end_time": "2024-02-27T04:54:03.854831Z",
     "start_time": "2024-02-27T04:54:03.849479Z"
    }
   },
   "id": "43755c6cf795943f",
   "execution_count": 150
  },
  {
   "cell_type": "code",
   "outputs": [
    {
     "data": {
      "text/plain": "2.5462858104642194"
     },
     "execution_count": 156,
     "metadata": {},
     "output_type": "execute_result"
    }
   ],
   "source": [
    "# 루트평균제곱오차 : RMSE - 1.4 버전에 추가\n",
    "# root_mean_squared_eroor(perchDF.Length, y_pre) 아래 식으로도 가능\n",
    "mean_squared_error(perchDF.Length, y_pre, squared=False)"
   ],
   "metadata": {
    "collapsed": false,
    "ExecuteTime": {
     "end_time": "2024-02-27T05:20:02.702247Z",
     "start_time": "2024-02-27T05:20:02.685869Z"
    }
   },
   "id": "4f6798ff8e78bb9d",
   "execution_count": 156
  },
  {
   "cell_type": "code",
   "outputs": [
    {
     "data": {
      "text/plain": "1.8535714285714282"
     },
     "execution_count": 151,
     "metadata": {},
     "output_type": "execute_result"
    }
   ],
   "source": [
    "# 평균절대값오차\n",
    "mean_absolute_error(perchDF.Length, y_pre)"
   ],
   "metadata": {
    "collapsed": false,
    "ExecuteTime": {
     "end_time": "2024-02-27T04:54:34.148674Z",
     "start_time": "2024-02-27T04:54:34.145926Z"
    }
   },
   "id": "ab8f203ed4ef0be4",
   "execution_count": 151
  },
  {
   "cell_type": "markdown",
   "source": [
    "##### 성능평가 지표 \n",
    "성능평가 지표는 보통 의뢰하는 쪽이 정함"
   ],
   "metadata": {
    "collapsed": false
   },
   "id": "89359acfb5446ca1"
  },
  {
   "cell_type": "code",
   "outputs": [],
   "source": [],
   "metadata": {
    "collapsed": false
   },
   "id": "7032a92e51fc29e0"
  }
 ],
 "metadata": {
  "kernelspec": {
   "display_name": "Python 3",
   "language": "python",
   "name": "python3"
  },
  "language_info": {
   "codemirror_mode": {
    "name": "ipython",
    "version": 2
   },
   "file_extension": ".py",
   "mimetype": "text/x-python",
   "name": "python",
   "nbconvert_exporter": "python",
   "pygments_lexer": "ipython2",
   "version": "2.7.6"
  }
 },
 "nbformat": 4,
 "nbformat_minor": 5
}
