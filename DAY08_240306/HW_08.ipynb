{
 "cells": [
  {
   "cell_type": "code",
   "execution_count": 57,
   "id": "initial_id",
   "metadata": {
    "collapsed": true,
    "ExecuteTime": {
     "end_time": "2024-03-06T12:55:07.410476Z",
     "start_time": "2024-03-06T12:55:07.325276Z"
    }
   },
   "outputs": [
    {
     "data": {
      "text/plain": "((100, 2), (100,))"
     },
     "execution_count": 57,
     "metadata": {},
     "output_type": "execute_result"
    }
   ],
   "source": [
    "import pandas as pd\n",
    "import numpy as np\n",
    "\n",
    "data = '../data/iris.csv'\n",
    "irisDF = pd.read_csv(data)\n",
    "\n",
    "featureDF = irisDF[irisDF.columns[2:4]][:100]\n",
    "targerSR = irisDF.species[:100]\n",
    "featureDF.shape, targerSR.shape"
   ]
  },
  {
   "cell_type": "code",
   "outputs": [],
   "source": [
    "from sklearn.model_selection import train_test_split\n",
    "\n",
    "X_train, x_test, y_train, y_test = train_test_split(featureDF,\n",
    "                                                    targerSR,\n",
    "                                                    stratify=targerSR,\n",
    "                                                    random_state=7)"
   ],
   "metadata": {
    "collapsed": false,
    "ExecuteTime": {
     "end_time": "2024-03-06T12:55:07.413979Z",
     "start_time": "2024-03-06T12:55:07.385879Z"
    }
   },
   "id": "4670f3ff2197cda9",
   "execution_count": 58
  },
  {
   "cell_type": "code",
   "outputs": [],
   "source": [
    "from sklearn.preprocessing import StandardScaler\n",
    "\n",
    "scaler = StandardScaler()\n",
    "scaler.fit(X_train)\n",
    "scaled_X_train = scaler.transform(X_train)\n",
    "scaled_x_test = scaler.transform(x_test)"
   ],
   "metadata": {
    "collapsed": false,
    "ExecuteTime": {
     "end_time": "2024-03-06T12:55:07.437714Z",
     "start_time": "2024-03-06T12:55:07.416871Z"
    }
   },
   "id": "5ed8be265940c9c6",
   "execution_count": 59
  },
  {
   "cell_type": "code",
   "outputs": [
    {
     "data": {
      "text/plain": "array([[ 0.74110139,  1.10632286],\n       [-0.93055588, -1.19360207],\n       [ 0.74110139,  0.57557096],\n       [-1.00020827, -0.83976746],\n       [ 1.01971094,  0.92940556],\n       [-1.13951304, -1.01668476],\n       [ 0.88040616,  0.92940556],\n       [-0.93055588, -0.66285016],\n       [ 1.08936332,  1.10632286],\n       [-0.93055588, -1.01668476],\n       [-1.06986065, -0.83976746],\n       [ 0.95005855,  1.28324016],\n       [-0.86090349, -1.01668476],\n       [-1.06986065, -0.83976746],\n       [ 1.08936332,  0.75248826],\n       [-0.86090349, -0.30901555],\n       [-1.00020827, -1.01668476],\n       [-0.93055588, -1.19360207],\n       [ 1.08936332,  0.92940556],\n       [-1.06986065, -1.01668476],\n       [ 1.43762525,  1.28324016],\n       [ 1.36797287,  1.10632286],\n       [-0.86090349, -1.01668476],\n       [-1.00020827, -1.01668476],\n       [-0.93055588, -0.66285016],\n       [ 1.50727764,  1.63707477],\n       [-0.93055588, -1.19360207],\n       [-0.86090349, -1.01668476],\n       [-0.93055588, -1.01668476],\n       [ 1.15901571,  1.28324016],\n       [-1.00020827, -0.83976746],\n       [ 1.43762525,  1.28324016],\n       [-1.06986065, -0.66285016],\n       [-1.27881781, -1.01668476],\n       [-0.79125111, -0.66285016],\n       [ 0.671449  ,  0.57557096],\n       [-0.79125111, -1.01668476],\n       [ 1.08936332,  1.10632286],\n       [ 0.81075378,  0.92940556],\n       [ 1.15901571,  0.92940556],\n       [ 1.01971094,  0.92940556],\n       [ 0.53214423,  0.92940556],\n       [ 1.22866809,  0.92940556],\n       [ 0.88040616,  0.39865365],\n       [ 1.15901571,  1.28324016],\n       [-1.00020827, -1.01668476],\n       [-0.93055588, -1.19360207],\n       [-1.06986065, -1.01668476],\n       [-0.93055588, -1.01668476],\n       [ 1.15901571,  1.28324016],\n       [ 1.36797287,  1.81399207],\n       [ 0.95005855,  0.92940556],\n       [ 1.29832048,  1.10632286],\n       [-1.00020827, -1.01668476],\n       [-0.86090349, -1.01668476],\n       [ 0.60179662,  0.39865365],\n       [ 0.95005855,  0.75248826],\n       [-1.06986065, -1.01668476],\n       [-0.93055588, -0.66285016],\n       [-0.65194634, -1.01668476],\n       [ 0.11422991,  0.57557096],\n       [-1.06986065, -1.01668476],\n       [-0.65194634, -0.66285016],\n       [ 0.81075378,  0.39865365],\n       [ 0.46249185,  0.39865365],\n       [ 0.81075378,  0.92940556],\n       [-1.00020827, -1.01668476],\n       [ 1.22866809,  1.28324016],\n       [-1.20916543, -1.19360207],\n       [-1.00020827, -1.19360207],\n       [-0.79125111, -0.83976746],\n       [ 0.32318707,  0.39865365],\n       [ 0.81075378,  0.75248826],\n       [ 1.29832048,  1.46015747],\n       [ 1.15901571,  1.28324016]])"
     },
     "execution_count": 60,
     "metadata": {},
     "output_type": "execute_result"
    }
   ],
   "source": [
    "scaled_X_train"
   ],
   "metadata": {
    "collapsed": false,
    "ExecuteTime": {
     "end_time": "2024-03-06T12:55:07.457283Z",
     "start_time": "2024-03-06T12:55:07.440377Z"
    }
   },
   "id": "787f35f68c807829",
   "execution_count": 60
  },
  {
   "cell_type": "code",
   "outputs": [
    {
     "name": "stdout",
     "output_type": "stream",
     "text": [
      "Train score : 1.000, Test score : 1.000 1.0000\n",
      "model.coef_ : [[1.02681832 0.94084931]], model.intercept_ : [0.29307257]\n"
     ]
    }
   ],
   "source": [
    "from sklearn.svm import SVC\n",
    "from sklearn.metrics import accuracy_score, precision_score, recall_score, f1_score, r2_score, mean_squared_error, mean_absolute_error\n",
    "\n",
    "\n",
    "model = SVC(kernel='linear')\n",
    "model.fit(scaled_X_train, y_train)\n",
    "# print(f'classes_ : {model.classes_}')\n",
    "# print(f'{model._get_param_names()}')\n",
    "train_score = model.score(scaled_X_train, y_train)\n",
    "test_score = model.score(scaled_x_test, y_test)\n",
    "\n",
    "print(f'Train score : {train_score:.3f}, Test score : {test_score:.3f} ',end='')\n",
    "\n",
    "y_pred = model.predict(scaled_x_test)\n",
    "accuracy = accuracy_score(y_test, y_pred)\n",
    "# accuracyList.append(accuracy)\n",
    "\n",
    "# 결과 출력\n",
    "print(f\"{accuracy:.4f}\")\n",
    "print(f'model.coef_ : {model.coef_}, model.intercept_ : {model.intercept_}')\n"
   ],
   "metadata": {
    "collapsed": false,
    "ExecuteTime": {
     "end_time": "2024-03-06T12:55:07.457726Z",
     "start_time": "2024-03-06T12:55:07.446779Z"
    }
   },
   "id": "ee7480d9b3dc1059",
   "execution_count": 61
  },
  {
   "cell_type": "code",
   "outputs": [
    {
     "data": {
      "text/plain": "array([[ 0.74110139,  1.10632286],\n       [-0.93055588, -1.19360207],\n       [ 0.74110139,  0.57557096],\n       [-1.00020827, -0.83976746],\n       [ 1.01971094,  0.92940556],\n       [-1.13951304, -1.01668476],\n       [ 0.88040616,  0.92940556],\n       [-0.93055588, -0.66285016],\n       [ 1.08936332,  1.10632286],\n       [-0.93055588, -1.01668476],\n       [-1.06986065, -0.83976746],\n       [ 0.95005855,  1.28324016],\n       [-0.86090349, -1.01668476],\n       [-1.06986065, -0.83976746],\n       [ 1.08936332,  0.75248826],\n       [-0.86090349, -0.30901555],\n       [-1.00020827, -1.01668476],\n       [-0.93055588, -1.19360207],\n       [ 1.08936332,  0.92940556],\n       [-1.06986065, -1.01668476],\n       [ 1.43762525,  1.28324016],\n       [ 1.36797287,  1.10632286],\n       [-0.86090349, -1.01668476],\n       [-1.00020827, -1.01668476],\n       [-0.93055588, -0.66285016],\n       [ 1.50727764,  1.63707477],\n       [-0.93055588, -1.19360207],\n       [-0.86090349, -1.01668476],\n       [-0.93055588, -1.01668476],\n       [ 1.15901571,  1.28324016],\n       [-1.00020827, -0.83976746],\n       [ 1.43762525,  1.28324016],\n       [-1.06986065, -0.66285016],\n       [-1.27881781, -1.01668476],\n       [-0.79125111, -0.66285016],\n       [ 0.671449  ,  0.57557096],\n       [-0.79125111, -1.01668476],\n       [ 1.08936332,  1.10632286],\n       [ 0.81075378,  0.92940556],\n       [ 1.15901571,  0.92940556],\n       [ 1.01971094,  0.92940556],\n       [ 0.53214423,  0.92940556],\n       [ 1.22866809,  0.92940556],\n       [ 0.88040616,  0.39865365],\n       [ 1.15901571,  1.28324016],\n       [-1.00020827, -1.01668476],\n       [-0.93055588, -1.19360207],\n       [-1.06986065, -1.01668476],\n       [-0.93055588, -1.01668476],\n       [ 1.15901571,  1.28324016],\n       [ 1.36797287,  1.81399207],\n       [ 0.95005855,  0.92940556],\n       [ 1.29832048,  1.10632286],\n       [-1.00020827, -1.01668476],\n       [-0.86090349, -1.01668476],\n       [ 0.60179662,  0.39865365],\n       [ 0.95005855,  0.75248826],\n       [-1.06986065, -1.01668476],\n       [-0.93055588, -0.66285016],\n       [-0.65194634, -1.01668476],\n       [ 0.11422991,  0.57557096],\n       [-1.06986065, -1.01668476],\n       [-0.65194634, -0.66285016],\n       [ 0.81075378,  0.39865365],\n       [ 0.46249185,  0.39865365],\n       [ 0.81075378,  0.92940556],\n       [-1.00020827, -1.01668476],\n       [ 1.22866809,  1.28324016],\n       [-1.20916543, -1.19360207],\n       [-1.00020827, -1.19360207],\n       [-0.79125111, -0.83976746],\n       [ 0.32318707,  0.39865365],\n       [ 0.81075378,  0.75248826],\n       [ 1.29832048,  1.46015747],\n       [ 1.15901571,  1.28324016]])"
     },
     "execution_count": 62,
     "metadata": {},
     "output_type": "execute_result"
    }
   ],
   "source": [
    "scaled_X_train"
   ],
   "metadata": {
    "collapsed": false,
    "ExecuteTime": {
     "end_time": "2024-03-06T12:55:07.502485Z",
     "start_time": "2024-03-06T12:55:07.459896Z"
    }
   },
   "id": "38ffc3f5107cadfd",
   "execution_count": 62
  },
  {
   "cell_type": "code",
   "outputs": [
    {
     "name": "stdout",
     "output_type": "stream",
     "text": [
      "0.7180408338445293\n"
     ]
    }
   ],
   "source": [
    "# 결정 경계 그리기\n",
    "\n",
    "c = model.intercept_\n",
    "a = model.coef_[0][0]\n",
    "b = model.coef_[0][1]\n",
    "w = -(a/ b)\n",
    "\n",
    "xx = scaled_X_train[:, 0]\n",
    "yy = (w * scaled_X_train[:, 0] - c/b)\n",
    "# w * xtrain[:, 0] - c/b)\n",
    "\n",
    "margin = 1 / np.sqrt(a**2 + b**2)\n",
    "print(margin)\n",
    "# margin1 = 1 / np.sqrt(np.sum(model.coef_ ** 2)) #분산 \n",
    "# print(margin1)\n",
    "yy_down = yy - np.sqrt(1 + a ** 2) * margin\n",
    "yy_up = yy + np.sqrt(1 + a ** 2) * margin\n",
    "\n"
   ],
   "metadata": {
    "collapsed": false,
    "ExecuteTime": {
     "end_time": "2024-03-06T12:55:07.503056Z",
     "start_time": "2024-03-06T12:55:07.464323Z"
    }
   },
   "id": "f5e4f98a59b6d402",
   "execution_count": 63
  },
  {
   "cell_type": "code",
   "outputs": [
    {
     "data": {
      "text/plain": "<Figure size 640x480 with 1 Axes>",
      "image/png": "[encoded data removed]"
     },
     "metadata": {},
     "output_type": "display_data"
    }
   ],
   "source": [
    "import numpy as np\n",
    "import pandas as pd\n",
    "import matplotlib.pyplot as plt\n",
    "from sklearn.svm import SVC\n",
    "\n",
    "\n",
    "\n",
    "X = np.array(featureDF)\n",
    "y = targerSR.T.replace({\"setosa\":0, \"versicolor\":1})\n",
    "\n",
    "# SVC 모델 생성\n",
    "svc_model = SVC(kernel='linear')\n",
    "svc_model.fit(X, y)\n",
    "\n",
    "# 결정 경계 그리기\n",
    "w = svc_model.coef_[0]\n",
    "a = -w[0] / w[1]\n",
    "xx = np.linspace(X[:, 0].min(), X[:, 0].max())\n",
    "yy = a * xx - (svc_model.intercept_[0]) / w[1]\n",
    "\n",
    "# Support vectors\n",
    "margin = 1 / np.sqrt(np.sum(svc_model.coef_ ** 2)) #분산 \n",
    "yy_down = yy - np.sqrt(1 + a ** 2) * margin\n",
    "yy_up = yy + np.sqrt(1 + a ** 2) * margin\n",
    "\n",
    "plt.plot(xx, yy, 'k-')\n",
    "plt.plot(xx, yy_down, 'k--') # 점선\n",
    "plt.plot(xx, yy_up, 'k--') # 점선 \n",
    "\n",
    "# Scatter plot\n",
    "plt.scatter(X[:, 0], X[:, 1], c=y, cmap=plt.cm.coolwarm, edgecolors='k')\n",
    "# plt.ylim(-0.5,2)\n",
    "plt.xlabel('petal.length')\n",
    "plt.ylabel('petal.width')\n",
    "plt.title('SVC Decision Boundary')\n",
    "plt.show()"
   ],
   "metadata": {
    "collapsed": false,
    "ExecuteTime": {
     "end_time": "2024-03-06T12:55:07.557860Z",
     "start_time": "2024-03-06T12:55:07.479516Z"
    }
   },
   "id": "d6440c5f4bc6b83",
   "execution_count": 64
  },
  {
   "cell_type": "code",
   "outputs": [],
   "source": [],
   "metadata": {
    "collapsed": false,
    "ExecuteTime": {
     "end_time": "2024-03-06T12:55:07.558380Z",
     "start_time": "2024-03-06T12:55:07.543835Z"
    }
   },
   "id": "3338159265848bdb",
   "execution_count": 64
  },
  {
   "cell_type": "code",
   "outputs": [
    {
     "data": {
      "text/plain": "        CRIM    ZN  INDUS  CHAS    NOX     RM   AGE     DIS  RAD  TAX  \\\n0    0.00632  18.0   2.31   0.0  0.538  6.575  65.2  4.0900    1  296   \n1    0.02731   0.0   7.07   0.0  0.469  6.421  78.9  4.9671    2  242   \n2    0.02729   0.0   7.07   0.0  0.469  7.185  61.1  4.9671    2  242   \n3    0.03237   0.0   2.18   0.0  0.458  6.998  45.8  6.0622    3  222   \n5    0.02985   0.0   2.18   0.0  0.458  6.430  58.7  6.0622    3  222   \n..       ...   ...    ...   ...    ...    ...   ...     ...  ...  ...   \n499  0.17783   0.0   9.69   0.0  0.585  5.569  73.5  2.3999    6  391   \n500  0.22438   0.0   9.69   0.0  0.585  6.027  79.7  2.4982    6  391   \n502  0.04527   0.0  11.93   0.0  0.573  6.120  76.7  2.2875    1  273   \n503  0.06076   0.0  11.93   0.0  0.573  6.976  91.0  2.1675    1  273   \n504  0.10959   0.0  11.93   0.0  0.573  6.794  89.3  2.3889    1  273   \n\n     PTRATIO       B  LSTAT  MEDV  \n0       15.3  396.90   4.98  24.0  \n1       17.8  396.90   9.14  21.6  \n2       17.8  392.83   4.03  34.7  \n3       18.7  394.63   2.94  33.4  \n5       18.7  394.12   5.21  28.7  \n..       ...     ...    ...   ...  \n499     19.2  395.77  15.10  17.5  \n500     19.2  396.90  14.33  16.8  \n502     21.0  396.90   9.08  20.6  \n503     21.0  396.90   5.64  23.9  \n504     21.0  393.45   6.48  22.0  \n\n[394 rows x 14 columns]",
      "text/html": "<div>\n<style scoped>\n    .dataframe tbody tr th:only-of-type {\n        vertical-align: middle;\n    }\n\n    .dataframe tbody tr th {\n        vertical-align: top;\n    }\n\n    .dataframe thead th {\n        text-align: right;\n    }\n</style>\n<table border=\"1\" class=\"dataframe\">\n  <thead>\n    <tr style=\"text-align: right;\">\n      <th></th>\n      <th>CRIM</th>\n      <th>ZN</th>\n      <th>INDUS</th>\n      <th>CHAS</th>\n      <th>NOX</th>\n      <th>RM</th>\n      <th>AGE</th>\n      <th>DIS</th>\n      <th>RAD</th>\n      <th>TAX</th>\n      <th>PTRATIO</th>\n      <th>B</th>\n      <th>LSTAT</th>\n      <th>MEDV</th>\n    </tr>\n  </thead>\n  <tbody>\n    <tr>\n      <th>0</th>\n      <td>0.00632</td>\n      <td>18.0</td>\n      <td>2.31</td>\n      <td>0.0</td>\n      <td>0.538</td>\n      <td>6.575</td>\n      <td>65.2</td>\n      <td>4.0900</td>\n      <td>1</td>\n      <td>296</td>\n      <td>15.3</td>\n      <td>396.90</td>\n      <td>4.98</td>\n      <td>24.0</td>\n    </tr>\n    <tr>\n      <th>1</th>\n      <td>0.02731</td>\n      <td>0.0</td>\n      <td>7.07</td>\n      <td>0.0</td>\n      <td>0.469</td>\n      <td>6.421</td>\n      <td>78.9</td>\n      <td>4.9671</td>\n      <td>2</td>\n      <td>242</td>\n      <td>17.8</td>\n      <td>396.90</td>\n      <td>9.14</td>\n      <td>21.6</td>\n    </tr>\n    <tr>\n      <th>2</th>\n      <td>0.02729</td>\n      <td>0.0</td>\n      <td>7.07</td>\n      <td>0.0</td>\n      <td>0.469</td>\n      <td>7.185</td>\n      <td>61.1</td>\n      <td>4.9671</td>\n      <td>2</td>\n      <td>242</td>\n      <td>17.8</td>\n      <td>392.83</td>\n      <td>4.03</td>\n      <td>34.7</td>\n    </tr>\n    <tr>\n      <th>3</th>\n      <td>0.03237</td>\n      <td>0.0</td>\n      <td>2.18</td>\n      <td>0.0</td>\n      <td>0.458</td>\n      <td>6.998</td>\n      <td>45.8</td>\n      <td>6.0622</td>\n      <td>3</td>\n      <td>222</td>\n      <td>18.7</td>\n      <td>394.63</td>\n      <td>2.94</td>\n      <td>33.4</td>\n    </tr>\n    <tr>\n      <th>5</th>\n      <td>0.02985</td>\n      <td>0.0</td>\n      <td>2.18</td>\n      <td>0.0</td>\n      <td>0.458</td>\n      <td>6.430</td>\n      <td>58.7</td>\n      <td>6.0622</td>\n      <td>3</td>\n      <td>222</td>\n      <td>18.7</td>\n      <td>394.12</td>\n      <td>5.21</td>\n      <td>28.7</td>\n    </tr>\n    <tr>\n      <th>...</th>\n      <td>...</td>\n      <td>...</td>\n      <td>...</td>\n      <td>...</td>\n      <td>...</td>\n      <td>...</td>\n      <td>...</td>\n      <td>...</td>\n      <td>...</td>\n      <td>...</td>\n      <td>...</td>\n      <td>...</td>\n      <td>...</td>\n      <td>...</td>\n    </tr>\n    <tr>\n      <th>499</th>\n      <td>0.17783</td>\n      <td>0.0</td>\n      <td>9.69</td>\n      <td>0.0</td>\n      <td>0.585</td>\n      <td>5.569</td>\n      <td>73.5</td>\n      <td>2.3999</td>\n      <td>6</td>\n      <td>391</td>\n      <td>19.2</td>\n      <td>395.77</td>\n      <td>15.10</td>\n      <td>17.5</td>\n    </tr>\n    <tr>\n      <th>500</th>\n      <td>0.22438</td>\n      <td>0.0</td>\n      <td>9.69</td>\n      <td>0.0</td>\n      <td>0.585</td>\n      <td>6.027</td>\n      <td>79.7</td>\n      <td>2.4982</td>\n      <td>6</td>\n      <td>391</td>\n      <td>19.2</td>\n      <td>396.90</td>\n      <td>14.33</td>\n      <td>16.8</td>\n    </tr>\n    <tr>\n      <th>502</th>\n      <td>0.04527</td>\n      <td>0.0</td>\n      <td>11.93</td>\n      <td>0.0</td>\n      <td>0.573</td>\n      <td>6.120</td>\n      <td>76.7</td>\n      <td>2.2875</td>\n      <td>1</td>\n      <td>273</td>\n      <td>21.0</td>\n      <td>396.90</td>\n      <td>9.08</td>\n      <td>20.6</td>\n    </tr>\n    <tr>\n      <th>503</th>\n      <td>0.06076</td>\n      <td>0.0</td>\n      <td>11.93</td>\n      <td>0.0</td>\n      <td>0.573</td>\n      <td>6.976</td>\n      <td>91.0</td>\n      <td>2.1675</td>\n      <td>1</td>\n      <td>273</td>\n      <td>21.0</td>\n      <td>396.90</td>\n      <td>5.64</td>\n      <td>23.9</td>\n    </tr>\n    <tr>\n      <th>504</th>\n      <td>0.10959</td>\n      <td>0.0</td>\n      <td>11.93</td>\n      <td>0.0</td>\n      <td>0.573</td>\n      <td>6.794</td>\n      <td>89.3</td>\n      <td>2.3889</td>\n      <td>1</td>\n      <td>273</td>\n      <td>21.0</td>\n      <td>393.45</td>\n      <td>6.48</td>\n      <td>22.0</td>\n    </tr>\n  </tbody>\n</table>\n<p>394 rows × 14 columns</p>\n</div>"
     },
     "execution_count": 65,
     "metadata": {},
     "output_type": "execute_result"
    }
   ],
   "source": [
    "import pandas as pd\n",
    "import numpy as np\n",
    "import matplotlib.pyplot as plt\n",
    "import seaborn as sns\n",
    "\n",
    "data = '../data/HousingData.csv'\n",
    "houseDF = pd.read_csv(data)\n",
    "\n",
    "houseDF = houseDF.dropna()\n",
    "houseDF"
   ],
   "metadata": {
    "collapsed": false,
    "ExecuteTime": {
     "end_time": "2024-03-06T12:55:07.636036Z",
     "start_time": "2024-03-06T12:55:07.560673Z"
    }
   },
   "id": "46ea395d52538721",
   "execution_count": 65
  },
  {
   "cell_type": "code",
   "outputs": [],
   "source": [
    "featureDF = houseDF[['LSTAT','RM','PTRATIO','INDUS','TAX']]\n",
    "targetSR = houseDF[houseDF.columns[-1]]"
   ],
   "metadata": {
    "collapsed": false,
    "ExecuteTime": {
     "end_time": "2024-03-06T12:55:07.636559Z",
     "start_time": "2024-03-06T12:55:07.572208Z"
    }
   },
   "id": "10008f988d22ae68",
   "execution_count": 66
  },
  {
   "cell_type": "code",
   "outputs": [
    {
     "data": {
      "text/plain": "     LSTAT     RM  PTRATIO  INDUS  TAX\n0     4.98  6.575     15.3   2.31  296\n1     9.14  6.421     17.8   7.07  242\n2     4.03  7.185     17.8   7.07  242\n3     2.94  6.998     18.7   2.18  222\n5     5.21  6.430     18.7   2.18  222\n..     ...    ...      ...    ...  ...\n499  15.10  5.569     19.2   9.69  391\n500  14.33  6.027     19.2   9.69  391\n502   9.08  6.120     21.0  11.93  273\n503   5.64  6.976     21.0  11.93  273\n504   6.48  6.794     21.0  11.93  273\n\n[394 rows x 5 columns]",
      "text/html": "<div>\n<style scoped>\n    .dataframe tbody tr th:only-of-type {\n        vertical-align: middle;\n    }\n\n    .dataframe tbody tr th {\n        vertical-align: top;\n    }\n\n    .dataframe thead th {\n        text-align: right;\n    }\n</style>\n<table border=\"1\" class=\"dataframe\">\n  <thead>\n    <tr style=\"text-align: right;\">\n      <th></th>\n      <th>LSTAT</th>\n      <th>RM</th>\n      <th>PTRATIO</th>\n      <th>INDUS</th>\n      <th>TAX</th>\n    </tr>\n  </thead>\n  <tbody>\n    <tr>\n      <th>0</th>\n      <td>4.98</td>\n      <td>6.575</td>\n      <td>15.3</td>\n      <td>2.31</td>\n      <td>296</td>\n    </tr>\n    <tr>\n      <th>1</th>\n      <td>9.14</td>\n      <td>6.421</td>\n      <td>17.8</td>\n      <td>7.07</td>\n      <td>242</td>\n    </tr>\n    <tr>\n      <th>2</th>\n      <td>4.03</td>\n      <td>7.185</td>\n      <td>17.8</td>\n      <td>7.07</td>\n      <td>242</td>\n    </tr>\n    <tr>\n      <th>3</th>\n      <td>2.94</td>\n      <td>6.998</td>\n      <td>18.7</td>\n      <td>2.18</td>\n      <td>222</td>\n    </tr>\n    <tr>\n      <th>5</th>\n      <td>5.21</td>\n      <td>6.430</td>\n      <td>18.7</td>\n      <td>2.18</td>\n      <td>222</td>\n    </tr>\n    <tr>\n      <th>...</th>\n      <td>...</td>\n      <td>...</td>\n      <td>...</td>\n      <td>...</td>\n      <td>...</td>\n    </tr>\n    <tr>\n      <th>499</th>\n      <td>15.10</td>\n      <td>5.569</td>\n      <td>19.2</td>\n      <td>9.69</td>\n      <td>391</td>\n    </tr>\n    <tr>\n      <th>500</th>\n      <td>14.33</td>\n      <td>6.027</td>\n      <td>19.2</td>\n      <td>9.69</td>\n      <td>391</td>\n    </tr>\n    <tr>\n      <th>502</th>\n      <td>9.08</td>\n      <td>6.120</td>\n      <td>21.0</td>\n      <td>11.93</td>\n      <td>273</td>\n    </tr>\n    <tr>\n      <th>503</th>\n      <td>5.64</td>\n      <td>6.976</td>\n      <td>21.0</td>\n      <td>11.93</td>\n      <td>273</td>\n    </tr>\n    <tr>\n      <th>504</th>\n      <td>6.48</td>\n      <td>6.794</td>\n      <td>21.0</td>\n      <td>11.93</td>\n      <td>273</td>\n    </tr>\n  </tbody>\n</table>\n<p>394 rows × 5 columns</p>\n</div>"
     },
     "execution_count": 67,
     "metadata": {},
     "output_type": "execute_result"
    }
   ],
   "source": [
    "featureDF"
   ],
   "metadata": {
    "collapsed": false,
    "ExecuteTime": {
     "end_time": "2024-03-06T12:55:07.669886Z",
     "start_time": "2024-03-06T12:55:07.594916Z"
    }
   },
   "id": "45aecac308d112c",
   "execution_count": 67
  },
  {
   "cell_type": "code",
   "outputs": [
    {
     "data": {
      "text/plain": "0      24.0\n1      21.6\n2      34.7\n3      33.4\n5      28.7\n       ... \n499    17.5\n500    16.8\n502    20.6\n503    23.9\n504    22.0\nName: MEDV, Length: 394, dtype: float64"
     },
     "execution_count": 68,
     "metadata": {},
     "output_type": "execute_result"
    }
   ],
   "source": [
    "targetSR"
   ],
   "metadata": {
    "collapsed": false,
    "ExecuteTime": {
     "end_time": "2024-03-06T12:55:07.757189Z",
     "start_time": "2024-03-06T12:55:07.672558Z"
    }
   },
   "id": "1f3e319dacf5aa00",
   "execution_count": 68
  },
  {
   "cell_type": "code",
   "outputs": [],
   "source": [
    "X_train, x_test, y_train, y_test = train_test_split(featureDF,\n",
    "                                                    targetSR,\n",
    "                                                    random_state=6)"
   ],
   "metadata": {
    "collapsed": false,
    "ExecuteTime": {
     "end_time": "2024-03-06T12:55:07.844506Z",
     "start_time": "2024-03-06T12:55:07.759339Z"
    }
   },
   "id": "9d4dfe82bca216c9",
   "execution_count": 69
  },
  {
   "cell_type": "code",
   "outputs": [],
   "source": [],
   "metadata": {
    "collapsed": false,
    "ExecuteTime": {
     "end_time": "2024-03-06T12:55:07.958205Z",
     "start_time": "2024-03-06T12:55:07.839482Z"
    }
   },
   "id": "79a62ea8a0813366",
   "execution_count": 69
  },
  {
   "cell_type": "code",
   "outputs": [],
   "source": [
    "scaler = StandardScaler()\n",
    "scaler.fit(X_train)\n",
    "scaled_X_train = scaler.transform(X_train)\n",
    "scaled_x_test = scaler.transform(x_test)"
   ],
   "metadata": {
    "collapsed": false,
    "ExecuteTime": {
     "end_time": "2024-03-06T12:55:07.985022Z",
     "start_time": "2024-03-06T12:55:07.962549Z"
    }
   },
   "id": "afb31d1e596ca715",
   "execution_count": 70
  },
  {
   "cell_type": "code",
   "outputs": [
    {
     "data": {
      "text/plain": "(1.0, 0.8265841316674167)"
     },
     "execution_count": 71,
     "metadata": {},
     "output_type": "execute_result"
    }
   ],
   "source": [
    "from sklearn.tree import DecisionTreeRegressor\n",
    "\n",
    "model = DecisionTreeRegressor()\n",
    "model.fit(scaled_X_train, y_train)\n",
    "model.score(scaled_X_train,y_train), model.score(scaled_x_test, y_test)"
   ],
   "metadata": {
    "collapsed": false,
    "ExecuteTime": {
     "end_time": "2024-03-06T12:55:07.985535Z",
     "start_time": "2024-03-06T12:55:07.966272Z"
    }
   },
   "id": "6591e5bb73f08d03",
   "execution_count": 71
  },
  {
   "cell_type": "code",
   "outputs": [
    {
     "data": {
      "text/plain": "GridSearchCV(estimator=DecisionTreeRegressor(),\n             param_grid={'max_depth': range(2, 11),\n                         'max_features': ['sqrt', 'log2', 1, 2, 3],\n                         'min_samples_leaf': range(1, 11),\n                         'min_samples_split': range(2, 21)},\n             return_train_score=True)",
      "text/html": "<style>#sk-container-id-17 {color: black;}#sk-container-id-17 pre{padding: 0;}#sk-container-id-17 div.sk-toggleable {background-color: white;}#sk-container-id-17 label.sk-toggleable__label {cursor: pointer;display: block;width: 100%;margin-bottom: 0;padding: 0.3em;box-sizing: border-box;text-align: center;}#sk-container-id-17 label.sk-toggleable__label-arrow:before {content: \"▸\";float: left;margin-right: 0.25em;color: #696969;}#sk-container-id-17 label.sk-toggleable__label-arrow:hover:before {color: black;}#sk-container-id-17 div.sk-estimator:hover label.sk-toggleable__label-arrow:before {color: black;}#sk-container-id-17 div.sk-toggleable__content {max-height: 0;max-width: 0;overflow: hidden;text-align: left;background-color: #f0f8ff;}#sk-container-id-17 div.sk-toggleable__content pre {margin: 0.2em;color: black;border-radius: 0.25em;background-color: #f0f8ff;}#sk-container-id-17 input.sk-toggleable__control:checked~div.sk-toggleable__content {max-height: 200px;max-width: 100%;overflow: auto;}#sk-container-id-17 input.sk-toggleable__control:checked~label.sk-toggleable__label-arrow:before {content: \"▾\";}#sk-container-id-17 div.sk-estimator input.sk-toggleable__control:checked~label.sk-toggleable__label {background-color: #d4ebff;}#sk-container-id-17 div.sk-label input.sk-toggleable__control:checked~label.sk-toggleable__label {background-color: #d4ebff;}#sk-container-id-17 input.sk-hidden--visually {border: 0;clip: rect(1px 1px 1px 1px);clip: rect(1px, 1px, 1px, 1px);height: 1px;margin: -1px;overflow: hidden;padding: 0;position: absolute;width: 1px;}#sk-container-id-17 div.sk-estimator {font-family: monospace;background-color: #f0f8ff;border: 1px dotted black;border-radius: 0.25em;box-sizing: border-box;margin-bottom: 0.5em;}#sk-container-id-17 div.sk-estimator:hover {background-color: #d4ebff;}#sk-container-id-17 div.sk-parallel-item::after {content: \"\";width: 100%;border-bottom: 1px solid gray;flex-grow: 1;}#sk-container-id-17 div.sk-label:hover label.sk-toggleable__label {background-color: #d4ebff;}#sk-container-id-17 div.sk-serial::before {content: \"\";position: absolute;border-left: 1px solid gray;box-sizing: border-box;top: 0;bottom: 0;left: 50%;z-index: 0;}#sk-container-id-17 div.sk-serial {display: flex;flex-direction: column;align-items: center;background-color: white;padding-right: 0.2em;padding-left: 0.2em;position: relative;}#sk-container-id-17 div.sk-item {position: relative;z-index: 1;}#sk-container-id-17 div.sk-parallel {display: flex;align-items: stretch;justify-content: center;background-color: white;position: relative;}#sk-container-id-17 div.sk-item::before, #sk-container-id-17 div.sk-parallel-item::before {content: \"\";position: absolute;border-left: 1px solid gray;box-sizing: border-box;top: 0;bottom: 0;left: 50%;z-index: -1;}#sk-container-id-17 div.sk-parallel-item {display: flex;flex-direction: column;z-index: 1;position: relative;background-color: white;}#sk-container-id-17 div.sk-parallel-item:first-child::after {align-self: flex-end;width: 50%;}#sk-container-id-17 div.sk-parallel-item:last-child::after {align-self: flex-start;width: 50%;}#sk-container-id-17 div.sk-parallel-item:only-child::after {width: 0;}#sk-container-id-17 div.sk-dashed-wrapped {border: 1px dashed gray;margin: 0 0.4em 0.5em 0.4em;box-sizing: border-box;padding-bottom: 0.4em;background-color: white;}#sk-container-id-17 div.sk-label label {font-family: monospace;font-weight: bold;display: inline-block;line-height: 1.2em;}#sk-container-id-17 div.sk-label-container {text-align: center;}#sk-container-id-17 div.sk-container {/* jupyter's `normalize.less` sets `[hidden] { display: none; }` but bootstrap.min.css set `[hidden] { display: none !important; }` so we also need the `!important` here to be able to override the default hidden behavior on the sphinx rendered scikit-learn.org. See: https://github.com/scikit-learn/scikit-learn/issues/21755 */display: inline-block !important;position: relative;}#sk-container-id-17 div.sk-text-repr-fallback {display: none;}</style><div id=\"sk-container-id-17\" class=\"sk-top-container\"><div class=\"sk-text-repr-fallback\"><pre>GridSearchCV(estimator=DecisionTreeRegressor(),\n             param_grid={&#x27;max_depth&#x27;: range(2, 11),\n                         &#x27;max_features&#x27;: [&#x27;sqrt&#x27;, &#x27;log2&#x27;, 1, 2, 3],\n                         &#x27;min_samples_leaf&#x27;: range(1, 11),\n                         &#x27;min_samples_split&#x27;: range(2, 21)},\n             return_train_score=True)</pre><b>In a Jupyter environment, please rerun this cell to show the HTML representation or trust the notebook. <br />On GitHub, the HTML representation is unable to render, please try loading this page with nbviewer.org.</b></div><div class=\"sk-container\" hidden><div class=\"sk-item sk-dashed-wrapped\"><div class=\"sk-label-container\"><div class=\"sk-label sk-toggleable\"><input class=\"sk-toggleable__control sk-hidden--visually\" id=\"sk-estimator-id-49\" type=\"checkbox\" ><label for=\"sk-estimator-id-49\" class=\"sk-toggleable__label sk-toggleable__label-arrow\">GridSearchCV</label><div class=\"sk-toggleable__content\"><pre>GridSearchCV(estimator=DecisionTreeRegressor(),\n             param_grid={&#x27;max_depth&#x27;: range(2, 11),\n                         &#x27;max_features&#x27;: [&#x27;sqrt&#x27;, &#x27;log2&#x27;, 1, 2, 3],\n                         &#x27;min_samples_leaf&#x27;: range(1, 11),\n                         &#x27;min_samples_split&#x27;: range(2, 21)},\n             return_train_score=True)</pre></div></div></div><div class=\"sk-parallel\"><div class=\"sk-parallel-item\"><div class=\"sk-item\"><div class=\"sk-label-container\"><div class=\"sk-label sk-toggleable\"><input class=\"sk-toggleable__control sk-hidden--visually\" id=\"sk-estimator-id-50\" type=\"checkbox\" ><label for=\"sk-estimator-id-50\" class=\"sk-toggleable__label sk-toggleable__label-arrow\">estimator: DecisionTreeRegressor</label><div class=\"sk-toggleable__content\"><pre>DecisionTreeRegressor()</pre></div></div></div><div class=\"sk-serial\"><div class=\"sk-item\"><div class=\"sk-estimator sk-toggleable\"><input class=\"sk-toggleable__control sk-hidden--visually\" id=\"sk-estimator-id-51\" type=\"checkbox\" ><label for=\"sk-estimator-id-51\" class=\"sk-toggleable__label sk-toggleable__label-arrow\">DecisionTreeRegressor</label><div class=\"sk-toggleable__content\"><pre>DecisionTreeRegressor()</pre></div></div></div></div></div></div></div></div></div></div>"
     },
     "execution_count": 72,
     "metadata": {},
     "output_type": "execute_result"
    }
   ],
   "source": [
    "from sklearn.model_selection import GridSearchCV, RandomizedSearchCV\n",
    "\n",
    "param = {\n",
    "    # 'criterion' : ['gini', 'entropy', 'log_loss'],\n",
    "    'max_depth': range(2, 11),\n",
    "    'min_samples_split': range(2, 21),\n",
    "    'min_samples_leaf': range(1, 11),\n",
    "    # 'min_weight_fraction_leaf' : range(0,1),\n",
    "    'max_features': [\"sqrt\", \"log2\", 1, 2, 3],\n",
    "    # 'max_leaf_nodes' : range(1,5),\n",
    "    # 'min_impurity_decrese' : range(0,10),\n",
    "    # 'class_weight' : [None, 'balanced'],\n",
    "    # 'ccp_alpha' : range(0,10)\n",
    "    # 'monotonic_cst' : \n",
    "         }\n",
    "\n",
    "gridcv = GridSearchCV(model, param_grid=param,return_train_score=True)\n",
    "gridcv.fit(scaled_X_train,y_train)\n"
   ],
   "metadata": {
    "collapsed": false,
    "ExecuteTime": {
     "end_time": "2024-03-06T12:55:46.235501Z",
     "start_time": "2024-03-06T12:55:07.988154Z"
    }
   },
   "id": "e0846f9d8870700d",
   "execution_count": 72
  },
  {
   "cell_type": "code",
   "outputs": [
    {
     "name": "stdout",
     "output_type": "stream",
     "text": [
      "Best model: DecisionTreeRegressor(max_depth=6, max_features=3)\n",
      "Best parameters: {'max_depth': 6, 'max_features': 3, 'min_samples_leaf': 1, 'min_samples_split': 2}\n"
     ]
    }
   ],
   "source": [
    "best_model = gridcv.best_estimator_\n",
    "best_params = gridcv.best_params_\n",
    "print(\"Best model:\", best_model)\n",
    "print(\"Best parameters:\", best_params)"
   ],
   "metadata": {
    "collapsed": false,
    "ExecuteTime": {
     "end_time": "2024-03-06T12:55:46.236691Z",
     "start_time": "2024-03-06T12:55:46.208130Z"
    }
   },
   "id": "c5f5db6d545c9f3d",
   "execution_count": 73
  },
  {
   "cell_type": "code",
   "outputs": [
    {
     "name": "stdout",
     "output_type": "stream",
     "text": [
      "\n",
      "R2 : 0.827\n",
      "MAE : 2.662\n",
      "MSE : 13.721\n",
      "RMSE : 3.704\n"
     ]
    }
   ],
   "source": [
    "from sklearn.metrics import r2_score,mean_squared_error,mean_absolute_error\n",
    "y_pre = model.predict(scaled_x_test)\n",
    "r2 = r2_score(y_test, y_pre)\n",
    "mse = mean_squared_error(y_test, y_pre)\n",
    "mae = mean_absolute_error(y_test, y_pre)\n",
    "rmse = mean_squared_error(y_test, y_pre, squared=False)\n",
    "print(f'''\\nR2 : {r2:.3f}\\nMAE : {mae:.3f}\\nMSE : {mse:.3f}\\nRMSE : {rmse:.3f}''')"
   ],
   "metadata": {
    "collapsed": false,
    "ExecuteTime": {
     "end_time": "2024-03-06T12:55:46.237150Z",
     "start_time": "2024-03-06T12:55:46.212379Z"
    }
   },
   "id": "5298939cd42385b0",
   "execution_count": 74
  },
  {
   "cell_type": "code",
   "outputs": [
    {
     "name": "stdout",
     "output_type": "stream",
     "text": [
      "1.0\n"
     ]
    }
   ],
   "source": [
    "c =0\n",
    "for b in best_model.feature_importances_:\n",
    "    c +=b\n",
    "print(c)"
   ],
   "metadata": {
    "collapsed": false,
    "ExecuteTime": {
     "end_time": "2024-03-06T12:55:46.237525Z",
     "start_time": "2024-03-06T12:55:46.218374Z"
    }
   },
   "id": "671091cca579dbb4",
   "execution_count": 75
  },
  {
   "cell_type": "code",
   "outputs": [
    {
     "name": "stdout",
     "output_type": "stream",
     "text": [
      "Feature: RM | Importance: 0.661\n",
      "Feature: LSTAT | Importance: 0.164\n",
      "Feature: PTRATIO | Importance: 0.136\n",
      "Feature: INDUS | Importance: 0.024\n",
      "Feature: TAX | Importance: 0.016\n"
     ]
    },
    {
     "data": {
      "text/plain": "<Figure size 640x480 with 1 Axes>",
      "image/png": "[encoded data removed]"
     },
     "metadata": {},
     "output_type": "display_data"
    }
   ],
   "source": [
    "scaled_X_train = pd.DataFrame(scaled_X_train)\n",
    "\n",
    "feature_importances = best_model.feature_importances_\n",
    "\n",
    "for feature, importance in sorted(zip(featureDF.columns, feature_importances), key=lambda x: x[1], reverse=True):\n",
    "    print(f\"Feature: {feature} | Importance: {importance:.3f}\")\n",
    "\n",
    "plt.bar(featureDF.columns, feature_importances)\n",
    "plt.xlabel(\"Feature Importance\")\n",
    "plt.show()"
   ],
   "metadata": {
    "collapsed": false,
    "ExecuteTime": {
     "end_time": "2024-03-06T12:56:11.335159Z",
     "start_time": "2024-03-06T12:56:11.271927Z"
    }
   },
   "id": "d0b6f6f2dc87b705",
   "execution_count": 80
  },
  {
   "cell_type": "code",
   "outputs": [],
   "source": [],
   "metadata": {
    "collapsed": false,
    "ExecuteTime": {
     "end_time": "2024-03-06T12:55:46.319762Z",
     "start_time": "2024-03-06T12:55:46.278107Z"
    }
   },
   "id": "6dfb03f2f4a5092b",
   "execution_count": 76
  }
 ],
 "metadata": {
  "kernelspec": {
   "display_name": "Python 3",
   "language": "python",
   "name": "python3"
  },
  "language_info": {
   "codemirror_mode": {
    "name": "ipython",
    "version": 2
   },
   "file_extension": ".py",
   "mimetype": "text/x-python",
   "name": "python",
   "nbconvert_exporter": "python",
   "pygments_lexer": "ipython2",
   "version": "2.7.6"
  }
 },
 "nbformat": 4,
 "nbformat_minor": 5
}
