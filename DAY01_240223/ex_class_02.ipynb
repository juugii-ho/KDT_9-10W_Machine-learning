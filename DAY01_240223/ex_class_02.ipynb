{
 "cells": [
  {
   "cell_type": "markdown",
   "source": [
    "# 상속(Inheritance)\n",
    "- 다중 상속 허용\n",
    "- 문법 : class 자식클래스명(부모클래스명, ... )"
   ],
   "metadata": {
    "collapsed": false
   },
   "id": "8be86bf841ddf255"
  },
  {
   "cell_type": "code",
   "outputs": [
    {
     "name": "stdout",
     "output_type": "stream",
     "text": [
      "A\n",
      "B\n"
     ]
    }
   ],
   "source": [
    "class A:\n",
    "    @classmethod\n",
    "    def printInfo(cls):\n",
    "        print(\"A\")\n",
    "        \n",
    "class B:\n",
    "    @classmethod\n",
    "    def printInfo(cls):\n",
    "        print(\"B\")\n",
    "        \n",
    "class AB(A,B): pass\n",
    "\n",
    "class CC(B,A): pass\n",
    "\n",
    "ab1 = AB()\n",
    "ab1.printInfo() # 이름 충돌이 나서 앞(A)에서만 실행함\n",
    "\n",
    "CC.printInfo() # 이름 충돌이 나서 앞(B)에서만 실행함"
   ],
   "metadata": {
    "collapsed": false,
    "ExecuteTime": {
     "end_time": "2024-02-23T02:18:44.886028Z",
     "start_time": "2024-02-23T02:18:44.881429Z"
    }
   },
   "id": "dd5bd32346ae7340",
   "execution_count": 5
  },
  {
   "cell_type": "code",
   "outputs": [],
   "source": [],
   "metadata": {
    "collapsed": false
   },
   "id": "ca1b7d9fad2882b0"
  }
 ],
 "metadata": {
  "kernelspec": {
   "display_name": "Python 3",
   "language": "python",
   "name": "python3"
  },
  "language_info": {
   "codemirror_mode": {
    "name": "ipython",
    "version": 2
   },
   "file_extension": ".py",
   "mimetype": "text/x-python",
   "name": "python",
   "nbconvert_exporter": "python",
   "pygments_lexer": "ipython2",
   "version": "2.7.6"
  }
 },
 "nbformat": 4,
 "nbformat_minor": 5
}
