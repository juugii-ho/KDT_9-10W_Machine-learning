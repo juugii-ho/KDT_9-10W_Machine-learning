{
 "cells": [
  {
   "cell_type": "markdown",
   "source": [
    "### 목표 : 생선 품종 분류 모델\n",
    "- 데     이     터 : fish.csv\n",
    "- f e a t u r e  : Weight, Length\n",
    "- target(=label) : Species\n",
    "- 기  계  학  습   : 지도학습 + 분류 ( 도미Bream, 빙어Smelt 분류는 이진분류 )"
   ],
   "metadata": {
    "collapsed": false
   },
   "id": "a6e09f34393b71eb"
  },
  {
   "cell_type": "markdown",
   "source": [
    "#### (1) 모듈 로딩 및 데이터 준비\n",
    "<hr>"
   ],
   "metadata": {
    "collapsed": false
   },
   "id": "ead92921ad0ca26f"
  },
  {
   "cell_type": "code",
   "execution_count": 46,
   "id": "initial_id",
   "metadata": {
    "collapsed": true,
    "ExecuteTime": {
     "end_time": "2024-02-23T06:36:44.541892Z",
     "start_time": "2024-02-23T06:36:43.864571Z"
    }
   },
   "outputs": [],
   "source": [
    "# 데이터분석 모듈 로딩\n",
    "import pandas as pd\n",
    "# import numpy as np\n",
    "# import matplotlib.pyplot as plt"
   ]
  },
  {
   "cell_type": "code",
   "outputs": [],
   "source": [
    "# 데이터 파일 설정\n",
    "data_file = '../data/fish.csv'"
   ],
   "metadata": {
    "collapsed": false,
    "ExecuteTime": {
     "end_time": "2024-02-23T06:36:44.542234Z",
     "start_time": "2024-02-23T06:36:44.528671Z"
    }
   },
   "id": "3de9b1d497042048",
   "execution_count": 47
  },
  {
   "cell_type": "code",
   "outputs": [
    {
     "name": "stdout",
     "output_type": "stream",
     "text": [
      "<class 'pandas.core.frame.DataFrame'>\n",
      "RangeIndex: 159 entries, 0 to 158\n",
      "Data columns (total 3 columns):\n",
      " #   Column   Non-Null Count  Dtype  \n",
      "---  ------   --------------  -----  \n",
      " 0   Species  159 non-null    object \n",
      " 1   Weight   159 non-null    float64\n",
      " 2   Length   159 non-null    float64\n",
      "dtypes: float64(2), object(1)\n",
      "memory usage: 3.9+ KB\n"
     ]
    }
   ],
   "source": [
    "# DF로 데이터 파일 준비\n",
    "fishDf= pd.read_csv(data_file, usecols=[0,1,2])\n",
    "\n",
    "# 기본정보 확인\n",
    "fishDf.info()"
   ],
   "metadata": {
    "collapsed": false,
    "ExecuteTime": {
     "end_time": "2024-02-23T06:36:44.542491Z",
     "start_time": "2024-02-23T06:36:44.531480Z"
    }
   },
   "id": "1f7e4f6fc6cb3e1b",
   "execution_count": 48
  },
  {
   "cell_type": "markdown",
   "source": [
    "#### (2) 데이터 전처리\n",
    "- 결측치, 중복데이터, 이상치\n",
    "<hr>"
   ],
   "metadata": {
    "collapsed": false
   },
   "id": "eebe7f2a3c53c2f3"
  },
  {
   "cell_type": "code",
   "outputs": [
    {
     "data": {
      "text/plain": "    Species  Weight  Length\n154   Smelt    12.2    12.2\n155   Smelt    13.4    12.4\n156   Smelt    12.2    13.0\n157   Smelt    19.7    14.3\n158   Smelt    19.9    15.0",
      "text/html": "<div>\n<style scoped>\n    .dataframe tbody tr th:only-of-type {\n        vertical-align: middle;\n    }\n\n    .dataframe tbody tr th {\n        vertical-align: top;\n    }\n\n    .dataframe thead th {\n        text-align: right;\n    }\n</style>\n<table border=\"1\" class=\"dataframe\">\n  <thead>\n    <tr style=\"text-align: right;\">\n      <th></th>\n      <th>Species</th>\n      <th>Weight</th>\n      <th>Length</th>\n    </tr>\n  </thead>\n  <tbody>\n    <tr>\n      <th>154</th>\n      <td>Smelt</td>\n      <td>12.2</td>\n      <td>12.2</td>\n    </tr>\n    <tr>\n      <th>155</th>\n      <td>Smelt</td>\n      <td>13.4</td>\n      <td>12.4</td>\n    </tr>\n    <tr>\n      <th>156</th>\n      <td>Smelt</td>\n      <td>12.2</td>\n      <td>13.0</td>\n    </tr>\n    <tr>\n      <th>157</th>\n      <td>Smelt</td>\n      <td>19.7</td>\n      <td>14.3</td>\n    </tr>\n    <tr>\n      <th>158</th>\n      <td>Smelt</td>\n      <td>19.9</td>\n      <td>15.0</td>\n    </tr>\n  </tbody>\n</table>\n</div>"
     },
     "execution_count": 135,
     "metadata": {},
     "output_type": "execute_result"
    }
   ],
   "source": [
    "# 컬럼별 고유값으로 이상치 체크 => unique()\n",
    "fishDf.Species.unique()\n",
    "fishDf.Weight.unique()\n",
    "fishDf.Length.unique()\n",
    "fishDf.tail()"
   ],
   "metadata": {
    "collapsed": false,
    "ExecuteTime": {
     "end_time": "2024-02-23T08:19:53.800073Z",
     "start_time": "2024-02-23T08:19:53.793049Z"
    }
   },
   "id": "853d6acecc01068f",
   "execution_count": 135
  },
  {
   "cell_type": "code",
   "outputs": [
    {
     "data": {
      "text/plain": "Species    0\nWeight     0\nLength     0\ndtype: int64"
     },
     "execution_count": 50,
     "metadata": {},
     "output_type": "execute_result"
    }
   ],
   "source": [
    "# 결측치 체크 => isna() / isnull()\n",
    "fishDf.isna().sum()"
   ],
   "metadata": {
    "collapsed": false,
    "ExecuteTime": {
     "end_time": "2024-02-23T06:36:44.870085Z",
     "start_time": "2024-02-23T06:36:44.866400Z"
    }
   },
   "id": "fe7f12dbc2e7e1a1",
   "execution_count": 50
  },
  {
   "cell_type": "code",
   "outputs": [
    {
     "data": {
      "text/plain": "0      False\n1      False\n2      False\n3      False\n4      False\n       ...  \n154    False\n155    False\n156    False\n157    False\n158    False\nLength: 159, dtype: bool"
     },
     "execution_count": 51,
     "metadata": {},
     "output_type": "execute_result"
    }
   ],
   "source": [
    "# 중복데이터 => duplicated()\n",
    "fishDf.duplicated()"
   ],
   "metadata": {
    "collapsed": false,
    "ExecuteTime": {
     "end_time": "2024-02-23T06:36:45.101485Z",
     "start_time": "2024-02-23T06:36:45.065725Z"
    }
   },
   "id": "5479d7a11259b23",
   "execution_count": 51
  },
  {
   "cell_type": "code",
   "outputs": [],
   "source": [],
   "metadata": {
    "collapsed": false,
    "ExecuteTime": {
     "end_time": "2024-02-23T06:36:45.186748Z",
     "start_time": "2024-02-23T06:36:45.176361Z"
    }
   },
   "id": "5d2902a521c6f748",
   "execution_count": 51
  },
  {
   "cell_type": "code",
   "outputs": [
    {
     "name": "stdout",
     "output_type": "stream",
     "text": [
      "<class 'pandas.core.frame.DataFrame'>\n",
      "Index: 49 entries, 0 to 158\n",
      "Data columns (total 3 columns):\n",
      " #   Column   Non-Null Count  Dtype  \n",
      "---  ------   --------------  -----  \n",
      " 0   Species  49 non-null     object \n",
      " 1   Weight   49 non-null     float64\n",
      " 2   Length   49 non-null     float64\n",
      "dtypes: float64(2), object(1)\n",
      "memory usage: 1.5+ KB\n",
      "  Species  Weight  Length\n",
      "0   Bream   242.0    25.4\n",
      "1   Bream   290.0    26.3\n",
      "2   Bream   340.0    26.5\n",
      "   Species  Weight  Length\n",
      "46   Smelt    12.2    13.0\n",
      "47   Smelt    19.7    14.3\n",
      "48   Smelt    19.9    15.0\n"
     ]
    }
   ],
   "source": [
    "## 'Bream', 'Smelt' 값 추출\n",
    "mask = fishDf.Species.isin(['Bream', 'Smelt'])\n",
    "twoFishDF = fishDf[mask]\n",
    "twoFishDF.info()\n",
    "\n",
    "# 인덱스 리셋 : 기존의 인덱스 삭제 후 0-base 인덱스 설정\n",
    "# Scikit-learn에 저장 시 ndarray 타입으로 저장되면서 인덱스 정리\n",
    "twoFishDF = twoFishDF.reset_index(drop=True)\n",
    "\n",
    "print(twoFishDF.head(3), twoFishDF.tail(3), sep='\\n')"
   ],
   "metadata": {
    "collapsed": false,
    "ExecuteTime": {
     "end_time": "2024-02-23T08:18:35.896531Z",
     "start_time": "2024-02-23T08:18:35.887063Z"
    }
   },
   "id": "393130231b489303",
   "execution_count": 133
  },
  {
   "cell_type": "markdown",
   "source": [
    "#### (3) 학습용 데이터 준비 => 피쳐 + 타겟 분리\n",
    "<hr>"
   ],
   "metadata": {
    "collapsed": false
   },
   "id": "b68d2c6bbca34a2b"
  },
  {
   "cell_type": "code",
   "outputs": [
    {
     "data": {
      "text/plain": "    Weight  Length\n0    242.0    25.4\n1    290.0    26.3\n2    340.0    26.5\n3    363.0    29.0\n4    430.0    29.0\n5    450.0    29.7\n6    500.0    29.7\n7    390.0    30.0\n8    450.0    30.0\n9    500.0    30.7\n10   475.0    31.0\n11   500.0    31.0\n12   500.0    31.5\n13   340.0    32.0\n14   600.0    32.0\n15   600.0    32.0\n16   700.0    33.0\n17   700.0    33.0\n18   610.0    33.5\n19   650.0    33.5\n20   575.0    34.0\n21   685.0    34.0\n22   620.0    34.5\n23   680.0    35.0\n24   700.0    35.0\n25   725.0    35.0\n26   720.0    35.0\n27   714.0    36.0\n28   850.0    36.0\n29  1000.0    37.0\n30   920.0    38.5\n31   955.0    38.5\n32   925.0    39.5\n33   975.0    41.0\n34   950.0    41.0\n35     6.7     9.8\n36     7.5    10.5\n37     7.0    10.6\n38     9.7    11.0\n39     9.8    11.2\n40     8.7    11.3\n41    10.0    11.8\n42     9.9    11.8\n43     9.8    12.0\n44    12.2    12.2\n45    13.4    12.4\n46    12.2    13.0\n47    19.7    14.3\n48    19.9    15.0",
      "text/html": "<div>\n<style scoped>\n    .dataframe tbody tr th:only-of-type {\n        vertical-align: middle;\n    }\n\n    .dataframe tbody tr th {\n        vertical-align: top;\n    }\n\n    .dataframe thead th {\n        text-align: right;\n    }\n</style>\n<table border=\"1\" class=\"dataframe\">\n  <thead>\n    <tr style=\"text-align: right;\">\n      <th></th>\n      <th>Weight</th>\n      <th>Length</th>\n    </tr>\n  </thead>\n  <tbody>\n    <tr>\n      <th>0</th>\n      <td>242.0</td>\n      <td>25.4</td>\n    </tr>\n    <tr>\n      <th>1</th>\n      <td>290.0</td>\n      <td>26.3</td>\n    </tr>\n    <tr>\n      <th>2</th>\n      <td>340.0</td>\n      <td>26.5</td>\n    </tr>\n    <tr>\n      <th>3</th>\n      <td>363.0</td>\n      <td>29.0</td>\n    </tr>\n    <tr>\n      <th>4</th>\n      <td>430.0</td>\n      <td>29.0</td>\n    </tr>\n    <tr>\n      <th>5</th>\n      <td>450.0</td>\n      <td>29.7</td>\n    </tr>\n    <tr>\n      <th>6</th>\n      <td>500.0</td>\n      <td>29.7</td>\n    </tr>\n    <tr>\n      <th>7</th>\n      <td>390.0</td>\n      <td>30.0</td>\n    </tr>\n    <tr>\n      <th>8</th>\n      <td>450.0</td>\n      <td>30.0</td>\n    </tr>\n    <tr>\n      <th>9</th>\n      <td>500.0</td>\n      <td>30.7</td>\n    </tr>\n    <tr>\n      <th>10</th>\n      <td>475.0</td>\n      <td>31.0</td>\n    </tr>\n    <tr>\n      <th>11</th>\n      <td>500.0</td>\n      <td>31.0</td>\n    </tr>\n    <tr>\n      <th>12</th>\n      <td>500.0</td>\n      <td>31.5</td>\n    </tr>\n    <tr>\n      <th>13</th>\n      <td>340.0</td>\n      <td>32.0</td>\n    </tr>\n    <tr>\n      <th>14</th>\n      <td>600.0</td>\n      <td>32.0</td>\n    </tr>\n    <tr>\n      <th>15</th>\n      <td>600.0</td>\n      <td>32.0</td>\n    </tr>\n    <tr>\n      <th>16</th>\n      <td>700.0</td>\n      <td>33.0</td>\n    </tr>\n    <tr>\n      <th>17</th>\n      <td>700.0</td>\n      <td>33.0</td>\n    </tr>\n    <tr>\n      <th>18</th>\n      <td>610.0</td>\n      <td>33.5</td>\n    </tr>\n    <tr>\n      <th>19</th>\n      <td>650.0</td>\n      <td>33.5</td>\n    </tr>\n    <tr>\n      <th>20</th>\n      <td>575.0</td>\n      <td>34.0</td>\n    </tr>\n    <tr>\n      <th>21</th>\n      <td>685.0</td>\n      <td>34.0</td>\n    </tr>\n    <tr>\n      <th>22</th>\n      <td>620.0</td>\n      <td>34.5</td>\n    </tr>\n    <tr>\n      <th>23</th>\n      <td>680.0</td>\n      <td>35.0</td>\n    </tr>\n    <tr>\n      <th>24</th>\n      <td>700.0</td>\n      <td>35.0</td>\n    </tr>\n    <tr>\n      <th>25</th>\n      <td>725.0</td>\n      <td>35.0</td>\n    </tr>\n    <tr>\n      <th>26</th>\n      <td>720.0</td>\n      <td>35.0</td>\n    </tr>\n    <tr>\n      <th>27</th>\n      <td>714.0</td>\n      <td>36.0</td>\n    </tr>\n    <tr>\n      <th>28</th>\n      <td>850.0</td>\n      <td>36.0</td>\n    </tr>\n    <tr>\n      <th>29</th>\n      <td>1000.0</td>\n      <td>37.0</td>\n    </tr>\n    <tr>\n      <th>30</th>\n      <td>920.0</td>\n      <td>38.5</td>\n    </tr>\n    <tr>\n      <th>31</th>\n      <td>955.0</td>\n      <td>38.5</td>\n    </tr>\n    <tr>\n      <th>32</th>\n      <td>925.0</td>\n      <td>39.5</td>\n    </tr>\n    <tr>\n      <th>33</th>\n      <td>975.0</td>\n      <td>41.0</td>\n    </tr>\n    <tr>\n      <th>34</th>\n      <td>950.0</td>\n      <td>41.0</td>\n    </tr>\n    <tr>\n      <th>35</th>\n      <td>6.7</td>\n      <td>9.8</td>\n    </tr>\n    <tr>\n      <th>36</th>\n      <td>7.5</td>\n      <td>10.5</td>\n    </tr>\n    <tr>\n      <th>37</th>\n      <td>7.0</td>\n      <td>10.6</td>\n    </tr>\n    <tr>\n      <th>38</th>\n      <td>9.7</td>\n      <td>11.0</td>\n    </tr>\n    <tr>\n      <th>39</th>\n      <td>9.8</td>\n      <td>11.2</td>\n    </tr>\n    <tr>\n      <th>40</th>\n      <td>8.7</td>\n      <td>11.3</td>\n    </tr>\n    <tr>\n      <th>41</th>\n      <td>10.0</td>\n      <td>11.8</td>\n    </tr>\n    <tr>\n      <th>42</th>\n      <td>9.9</td>\n      <td>11.8</td>\n    </tr>\n    <tr>\n      <th>43</th>\n      <td>9.8</td>\n      <td>12.0</td>\n    </tr>\n    <tr>\n      <th>44</th>\n      <td>12.2</td>\n      <td>12.2</td>\n    </tr>\n    <tr>\n      <th>45</th>\n      <td>13.4</td>\n      <td>12.4</td>\n    </tr>\n    <tr>\n      <th>46</th>\n      <td>12.2</td>\n      <td>13.0</td>\n    </tr>\n    <tr>\n      <th>47</th>\n      <td>19.7</td>\n      <td>14.3</td>\n    </tr>\n    <tr>\n      <th>48</th>\n      <td>19.9</td>\n      <td>15.0</td>\n    </tr>\n  </tbody>\n</table>\n</div>"
     },
     "execution_count": 118,
     "metadata": {},
     "output_type": "execute_result"
    }
   ],
   "source": [
    "# 피쳐 데이터 추출\n",
    "feature = twoFishDF[twoFishDF.columns[1:]]\n",
    "feature"
   ],
   "metadata": {
    "collapsed": false,
    "ExecuteTime": {
     "end_time": "2024-02-23T08:13:03.130501Z",
     "start_time": "2024-02-23T08:13:03.128256Z"
    }
   },
   "id": "2a346c9bdc16de93",
   "execution_count": 118
  },
  {
   "cell_type": "code",
   "outputs": [
    {
     "name": "stdout",
     "output_type": "stream",
     "text": [
      "0    0\n",
      "1    0\n",
      "2    0\n",
      "Name: Species, dtype: int64\n",
      "\n",
      "46    1\n",
      "47    1\n",
      "48    1\n",
      "Name: Species, dtype: int64\n"
     ]
    }
   ],
   "source": [
    "# 타겟 데이터 추출\n",
    "target = twoFishDF.Species\n",
    "\n",
    "# Bream = 0, Smelt =1 로 변환\n",
    "# sklearn이 업데이트 되면서 문자열 넣었을 때 에러나는 경우 있어서 정수형으로 바꿈\n",
    "target = target.replace({'Bream':0, 'Smelt':1}).copy()\n",
    "\n",
    "# 데이터 확인\n",
    "print(target.head(3), target.tail(3), sep='\\n\\n')"
   ],
   "metadata": {
    "collapsed": false,
    "ExecuteTime": {
     "end_time": "2024-02-23T08:13:03.248997Z",
     "start_time": "2024-02-23T08:13:03.240340Z"
    }
   },
   "id": "8a35dafd470ba5aa",
   "execution_count": 119
  },
  {
   "cell_type": "markdown",
   "source": [
    "#### (4) 학습 진행\n",
    "- 알고리즘 구현 인스턴스 생성 => 지도학습 - 분류 알고리즘 중 선택 : KNN\n",
    "- 학습 진행 메서드 => fit()\n",
    "<hr> "
   ],
   "metadata": {
    "collapsed": false
   },
   "id": "e973e8dce40eca94"
  },
  {
   "cell_type": "code",
   "outputs": [],
   "source": [
    "from sklearn.neighbors import KNeighborsClassifier"
   ],
   "metadata": {
    "collapsed": false,
    "ExecuteTime": {
     "end_time": "2024-02-23T08:13:03.377994Z",
     "start_time": "2024-02-23T08:13:03.375894Z"
    }
   },
   "id": "25d03cf6bf0daee7",
   "execution_count": 120
  },
  {
   "cell_type": "code",
   "outputs": [
    {
     "data": {
      "text/plain": "KNeighborsClassifier()",
      "text/html": "<style>#sk-container-id-6 {color: black;}#sk-container-id-6 pre{padding: 0;}#sk-container-id-6 div.sk-toggleable {background-color: white;}#sk-container-id-6 label.sk-toggleable__label {cursor: pointer;display: block;width: 100%;margin-bottom: 0;padding: 0.3em;box-sizing: border-box;text-align: center;}#sk-container-id-6 label.sk-toggleable__label-arrow:before {content: \"▸\";float: left;margin-right: 0.25em;color: #696969;}#sk-container-id-6 label.sk-toggleable__label-arrow:hover:before {color: black;}#sk-container-id-6 div.sk-estimator:hover label.sk-toggleable__label-arrow:before {color: black;}#sk-container-id-6 div.sk-toggleable__content {max-height: 0;max-width: 0;overflow: hidden;text-align: left;background-color: #f0f8ff;}#sk-container-id-6 div.sk-toggleable__content pre {margin: 0.2em;color: black;border-radius: 0.25em;background-color: #f0f8ff;}#sk-container-id-6 input.sk-toggleable__control:checked~div.sk-toggleable__content {max-height: 200px;max-width: 100%;overflow: auto;}#sk-container-id-6 input.sk-toggleable__control:checked~label.sk-toggleable__label-arrow:before {content: \"▾\";}#sk-container-id-6 div.sk-estimator input.sk-toggleable__control:checked~label.sk-toggleable__label {background-color: #d4ebff;}#sk-container-id-6 div.sk-label input.sk-toggleable__control:checked~label.sk-toggleable__label {background-color: #d4ebff;}#sk-container-id-6 input.sk-hidden--visually {border: 0;clip: rect(1px 1px 1px 1px);clip: rect(1px, 1px, 1px, 1px);height: 1px;margin: -1px;overflow: hidden;padding: 0;position: absolute;width: 1px;}#sk-container-id-6 div.sk-estimator {font-family: monospace;background-color: #f0f8ff;border: 1px dotted black;border-radius: 0.25em;box-sizing: border-box;margin-bottom: 0.5em;}#sk-container-id-6 div.sk-estimator:hover {background-color: #d4ebff;}#sk-container-id-6 div.sk-parallel-item::after {content: \"\";width: 100%;border-bottom: 1px solid gray;flex-grow: 1;}#sk-container-id-6 div.sk-label:hover label.sk-toggleable__label {background-color: #d4ebff;}#sk-container-id-6 div.sk-serial::before {content: \"\";position: absolute;border-left: 1px solid gray;box-sizing: border-box;top: 0;bottom: 0;left: 50%;z-index: 0;}#sk-container-id-6 div.sk-serial {display: flex;flex-direction: column;align-items: center;background-color: white;padding-right: 0.2em;padding-left: 0.2em;position: relative;}#sk-container-id-6 div.sk-item {position: relative;z-index: 1;}#sk-container-id-6 div.sk-parallel {display: flex;align-items: stretch;justify-content: center;background-color: white;position: relative;}#sk-container-id-6 div.sk-item::before, #sk-container-id-6 div.sk-parallel-item::before {content: \"\";position: absolute;border-left: 1px solid gray;box-sizing: border-box;top: 0;bottom: 0;left: 50%;z-index: -1;}#sk-container-id-6 div.sk-parallel-item {display: flex;flex-direction: column;z-index: 1;position: relative;background-color: white;}#sk-container-id-6 div.sk-parallel-item:first-child::after {align-self: flex-end;width: 50%;}#sk-container-id-6 div.sk-parallel-item:last-child::after {align-self: flex-start;width: 50%;}#sk-container-id-6 div.sk-parallel-item:only-child::after {width: 0;}#sk-container-id-6 div.sk-dashed-wrapped {border: 1px dashed gray;margin: 0 0.4em 0.5em 0.4em;box-sizing: border-box;padding-bottom: 0.4em;background-color: white;}#sk-container-id-6 div.sk-label label {font-family: monospace;font-weight: bold;display: inline-block;line-height: 1.2em;}#sk-container-id-6 div.sk-label-container {text-align: center;}#sk-container-id-6 div.sk-container {/* jupyter's `normalize.less` sets `[hidden] { display: none; }` but bootstrap.min.css set `[hidden] { display: none !important; }` so we also need the `!important` here to be able to override the default hidden behavior on the sphinx rendered scikit-learn.org. See: https://github.com/scikit-learn/scikit-learn/issues/21755 */display: inline-block !important;position: relative;}#sk-container-id-6 div.sk-text-repr-fallback {display: none;}</style><div id=\"sk-container-id-6\" class=\"sk-top-container\"><div class=\"sk-text-repr-fallback\"><pre>KNeighborsClassifier()</pre><b>In a Jupyter environment, please rerun this cell to show the HTML representation or trust the notebook. <br />On GitHub, the HTML representation is unable to render, please try loading this page with nbviewer.org.</b></div><div class=\"sk-container\" hidden><div class=\"sk-item\"><div class=\"sk-estimator sk-toggleable\"><input class=\"sk-toggleable__control sk-hidden--visually\" id=\"sk-estimator-id-6\" type=\"checkbox\" checked><label for=\"sk-estimator-id-6\" class=\"sk-toggleable__label sk-toggleable__label-arrow\">KNeighborsClassifier</label><div class=\"sk-toggleable__content\"><pre>KNeighborsClassifier()</pre></div></div></div></div></div>"
     },
     "execution_count": 121,
     "metadata": {},
     "output_type": "execute_result"
    }
   ],
   "source": [
    "# (4-1) KNN 인스턴스 생성\n",
    "model=KNeighborsClassifier()\n",
    "\n",
    "model   "
   ],
   "metadata": {
    "collapsed": false,
    "ExecuteTime": {
     "end_time": "2024-02-23T08:13:03.467087Z",
     "start_time": "2024-02-23T08:13:03.464026Z"
    }
   },
   "id": "7ef9581f4b46e0e",
   "execution_count": 121
  },
  {
   "cell_type": "code",
   "outputs": [
    {
     "data": {
      "text/plain": "KNeighborsClassifier()",
      "text/html": "<style>#sk-container-id-7 {color: black;}#sk-container-id-7 pre{padding: 0;}#sk-container-id-7 div.sk-toggleable {background-color: white;}#sk-container-id-7 label.sk-toggleable__label {cursor: pointer;display: block;width: 100%;margin-bottom: 0;padding: 0.3em;box-sizing: border-box;text-align: center;}#sk-container-id-7 label.sk-toggleable__label-arrow:before {content: \"▸\";float: left;margin-right: 0.25em;color: #696969;}#sk-container-id-7 label.sk-toggleable__label-arrow:hover:before {color: black;}#sk-container-id-7 div.sk-estimator:hover label.sk-toggleable__label-arrow:before {color: black;}#sk-container-id-7 div.sk-toggleable__content {max-height: 0;max-width: 0;overflow: hidden;text-align: left;background-color: #f0f8ff;}#sk-container-id-7 div.sk-toggleable__content pre {margin: 0.2em;color: black;border-radius: 0.25em;background-color: #f0f8ff;}#sk-container-id-7 input.sk-toggleable__control:checked~div.sk-toggleable__content {max-height: 200px;max-width: 100%;overflow: auto;}#sk-container-id-7 input.sk-toggleable__control:checked~label.sk-toggleable__label-arrow:before {content: \"▾\";}#sk-container-id-7 div.sk-estimator input.sk-toggleable__control:checked~label.sk-toggleable__label {background-color: #d4ebff;}#sk-container-id-7 div.sk-label input.sk-toggleable__control:checked~label.sk-toggleable__label {background-color: #d4ebff;}#sk-container-id-7 input.sk-hidden--visually {border: 0;clip: rect(1px 1px 1px 1px);clip: rect(1px, 1px, 1px, 1px);height: 1px;margin: -1px;overflow: hidden;padding: 0;position: absolute;width: 1px;}#sk-container-id-7 div.sk-estimator {font-family: monospace;background-color: #f0f8ff;border: 1px dotted black;border-radius: 0.25em;box-sizing: border-box;margin-bottom: 0.5em;}#sk-container-id-7 div.sk-estimator:hover {background-color: #d4ebff;}#sk-container-id-7 div.sk-parallel-item::after {content: \"\";width: 100%;border-bottom: 1px solid gray;flex-grow: 1;}#sk-container-id-7 div.sk-label:hover label.sk-toggleable__label {background-color: #d4ebff;}#sk-container-id-7 div.sk-serial::before {content: \"\";position: absolute;border-left: 1px solid gray;box-sizing: border-box;top: 0;bottom: 0;left: 50%;z-index: 0;}#sk-container-id-7 div.sk-serial {display: flex;flex-direction: column;align-items: center;background-color: white;padding-right: 0.2em;padding-left: 0.2em;position: relative;}#sk-container-id-7 div.sk-item {position: relative;z-index: 1;}#sk-container-id-7 div.sk-parallel {display: flex;align-items: stretch;justify-content: center;background-color: white;position: relative;}#sk-container-id-7 div.sk-item::before, #sk-container-id-7 div.sk-parallel-item::before {content: \"\";position: absolute;border-left: 1px solid gray;box-sizing: border-box;top: 0;bottom: 0;left: 50%;z-index: -1;}#sk-container-id-7 div.sk-parallel-item {display: flex;flex-direction: column;z-index: 1;position: relative;background-color: white;}#sk-container-id-7 div.sk-parallel-item:first-child::after {align-self: flex-end;width: 50%;}#sk-container-id-7 div.sk-parallel-item:last-child::after {align-self: flex-start;width: 50%;}#sk-container-id-7 div.sk-parallel-item:only-child::after {width: 0;}#sk-container-id-7 div.sk-dashed-wrapped {border: 1px dashed gray;margin: 0 0.4em 0.5em 0.4em;box-sizing: border-box;padding-bottom: 0.4em;background-color: white;}#sk-container-id-7 div.sk-label label {font-family: monospace;font-weight: bold;display: inline-block;line-height: 1.2em;}#sk-container-id-7 div.sk-label-container {text-align: center;}#sk-container-id-7 div.sk-container {/* jupyter's `normalize.less` sets `[hidden] { display: none; }` but bootstrap.min.css set `[hidden] { display: none !important; }` so we also need the `!important` here to be able to override the default hidden behavior on the sphinx rendered scikit-learn.org. See: https://github.com/scikit-learn/scikit-learn/issues/21755 */display: inline-block !important;position: relative;}#sk-container-id-7 div.sk-text-repr-fallback {display: none;}</style><div id=\"sk-container-id-7\" class=\"sk-top-container\"><div class=\"sk-text-repr-fallback\"><pre>KNeighborsClassifier()</pre><b>In a Jupyter environment, please rerun this cell to show the HTML representation or trust the notebook. <br />On GitHub, the HTML representation is unable to render, please try loading this page with nbviewer.org.</b></div><div class=\"sk-container\" hidden><div class=\"sk-item\"><div class=\"sk-estimator sk-toggleable\"><input class=\"sk-toggleable__control sk-hidden--visually\" id=\"sk-estimator-id-7\" type=\"checkbox\" checked><label for=\"sk-estimator-id-7\" class=\"sk-toggleable__label sk-toggleable__label-arrow\">KNeighborsClassifier</label><div class=\"sk-toggleable__content\"><pre>KNeighborsClassifier()</pre></div></div></div></div></div>"
     },
     "execution_count": 122,
     "metadata": {},
     "output_type": "execute_result"
    }
   ],
   "source": [
    "# (4-2) 학습 진행 (2차원, 1차원)\n",
    "model.fit(feature,target)"
   ],
   "metadata": {
    "collapsed": false,
    "ExecuteTime": {
     "end_time": "2024-02-23T08:13:03.553766Z",
     "start_time": "2024-02-23T08:13:03.550735Z"
    }
   },
   "id": "613cb34a2a1b2e47",
   "execution_count": 122
  },
  {
   "cell_type": "code",
   "outputs": [
    {
     "name": "stdout",
     "output_type": "stream",
     "text": [
      "classes_ :  [0 1]\n",
      "feature_name_in_ :  ['Weight' 'Length']\n",
      "n_features_in_ :  2\n"
     ]
    }
   ],
   "source": [
    "# 학습 후 속성 확인 => 속성명_ : 모델 파라미터 -> 모델 학습 후 자동으로 생성 및 저장됨!\n",
    "print(\"classes_ : \", model.classes_)\n",
    "print(\"feature_name_in_ : \", model.feature_names_in_)\n",
    "print(\"n_features_in_ : \", model.n_features_in_)\n"
   ],
   "metadata": {
    "collapsed": false,
    "ExecuteTime": {
     "end_time": "2024-02-23T08:13:03.636311Z",
     "start_time": "2024-02-23T08:13:03.633473Z"
    }
   },
   "id": "fc727d18b9cd833c",
   "execution_count": 123
  },
  {
   "cell_type": "markdown",
   "source": [
    "#### (5) 학습 후 검사 즉 테스트 => 메서드 : score()\n",
    "- 결과값 : 0.0(0%) ~ 1.0(100%)\n",
    "- 사용 데이터 : 학습에 사용되지 않은 데이터\n",
    "<hr> "
   ],
   "metadata": {
    "collapsed": false
   },
   "id": "eb8cf0d4a1c38012"
  },
  {
   "cell_type": "code",
   "outputs": [
    {
     "data": {
      "text/plain": "1.0"
     },
     "execution_count": 174,
     "metadata": {},
     "output_type": "execute_result"
    }
   ],
   "source": [
    "model.score(feature,target)"
   ],
   "metadata": {
    "collapsed": false,
    "ExecuteTime": {
     "end_time": "2024-02-23T08:39:07.368717Z",
     "start_time": "2024-02-23T08:39:07.349842Z"
    }
   },
   "id": "42c0543c8247a314",
   "execution_count": 174
  },
  {
   "cell_type": "markdown",
   "source": [
    "#### (6) 예측 즉 서비스에 모델 활용 시 사용 => 메서드 : predict(), predict_proba()\n",
    "- 조건 : 학습 시 전달된 데이터와 동일한 형태의 데이터 전달\n",
    "<hr> "
   ],
   "metadata": {
    "collapsed": false
   },
   "id": "49fd04f30cd5c9ab"
  },
  {
   "cell_type": "code",
   "outputs": [
    {
     "data": {
      "text/plain": "array([[0., 1.]])"
     },
     "execution_count": 189,
     "metadata": {},
     "output_type": "execute_result"
    }
   ],
   "source": [
    "# [무게, 길이]\n",
    "new_data = pd.DataFrame([[19.9, 15]], columns=['Weight', 'Length'])\n",
    "\n",
    "# 학습 시 제공된 데이터와 동일한 형태로 제공\n",
    "pred_y = model.predict(new_data)\n",
    "pred_y\n",
    "\n",
    "prd_y1 = model.predict_proba(new_data)\n",
    "prd_y1"
   ],
   "metadata": {
    "collapsed": false,
    "ExecuteTime": {
     "end_time": "2024-02-23T08:40:45.609594Z",
     "start_time": "2024-02-23T08:40:45.597515Z"
    }
   },
   "id": "ea93568d6a4e8929",
   "execution_count": 189
  },
  {
   "cell_type": "markdown",
   "source": [],
   "metadata": {
    "collapsed": false
   },
   "id": "2a9292cfa11218f4"
  },
  {
   "cell_type": "code",
   "outputs": [
    {
     "data": {
      "text/plain": "array([[0., 1.]])"
     },
     "execution_count": 176,
     "metadata": {},
     "output_type": "execute_result"
    }
   ],
   "source": [
    "# 예측 확률\n",
    "model.predict_proba(new_data)"
   ],
   "metadata": {
    "collapsed": false,
    "ExecuteTime": {
     "end_time": "2024-02-23T08:39:08.629852Z",
     "start_time": "2024-02-23T08:39:08.626481Z"
    }
   },
   "id": "819f291d8ddc8275",
   "execution_count": 176
  },
  {
   "cell_type": "code",
   "outputs": [
    {
     "data": {
      "text/plain": "(array([[0.        , 0.72801099, 7.00071425, 7.95550124, 8.19328994]]),\n array([[48, 47, 45, 46, 44]]))"
     },
     "execution_count": 177,
     "metadata": {},
     "output_type": "execute_result"
    }
   ],
   "source": [
    "# 데이터와 최근접 이웃 데이터\n",
    "model.kneighbors(new_data)\n",
    "# 원래 데터는 pandas DF인데\n",
    "# new_data는 numpy array라서 인덱스가 다름\n",
    "# => 인덱스 리셋에서 기존의 인덱스를 drop한 것"
   ],
   "metadata": {
    "collapsed": false,
    "ExecuteTime": {
     "end_time": "2024-02-23T08:39:08.787071Z",
     "start_time": "2024-02-23T08:39:08.783521Z"
    }
   },
   "id": "84057d2ddf71a93",
   "execution_count": 177
  },
  {
   "cell_type": "code",
   "outputs": [
    {
     "data": {
      "text/plain": "(RangeIndex(start=0, stop=49, step=1), (49, 2))"
     },
     "execution_count": 178,
     "metadata": {},
     "output_type": "execute_result"
    }
   ],
   "source": [
    "feature.index, feature.shape"
   ],
   "metadata": {
    "collapsed": false,
    "ExecuteTime": {
     "end_time": "2024-02-23T08:39:08.831103Z",
     "start_time": "2024-02-23T08:39:08.825786Z"
    }
   },
   "id": "6f1e9ee87c2e3bcc",
   "execution_count": 178
  },
  {
   "cell_type": "code",
   "outputs": [
    {
     "data": {
      "text/plain": "<Axes: >"
     },
     "execution_count": 179,
     "metadata": {},
     "output_type": "execute_result"
    },
    {
     "data": {
      "text/plain": "<Figure size 640x480 with 1 Axes>",
      "image/png": "[encoded data removed]"
     },
     "metadata": {},
     "output_type": "display_data"
    },
    {
     "data": {
      "text/plain": "<Figure size 640x480 with 1 Axes>",
      "image/png": "[encoded data removed]"
     },
     "metadata": {},
     "output_type": "display_data"
    }
   ],
   "source": [
    "# Weight & Length 시각화\n",
    "import matplotlib.pyplot as plt\n",
    "import seaborn\n",
    "\n",
    "# pandas의 Series, DataFrame의 plot()메서드\n",
    "# colormap = 'viridis'\n",
    "feature.plot(kind='scatter', x='Weight', y='Length', c='orange')\n",
    "feature.plot()\n",
    "# feature.plot(new_data.Weight, new_data.Length, c='red')"
   ],
   "metadata": {
    "collapsed": false,
    "ExecuteTime": {
     "end_time": "2024-02-23T08:39:09.020334Z",
     "start_time": "2024-02-23T08:39:08.890998Z"
    }
   },
   "id": "521514edcb3a3d2c",
   "execution_count": 179
  },
  {
   "cell_type": "code",
   "outputs": [
    {
     "data": {
      "text/plain": "<Figure size 640x480 with 1 Axes>",
      "image/png": "[encoded data removed]"
     },
     "metadata": {},
     "output_type": "display_data"
    }
   ],
   "source": [
    "plt.scatter(x=feature.Weight, y=feature.Length)\n",
    "# plt.plot(x=new_data.Weight, y=new_data.Length)\n",
    "plt.plot(new_data.Weight[0], new_data.Length[0], 'ro')\n",
    "plt.show()"
   ],
   "metadata": {
    "collapsed": false,
    "ExecuteTime": {
     "end_time": "2024-02-23T08:39:09.371872Z",
     "start_time": "2024-02-23T08:39:09.327877Z"
    }
   },
   "id": "7d771bbc273622c1",
   "execution_count": 180
  },
  {
   "cell_type": "code",
   "outputs": [
    {
     "data": {
      "text/plain": "   Weight  Length\n0    19.9      15",
      "text/html": "<div>\n<style scoped>\n    .dataframe tbody tr th:only-of-type {\n        vertical-align: middle;\n    }\n\n    .dataframe tbody tr th {\n        vertical-align: top;\n    }\n\n    .dataframe thead th {\n        text-align: right;\n    }\n</style>\n<table border=\"1\" class=\"dataframe\">\n  <thead>\n    <tr style=\"text-align: right;\">\n      <th></th>\n      <th>Weight</th>\n      <th>Length</th>\n    </tr>\n  </thead>\n  <tbody>\n    <tr>\n      <th>0</th>\n      <td>19.9</td>\n      <td>15</td>\n    </tr>\n  </tbody>\n</table>\n</div>"
     },
     "execution_count": 181,
     "metadata": {},
     "output_type": "execute_result"
    }
   ],
   "source": [
    "new_data"
   ],
   "metadata": {
    "collapsed": false,
    "ExecuteTime": {
     "end_time": "2024-02-23T08:39:09.511393Z",
     "start_time": "2024-02-23T08:39:09.505480Z"
    }
   },
   "id": "1458edc161670da3",
   "execution_count": 181
  },
  {
   "cell_type": "markdown",
   "source": [],
   "metadata": {
    "collapsed": false
   },
   "id": "690d2938e7aaed41"
  },
  {
   "cell_type": "code",
   "outputs": [
    {
     "data": {
      "text/plain": "(RangeIndex(start=0, stop=49, step=1), (49, 2))"
     },
     "execution_count": 182,
     "metadata": {},
     "output_type": "execute_result"
    }
   ],
   "source": [
    "feature.index, feature.shape"
   ],
   "metadata": {
    "collapsed": false,
    "ExecuteTime": {
     "end_time": "2024-02-23T08:39:10.691417Z",
     "start_time": "2024-02-23T08:39:10.686347Z"
    }
   },
   "id": "3b45e6a82a0e08da",
   "execution_count": 182
  },
  {
   "cell_type": "code",
   "outputs": [],
   "source": [
    "# 데이터와 최근접 이웃 데이터 찾기 => kneighbors()메서드\n",
    "# 반환값 : 거리, 원소번호\n",
    "dis, ind = model.kneighbors(new_data)\n",
    "\n",
    "# ndarray => list\n",
    "# ind.tolist()[0]"
   ],
   "metadata": {
    "collapsed": false,
    "ExecuteTime": {
     "end_time": "2024-02-23T08:39:10.773839Z",
     "start_time": "2024-02-23T08:39:10.770811Z"
    }
   },
   "id": "eafa591244a2b9f1",
   "execution_count": 183
  },
  {
   "cell_type": "code",
   "outputs": [],
   "source": [
    "# K개의 최근접 이웃 데이터만 저장\n",
    "kneighDF=feature.iloc[ind.tolist()[0]]\n"
   ],
   "metadata": {
    "collapsed": false,
    "ExecuteTime": {
     "end_time": "2024-02-23T08:39:10.855404Z",
     "start_time": "2024-02-23T08:39:10.850901Z"
    }
   },
   "id": "71c194a50c5fd603",
   "execution_count": 184
  },
  {
   "cell_type": "code",
   "outputs": [
    {
     "data": {
      "text/plain": "<Figure size 640x480 with 1 Axes>",
      "image/png": "[encoded data removed]"
     },
     "metadata": {},
     "output_type": "display_data"
    }
   ],
   "source": [
    "plt.scatter(x=feature.Weight, y=feature.Length)\n",
    "\n",
    "plt.plot(new_data.Weight[0], new_data.Length[0], 'ro')\n",
    "\n",
    "plt.plot(kneighDF.Weight, kneighDF.Length, 'g^-')\n",
    "\n",
    "plt.show()\n"
   ],
   "metadata": {
    "collapsed": false,
    "ExecuteTime": {
     "end_time": "2024-02-23T08:39:11.046481Z",
     "start_time": "2024-02-23T08:39:10.992820Z"
    }
   },
   "id": "5fd45bc146e085cd",
   "execution_count": 185
  },
  {
   "cell_type": "code",
   "outputs": [
    {
     "data": {
      "text/plain": "<matplotlib.collections.PathCollection at 0x1741cd700>"
     },
     "execution_count": 186,
     "metadata": {},
     "output_type": "execute_result"
    },
    {
     "data": {
      "text/plain": "<Figure size 640x480 with 1 Axes>",
      "image/png": "[encoded data removed]"
     },
     "metadata": {},
     "output_type": "display_data"
    }
   ],
   "source": [
    "feature.plot(kind=\"scatter\",x=\"Weight\",y=\"Length\")\n",
    "\n",
    "plt.plot(new_data.Length.to_list()[0],new_data.Weight.to_list()[0],\"ro\")\n",
    "plt.plot(new_data.Weight[0], new_data.Length[0], 'ro')\n",
    "\n",
    "x,y = model.kneighbors(new_data)\n",
    "\n",
    "plt.scatter(feature.loc[y[0]].Weight.to_list(),feature.loc[y[0]].Length.to_list(),c=\"orange\",marker=\"o\")"
   ],
   "metadata": {
    "collapsed": false,
    "ExecuteTime": {
     "end_time": "2024-02-23T08:39:11.124863Z",
     "start_time": "2024-02-23T08:39:11.044347Z"
    }
   },
   "id": "a9b72182d29f0537",
   "execution_count": 186
  },
  {
   "cell_type": "markdown",
   "source": [],
   "metadata": {
    "collapsed": false
   },
   "id": "c91f97246498abe8"
  },
  {
   "cell_type": "code",
   "outputs": [
    {
     "data": {
      "text/plain": "<Figure size 640x480 with 1 Axes>",
      "image/png": "[encoded data removed]"
     },
     "metadata": {},
     "output_type": "display_data"
    }
   ],
   "source": [
    "dis, idx = model.kneighbors(new_data)\n",
    "\n",
    "feature.plot.scatter(x='Weight', y='Length', title='Smelt & Bream')\n",
    "\n",
    "plt.scatter(x=feature.Weight, y=feature.Length)\n",
    "\n",
    "\n",
    "# ㅐㅅ로운 데이터 시각화\n",
    "plt.plot(new_data.Weight, new_data.Length, 'ro')\n",
    "\n",
    "# 새로운 데이터의 k개 최근접 이웃 데이터 시각화\n",
    "xs = feature.iloc[idx[0]].Weight\n",
    "ys = feature.iloc[idx[0]].Length\n",
    "\n",
    "plt.scatter(x=xs, y=ys, marker='D', color='g')\n",
    "\n",
    "plt.show()"
   ],
   "metadata": {
    "collapsed": false,
    "ExecuteTime": {
     "end_time": "2024-02-23T08:39:11.263610Z",
     "start_time": "2024-02-23T08:39:11.198532Z"
    }
   },
   "id": "d9dba6ae280279c3",
   "execution_count": 187
  },
  {
   "cell_type": "code",
   "outputs": [
    {
     "data": {
      "text/plain": "array([[1, 2, 3],\n       [1, 2, 3]])"
     },
     "execution_count": 195,
     "metadata": {},
     "output_type": "execute_result"
    }
   ],
   "source": [
    "import numpy as np\n",
    "a = np.array([[1,2,3,],[1,2,3]])\n",
    "a"
   ],
   "metadata": {
    "collapsed": false,
    "ExecuteTime": {
     "end_time": "2024-02-23T08:43:48.934896Z",
     "start_time": "2024-02-23T08:43:48.924575Z"
    }
   },
   "id": "33ebf67cf1595aa",
   "execution_count": 195
  },
  {
   "cell_type": "code",
   "outputs": [
    {
     "data": {
      "text/plain": "array([1, 2, 3, 1, 2, 3])"
     },
     "execution_count": 196,
     "metadata": {},
     "output_type": "execute_result"
    }
   ],
   "source": [
    "a.flatten()"
   ],
   "metadata": {
    "collapsed": false,
    "ExecuteTime": {
     "end_time": "2024-02-23T08:43:53.586012Z",
     "start_time": "2024-02-23T08:43:53.574709Z"
    }
   },
   "id": "ed208cef6fe2522",
   "execution_count": 196
  },
  {
   "cell_type": "code",
   "outputs": [],
   "source": [],
   "metadata": {
    "collapsed": false
   },
   "id": "e9eb2e6826a67821"
  }
 ],
 "metadata": {
  "kernelspec": {
   "display_name": "Python 3",
   "language": "python",
   "name": "python3"
  },
  "language_info": {
   "codemirror_mode": {
    "name": "ipython",
    "version": 2
   },
   "file_extension": ".py",
   "mimetype": "text/x-python",
   "name": "python",
   "nbconvert_exporter": "python",
   "pygments_lexer": "ipython2",
   "version": "2.7.6"
  }
 },
 "nbformat": 4,
 "nbformat_minor": 5
}
