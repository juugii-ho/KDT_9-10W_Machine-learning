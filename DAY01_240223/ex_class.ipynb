{
 "cells": [
  {
   "cell_type": "markdown",
   "source": [
    "# 클래스 생성(1)\n",
    "- 구성 요소 : 속성 + 메서드 => 모두 없는 클래스\n",
    "- 기본 상속 : Object => __속성명__, __메서드명__()"
   ],
   "metadata": {
    "collapsed": false
   },
   "id": "69e1fca5ecb23038"
  },
  {
   "cell_type": "code",
   "outputs": [],
   "source": [
    "class A:\n",
    "    pass"
   ],
   "metadata": {
    "collapsed": false,
    "ExecuteTime": {
     "end_time": "2024-02-23T00:55:07.551196Z",
     "start_time": "2024-02-23T00:55:07.545900Z"
    }
   },
   "id": "50b26746d397ddf1",
   "execution_count": 1
  },
  {
   "cell_type": "markdown",
   "source": [
    "객체/인스턴스 생성\n",
    "=> 생성 함수 : 클래스이름()\n",
    "=> A()"
   ],
   "metadata": {
    "collapsed": false
   },
   "id": "c418a15301fa8640"
  },
  {
   "cell_type": "code",
   "outputs": [],
   "source": [
    "a1 = A()"
   ],
   "metadata": {
    "collapsed": false,
    "ExecuteTime": {
     "end_time": "2024-02-23T00:55:39.798617Z",
     "start_time": "2024-02-23T00:55:39.795567Z"
    }
   },
   "id": "3ac86e41ff241523",
   "execution_count": 3
  },
  {
   "cell_type": "markdown",
   "source": [
    "객체/인스턴스의 속성/메서드 사용\n",
    "=> 사용 방법 : 객체/인스턴스 변수명, 속성\n",
    "             객체/인스턴스 변수명.메서드()"
   ],
   "metadata": {
    "collapsed": false
   },
   "id": "29f01b74c64bdec2"
  },
  {
   "cell_type": "code",
   "outputs": [
    {
     "name": "stdout",
     "output_type": "stream",
     "text": [
      "A 인스턴스의 속성과 메서드 a1 =>  {}\n",
      "A 인스턴스의 속성과 메서드 a1 =>  ['__module__', '__dict__', '__weakref__', '__doc__', '__repr__', '__hash__', '__str__', '__getattribute__', '__setattr__', '__delattr__', '__lt__', '__le__', '__eq__', '__ne__', '__gt__', '__ge__', '__init__', '__new__', '__reduce_ex__', '__reduce__', '__subclasshook__', '__init_subclass__', '__format__', '__sizeof__', '__dir__', '__class__']\n",
      "A 클래스의 속성과 메서드 =>  {'__module__': '__main__', '__dict__': <attribute '__dict__' of 'A' objects>, '__weakref__': <attribute '__weakref__' of 'A' objects>, '__doc__': None}\n"
     ]
    }
   ],
   "source": [
    "print(\"A 인스턴스의 속성과 메서드 a1 => \", a1.__dict__)  # __dict__ : 자기것만\n",
    "print(\"A 인스턴스의 속성과 메서드 a1 => \", a1.__dir__()) # __dir__() : 부모 것도 다 가져옴\n",
    "\n",
    "print(\"A 클래스의 속성과 메서드 => \", A.__dict__)\n",
    "# print(\"A 클래스의 속성과 메서드 => \", A.__dir__()) # iterable이라서 바로 출력 안 됨\n"
   ],
   "metadata": {
    "collapsed": false,
    "ExecuteTime": {
     "end_time": "2024-02-23T01:25:02.320726Z",
     "start_time": "2024-02-23T01:25:02.318093Z"
    }
   },
   "id": "4fd0aa4a4da0d866",
   "execution_count": 20
  },
  {
   "cell_type": "markdown",
   "source": [
    "# 클래스 생성(2)\n",
    "- 구성 요소 : 속성 + 메서드 => 인스턴스 변수와 메서드\n",
    "- 기본 상속 : Object => __속성명__, __메서드명__()"
   ],
   "metadata": {
    "collapsed": false
   },
   "id": "72a6b8c8eacc922e"
  },
  {
   "cell_type": "code",
   "outputs": [],
   "source": [
    "class B:\n",
    "    # 인스턴스 객체 생성 및 속성 초기화 메서드\n",
    "    def __init__(self, num, name): \n",
    "        # self로 지정된 힙 메모리 주소에서부터 속성 저장\n",
    "        self.num = num\n",
    "        self.name = name\n",
    "        \n",
    "    def printInfo(self):\n",
    "        print(f'num  : {self.num}')\n",
    "        print(f'name : {self.name}')\n",
    "    \n",
    "    # 연산자 맵핑 메서드 구현 / 연산자 +과 맵핑된 페서드\n",
    "    def __add__(self, other):\n",
    "        print('__add__')\n",
    "        return self.num + other.num\n",
    "    \n",
    "    def __sub__(self, other):\n",
    "        return self.num - other.num"
   ],
   "metadata": {
    "collapsed": false,
    "ExecuteTime": {
     "end_time": "2024-02-23T02:06:56.580253Z",
     "start_time": "2024-02-23T02:06:56.573115Z"
    }
   },
   "id": "48a33b01f02f13d3",
   "execution_count": 84
  },
  {
   "cell_type": "markdown",
   "source": [
    "객체/인스턴스 생성\n",
    "=> 생성 함수 : 클래스이름( __init__ 메서드 매개변수)\n",
    "=> A()"
   ],
   "metadata": {
    "collapsed": false
   },
   "id": "5cab99f348dd9a6e"
  },
  {
   "cell_type": "code",
   "outputs": [],
   "source": [
    "a1=A()\n",
    "b1=B(100,'BB')"
   ],
   "metadata": {
    "collapsed": false,
    "ExecuteTime": {
     "end_time": "2024-02-23T02:06:56.831460Z",
     "start_time": "2024-02-23T02:06:56.828965Z"
    }
   },
   "id": "19c63cade4b43de5",
   "execution_count": 85
  },
  {
   "cell_type": "markdown",
   "source": [
    "객체/인스턴스의 속성/메서드 사용\n",
    "=> 사용 방법 : 객체/인스턴스 변수명, 속성\n",
    "             객체/인스턴스 변수명.메서드()"
   ],
   "metadata": {
    "collapsed": false
   },
   "id": "492cd1392250ab06"
  },
  {
   "cell_type": "code",
   "outputs": [
    {
     "name": "stdout",
     "output_type": "stream",
     "text": [
      "B 인스턴스 b1의 속성과 메서드 => {'num': 100, 'name': 'BB'}\n",
      "B 인스턴스 b1의 속성과 메서드 => ['num', 'name', '__module__', '__init__', 'printInfo', '__add__', '__sub__', '__dict__', '__weakref__', '__doc__', '__repr__', '__hash__', '__str__', '__getattribute__', '__setattr__', '__delattr__', '__lt__', '__le__', '__eq__', '__ne__', '__gt__', '__ge__', '__new__', '__reduce_ex__', '__reduce__', '__subclasshook__', '__init_subclass__', '__format__', '__sizeof__', '__dir__', '__class__']\n",
      "B 클래스의 속성과 메서드      =>  {'__module__': '__main__', '__init__': <function B.__init__ at 0x1057a2160>, 'printInfo': <function B.printInfo at 0x1057a2430>, '__add__': <function B.__add__ at 0x1057a23a0>, '__sub__': <function B.__sub__ at 0x1057a20d0>, '__dict__': <attribute '__dict__' of 'B' objects>, '__weakref__': <attribute '__weakref__' of 'B' objects>, '__doc__': None}\n"
     ]
    }
   ],
   "source": [
    "print( \"B 인스턴스 b1의 속성과 메서드 =>\", b1.__dict__)  # __dict__ : 자기 것만\n",
    "print( \"B 인스턴스 b1의 속성과 메서드 =>\", b1.__dir__()) # __dir__() : 부모 것도 다 가져옴\n",
    "print( \"B 클래스의 속성과 메서드      => \", B.__dict__)"
   ],
   "metadata": {
    "collapsed": false,
    "ExecuteTime": {
     "end_time": "2024-02-23T02:06:57.090978Z",
     "start_time": "2024-02-23T02:06:57.087557Z"
    }
   },
   "id": "5e20880cd8ad53ed",
   "execution_count": 86
  },
  {
   "cell_type": "markdown",
   "source": [
    "# 클래스 생성(3)\n",
    "- 구성 요소: 속성 + 메서드 = > 인스턴스 변수와 메서드\n",
    "- 기본 상속: Object = > __속성명__, __메서드명__()"
   ],
   "metadata": {
    "collapsed": false
   },
   "id": "dfe0c7f17518f51f"
  },
  {
   "cell_type": "code",
   "outputs": [],
   "source": [
    "class C:\n",
    "    # 클래스 변수 => C 클래스로 생성된 모든 인스턴스에서 공유\n",
    "    #          => 인스턴스 생성 없이 사용 가능\n",
    "    loc = 'Daegu'\n",
    "    \n",
    "    # 인스턴스 객체 생성 및 속성 초기화 메서드\n",
    "    def __init__(self, num, name):\n",
    "        # self로 지정된 힙 메모리 주소에서부터 속성 저장\n",
    "        self.num = num\n",
    "        self.name = name\n",
    "\n",
    "    def printInfo(self):\n",
    "        print(f'num  : {self.num}')\n",
    "        print(f'name : {self.name}')\n",
    "        "
   ],
   "metadata": {
    "collapsed": false,
    "ExecuteTime": {
     "end_time": "2024-02-23T02:06:57.358998Z",
     "start_time": "2024-02-23T02:06:57.355523Z"
    }
   },
   "id": "b6371fbf7ce9d178",
   "execution_count": 87
  },
  {
   "cell_type": "code",
   "outputs": [],
   "source": [
    "a1 = A()\n",
    "b1 = B(100, 'BB')\n",
    "c1 = C(1000, 'CCC')"
   ],
   "metadata": {
    "collapsed": false,
    "ExecuteTime": {
     "end_time": "2024-02-23T02:06:57.489046Z",
     "start_time": "2024-02-23T02:06:57.485046Z"
    }
   },
   "id": "91aa6090ec4c2c31",
   "execution_count": 88
  },
  {
   "cell_type": "markdown",
   "source": [
    "객체/인스턴스의 속성/메서드 사용\n",
    "=> 사용 방법 : 객체/인스턴스 변수명, 속성\n",
    "             객체/인스턴스 변수명.메서드()"
   ],
   "metadata": {
    "collapsed": false
   },
   "id": "d1ab0e1767653935"
  },
  {
   "cell_type": "code",
   "outputs": [
    {
     "name": "stdout",
     "output_type": "stream",
     "text": [
      "num  : 1000\n",
      "name : CCC\n",
      "CCC\n",
      "loc =>  Daegu Daegu\n"
     ]
    }
   ],
   "source": [
    "# 인스턴스 메서드 사용\n",
    "c1.printInfo()\n",
    "\n",
    "# 인스턴스 속성 사용\n",
    "print(c1.name)\n",
    "\n",
    "# 클래스 속성 사용\n",
    "print(\"loc => \", C.loc, c1.loc)\n",
    "\n",
    "# 인스턴스 메서드는 클래스명으로 사용 불가!!\n",
    "# C.printInfo()             # self 정보가 없기 때문"
   ],
   "metadata": {
    "collapsed": false,
    "ExecuteTime": {
     "end_time": "2024-02-23T02:06:57.759078Z",
     "start_time": "2024-02-23T02:06:57.756216Z"
    }
   },
   "id": "7a3bf3a4b3adf2e3",
   "execution_count": 89
  },
  {
   "cell_type": "markdown",
   "source": [
    "# 클래스 생성(4)\n",
    "- 구성 요소: 속성 + 메서드 = > 클래스 변수와 메서드\n",
    "- 기본 상속: Object = > __속성명__, __메서드명__()"
   ],
   "metadata": {
    "collapsed": false
   },
   "id": "ccb2966af3be9f4b"
  },
  {
   "cell_type": "code",
   "outputs": [],
   "source": [
    "class DCalc:\n",
    "    # 클래스 변수 => C 클래스로 생성된 모든 인스턴스에서 공유\n",
    "    #          => 인스턴스 생성 없이 사용 가능\n",
    "    name = 'CASIO'\n",
    "    \n",
    "    # 클래스 메서드\n",
    "    @classmethod            # 어노테이션 : 파이썬 인터프리터가 cls에 주소값을 만들어줌, 없으면 cls값이 지정 안돼서 실행 안 됨 \n",
    "    def addNum(cls, a,b):\n",
    "        print(cls)\n",
    "        return a+b\n",
    "    @classmethod\n",
    "    def minusNum(cls,a,b):\n",
    "        return a-b"
   ],
   "metadata": {
    "collapsed": false,
    "ExecuteTime": {
     "end_time": "2024-02-23T02:06:58.033477Z",
     "start_time": "2024-02-23T02:06:58.031654Z"
    }
   },
   "id": "4bb7b3f74ee74924",
   "execution_count": 90
  },
  {
   "cell_type": "code",
   "outputs": [
    {
     "name": "stdout",
     "output_type": "stream",
     "text": [
      "1 2 3\n"
     ]
    },
    {
     "ename": "TypeError",
     "evalue": "test() missing 1 required positional argument: 'c'",
     "output_type": "error",
     "traceback": [
      "\u001B[0;31m---------------------------------------------------------------------------\u001B[0m",
      "\u001B[0;31mTypeError\u001B[0m                                 Traceback (most recent call last)",
      "Cell \u001B[0;32mIn[91], line 8\u001B[0m\n\u001B[1;32m      5\u001B[0m     \u001B[38;5;28mprint\u001B[39m(a,b,c)\n\u001B[1;32m      7\u001B[0m test(\u001B[38;5;241m1\u001B[39m,\u001B[38;5;241m2\u001B[39m,\u001B[38;5;241m3\u001B[39m)\n\u001B[0;32m----> 8\u001B[0m \u001B[43mtest\u001B[49m\u001B[43m(\u001B[49m\u001B[38;5;241;43m1\u001B[39;49m\u001B[43m,\u001B[49m\u001B[38;5;241;43m2\u001B[39;49m\u001B[43m)\u001B[49m\n",
      "\u001B[0;31mTypeError\u001B[0m: test() missing 1 required positional argument: 'c'"
     ]
    }
   ],
   "source": [
    "def test(a, b):\n",
    "    print(a,b)\n",
    "    \n",
    "def test(a,b,c):\n",
    "    print(a,b,c)\n",
    "    \n",
    "test(1,2,3)\n",
    "test(1,2)"
   ],
   "metadata": {
    "collapsed": false,
    "ExecuteTime": {
     "end_time": "2024-02-23T02:06:58.218609Z",
     "start_time": "2024-02-23T02:06:58.205962Z"
    }
   },
   "id": "4cc4b1cd4bc9c6e3",
   "execution_count": 91
  },
  {
   "cell_type": "code",
   "outputs": [],
   "source": [
    "# a1 = A()\n",
    "# b1 = B(100, 'BB')\n",
    "# c1 = C(1000, 'CCC')"
   ],
   "metadata": {
    "collapsed": false,
    "ExecuteTime": {
     "end_time": "2024-02-23T02:06:58.770933Z",
     "start_time": "2024-02-23T02:06:58.768039Z"
    }
   },
   "id": "58cd8ca80799fd58",
   "execution_count": 92
  },
  {
   "cell_type": "code",
   "outputs": [],
   "source": [
    "b1 = B(100,'BB')\n",
    "b2 = B(30,'B2')"
   ],
   "metadata": {
    "collapsed": false,
    "ExecuteTime": {
     "end_time": "2024-02-23T02:07:04.029382Z",
     "start_time": "2024-02-23T02:07:04.027157Z"
    }
   },
   "id": "8910af19ee3dab7b",
   "execution_count": 93
  },
  {
   "cell_type": "code",
   "outputs": [
    {
     "name": "stdout",
     "output_type": "stream",
     "text": [
      "ABC123\n",
      "DEF456\n",
      "__add__\n",
      "130\n",
      "70\n"
     ]
    }
   ],
   "source": [
    "# 객체 / 인스턴스의 연산\n",
    "print(\"ABC\"+\"123\")\n",
    "print(\"DEF\"+\"456\")\n",
    "# print(b1+b2) 원래는 안됨\n",
    "print(b1+b2) # 연산자 맵핑 메서드 구현\n",
    "print(b1-b2)"
   ],
   "metadata": {
    "collapsed": false,
    "ExecuteTime": {
     "end_time": "2024-02-23T02:07:10.141117Z",
     "start_time": "2024-02-23T02:07:10.136044Z"
    }
   },
   "id": "fc091d957bf03d4",
   "execution_count": 95
  },
  {
   "cell_type": "markdown",
   "source": [
    "객체/인스턴스의 속성/메서드 사용\n",
    "=> 사용 방법 : 객체/인스턴스 변수명, 속성\n",
    "             객체/인스턴스 변수명.메서드()"
   ],
   "metadata": {
    "collapsed": false
   },
   "id": "c61954fc03873375"
  },
  {
   "cell_type": "code",
   "outputs": [
    {
     "name": "stdout",
     "output_type": "stream",
     "text": [
      "DCalc.name : CASIO\n",
      "<class '__main__.DCalc'>\n",
      "DCalc.addNum(10,20) :  30\n",
      "DCalc.minusNum(10,20) :  -10\n"
     ]
    }
   ],
   "source": [
    "# 클래스 속성 및 메서드 사용\n",
    "print(f\"DCalc.name : {DCalc.name}\")\n",
    "print(f\"DCalc.addNum(10,20) :  {DCalc.addNum(10,20)}\")\n",
    "print(f\"DCalc.minusNum(10,20) :  {DCalc.minusNum(10,20)}\")"
   ],
   "metadata": {
    "collapsed": false,
    "ExecuteTime": {
     "end_time": "2024-02-23T02:05:56.356966Z",
     "start_time": "2024-02-23T02:05:56.353513Z"
    }
   },
   "id": "5ebc84184ab89704",
   "execution_count": 83
  },
  {
   "cell_type": "code",
   "outputs": [],
   "source": [],
   "metadata": {
    "collapsed": false,
    "ExecuteTime": {
     "end_time": "2024-02-23T02:05:56.440799Z",
     "start_time": "2024-02-23T02:05:56.438993Z"
    }
   },
   "id": "6a163dc27100bd5f",
   "execution_count": 83
  },
  {
   "cell_type": "code",
   "outputs": [],
   "source": [],
   "metadata": {
    "collapsed": false,
    "ExecuteTime": {
     "end_time": "2024-02-23T02:05:56.557721Z",
     "start_time": "2024-02-23T02:05:56.556207Z"
    }
   },
   "id": "aaaa6157d9323561",
   "execution_count": 83
  },
  {
   "cell_type": "code",
   "outputs": [],
   "source": [],
   "metadata": {
    "collapsed": false,
    "ExecuteTime": {
     "end_time": "2024-02-23T02:05:56.617941Z",
     "start_time": "2024-02-23T02:05:56.613111Z"
    }
   },
   "id": "2e11303c6e6fcad",
   "execution_count": 83
  },
  {
   "cell_type": "code",
   "outputs": [],
   "source": [],
   "metadata": {
    "collapsed": false,
    "ExecuteTime": {
     "end_time": "2024-02-23T02:05:56.697723Z",
     "start_time": "2024-02-23T02:05:56.694775Z"
    }
   },
   "id": "e5ea129a2c7e0f55",
   "execution_count": 83
  },
  {
   "cell_type": "code",
   "outputs": [],
   "source": [],
   "metadata": {
    "collapsed": false
   },
   "id": "68a47a52b78434da"
  }
 ],
 "metadata": {
  "kernelspec": {
   "display_name": "Python 3",
   "language": "python",
   "name": "python3"
  },
  "language_info": {
   "codemirror_mode": {
    "name": "ipython",
    "version": 2
   },
   "file_extension": ".py",
   "mimetype": "text/x-python",
   "name": "python",
   "nbconvert_exporter": "python",
   "pygments_lexer": "ipython2",
   "version": "2.7.6"
  }
 },
 "nbformat": 4,
 "nbformat_minor": 5
}
