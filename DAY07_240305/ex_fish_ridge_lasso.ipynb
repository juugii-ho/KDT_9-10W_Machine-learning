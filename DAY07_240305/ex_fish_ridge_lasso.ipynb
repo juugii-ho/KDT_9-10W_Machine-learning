{
 "cells": [
  {
   "cell_type": "markdown",
   "source": [
    "## 목표 : 많은 특성의 데이터셋에서 과대적합 해결\n",
    "- 데이터 : perch3.csv\n",
    "- 피쳐 : Length, Height, Width\n",
    "- 타겟 : Weight\n",
    "\n",
    "- [조건]\n",
    "    - 특성 추가 => degree = 5로 설정\n",
    "    - 특성을 기반으로 무게 예측 => 지도학습 + 회귀"
   ],
   "metadata": {
    "collapsed": false
   },
   "id": "25e6dba21d3347a1"
  },
  {
   "cell_type": "code",
   "outputs": [
    {
     "data": {
      "text/plain": "    Weight  Length   Height   Width\n0      5.9     8.4   2.1120  1.4080\n1     32.0    13.7   3.5280  1.9992\n2     40.0    15.0   3.8240  2.4320\n3     51.5    16.2   4.5924  2.6316\n4     70.0    17.4   4.5880  2.9415\n5    100.0    18.0   5.2224  3.3216\n6     78.0    18.7   5.1992  3.1234\n7     80.0    19.0   5.6358  3.0502\n8     85.0    19.6   5.1376  3.0368\n9     85.0    20.0   5.0820  2.7720\n10   110.0    21.0   5.6925  3.5550\n11   115.0    21.0   5.9175  3.3075\n12   125.0    21.0   5.6925  3.6675\n13   130.0    21.3   6.3840  3.5340\n14   120.0    22.0   6.1100  3.4075\n15   120.0    22.0   5.6400  3.5250\n16   130.0    22.0   6.1100  3.5250\n17   135.0    22.0   5.8750  3.5250\n18   110.0    22.0   5.5225  3.9950\n19   130.0    22.5   5.8560  3.6240\n20   150.0    22.5   6.7920  3.6240\n21   145.0    22.7   5.9532  3.6300\n22   150.0    23.0   5.2185  3.6260\n23   170.0    23.5   6.2750  3.7250\n24   225.0    24.0   7.2930  3.7230\n25   145.0    24.0   6.3750  3.8250\n26   188.0    24.6   6.7334  4.1658\n27   180.0    25.0   6.4395  3.6835\n28   197.0    25.6   6.5610  4.2390\n29   218.0    26.5   7.1680  4.1440\n30   300.0    27.3   8.3230  5.1373\n31   260.0    27.5   7.1672  4.3350\n32   265.0    27.5   7.0516  4.3350\n33   250.0    27.5   7.2828  4.5662\n34   250.0    28.0   7.8204  4.2042\n35   300.0    28.7   7.5852  4.6354\n36   320.0    30.0   7.6156  4.7716\n37   514.0    32.8  10.0300  6.0180\n38   556.0    34.5  10.2565  6.3875\n39   840.0    35.0  11.4884  7.7957\n40   685.0    36.5  10.8810  6.8640\n41   700.0    36.0  10.6091  6.7408\n42   700.0    37.0  10.8350  6.2646\n43   690.0    37.0  10.5717  6.3666\n44   900.0    39.0  11.1366  7.4934\n45   650.0    39.0  11.1366  6.0030\n46   820.0    39.0  12.4313  7.3514\n47   850.0    40.0  11.9286  7.1064\n48   900.0    40.0  11.7300  7.2250\n49  1015.0    40.0  12.3808  7.4624\n50   820.0    40.0  11.1350  6.6300\n51  1100.0    42.0  12.8002  6.8684\n52  1000.0    43.0  11.9328  7.2772\n53  1100.0    43.0  12.5125  7.4165\n54  1000.0    43.5  12.6040  8.1420\n55  1000.0    44.0  12.4888  7.5958",
      "text/html": "<div>\n<style scoped>\n    .dataframe tbody tr th:only-of-type {\n        vertical-align: middle;\n    }\n\n    .dataframe tbody tr th {\n        vertical-align: top;\n    }\n\n    .dataframe thead th {\n        text-align: right;\n    }\n</style>\n<table border=\"1\" class=\"dataframe\">\n  <thead>\n    <tr style=\"text-align: right;\">\n      <th></th>\n      <th>Weight</th>\n      <th>Length</th>\n      <th>Height</th>\n      <th>Width</th>\n    </tr>\n  </thead>\n  <tbody>\n    <tr>\n      <th>0</th>\n      <td>5.9</td>\n      <td>8.4</td>\n      <td>2.1120</td>\n      <td>1.4080</td>\n    </tr>\n    <tr>\n      <th>1</th>\n      <td>32.0</td>\n      <td>13.7</td>\n      <td>3.5280</td>\n      <td>1.9992</td>\n    </tr>\n    <tr>\n      <th>2</th>\n      <td>40.0</td>\n      <td>15.0</td>\n      <td>3.8240</td>\n      <td>2.4320</td>\n    </tr>\n    <tr>\n      <th>3</th>\n      <td>51.5</td>\n      <td>16.2</td>\n      <td>4.5924</td>\n      <td>2.6316</td>\n    </tr>\n    <tr>\n      <th>4</th>\n      <td>70.0</td>\n      <td>17.4</td>\n      <td>4.5880</td>\n      <td>2.9415</td>\n    </tr>\n    <tr>\n      <th>5</th>\n      <td>100.0</td>\n      <td>18.0</td>\n      <td>5.2224</td>\n      <td>3.3216</td>\n    </tr>\n    <tr>\n      <th>6</th>\n      <td>78.0</td>\n      <td>18.7</td>\n      <td>5.1992</td>\n      <td>3.1234</td>\n    </tr>\n    <tr>\n      <th>7</th>\n      <td>80.0</td>\n      <td>19.0</td>\n      <td>5.6358</td>\n      <td>3.0502</td>\n    </tr>\n    <tr>\n      <th>8</th>\n      <td>85.0</td>\n      <td>19.6</td>\n      <td>5.1376</td>\n      <td>3.0368</td>\n    </tr>\n    <tr>\n      <th>9</th>\n      <td>85.0</td>\n      <td>20.0</td>\n      <td>5.0820</td>\n      <td>2.7720</td>\n    </tr>\n    <tr>\n      <th>10</th>\n      <td>110.0</td>\n      <td>21.0</td>\n      <td>5.6925</td>\n      <td>3.5550</td>\n    </tr>\n    <tr>\n      <th>11</th>\n      <td>115.0</td>\n      <td>21.0</td>\n      <td>5.9175</td>\n      <td>3.3075</td>\n    </tr>\n    <tr>\n      <th>12</th>\n      <td>125.0</td>\n      <td>21.0</td>\n      <td>5.6925</td>\n      <td>3.6675</td>\n    </tr>\n    <tr>\n      <th>13</th>\n      <td>130.0</td>\n      <td>21.3</td>\n      <td>6.3840</td>\n      <td>3.5340</td>\n    </tr>\n    <tr>\n      <th>14</th>\n      <td>120.0</td>\n      <td>22.0</td>\n      <td>6.1100</td>\n      <td>3.4075</td>\n    </tr>\n    <tr>\n      <th>15</th>\n      <td>120.0</td>\n      <td>22.0</td>\n      <td>5.6400</td>\n      <td>3.5250</td>\n    </tr>\n    <tr>\n      <th>16</th>\n      <td>130.0</td>\n      <td>22.0</td>\n      <td>6.1100</td>\n      <td>3.5250</td>\n    </tr>\n    <tr>\n      <th>17</th>\n      <td>135.0</td>\n      <td>22.0</td>\n      <td>5.8750</td>\n      <td>3.5250</td>\n    </tr>\n    <tr>\n      <th>18</th>\n      <td>110.0</td>\n      <td>22.0</td>\n      <td>5.5225</td>\n      <td>3.9950</td>\n    </tr>\n    <tr>\n      <th>19</th>\n      <td>130.0</td>\n      <td>22.5</td>\n      <td>5.8560</td>\n      <td>3.6240</td>\n    </tr>\n    <tr>\n      <th>20</th>\n      <td>150.0</td>\n      <td>22.5</td>\n      <td>6.7920</td>\n      <td>3.6240</td>\n    </tr>\n    <tr>\n      <th>21</th>\n      <td>145.0</td>\n      <td>22.7</td>\n      <td>5.9532</td>\n      <td>3.6300</td>\n    </tr>\n    <tr>\n      <th>22</th>\n      <td>150.0</td>\n      <td>23.0</td>\n      <td>5.2185</td>\n      <td>3.6260</td>\n    </tr>\n    <tr>\n      <th>23</th>\n      <td>170.0</td>\n      <td>23.5</td>\n      <td>6.2750</td>\n      <td>3.7250</td>\n    </tr>\n    <tr>\n      <th>24</th>\n      <td>225.0</td>\n      <td>24.0</td>\n      <td>7.2930</td>\n      <td>3.7230</td>\n    </tr>\n    <tr>\n      <th>25</th>\n      <td>145.0</td>\n      <td>24.0</td>\n      <td>6.3750</td>\n      <td>3.8250</td>\n    </tr>\n    <tr>\n      <th>26</th>\n      <td>188.0</td>\n      <td>24.6</td>\n      <td>6.7334</td>\n      <td>4.1658</td>\n    </tr>\n    <tr>\n      <th>27</th>\n      <td>180.0</td>\n      <td>25.0</td>\n      <td>6.4395</td>\n      <td>3.6835</td>\n    </tr>\n    <tr>\n      <th>28</th>\n      <td>197.0</td>\n      <td>25.6</td>\n      <td>6.5610</td>\n      <td>4.2390</td>\n    </tr>\n    <tr>\n      <th>29</th>\n      <td>218.0</td>\n      <td>26.5</td>\n      <td>7.1680</td>\n      <td>4.1440</td>\n    </tr>\n    <tr>\n      <th>30</th>\n      <td>300.0</td>\n      <td>27.3</td>\n      <td>8.3230</td>\n      <td>5.1373</td>\n    </tr>\n    <tr>\n      <th>31</th>\n      <td>260.0</td>\n      <td>27.5</td>\n      <td>7.1672</td>\n      <td>4.3350</td>\n    </tr>\n    <tr>\n      <th>32</th>\n      <td>265.0</td>\n      <td>27.5</td>\n      <td>7.0516</td>\n      <td>4.3350</td>\n    </tr>\n    <tr>\n      <th>33</th>\n      <td>250.0</td>\n      <td>27.5</td>\n      <td>7.2828</td>\n      <td>4.5662</td>\n    </tr>\n    <tr>\n      <th>34</th>\n      <td>250.0</td>\n      <td>28.0</td>\n      <td>7.8204</td>\n      <td>4.2042</td>\n    </tr>\n    <tr>\n      <th>35</th>\n      <td>300.0</td>\n      <td>28.7</td>\n      <td>7.5852</td>\n      <td>4.6354</td>\n    </tr>\n    <tr>\n      <th>36</th>\n      <td>320.0</td>\n      <td>30.0</td>\n      <td>7.6156</td>\n      <td>4.7716</td>\n    </tr>\n    <tr>\n      <th>37</th>\n      <td>514.0</td>\n      <td>32.8</td>\n      <td>10.0300</td>\n      <td>6.0180</td>\n    </tr>\n    <tr>\n      <th>38</th>\n      <td>556.0</td>\n      <td>34.5</td>\n      <td>10.2565</td>\n      <td>6.3875</td>\n    </tr>\n    <tr>\n      <th>39</th>\n      <td>840.0</td>\n      <td>35.0</td>\n      <td>11.4884</td>\n      <td>7.7957</td>\n    </tr>\n    <tr>\n      <th>40</th>\n      <td>685.0</td>\n      <td>36.5</td>\n      <td>10.8810</td>\n      <td>6.8640</td>\n    </tr>\n    <tr>\n      <th>41</th>\n      <td>700.0</td>\n      <td>36.0</td>\n      <td>10.6091</td>\n      <td>6.7408</td>\n    </tr>\n    <tr>\n      <th>42</th>\n      <td>700.0</td>\n      <td>37.0</td>\n      <td>10.8350</td>\n      <td>6.2646</td>\n    </tr>\n    <tr>\n      <th>43</th>\n      <td>690.0</td>\n      <td>37.0</td>\n      <td>10.5717</td>\n      <td>6.3666</td>\n    </tr>\n    <tr>\n      <th>44</th>\n      <td>900.0</td>\n      <td>39.0</td>\n      <td>11.1366</td>\n      <td>7.4934</td>\n    </tr>\n    <tr>\n      <th>45</th>\n      <td>650.0</td>\n      <td>39.0</td>\n      <td>11.1366</td>\n      <td>6.0030</td>\n    </tr>\n    <tr>\n      <th>46</th>\n      <td>820.0</td>\n      <td>39.0</td>\n      <td>12.4313</td>\n      <td>7.3514</td>\n    </tr>\n    <tr>\n      <th>47</th>\n      <td>850.0</td>\n      <td>40.0</td>\n      <td>11.9286</td>\n      <td>7.1064</td>\n    </tr>\n    <tr>\n      <th>48</th>\n      <td>900.0</td>\n      <td>40.0</td>\n      <td>11.7300</td>\n      <td>7.2250</td>\n    </tr>\n    <tr>\n      <th>49</th>\n      <td>1015.0</td>\n      <td>40.0</td>\n      <td>12.3808</td>\n      <td>7.4624</td>\n    </tr>\n    <tr>\n      <th>50</th>\n      <td>820.0</td>\n      <td>40.0</td>\n      <td>11.1350</td>\n      <td>6.6300</td>\n    </tr>\n    <tr>\n      <th>51</th>\n      <td>1100.0</td>\n      <td>42.0</td>\n      <td>12.8002</td>\n      <td>6.8684</td>\n    </tr>\n    <tr>\n      <th>52</th>\n      <td>1000.0</td>\n      <td>43.0</td>\n      <td>11.9328</td>\n      <td>7.2772</td>\n    </tr>\n    <tr>\n      <th>53</th>\n      <td>1100.0</td>\n      <td>43.0</td>\n      <td>12.5125</td>\n      <td>7.4165</td>\n    </tr>\n    <tr>\n      <th>54</th>\n      <td>1000.0</td>\n      <td>43.5</td>\n      <td>12.6040</td>\n      <td>8.1420</td>\n    </tr>\n    <tr>\n      <th>55</th>\n      <td>1000.0</td>\n      <td>44.0</td>\n      <td>12.4888</td>\n      <td>7.5958</td>\n    </tr>\n  </tbody>\n</table>\n</div>"
     },
     "execution_count": 1,
     "metadata": {},
     "output_type": "execute_result"
    }
   ],
   "source": [
    "import pandas as pd\n",
    "\n",
    "data = '../data/perch3.csv'\n",
    "\n",
    "perchDF = pd.read_csv(data)\n",
    "perchDF\n"
   ],
   "metadata": {
    "collapsed": false,
    "ExecuteTime": {
     "end_time": "2024-03-05T04:07:33.013899Z",
     "start_time": "2024-03-05T04:07:32.568160Z"
    }
   },
   "id": "f4af3800b0ff2106",
   "execution_count": 1
  },
  {
   "cell_type": "markdown",
   "source": [
    "### [2] 데이터 피쳐 및 타겟 분리"
   ],
   "metadata": {
    "collapsed": false
   },
   "id": "5e84758de3e9721c"
  },
  {
   "cell_type": "code",
   "outputs": [
    {
     "data": {
      "text/plain": "    Length   Height   Width\n0      8.4   2.1120  1.4080\n1     13.7   3.5280  1.9992\n2     15.0   3.8240  2.4320\n3     16.2   4.5924  2.6316\n4     17.4   4.5880  2.9415\n5     18.0   5.2224  3.3216\n6     18.7   5.1992  3.1234\n7     19.0   5.6358  3.0502\n8     19.6   5.1376  3.0368\n9     20.0   5.0820  2.7720\n10    21.0   5.6925  3.5550\n11    21.0   5.9175  3.3075\n12    21.0   5.6925  3.6675\n13    21.3   6.3840  3.5340\n14    22.0   6.1100  3.4075\n15    22.0   5.6400  3.5250\n16    22.0   6.1100  3.5250\n17    22.0   5.8750  3.5250\n18    22.0   5.5225  3.9950\n19    22.5   5.8560  3.6240\n20    22.5   6.7920  3.6240\n21    22.7   5.9532  3.6300\n22    23.0   5.2185  3.6260\n23    23.5   6.2750  3.7250\n24    24.0   7.2930  3.7230\n25    24.0   6.3750  3.8250\n26    24.6   6.7334  4.1658\n27    25.0   6.4395  3.6835\n28    25.6   6.5610  4.2390\n29    26.5   7.1680  4.1440\n30    27.3   8.3230  5.1373\n31    27.5   7.1672  4.3350\n32    27.5   7.0516  4.3350\n33    27.5   7.2828  4.5662\n34    28.0   7.8204  4.2042\n35    28.7   7.5852  4.6354\n36    30.0   7.6156  4.7716\n37    32.8  10.0300  6.0180\n38    34.5  10.2565  6.3875\n39    35.0  11.4884  7.7957\n40    36.5  10.8810  6.8640\n41    36.0  10.6091  6.7408\n42    37.0  10.8350  6.2646\n43    37.0  10.5717  6.3666\n44    39.0  11.1366  7.4934\n45    39.0  11.1366  6.0030\n46    39.0  12.4313  7.3514\n47    40.0  11.9286  7.1064\n48    40.0  11.7300  7.2250\n49    40.0  12.3808  7.4624\n50    40.0  11.1350  6.6300\n51    42.0  12.8002  6.8684\n52    43.0  11.9328  7.2772\n53    43.0  12.5125  7.4165\n54    43.5  12.6040  8.1420\n55    44.0  12.4888  7.5958",
      "text/html": "<div>\n<style scoped>\n    .dataframe tbody tr th:only-of-type {\n        vertical-align: middle;\n    }\n\n    .dataframe tbody tr th {\n        vertical-align: top;\n    }\n\n    .dataframe thead th {\n        text-align: right;\n    }\n</style>\n<table border=\"1\" class=\"dataframe\">\n  <thead>\n    <tr style=\"text-align: right;\">\n      <th></th>\n      <th>Length</th>\n      <th>Height</th>\n      <th>Width</th>\n    </tr>\n  </thead>\n  <tbody>\n    <tr>\n      <th>0</th>\n      <td>8.4</td>\n      <td>2.1120</td>\n      <td>1.4080</td>\n    </tr>\n    <tr>\n      <th>1</th>\n      <td>13.7</td>\n      <td>3.5280</td>\n      <td>1.9992</td>\n    </tr>\n    <tr>\n      <th>2</th>\n      <td>15.0</td>\n      <td>3.8240</td>\n      <td>2.4320</td>\n    </tr>\n    <tr>\n      <th>3</th>\n      <td>16.2</td>\n      <td>4.5924</td>\n      <td>2.6316</td>\n    </tr>\n    <tr>\n      <th>4</th>\n      <td>17.4</td>\n      <td>4.5880</td>\n      <td>2.9415</td>\n    </tr>\n    <tr>\n      <th>5</th>\n      <td>18.0</td>\n      <td>5.2224</td>\n      <td>3.3216</td>\n    </tr>\n    <tr>\n      <th>6</th>\n      <td>18.7</td>\n      <td>5.1992</td>\n      <td>3.1234</td>\n    </tr>\n    <tr>\n      <th>7</th>\n      <td>19.0</td>\n      <td>5.6358</td>\n      <td>3.0502</td>\n    </tr>\n    <tr>\n      <th>8</th>\n      <td>19.6</td>\n      <td>5.1376</td>\n      <td>3.0368</td>\n    </tr>\n    <tr>\n      <th>9</th>\n      <td>20.0</td>\n      <td>5.0820</td>\n      <td>2.7720</td>\n    </tr>\n    <tr>\n      <th>10</th>\n      <td>21.0</td>\n      <td>5.6925</td>\n      <td>3.5550</td>\n    </tr>\n    <tr>\n      <th>11</th>\n      <td>21.0</td>\n      <td>5.9175</td>\n      <td>3.3075</td>\n    </tr>\n    <tr>\n      <th>12</th>\n      <td>21.0</td>\n      <td>5.6925</td>\n      <td>3.6675</td>\n    </tr>\n    <tr>\n      <th>13</th>\n      <td>21.3</td>\n      <td>6.3840</td>\n      <td>3.5340</td>\n    </tr>\n    <tr>\n      <th>14</th>\n      <td>22.0</td>\n      <td>6.1100</td>\n      <td>3.4075</td>\n    </tr>\n    <tr>\n      <th>15</th>\n      <td>22.0</td>\n      <td>5.6400</td>\n      <td>3.5250</td>\n    </tr>\n    <tr>\n      <th>16</th>\n      <td>22.0</td>\n      <td>6.1100</td>\n      <td>3.5250</td>\n    </tr>\n    <tr>\n      <th>17</th>\n      <td>22.0</td>\n      <td>5.8750</td>\n      <td>3.5250</td>\n    </tr>\n    <tr>\n      <th>18</th>\n      <td>22.0</td>\n      <td>5.5225</td>\n      <td>3.9950</td>\n    </tr>\n    <tr>\n      <th>19</th>\n      <td>22.5</td>\n      <td>5.8560</td>\n      <td>3.6240</td>\n    </tr>\n    <tr>\n      <th>20</th>\n      <td>22.5</td>\n      <td>6.7920</td>\n      <td>3.6240</td>\n    </tr>\n    <tr>\n      <th>21</th>\n      <td>22.7</td>\n      <td>5.9532</td>\n      <td>3.6300</td>\n    </tr>\n    <tr>\n      <th>22</th>\n      <td>23.0</td>\n      <td>5.2185</td>\n      <td>3.6260</td>\n    </tr>\n    <tr>\n      <th>23</th>\n      <td>23.5</td>\n      <td>6.2750</td>\n      <td>3.7250</td>\n    </tr>\n    <tr>\n      <th>24</th>\n      <td>24.0</td>\n      <td>7.2930</td>\n      <td>3.7230</td>\n    </tr>\n    <tr>\n      <th>25</th>\n      <td>24.0</td>\n      <td>6.3750</td>\n      <td>3.8250</td>\n    </tr>\n    <tr>\n      <th>26</th>\n      <td>24.6</td>\n      <td>6.7334</td>\n      <td>4.1658</td>\n    </tr>\n    <tr>\n      <th>27</th>\n      <td>25.0</td>\n      <td>6.4395</td>\n      <td>3.6835</td>\n    </tr>\n    <tr>\n      <th>28</th>\n      <td>25.6</td>\n      <td>6.5610</td>\n      <td>4.2390</td>\n    </tr>\n    <tr>\n      <th>29</th>\n      <td>26.5</td>\n      <td>7.1680</td>\n      <td>4.1440</td>\n    </tr>\n    <tr>\n      <th>30</th>\n      <td>27.3</td>\n      <td>8.3230</td>\n      <td>5.1373</td>\n    </tr>\n    <tr>\n      <th>31</th>\n      <td>27.5</td>\n      <td>7.1672</td>\n      <td>4.3350</td>\n    </tr>\n    <tr>\n      <th>32</th>\n      <td>27.5</td>\n      <td>7.0516</td>\n      <td>4.3350</td>\n    </tr>\n    <tr>\n      <th>33</th>\n      <td>27.5</td>\n      <td>7.2828</td>\n      <td>4.5662</td>\n    </tr>\n    <tr>\n      <th>34</th>\n      <td>28.0</td>\n      <td>7.8204</td>\n      <td>4.2042</td>\n    </tr>\n    <tr>\n      <th>35</th>\n      <td>28.7</td>\n      <td>7.5852</td>\n      <td>4.6354</td>\n    </tr>\n    <tr>\n      <th>36</th>\n      <td>30.0</td>\n      <td>7.6156</td>\n      <td>4.7716</td>\n    </tr>\n    <tr>\n      <th>37</th>\n      <td>32.8</td>\n      <td>10.0300</td>\n      <td>6.0180</td>\n    </tr>\n    <tr>\n      <th>38</th>\n      <td>34.5</td>\n      <td>10.2565</td>\n      <td>6.3875</td>\n    </tr>\n    <tr>\n      <th>39</th>\n      <td>35.0</td>\n      <td>11.4884</td>\n      <td>7.7957</td>\n    </tr>\n    <tr>\n      <th>40</th>\n      <td>36.5</td>\n      <td>10.8810</td>\n      <td>6.8640</td>\n    </tr>\n    <tr>\n      <th>41</th>\n      <td>36.0</td>\n      <td>10.6091</td>\n      <td>6.7408</td>\n    </tr>\n    <tr>\n      <th>42</th>\n      <td>37.0</td>\n      <td>10.8350</td>\n      <td>6.2646</td>\n    </tr>\n    <tr>\n      <th>43</th>\n      <td>37.0</td>\n      <td>10.5717</td>\n      <td>6.3666</td>\n    </tr>\n    <tr>\n      <th>44</th>\n      <td>39.0</td>\n      <td>11.1366</td>\n      <td>7.4934</td>\n    </tr>\n    <tr>\n      <th>45</th>\n      <td>39.0</td>\n      <td>11.1366</td>\n      <td>6.0030</td>\n    </tr>\n    <tr>\n      <th>46</th>\n      <td>39.0</td>\n      <td>12.4313</td>\n      <td>7.3514</td>\n    </tr>\n    <tr>\n      <th>47</th>\n      <td>40.0</td>\n      <td>11.9286</td>\n      <td>7.1064</td>\n    </tr>\n    <tr>\n      <th>48</th>\n      <td>40.0</td>\n      <td>11.7300</td>\n      <td>7.2250</td>\n    </tr>\n    <tr>\n      <th>49</th>\n      <td>40.0</td>\n      <td>12.3808</td>\n      <td>7.4624</td>\n    </tr>\n    <tr>\n      <th>50</th>\n      <td>40.0</td>\n      <td>11.1350</td>\n      <td>6.6300</td>\n    </tr>\n    <tr>\n      <th>51</th>\n      <td>42.0</td>\n      <td>12.8002</td>\n      <td>6.8684</td>\n    </tr>\n    <tr>\n      <th>52</th>\n      <td>43.0</td>\n      <td>11.9328</td>\n      <td>7.2772</td>\n    </tr>\n    <tr>\n      <th>53</th>\n      <td>43.0</td>\n      <td>12.5125</td>\n      <td>7.4165</td>\n    </tr>\n    <tr>\n      <th>54</th>\n      <td>43.5</td>\n      <td>12.6040</td>\n      <td>8.1420</td>\n    </tr>\n    <tr>\n      <th>55</th>\n      <td>44.0</td>\n      <td>12.4888</td>\n      <td>7.5958</td>\n    </tr>\n  </tbody>\n</table>\n</div>"
     },
     "execution_count": 5,
     "metadata": {},
     "output_type": "execute_result"
    }
   ],
   "source": [
    "featureDF = perchDF[perchDF.columns[1:]]\n",
    "featureDF"
   ],
   "metadata": {
    "collapsed": false,
    "ExecuteTime": {
     "end_time": "2024-03-05T04:08:43.952966Z",
     "start_time": "2024-03-05T04:08:43.947094Z"
    }
   },
   "id": "6749d4781d6cafd0",
   "execution_count": 5
  },
  {
   "cell_type": "code",
   "outputs": [
    {
     "data": {
      "text/plain": "0        5.9\n1       32.0\n2       40.0\n3       51.5\n4       70.0\n5      100.0\n6       78.0\n7       80.0\n8       85.0\n9       85.0\n10     110.0\n11     115.0\n12     125.0\n13     130.0\n14     120.0\n15     120.0\n16     130.0\n17     135.0\n18     110.0\n19     130.0\n20     150.0\n21     145.0\n22     150.0\n23     170.0\n24     225.0\n25     145.0\n26     188.0\n27     180.0\n28     197.0\n29     218.0\n30     300.0\n31     260.0\n32     265.0\n33     250.0\n34     250.0\n35     300.0\n36     320.0\n37     514.0\n38     556.0\n39     840.0\n40     685.0\n41     700.0\n42     700.0\n43     690.0\n44     900.0\n45     650.0\n46     820.0\n47     850.0\n48     900.0\n49    1015.0\n50     820.0\n51    1100.0\n52    1000.0\n53    1100.0\n54    1000.0\n55    1000.0\nName: Weight, dtype: float64"
     },
     "execution_count": 14,
     "metadata": {},
     "output_type": "execute_result"
    }
   ],
   "source": [
    "targetDF = perchDF.Weight\n",
    "targetDF\n"
   ],
   "metadata": {
    "collapsed": false,
    "ExecuteTime": {
     "end_time": "2024-03-05T04:10:59.839441Z",
     "start_time": "2024-03-05T04:10:59.837061Z"
    }
   },
   "id": "14818ee829f4ad23",
   "execution_count": 14
  },
  {
   "cell_type": "code",
   "outputs": [
    {
     "data": {
      "text/plain": "((56, 3), (56,), pandas.core.series.Series)"
     },
     "execution_count": 24,
     "metadata": {},
     "output_type": "execute_result"
    }
   ],
   "source": [
    "featureDF.shape, targetDF.shape, type(targetDF)\n"
   ],
   "metadata": {
    "collapsed": false,
    "ExecuteTime": {
     "end_time": "2024-03-05T04:18:17.218382Z",
     "start_time": "2024-03-05T04:18:17.214372Z"
    }
   },
   "id": "bf6b43135d407846",
   "execution_count": 24
  },
  {
   "cell_type": "markdown",
   "source": [
    "#### [2-2] 데이터 분포 확인"
   ],
   "metadata": {
    "collapsed": false
   },
   "id": "432692157c1de85b"
  },
  {
   "cell_type": "code",
   "outputs": [
    {
     "data": {
      "text/plain": "<Figure size 640x480 with 3 Axes>",
      "image/png": "[encoded data removed]"
     },
     "metadata": {},
     "output_type": "display_data"
    }
   ],
   "source": [
    "import matplotlib.pyplot as plt\n",
    "\n",
    "# Feature & Target 관계\n",
    "r = 1\n",
    "for i in range(len(featureDF.columns)):\n",
    "    plt.subplot(1,3,r)\n",
    "    plt.plot(targetDF, featureDF[featureDF.columns[i]], 'o', label = featureDF.columns[i])\n",
    "    plt.legend()\n",
    "    r+=1\n",
    "plt.tight_layout()\n",
    "plt.show()\n",
    "\n",
    "# 직선의 형태는 아니지만 곡선이 양의 방향/비례하는 분포 확인"
   ],
   "metadata": {
    "collapsed": false,
    "ExecuteTime": {
     "end_time": "2024-03-05T04:21:40.783807Z",
     "start_time": "2024-03-05T04:21:40.560463Z"
    }
   },
   "id": "cdbfa44db446e557",
   "execution_count": 34
  },
  {
   "cell_type": "markdown",
   "source": [
    "### [3] 데이터 가공 <hr>\n",
    "- 특성 추가\n",
    "- 특성 스케일링"
   ],
   "metadata": {
    "collapsed": false
   },
   "id": "c73311cddc05d76d"
  },
  {
   "cell_type": "markdown",
   "source": [
    "#### [3-1] 특성 추가"
   ],
   "metadata": {
    "collapsed": false
   },
   "id": "ed1598ef0a91019e"
  },
  {
   "cell_type": "code",
   "outputs": [
    {
     "name": "stdout",
     "output_type": "stream",
     "text": [
      "특성추가 => poly_feature : (56, 55)\n",
      "원래 피쳐 => ['Length' 'Height' 'Width']\n",
      "추가된 피쳐 => ['Length' 'Height' 'Width' 'Length^2' 'Length Height' 'Length Width'\n",
      " 'Height^2' 'Height Width' 'Width^2' 'Length^3' 'Length^2 Height'\n",
      " 'Length^2 Width' 'Length Height^2' 'Length Height Width' 'Length Width^2'\n",
      " 'Height^3' 'Height^2 Width' 'Height Width^2' 'Width^3' 'Length^4'\n",
      " 'Length^3 Height' 'Length^3 Width' 'Length^2 Height^2'\n",
      " 'Length^2 Height Width' 'Length^2 Width^2' 'Length Height^3'\n",
      " 'Length Height^2 Width' 'Length Height Width^2' 'Length Width^3'\n",
      " 'Height^4' 'Height^3 Width' 'Height^2 Width^2' 'Height Width^3' 'Width^4'\n",
      " 'Length^5' 'Length^4 Height' 'Length^4 Width' 'Length^3 Height^2'\n",
      " 'Length^3 Height Width' 'Length^3 Width^2' 'Length^2 Height^3'\n",
      " 'Length^2 Height^2 Width' 'Length^2 Height Width^2' 'Length^2 Width^3'\n",
      " 'Length Height^4' 'Length Height^3 Width' 'Length Height^2 Width^2'\n",
      " 'Length Height Width^3' 'Length Width^4' 'Height^5' 'Height^4 Width'\n",
      " 'Height^3 Width^2' 'Height^2 Width^3' 'Height Width^4' 'Width^5']\n"
     ]
    }
   ],
   "source": [
    "from sklearn.preprocessing import PolynomialFeatures\n",
    "\n",
    "poly = PolynomialFeatures(degree=5, include_bias=False)\n",
    "poly.fit(featureDF)\n",
    "poly_feature = poly.transform(featureDF)\n",
    "poly_feature\n",
    "\n",
    "print(f'특성추가 => poly_feature : {poly_feature.shape}\\n원래 피쳐 => {poly.feature_names_in_}\\n추가된 피쳐 => {poly.get_feature_names_out()}')"
   ],
   "metadata": {
    "collapsed": false,
    "ExecuteTime": {
     "end_time": "2024-03-05T04:27:11.782635Z",
     "start_time": "2024-03-05T04:27:11.779507Z"
    }
   },
   "id": "dd9e014dbbfe5cca",
   "execution_count": 46
  },
  {
   "cell_type": "markdown",
   "source": [
    "#### [3-2] 피쳐 스케일링\n",
    "- 훈련용 & 테스트용 분리"
   ],
   "metadata": {
    "collapsed": false
   },
   "id": "b2fd6fd079d2f757"
  },
  {
   "cell_type": "code",
   "outputs": [],
   "source": [
    "from sklearn.model_selection import train_test_split\n",
    "\n",
    "X_train, x_test, y_train, y_test = train_test_split(poly_feature,\n",
    "                                                    targetDF,\n",
    "                                                    random_state=5)"
   ],
   "metadata": {
    "collapsed": false,
    "ExecuteTime": {
     "end_time": "2024-03-05T04:30:26.913827Z",
     "start_time": "2024-03-05T04:30:26.908283Z"
    }
   },
   "id": "49f388d05381e25e",
   "execution_count": 50
  },
  {
   "cell_type": "code",
   "outputs": [
    {
     "name": "stdout",
     "output_type": "stream",
     "text": [
      "Feature => (42, 55), (42,) Test => (14, 55), (14,)\n"
     ]
    }
   ],
   "source": [
    "print(f'Feature => {X_train.shape}, {y_train.shape} Test => {x_test.shape}, {y_test.shape}')"
   ],
   "metadata": {
    "collapsed": false,
    "ExecuteTime": {
     "end_time": "2024-03-05T04:30:27.160011Z",
     "start_time": "2024-03-05T04:30:27.155647Z"
    }
   },
   "id": "191528383656f96b",
   "execution_count": 51
  },
  {
   "cell_type": "markdown",
   "source": [
    "- 스케일링 진행"
   ],
   "metadata": {
    "collapsed": false
   },
   "id": "fc89b3bb4dc7d901"
  },
  {
   "cell_type": "code",
   "outputs": [
    {
     "data": {
      "text/plain": "StandardScaler()",
      "text/html": "<style>#sk-container-id-4 {color: black;}#sk-container-id-4 pre{padding: 0;}#sk-container-id-4 div.sk-toggleable {background-color: white;}#sk-container-id-4 label.sk-toggleable__label {cursor: pointer;display: block;width: 100%;margin-bottom: 0;padding: 0.3em;box-sizing: border-box;text-align: center;}#sk-container-id-4 label.sk-toggleable__label-arrow:before {content: \"▸\";float: left;margin-right: 0.25em;color: #696969;}#sk-container-id-4 label.sk-toggleable__label-arrow:hover:before {color: black;}#sk-container-id-4 div.sk-estimator:hover label.sk-toggleable__label-arrow:before {color: black;}#sk-container-id-4 div.sk-toggleable__content {max-height: 0;max-width: 0;overflow: hidden;text-align: left;background-color: #f0f8ff;}#sk-container-id-4 div.sk-toggleable__content pre {margin: 0.2em;color: black;border-radius: 0.25em;background-color: #f0f8ff;}#sk-container-id-4 input.sk-toggleable__control:checked~div.sk-toggleable__content {max-height: 200px;max-width: 100%;overflow: auto;}#sk-container-id-4 input.sk-toggleable__control:checked~label.sk-toggleable__label-arrow:before {content: \"▾\";}#sk-container-id-4 div.sk-estimator input.sk-toggleable__control:checked~label.sk-toggleable__label {background-color: #d4ebff;}#sk-container-id-4 div.sk-label input.sk-toggleable__control:checked~label.sk-toggleable__label {background-color: #d4ebff;}#sk-container-id-4 input.sk-hidden--visually {border: 0;clip: rect(1px 1px 1px 1px);clip: rect(1px, 1px, 1px, 1px);height: 1px;margin: -1px;overflow: hidden;padding: 0;position: absolute;width: 1px;}#sk-container-id-4 div.sk-estimator {font-family: monospace;background-color: #f0f8ff;border: 1px dotted black;border-radius: 0.25em;box-sizing: border-box;margin-bottom: 0.5em;}#sk-container-id-4 div.sk-estimator:hover {background-color: #d4ebff;}#sk-container-id-4 div.sk-parallel-item::after {content: \"\";width: 100%;border-bottom: 1px solid gray;flex-grow: 1;}#sk-container-id-4 div.sk-label:hover label.sk-toggleable__label {background-color: #d4ebff;}#sk-container-id-4 div.sk-serial::before {content: \"\";position: absolute;border-left: 1px solid gray;box-sizing: border-box;top: 0;bottom: 0;left: 50%;z-index: 0;}#sk-container-id-4 div.sk-serial {display: flex;flex-direction: column;align-items: center;background-color: white;padding-right: 0.2em;padding-left: 0.2em;position: relative;}#sk-container-id-4 div.sk-item {position: relative;z-index: 1;}#sk-container-id-4 div.sk-parallel {display: flex;align-items: stretch;justify-content: center;background-color: white;position: relative;}#sk-container-id-4 div.sk-item::before, #sk-container-id-4 div.sk-parallel-item::before {content: \"\";position: absolute;border-left: 1px solid gray;box-sizing: border-box;top: 0;bottom: 0;left: 50%;z-index: -1;}#sk-container-id-4 div.sk-parallel-item {display: flex;flex-direction: column;z-index: 1;position: relative;background-color: white;}#sk-container-id-4 div.sk-parallel-item:first-child::after {align-self: flex-end;width: 50%;}#sk-container-id-4 div.sk-parallel-item:last-child::after {align-self: flex-start;width: 50%;}#sk-container-id-4 div.sk-parallel-item:only-child::after {width: 0;}#sk-container-id-4 div.sk-dashed-wrapped {border: 1px dashed gray;margin: 0 0.4em 0.5em 0.4em;box-sizing: border-box;padding-bottom: 0.4em;background-color: white;}#sk-container-id-4 div.sk-label label {font-family: monospace;font-weight: bold;display: inline-block;line-height: 1.2em;}#sk-container-id-4 div.sk-label-container {text-align: center;}#sk-container-id-4 div.sk-container {/* jupyter's `normalize.less` sets `[hidden] { display: none; }` but bootstrap.min.css set `[hidden] { display: none !important; }` so we also need the `!important` here to be able to override the default hidden behavior on the sphinx rendered scikit-learn.org. See: https://github.com/scikit-learn/scikit-learn/issues/21755 */display: inline-block !important;position: relative;}#sk-container-id-4 div.sk-text-repr-fallback {display: none;}</style><div id=\"sk-container-id-4\" class=\"sk-top-container\"><div class=\"sk-text-repr-fallback\"><pre>StandardScaler()</pre><b>In a Jupyter environment, please rerun this cell to show the HTML representation or trust the notebook. <br />On GitHub, the HTML representation is unable to render, please try loading this page with nbviewer.org.</b></div><div class=\"sk-container\" hidden><div class=\"sk-item\"><div class=\"sk-estimator sk-toggleable\"><input class=\"sk-toggleable__control sk-hidden--visually\" id=\"sk-estimator-id-4\" type=\"checkbox\" checked><label for=\"sk-estimator-id-4\" class=\"sk-toggleable__label sk-toggleable__label-arrow\">StandardScaler</label><div class=\"sk-toggleable__content\"><pre>StandardScaler()</pre></div></div></div></div></div>"
     },
     "execution_count": 52,
     "metadata": {},
     "output_type": "execute_result"
    }
   ],
   "source": [
    "from sklearn.preprocessing import StandardScaler\n",
    "\n",
    "std_scaler = StandardScaler()\n",
    "std_scaler.fit(X_train)"
   ],
   "metadata": {
    "collapsed": false,
    "ExecuteTime": {
     "end_time": "2024-03-05T04:31:07.298838Z",
     "start_time": "2024-03-05T04:31:07.290156Z"
    }
   },
   "id": "e2f26be7bc22646e",
   "execution_count": 52
  },
  {
   "cell_type": "code",
   "outputs": [],
   "source": [
    "scaled_X_train = std_scaler.transform(X_train)\n",
    "scaled_X_test = std_scaler.transform(x_test)"
   ],
   "metadata": {
    "collapsed": false,
    "ExecuteTime": {
     "end_time": "2024-03-05T04:32:37.767836Z",
     "start_time": "2024-03-05T04:32:37.761888Z"
    }
   },
   "id": "51f76934b1d0099a",
   "execution_count": 53
  },
  {
   "cell_type": "markdown",
   "source": [
    "### [4] 학습진행 => 회귀"
   ],
   "metadata": {
    "collapsed": false
   },
   "id": "7089244a874ab17f"
  },
  {
   "cell_type": "code",
   "outputs": [
    {
     "data": {
      "text/plain": "LinearRegression()",
      "text/html": "<style>#sk-container-id-5 {color: black;}#sk-container-id-5 pre{padding: 0;}#sk-container-id-5 div.sk-toggleable {background-color: white;}#sk-container-id-5 label.sk-toggleable__label {cursor: pointer;display: block;width: 100%;margin-bottom: 0;padding: 0.3em;box-sizing: border-box;text-align: center;}#sk-container-id-5 label.sk-toggleable__label-arrow:before {content: \"▸\";float: left;margin-right: 0.25em;color: #696969;}#sk-container-id-5 label.sk-toggleable__label-arrow:hover:before {color: black;}#sk-container-id-5 div.sk-estimator:hover label.sk-toggleable__label-arrow:before {color: black;}#sk-container-id-5 div.sk-toggleable__content {max-height: 0;max-width: 0;overflow: hidden;text-align: left;background-color: #f0f8ff;}#sk-container-id-5 div.sk-toggleable__content pre {margin: 0.2em;color: black;border-radius: 0.25em;background-color: #f0f8ff;}#sk-container-id-5 input.sk-toggleable__control:checked~div.sk-toggleable__content {max-height: 200px;max-width: 100%;overflow: auto;}#sk-container-id-5 input.sk-toggleable__control:checked~label.sk-toggleable__label-arrow:before {content: \"▾\";}#sk-container-id-5 div.sk-estimator input.sk-toggleable__control:checked~label.sk-toggleable__label {background-color: #d4ebff;}#sk-container-id-5 div.sk-label input.sk-toggleable__control:checked~label.sk-toggleable__label {background-color: #d4ebff;}#sk-container-id-5 input.sk-hidden--visually {border: 0;clip: rect(1px 1px 1px 1px);clip: rect(1px, 1px, 1px, 1px);height: 1px;margin: -1px;overflow: hidden;padding: 0;position: absolute;width: 1px;}#sk-container-id-5 div.sk-estimator {font-family: monospace;background-color: #f0f8ff;border: 1px dotted black;border-radius: 0.25em;box-sizing: border-box;margin-bottom: 0.5em;}#sk-container-id-5 div.sk-estimator:hover {background-color: #d4ebff;}#sk-container-id-5 div.sk-parallel-item::after {content: \"\";width: 100%;border-bottom: 1px solid gray;flex-grow: 1;}#sk-container-id-5 div.sk-label:hover label.sk-toggleable__label {background-color: #d4ebff;}#sk-container-id-5 div.sk-serial::before {content: \"\";position: absolute;border-left: 1px solid gray;box-sizing: border-box;top: 0;bottom: 0;left: 50%;z-index: 0;}#sk-container-id-5 div.sk-serial {display: flex;flex-direction: column;align-items: center;background-color: white;padding-right: 0.2em;padding-left: 0.2em;position: relative;}#sk-container-id-5 div.sk-item {position: relative;z-index: 1;}#sk-container-id-5 div.sk-parallel {display: flex;align-items: stretch;justify-content: center;background-color: white;position: relative;}#sk-container-id-5 div.sk-item::before, #sk-container-id-5 div.sk-parallel-item::before {content: \"\";position: absolute;border-left: 1px solid gray;box-sizing: border-box;top: 0;bottom: 0;left: 50%;z-index: -1;}#sk-container-id-5 div.sk-parallel-item {display: flex;flex-direction: column;z-index: 1;position: relative;background-color: white;}#sk-container-id-5 div.sk-parallel-item:first-child::after {align-self: flex-end;width: 50%;}#sk-container-id-5 div.sk-parallel-item:last-child::after {align-self: flex-start;width: 50%;}#sk-container-id-5 div.sk-parallel-item:only-child::after {width: 0;}#sk-container-id-5 div.sk-dashed-wrapped {border: 1px dashed gray;margin: 0 0.4em 0.5em 0.4em;box-sizing: border-box;padding-bottom: 0.4em;background-color: white;}#sk-container-id-5 div.sk-label label {font-family: monospace;font-weight: bold;display: inline-block;line-height: 1.2em;}#sk-container-id-5 div.sk-label-container {text-align: center;}#sk-container-id-5 div.sk-container {/* jupyter's `normalize.less` sets `[hidden] { display: none; }` but bootstrap.min.css set `[hidden] { display: none !important; }` so we also need the `!important` here to be able to override the default hidden behavior on the sphinx rendered scikit-learn.org. See: https://github.com/scikit-learn/scikit-learn/issues/21755 */display: inline-block !important;position: relative;}#sk-container-id-5 div.sk-text-repr-fallback {display: none;}</style><div id=\"sk-container-id-5\" class=\"sk-top-container\"><div class=\"sk-text-repr-fallback\"><pre>LinearRegression()</pre><b>In a Jupyter environment, please rerun this cell to show the HTML representation or trust the notebook. <br />On GitHub, the HTML representation is unable to render, please try loading this page with nbviewer.org.</b></div><div class=\"sk-container\" hidden><div class=\"sk-item\"><div class=\"sk-estimator sk-toggleable\"><input class=\"sk-toggleable__control sk-hidden--visually\" id=\"sk-estimator-id-5\" type=\"checkbox\" checked><label for=\"sk-estimator-id-5\" class=\"sk-toggleable__label sk-toggleable__label-arrow\">LinearRegression</label><div class=\"sk-toggleable__content\"><pre>LinearRegression()</pre></div></div></div></div></div>"
     },
     "execution_count": 54,
     "metadata": {},
     "output_type": "execute_result"
    }
   ],
   "source": [
    "from sklearn.linear_model import LinearRegression\n",
    "\n",
    "lr_model = LinearRegression()\n",
    "lr_model.fit(scaled_X_train, y_train)"
   ],
   "metadata": {
    "collapsed": false,
    "ExecuteTime": {
     "end_time": "2024-03-05T04:33:11.186221Z",
     "start_time": "2024-03-05T04:33:11.128707Z"
    }
   },
   "id": "d47247d1f4ee803b",
   "execution_count": 54
  },
  {
   "cell_type": "code",
   "outputs": [
    {
     "name": "stdout",
     "output_type": "stream",
     "text": [
      "TRAIN SCORE => 1.0 TEST SCORE => -38.767867489561255\n"
     ]
    }
   ],
   "source": [
    "train_score = lr_model.score(scaled_X_train,y_train)\n",
    "test_score = lr_model.score(scaled_X_test, y_test)\n",
    "\n",
    "print(f'TRAIN SCORE => {train_score} TEST SCORE => {test_score}')"
   ],
   "metadata": {
    "collapsed": false,
    "ExecuteTime": {
     "end_time": "2024-03-05T04:34:12.521563Z",
     "start_time": "2024-03-05T04:34:12.514236Z"
    }
   },
   "id": "fdbae5b0d4304089",
   "execution_count": 55
  },
  {
   "cell_type": "markdown",
   "source": [
    "### 규제 : 가중치 값을 조절해서 과대적합 문제 해결 <hr>\n",
    "- Ridge : 모든 피쳐에 가중치를 0에 가깝게 조절\n",
    "- Lasso : 특정 피쳐의 가중치를 0으로 해서 차원 축소 부여"
   ],
   "metadata": {
    "collapsed": false
   },
   "id": "316c8310a93dc6e"
  },
  {
   "cell_type": "markdown",
   "source": [
    "- [규제 1] Ridge"
   ],
   "metadata": {
    "collapsed": false
   },
   "id": "d564c5ad8cda41b1"
  },
  {
   "cell_type": "code",
   "outputs": [],
   "source": [
    "from sklearn.linear_model import Ridge"
   ],
   "metadata": {
    "collapsed": false,
    "ExecuteTime": {
     "end_time": "2024-03-05T04:44:01.289368Z",
     "start_time": "2024-03-05T04:44:01.286033Z"
    }
   },
   "id": "dc6239cb89e8955d",
   "execution_count": 64
  },
  {
   "cell_type": "code",
   "outputs": [
    {
     "data": {
      "text/plain": "Ridge(max_iter=100)",
      "text/html": "<style>#sk-container-id-8 {color: black;}#sk-container-id-8 pre{padding: 0;}#sk-container-id-8 div.sk-toggleable {background-color: white;}#sk-container-id-8 label.sk-toggleable__label {cursor: pointer;display: block;width: 100%;margin-bottom: 0;padding: 0.3em;box-sizing: border-box;text-align: center;}#sk-container-id-8 label.sk-toggleable__label-arrow:before {content: \"▸\";float: left;margin-right: 0.25em;color: #696969;}#sk-container-id-8 label.sk-toggleable__label-arrow:hover:before {color: black;}#sk-container-id-8 div.sk-estimator:hover label.sk-toggleable__label-arrow:before {color: black;}#sk-container-id-8 div.sk-toggleable__content {max-height: 0;max-width: 0;overflow: hidden;text-align: left;background-color: #f0f8ff;}#sk-container-id-8 div.sk-toggleable__content pre {margin: 0.2em;color: black;border-radius: 0.25em;background-color: #f0f8ff;}#sk-container-id-8 input.sk-toggleable__control:checked~div.sk-toggleable__content {max-height: 200px;max-width: 100%;overflow: auto;}#sk-container-id-8 input.sk-toggleable__control:checked~label.sk-toggleable__label-arrow:before {content: \"▾\";}#sk-container-id-8 div.sk-estimator input.sk-toggleable__control:checked~label.sk-toggleable__label {background-color: #d4ebff;}#sk-container-id-8 div.sk-label input.sk-toggleable__control:checked~label.sk-toggleable__label {background-color: #d4ebff;}#sk-container-id-8 input.sk-hidden--visually {border: 0;clip: rect(1px 1px 1px 1px);clip: rect(1px, 1px, 1px, 1px);height: 1px;margin: -1px;overflow: hidden;padding: 0;position: absolute;width: 1px;}#sk-container-id-8 div.sk-estimator {font-family: monospace;background-color: #f0f8ff;border: 1px dotted black;border-radius: 0.25em;box-sizing: border-box;margin-bottom: 0.5em;}#sk-container-id-8 div.sk-estimator:hover {background-color: #d4ebff;}#sk-container-id-8 div.sk-parallel-item::after {content: \"\";width: 100%;border-bottom: 1px solid gray;flex-grow: 1;}#sk-container-id-8 div.sk-label:hover label.sk-toggleable__label {background-color: #d4ebff;}#sk-container-id-8 div.sk-serial::before {content: \"\";position: absolute;border-left: 1px solid gray;box-sizing: border-box;top: 0;bottom: 0;left: 50%;z-index: 0;}#sk-container-id-8 div.sk-serial {display: flex;flex-direction: column;align-items: center;background-color: white;padding-right: 0.2em;padding-left: 0.2em;position: relative;}#sk-container-id-8 div.sk-item {position: relative;z-index: 1;}#sk-container-id-8 div.sk-parallel {display: flex;align-items: stretch;justify-content: center;background-color: white;position: relative;}#sk-container-id-8 div.sk-item::before, #sk-container-id-8 div.sk-parallel-item::before {content: \"\";position: absolute;border-left: 1px solid gray;box-sizing: border-box;top: 0;bottom: 0;left: 50%;z-index: -1;}#sk-container-id-8 div.sk-parallel-item {display: flex;flex-direction: column;z-index: 1;position: relative;background-color: white;}#sk-container-id-8 div.sk-parallel-item:first-child::after {align-self: flex-end;width: 50%;}#sk-container-id-8 div.sk-parallel-item:last-child::after {align-self: flex-start;width: 50%;}#sk-container-id-8 div.sk-parallel-item:only-child::after {width: 0;}#sk-container-id-8 div.sk-dashed-wrapped {border: 1px dashed gray;margin: 0 0.4em 0.5em 0.4em;box-sizing: border-box;padding-bottom: 0.4em;background-color: white;}#sk-container-id-8 div.sk-label label {font-family: monospace;font-weight: bold;display: inline-block;line-height: 1.2em;}#sk-container-id-8 div.sk-label-container {text-align: center;}#sk-container-id-8 div.sk-container {/* jupyter's `normalize.less` sets `[hidden] { display: none; }` but bootstrap.min.css set `[hidden] { display: none !important; }` so we also need the `!important` here to be able to override the default hidden behavior on the sphinx rendered scikit-learn.org. See: https://github.com/scikit-learn/scikit-learn/issues/21755 */display: inline-block !important;position: relative;}#sk-container-id-8 div.sk-text-repr-fallback {display: none;}</style><div id=\"sk-container-id-8\" class=\"sk-top-container\"><div class=\"sk-text-repr-fallback\"><pre>Ridge(max_iter=100)</pre><b>In a Jupyter environment, please rerun this cell to show the HTML representation or trust the notebook. <br />On GitHub, the HTML representation is unable to render, please try loading this page with nbviewer.org.</b></div><div class=\"sk-container\" hidden><div class=\"sk-item\"><div class=\"sk-estimator sk-toggleable\"><input class=\"sk-toggleable__control sk-hidden--visually\" id=\"sk-estimator-id-8\" type=\"checkbox\" checked><label for=\"sk-estimator-id-8\" class=\"sk-toggleable__label sk-toggleable__label-arrow\">Ridge</label><div class=\"sk-toggleable__content\"><pre>Ridge(max_iter=100)</pre></div></div></div></div></div>"
     },
     "execution_count": 65,
     "metadata": {},
     "output_type": "execute_result"
    }
   ],
   "source": [
    "ridge_model = Ridge(max_iter=100)\n",
    "ridge_model.fit(scaled_X_train, y_train)"
   ],
   "metadata": {
    "collapsed": false,
    "ExecuteTime": {
     "end_time": "2024-03-05T04:44:01.397396Z",
     "start_time": "2024-03-05T04:44:01.390557Z"
    }
   },
   "id": "9065c08d7ce56a2e",
   "execution_count": 65
  },
  {
   "cell_type": "code",
   "outputs": [
    {
     "name": "stdout",
     "output_type": "stream",
     "text": [
      "[Ridge] TRAIN SCORE => 0.982383820995442 TEST SCORE => 0.9860777054753922\n"
     ]
    }
   ],
   "source": [
    "train_score = ridge_model.score(scaled_X_train,y_train)\n",
    "test_score = ridge_model.score(scaled_X_test, y_test)\n",
    "\n",
    "print(f'[Ridge] TRAIN SCORE => {train_score} TEST SCORE => {test_score}')"
   ],
   "metadata": {
    "collapsed": false,
    "ExecuteTime": {
     "end_time": "2024-03-05T04:57:50.447106Z",
     "start_time": "2024-03-05T04:57:50.443580Z"
    }
   },
   "id": "358a31205f5ceee1",
   "execution_count": 96
  },
  {
   "cell_type": "code",
   "outputs": [
    {
     "name": "stdout",
     "output_type": "stream",
     "text": [
      "ridge_model.n_iter_ => None\n",
      "ridge_model.coef_ => [11.58560914 11.16871618 10.39672634 10.43553996 10.30812209  9.39595309\n",
      " 10.1819614   9.31995247  8.55296559  8.79731612  8.80333147  7.73056483\n",
      "  8.82007477  7.77411194  6.85695994  8.84194644  7.8302827   6.95449212\n",
      "  6.24012537  6.99048022  7.09000787  5.85098435  7.20258957  5.97647316\n",
      "  4.89330485  7.32240759  6.11792627  5.06171886  4.18089483  7.44369106\n",
      "  6.26958109  5.24897376  4.4085729   3.76301887  5.16108446  5.33263331\n",
      "  3.9322057   5.51815866  4.11856325  2.86998652  5.71270869  4.32284579\n",
      "  3.08804369  2.03691794  5.91116405  4.54039926  3.32875596  2.30556236\n",
      "  1.48873436  6.1083241   4.7662634   3.5874804   2.6016167   1.82638393\n",
      "  1.26751988]\n",
      "ridge_model =>365.6404761904762\n"
     ]
    }
   ],
   "source": [
    "# 모델 파라미터 확인\n",
    "print(f'ridge_model.n_iter_ => {ridge_model.n_iter_}\\nridge_model.coef_ => {ridge_model.coef_}\\nridge_model =>{ridge_model.intercept_}')"
   ],
   "metadata": {
    "collapsed": false,
    "ExecuteTime": {
     "end_time": "2024-03-05T04:57:50.578478Z",
     "start_time": "2024-03-05T04:57:50.575634Z"
    }
   },
   "id": "86ace5037a1cf17",
   "execution_count": 97
  },
  {
   "cell_type": "code",
   "outputs": [],
   "source": [
    "# ====> 최적의 규제 강도 설정 값 찾기\n",
    "alphas=[0.1, 1.0, 10., 20., 30.]\n",
    "ridge_score = [[],[]]\n",
    "\n",
    "for a in alphas:\n",
    "    ridge_model = Ridge(alpha=a)\n",
    "    ridge_model.fit(scaled_X_train, y_train)\n",
    "    train_score = ridge_model.score(scaled_X_train,y_train)\n",
    "    test_score = ridge_model.score(scaled_X_test, y_test)\n",
    "    ridge_score[0].append(train_score)\n",
    "    ridge_score[1].append(test_score)\n",
    "    \n"
   ],
   "metadata": {
    "collapsed": false,
    "ExecuteTime": {
     "end_time": "2024-03-05T04:57:51.436189Z",
     "start_time": "2024-03-05T04:57:51.427433Z"
    }
   },
   "id": "2265030412726584",
   "execution_count": 98
  },
  {
   "cell_type": "code",
   "outputs": [
    {
     "data": {
      "text/plain": "1.0"
     },
     "execution_count": 99,
     "metadata": {},
     "output_type": "execute_result"
    }
   ],
   "source": [
    "# 테스트 점수가 가장 높은 알파\n",
    "best_alpha = alphas[ridge_score[1].index(max(ridge_score[1]))]\n",
    "best_alpha"
   ],
   "metadata": {
    "collapsed": false,
    "ExecuteTime": {
     "end_time": "2024-03-05T04:57:51.889657Z",
     "start_time": "2024-03-05T04:57:51.886308Z"
    }
   },
   "id": "b4db56df5aed62c4",
   "execution_count": 99
  },
  {
   "cell_type": "code",
   "outputs": [
    {
     "data": {
      "text/plain": "<Figure size 640x480 with 1 Axes>",
      "image/png": "[encoded data removed]"
     },
     "metadata": {},
     "output_type": "display_data"
    }
   ],
   "source": [
    "# 학습 및 테스트 점수 기반 시각화\n",
    "import matplotlib.pyplot as plt\n",
    "\n",
    "plt.plot(alphas, ridge_score[0], label='Train')\n",
    "plt.plot(alphas, ridge_score[1], label='Test')\n",
    "plt.title('alpha & Ridge')\n",
    "plt.axvline(best_alpha, linestyle='--', color='red', label = f'alpha={best_alpha}')\n",
    "plt.xticks(alphas)\n",
    "plt.legend()\n",
    "plt.show()"
   ],
   "metadata": {
    "collapsed": false,
    "ExecuteTime": {
     "end_time": "2024-03-05T04:54:21.088281Z",
     "start_time": "2024-03-05T04:54:21.027177Z"
    }
   },
   "id": "3385e570974855af",
   "execution_count": 92
  },
  {
   "cell_type": "markdown",
   "source": [
    "- [규제 2] Lasso"
   ],
   "metadata": {
    "collapsed": false
   },
   "id": "cb171de6a10c4df3"
  },
  {
   "cell_type": "code",
   "outputs": [],
   "source": [
    "from sklearn.linear_model import Lasso"
   ],
   "metadata": {
    "collapsed": false,
    "ExecuteTime": {
     "end_time": "2024-03-05T04:55:45.272942Z",
     "start_time": "2024-03-05T04:55:45.261693Z"
    }
   },
   "id": "2c80df3f5bde0e90",
   "execution_count": 93
  },
  {
   "cell_type": "code",
   "outputs": [
    {
     "name": "stdout",
     "output_type": "stream",
     "text": [
      "[Lasso] TRAIN SCORE => 0.9861019685826385 TEST SCORE => 0.9913772335015756\n",
      "lasso_model.n_iter_ => 100\n",
      "lasso_model.coef_ => [-0.         -0.          0.         58.59774722 32.61232745 20.42274409\n",
      " 11.30560374 20.4682632  31.79772445  6.21193293 17.63899727  0.\n",
      " 22.34229882  0.          3.2787791  18.82943604  0.          5.40998649\n",
      " 20.00403592  1.89374719  0.          0.          2.61707595  0.\n",
      "  0.         17.6798917   0.          0.          0.         17.49291671\n",
      "  0.          0.          0.          0.          0.          0.\n",
      "  0.          0.          0.          0.          2.01079301  0.\n",
      "  0.          0.         15.60001999  0.          0.          0.\n",
      " -0.         15.49442774  0.          0.          0.          0.\n",
      "  0.        ]\n",
      "lasso_model =>365.6404761904762\n"
     ]
    },
    {
     "name": "stderr",
     "output_type": "stream",
     "text": [
      "/Users/sml/anaconda3/envs/EXAM_ML/lib/python3.9/site-packages/sklearn/linear_model/_coordinate_descent.py:628: ConvergenceWarning: Objective did not converge. You might want to increase the number of iterations, check the scale of the features or consider increasing regularisation. Duality gap: 3.058e+03, tolerance: 4.884e+02\n",
      "  model = cd_fast.enet_coordinate_descent(\n"
     ]
    },
    {
     "ename": "TypeError",
     "evalue": "'float' object cannot be interpreted as an integer",
     "output_type": "error",
     "traceback": [
      "\u001B[0;31m---------------------------------------------------------------------------\u001B[0m",
      "\u001B[0;31mTypeError\u001B[0m                                 Traceback (most recent call last)",
      "Cell \u001B[0;32mIn[110], line 14\u001B[0m\n\u001B[1;32m     11\u001B[0m alphas \u001B[38;5;241m=\u001B[39m [\u001B[38;5;241m0.1\u001B[39m, \u001B[38;5;241m1.0\u001B[39m, \u001B[38;5;241m10.\u001B[39m, \u001B[38;5;241m20.\u001B[39m, \u001B[38;5;241m30.\u001B[39m]\n\u001B[1;32m     12\u001B[0m lasso_score \u001B[38;5;241m=\u001B[39m [[], []]\n\u001B[0;32m---> 14\u001B[0m \u001B[38;5;28;01mfor\u001B[39;00m a \u001B[38;5;129;01min\u001B[39;00m \u001B[38;5;28;43mrange\u001B[39;49m\u001B[43m(\u001B[49m\u001B[38;5;241;43m0.1\u001B[39;49m\u001B[43m,\u001B[49m\u001B[38;5;241;43m5\u001B[39;49m\u001B[43m,\u001B[49m\u001B[38;5;241;43m0.1\u001B[39;49m\u001B[43m)\u001B[49m:\n\u001B[1;32m     15\u001B[0m     lasso_model \u001B[38;5;241m=\u001B[39m Lasso(alpha\u001B[38;5;241m=\u001B[39ma, max_iter\u001B[38;5;241m=\u001B[39m\u001B[38;5;241m100000\u001B[39m)\n\u001B[1;32m     16\u001B[0m     lasso_model\u001B[38;5;241m.\u001B[39mfit(scaled_X_train, y_train)\n",
      "\u001B[0;31mTypeError\u001B[0m: 'float' object cannot be interpreted as an integer"
     ]
    }
   ],
   "source": [
    "lasso_model = Lasso(max_iter=100)\n",
    "lasso_model.fit(scaled_X_train, y_train)\n",
    "train_score = lasso_model.score(scaled_X_train, y_train)\n",
    "test_score = lasso_model.score(scaled_X_test, y_test)\n",
    "\n",
    "print(f'[Lasso] TRAIN SCORE => {train_score} TEST SCORE => {test_score}')\n",
    "# 모델 파라미터 확인\n",
    "print(\n",
    "    f'lasso_model.n_iter_ => {lasso_model.n_iter_}\\nlasso_model.coef_ => {lasso_model.coef_}\\nlasso_model =>{lasso_model.intercept_}')\n",
    "# ====> 최적의 규제 강도 설정 값 찾기\n",
    "alphas = [0.1, 1.0, 10., 20., 30.]\n",
    "lasso_score = [[], []]\n",
    "\n",
    "for a in alphas:\n",
    "    lasso_model = Lasso(alpha=a, max_iter=100000)\n",
    "    lasso_model.fit(scaled_X_train, y_train)\n",
    "    train_score = lasso_model.score(scaled_X_train, y_train)\n",
    "    test_score = lasso_model.score(scaled_X_test, y_test)\n",
    "    lasso_score[0].append(train_score)\n",
    "    lasso_score[1].append(test_score)\n",
    "\n",
    "# 테스트 점수가 가장 높은 알파\n",
    "best_alpha = alphas[lasso_score[1].index(max(lasso_score[1]))]\n",
    "best_alpha\n",
    "# 학습 및 테스트 점수 기반 시각화\n",
    "import matplotlib.pyplot as plt\n",
    "\n",
    "plt.plot(alphas, lasso_score[0], label='Train')\n",
    "plt.plot(alphas, lasso_score[1], label='Test')\n",
    "plt.title('alpha & Lasso')\n",
    "plt.axvline(best_alpha, linestyle='--', color='red', label=f'alpha={best_alpha}')\n",
    "plt.xticks(alphas)\n",
    "plt.legend()\n",
    "plt.show()"
   ],
   "metadata": {
    "collapsed": false,
    "ExecuteTime": {
     "end_time": "2024-03-05T05:03:20.912898Z",
     "start_time": "2024-03-05T05:03:20.886578Z"
    }
   },
   "id": "cbe1fb09825e01e5",
   "execution_count": 110
  },
  {
   "cell_type": "markdown",
   "source": [
    "# 라1쏘0, 릿2지"
   ],
   "metadata": {
    "collapsed": false
   },
   "id": "cafb7c4c13b3b0fb"
  },
  {
   "cell_type": "markdown",
   "source": [
    "과대적합 확인 하기\n",
    "- Dataset이 너무 적을 때 => Data 증폭 필요\n",
    "- 피쳐가 너무 많을 때"
   ],
   "metadata": {
    "collapsed": false
   },
   "id": "6b6b2535a7796cb2"
  },
  {
   "cell_type": "code",
   "outputs": [],
   "source": [],
   "metadata": {
    "collapsed": false
   },
   "id": "b5cb2d60f3e34dee"
  }
 ],
 "metadata": {
  "kernelspec": {
   "display_name": "Python 3",
   "language": "python",
   "name": "python3"
  },
  "language_info": {
   "codemirror_mode": {
    "name": "ipython",
    "version": 2
   },
   "file_extension": ".py",
   "mimetype": "text/x-python",
   "name": "python",
   "nbconvert_exporter": "python",
   "pygments_lexer": "ipython2",
   "version": "2.7.6"
  }
 },
 "nbformat": 4,
 "nbformat_minor": 5
}
