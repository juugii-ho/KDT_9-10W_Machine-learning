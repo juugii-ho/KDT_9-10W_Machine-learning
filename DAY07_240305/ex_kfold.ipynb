{
 "cells": [
  {
   "cell_type": "markdown",
   "source": [
    "## 교차 검증\n",
    "- 부족한 데이터 셋 및 특정 데이터에 과대적합되는 문제 해결하기 위한 방안\n",
    "- 학습 데이터셋을 일정 크기의 데이터로 n개 분리 후 1/n은 검증용,용나머지는 학습용으로 사용\n",
    "\n"
   ],
   "metadata": {
    "collapsed": false
   },
   "id": "cdb198ab7e6ee39a"
  },
  {
   "cell_type": "code",
   "outputs": [],
   "source": [
    "import numpy as np\n",
    "import pandas as pd\n",
    "from sklearn.model_selection import KFold"
   ],
   "metadata": {
    "collapsed": false,
    "ExecuteTime": {
     "end_time": "2024-03-05T06:31:32.585621Z",
     "start_time": "2024-03-05T06:31:32.577068Z"
    }
   },
   "id": "9d6b8463cb384ac2",
   "execution_count": 206
  },
  {
   "cell_type": "code",
   "outputs": [],
   "source": [
    "X = np.array([[1,2], [3,4], [1,2], [3,4]])\n",
    "y = np.array([1,2,3,4])"
   ],
   "metadata": {
    "collapsed": false,
    "ExecuteTime": {
     "end_time": "2024-03-05T06:31:32.616170Z",
     "start_time": "2024-03-05T06:31:32.588936Z"
    }
   },
   "id": "ef07b0411e903a12",
   "execution_count": 207
  },
  {
   "cell_type": "code",
   "outputs": [],
   "source": [
    "# KFold 객체 생성 => 데이터를 2개로 분할해주는 객체\n",
    "k_fold = KFold(n_splits=2)"
   ],
   "metadata": {
    "collapsed": false,
    "ExecuteTime": {
     "end_time": "2024-03-05T06:31:32.616417Z",
     "start_time": "2024-03-05T06:31:32.592489Z"
    }
   },
   "id": "c7b414880d6cafd9",
   "execution_count": 208
  },
  {
   "cell_type": "code",
   "outputs": [
    {
     "name": "stdout",
     "output_type": "stream",
     "text": [
      "(array([2, 3]), array([0, 1]))\n",
      "(array([0, 1]), array([2, 3]))\n"
     ]
    }
   ],
   "source": [
    "# 데이터 분할\n",
    "datasets= k_fold.split(X)\n",
    "\n",
    "for dataset in datasets:\n",
    "    print(dataset)"
   ],
   "metadata": {
    "collapsed": false,
    "ExecuteTime": {
     "end_time": "2024-03-05T06:31:32.616874Z",
     "start_time": "2024-03-05T06:31:32.594329Z"
    }
   },
   "id": "9f9fcde528c1f916",
   "execution_count": 209
  },
  {
   "cell_type": "code",
   "outputs": [
    {
     "name": "stdout",
     "output_type": "stream",
     "text": [
      "<class 'pandas.core.frame.DataFrame'>\n",
      "RangeIndex: 56 entries, 0 to 55\n",
      "Data columns (total 4 columns):\n",
      " #   Column  Non-Null Count  Dtype  \n",
      "---  ------  --------------  -----  \n",
      " 0   Weight  56 non-null     float64\n",
      " 1   Length  56 non-null     float64\n",
      " 2   Height  56 non-null     float64\n",
      " 3   Width   56 non-null     float64\n",
      "dtypes: float64(4)\n",
      "memory usage: 1.9 KB\n"
     ]
    }
   ],
   "source": [
    "### perch.csv 파일 데이터 기본 5등분\n",
    "import pandas as pd\n",
    "\n",
    "perchDF = pd.read_csv('../data/perch3.csv')\n",
    "perchDF.info()\n"
   ],
   "metadata": {
    "collapsed": false,
    "ExecuteTime": {
     "end_time": "2024-03-05T06:31:32.629117Z",
     "start_time": "2024-03-05T06:31:32.619604Z"
    }
   },
   "id": "5939e191a657e471",
   "execution_count": 210
  },
  {
   "cell_type": "code",
   "outputs": [
    {
     "name": "stdout",
     "output_type": "stream",
     "text": [
      "0 => (44,) (12,)\n",
      "1 => (45,) (11,)\n",
      "2 => (45,) (11,)\n",
      "3 => (45,) (11,)\n",
      "4 => (45,) (11,)\n"
     ]
    }
   ],
   "source": [
    "# perchDF => 5등분\n",
    "fold_5 = KFold()\n",
    "\n",
    "datasets = fold_5.split(perchDF)\n",
    "\n",
    "for index, (train, test) in enumerate(datasets):\n",
    "    print(f'{index} => {train.shape} {test.shape}')"
   ],
   "metadata": {
    "collapsed": false,
    "ExecuteTime": {
     "end_time": "2024-03-05T06:31:32.629390Z",
     "start_time": "2024-03-05T06:31:32.625353Z"
    }
   },
   "id": "d0d19874b9848f51",
   "execution_count": 211
  },
  {
   "cell_type": "code",
   "outputs": [
    {
     "name": "stdout",
     "output_type": "stream",
     "text": [
      "<class 'pandas.core.frame.DataFrame'>\n",
      "RangeIndex: 150 entries, 0 to 149\n",
      "Data columns (total 5 columns):\n",
      " #   Column        Non-Null Count  Dtype  \n",
      "---  ------        --------------  -----  \n",
      " 0   sepal_length  150 non-null    float64\n",
      " 1   sepal_width   150 non-null    float64\n",
      " 2   petal_length  150 non-null    float64\n",
      " 3   petal_width   150 non-null    float64\n",
      " 4   species       150 non-null    object \n",
      "dtypes: float64(4), object(1)\n",
      "memory usage: 6.0+ KB\n"
     ]
    }
   ],
   "source": [
    "## 타겟의 분류인 경우\n",
    "iris = '../data/iris.csv'\n",
    "irisDF = pd.read_csv(iris)\n",
    "irisDF.info()"
   ],
   "metadata": {
    "collapsed": false,
    "ExecuteTime": {
     "end_time": "2024-03-05T06:31:32.639360Z",
     "start_time": "2024-03-05T06:31:32.628632Z"
    }
   },
   "id": "c499a05a4f4bee1e",
   "execution_count": 212
  },
  {
   "cell_type": "code",
   "outputs": [],
   "source": [
    "k_fold = KFold(n_splits=3, shuffle=True)\n",
    "ret = k_fold.split(irisDF[irisDF.columns[:-1]])"
   ],
   "metadata": {
    "collapsed": false,
    "ExecuteTime": {
     "end_time": "2024-03-05T06:31:32.655862Z",
     "start_time": "2024-03-05T06:31:32.636243Z"
    }
   },
   "id": "92adb38d354d4c4b",
   "execution_count": 213
  },
  {
   "cell_type": "code",
   "outputs": [],
   "source": [
    "from sklearn.linear_model import LogisticRegression\n",
    "\n",
    "train_score3 = []\n",
    "test_score3 = []"
   ],
   "metadata": {
    "collapsed": false,
    "ExecuteTime": {
     "end_time": "2024-03-05T06:31:32.657192Z",
     "start_time": "2024-03-05T06:31:32.638166Z"
    }
   },
   "id": "826cd021c6336215",
   "execution_count": 214
  },
  {
   "cell_type": "code",
   "outputs": [
    {
     "name": "stdout",
     "output_type": "stream",
     "text": [
      "Train score : 0.970, Test score : 0.980\n",
      "\n",
      "Train score : 0.980, Test score : 0.940\n",
      "\n",
      "Train score : 0.980, Test score : 0.980\n"
     ]
    }
   ],
   "source": [
    "for idx, (train, test) in enumerate(ret):\n",
    "    # print(idx, train, test)\n",
    "    \n",
    "    # 학습용, 테스트용 인덱스 변환\n",
    "    # print(train.tolist())\n",
    "    train_idx=train.tolist()\n",
    "    test_idx=test.tolist()\n",
    "    \n",
    "    \n",
    "    # 인덱스에 해당하는 데이터 셋 추출\n",
    "    # print(f' Train : {irisDF.iloc[train.tolist()].species.value_counts()}')\n",
    "    # print(f' Test : {irisDF.iloc[test.tolist()].species.value_counts()}')\n",
    "    trainDF = irisDF.iloc[train_idx]\n",
    "    testDF = irisDF.iloc[test_idx]\n",
    "    \n",
    "    X_train = trainDF[trainDF.columns[:-1]]\n",
    "    y_train = trainDF[trainDF.columns[-1]]\n",
    "    \n",
    "    x_test = testDF[testDF.columns[:-1]]\n",
    "    y_test = testDF[testDF.columns[-1]]\n",
    "    \n",
    "    \n",
    "    # 분류 모델 학습\n",
    "    log_model = LogisticRegression(max_iter=1000)\n",
    "    log_model.fit(X_train, y_train)\n",
    "    \n",
    "    # 훈련 및 검증용 성능\n",
    "    train_score = log_model.score(X_train, y_train)\n",
    "    test_score = log_model.score(x_test, y_test)\n",
    "    print(f'Train score : {train_score:.3f}, Test score : {test_score:.3f}\\n')\n",
    "    \n",
    "    train_score3.append(train_score)\n",
    "    test_score3.append(test_score)"
   ],
   "metadata": {
    "collapsed": false,
    "ExecuteTime": {
     "end_time": "2024-03-05T06:31:32.669595Z",
     "start_time": "2024-03-05T06:31:32.645562Z"
    }
   },
   "id": "6eb614112ab03d",
   "execution_count": 215
  },
  {
   "cell_type": "code",
   "outputs": [
    {
     "name": "stdout",
     "output_type": "stream",
     "text": [
      "Train score AVG : 0.977, Test score AVG : 0.967\n"
     ]
    }
   ],
   "source": [
    "print(f'Train score AVG : {sum(train_score3) / len(train_score3):.3f}, Test score AVG : {sum(test_score3)/len(test_score3):.3f}')"
   ],
   "metadata": {
    "collapsed": false,
    "ExecuteTime": {
     "end_time": "2024-03-05T06:32:02.968290Z",
     "start_time": "2024-03-05T06:32:02.963967Z"
    }
   },
   "id": "1887a209e337cf78",
   "execution_count": 218
  },
  {
   "cell_type": "code",
   "outputs": [],
   "source": [
    "irisDF.iloc[train.tolist()].species.value_counts()"
   ],
   "metadata": {
    "collapsed": false,
    "ExecuteTime": {
     "start_time": "2024-03-05T06:31:32.671485Z"
    }
   },
   "id": "e70889ebb8008682",
   "execution_count": null
  },
  {
   "cell_type": "code",
   "outputs": [],
   "source": [
    "irisDF.iloc[test.tolist()].species.value_counts()"
   ],
   "metadata": {
    "collapsed": false,
    "ExecuteTime": {
     "start_time": "2024-03-05T06:31:32.672835Z"
    }
   },
   "id": "bb70fad8e4f363d8",
   "execution_count": null
  },
  {
   "cell_type": "code",
   "outputs": [],
   "source": [
    "from sklearn.model_selection import StratifiedKFold\n",
    "from sklearn.preprocessing import LabelEncoder\n",
    "\n",
    "le = LabelEncoder()\n",
    "y = le.fit_transform(irisDF.species)\n",
    "sk_fold = StratifiedKFold(n_splits=3, shuffle=True)\n",
    "ret = sk_fold.split(irisDF[irisDF.columns[:-1]],y)\n",
    "\n",
    "for idx, (train, test) in enumerate(ret):\n",
    "    print(idx, train, test)\n",
    "    print(train.tolist())\n",
    "    print(f' Train : {irisDF.iloc[train.tolist()].species.value_counts()}')\n",
    "    print(f' Test : {irisDF.iloc[test.tolist()].species.value_counts()}')\n",
    "irisDF.iloc[train.tolist()].species.value_counts(), irisDF.iloc[test.tolist()].species.value_counts()"
   ],
   "metadata": {
    "collapsed": false,
    "ExecuteTime": {
     "start_time": "2024-03-05T06:31:32.674138Z"
    }
   },
   "id": "4bf6b5346055cd71",
   "execution_count": null
  },
  {
   "cell_type": "code",
   "outputs": [],
   "source": [
    "# 분류 모델 학습\n"
   ],
   "metadata": {
    "collapsed": false,
    "ExecuteTime": {
     "start_time": "2024-03-05T06:31:32.674864Z"
    }
   },
   "id": "2970a9835fe43b10",
   "execution_count": null
  }
 ],
 "metadata": {
  "kernelspec": {
   "display_name": "Python 3",
   "language": "python",
   "name": "python3"
  },
  "language_info": {
   "codemirror_mode": {
    "name": "ipython",
    "version": 2
   },
   "file_extension": ".py",
   "mimetype": "text/x-python",
   "name": "python",
   "nbconvert_exporter": "python",
   "pygments_lexer": "ipython2",
   "version": "2.7.6"
  }
 },
 "nbformat": 4,
 "nbformat_minor": 5
}
