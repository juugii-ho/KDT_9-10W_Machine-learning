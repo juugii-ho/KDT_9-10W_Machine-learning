{
 "cells": [
  {
   "cell_type": "markdown",
   "source": [
    "# ML-TEST 1차\n"
   ],
   "metadata": {
    "collapsed": false
   },
   "id": "caac6d611de485b6"
  },
  {
   "cell_type": "markdown",
   "source": [
    "1. 기계학습 프로세스에 대해 간략하게 설명하세요.\n",
    "- 모듈 로딩 및 데이터 확인\n",
    "- 원 데이터 시각화\n",
    "- 데이터 전처리 1 : 이상치 제거, 중복값 제거 등\n",
    "- 데이터 전처리 2 : 스케일링 및 타겟/피쳐 항목 선택\n",
    "- 모델링 : 모델 선택 및 적용\n",
    "- 모델 튜닝\n",
    "- 성능평가 : R2 Score, MAE, RMAE, MAE, 정확도, 정밀도, 재현율, F1 Score 등에 따라 평가 \n",
    "- 위의 과정을 필요에 따라 반복"
   ],
   "metadata": {
    "collapsed": false
   },
   "id": "15377f8c4b9c5140"
  },
  {
   "cell_type": "markdown",
   "source": [
    "2. 기계학습에 사용되는 데이터셋에 대해 설명하세요.\n",
    "\n",
    "- feature, target으로 구분 후 훈련용, (검증용), 테스트용 사용\n"
   ],
   "metadata": {
    "collapsed": false
   },
   "id": "ebb2dc65a4feaceb"
  },
  {
   "cell_type": "markdown",
   "source": [
    "3. 지도학습의 특징을 설명하세요.\n",
    "- 훈련, 학습 방법에 대한 내용을 알려줌"
   ],
   "metadata": {
    "collapsed": false
   },
   "id": "b1b86ce055c21045"
  },
  {
   "cell_type": "markdown",
   "source": [
    "4. 데이터 전처리 중 처음 데이터 수집 후 데이터 정제하는 과정에 진행되는 작업을\n",
    "설명하세요.\n",
    "- 원 데이터 시각화\n",
    "- 데이터 전처리 1 : 이상치 제거, 중복값 제거 등\n",
    "- 데이터 전처리 2 : 스케일링 및 타겟/피쳐 항목 선택"
   ],
   "metadata": {
    "collapsed": false
   },
   "id": "486a8314db2d439a"
  },
  {
   "cell_type": "markdown",
   "source": [
    "5. 모델 개념을 설명해 주세요.\n",
    "- 분류모델 : 테스트한 내용을 범주형으로 분류 후 정답이 맞다/틀리다의 갯수로 확인\n",
    "- 회귀모델 : 테스트한 내용을 연속형으로 판단 후 정답과 일치하는 확률로 확인"
   ],
   "metadata": {
    "collapsed": false
   },
   "id": "2d8a913ea546dd78"
  },
  {
   "cell_type": "markdown",
   "source": [
    "6. 모델의 결과 값이 수치를 예측해주는 기계학습은 무엇인가요?\n",
    "- 회귀모델\n"
   ],
   "metadata": {
    "collapsed": false
   },
   "id": "5f8a25a3570cd47"
  },
  {
   "cell_type": "markdown",
   "source": [
    "7. 모델 파라미터는 무엇인가요?\n",
    "- 모델별로 사용하는 여러가지 학습 알고리즘을 선택할 수 있게 함\n"
   ],
   "metadata": {
    "collapsed": false
   },
   "id": "bfea78fe1f439112"
  },
  {
   "cell_type": "markdown",
   "source": [
    "8. KNN 알고리즘에 대해 설명해 주세요.\n",
    "- 테스트하고자 하는 주변의 가장 이웃한 K개의 값을 통해 해당 값을 추측하는 것\n"
   ],
   "metadata": {
    "collapsed": false
   },
   "id": "58ceacc70e284168"
  },
  {
   "cell_type": "markdown",
   "source": [
    "9. 하이퍼 파라미터는 무엇인가요?\n",
    "- 모델의 성능을 좌우하는 파라미터\n"
   ],
   "metadata": {
    "collapsed": false
   },
   "id": "2cd88cc0d47c784d"
  },
  {
   "cell_type": "markdown",
   "source": [
    "10. Regression의 성능평가 지표들을 설명하세요.\n",
    "- R2 Score : 회귀모델과의 오차값의 제곱\n",
    "- MSE : 평균 값의 제곱\n",
    "- RMSE : MSE의 값에 제곱근 취한 것 \n",
    "- MAE : 평균값의 절대값을 제곱한 것\n"
   ],
   "metadata": {
    "collapsed": false
   },
   "id": "6431008c721f406b"
  },
  {
   "cell_type": "markdown",
   "source": [
    "11. LinearRegression 알고리즘에 대해 설명해 주세요.\n",
    "- 선형회귀 : 직선, 곡선 등의 선으로 회귀모형을 지정하여 실제 값이 해당 회귀 모형과 얼마나 일치하는 지를 판단"
   ],
   "metadata": {
    "collapsed": false
   },
   "id": "59fa69edaad81189"
  },
  {
   "cell_type": "markdown",
   "source": [
    "12. Classification의 성능평가 지표들을 설명하세요.\n",
    "- 정확도, 정밀도, 재현율, F1 Score 등 \n"
   ],
   "metadata": {
    "collapsed": false
   },
   "id": "581cd7b071b824b4"
  },
  {
   "cell_type": "markdown",
   "source": [
    "13. 피쳐공학에 대해 설명하세요.\n",
    "- 해당 데이터가 가지고 있는 기본 피쳐를 바탕으로 피쳐를 늘리거나 줄이는 방식으로 적합한 데이터 모델을 찾는 방법"
   ],
   "metadata": {
    "collapsed": false
   },
   "id": "579e65f77b6d6a25"
  },
  {
   "cell_type": "markdown",
   "source": [
    "14. LogisticRegression 알고리즘에 대해 설명해 주세요.\n",
    "- OvR : 하나와 나머지를 비교\n",
    "- OvO : 하나와 하나를 비교\n"
   ],
   "metadata": {
    "collapsed": false
   },
   "id": "532fc7285c63d83d"
  },
  {
   "cell_type": "markdown",
   "source": [
    "15. 과대적합/과소적합에 대해 설명해 주세요.\n",
    "- 과대적합 : 훈련용 데이터의 학습에 치중하여 테스트할 데이터에 대한 평가지표보다 훈련용 데이터의 평가지표가 높은 경우\n",
    "- 과소적합 : 훈련용 데이터와 테스트용 데이터 모두 점수가 낮은 경우\n"
   ],
   "metadata": {
    "collapsed": false
   },
   "id": "255c74ffbbfc5339"
  },
  {
   "cell_type": "markdown",
   "source": [
    "16. 아래 데이터셋을 기반으로 분류/회귀 모델을 완성 후 성능평가까지 구현하세요.\n",
    "- 데이터셋 : iris.csv\n",
    "- 조건\n",
    "* 분류 : 3개 품종 중 2개 선택하여 이진 분류 진행\n",
    "* 회귀 : 3개 품종 중 1개 선택, 4개 피쳐 중 꽃잎의 길이값 예측 회귀\n"
   ],
   "metadata": {
    "collapsed": false
   },
   "id": "29f5b623fd536cf7"
  },
  {
   "cell_type": "markdown",
   "source": [],
   "metadata": {
    "collapsed": false
   },
   "id": "a54a8b5ba7256c36"
  },
  {
   "cell_type": "markdown",
   "source": [],
   "metadata": {
    "collapsed": false
   },
   "id": "8ae8a0bb5e10c152"
  },
  {
   "cell_type": "code",
   "outputs": [
    {
     "data": {
      "text/plain": "     sepal_length  sepal_width  petal_length  petal_width    species\n0             5.1          3.5           1.4          0.2     setosa\n1             4.9          3.0           1.4          0.2     setosa\n2             4.7          3.2           1.3          0.2     setosa\n3             4.6          3.1           1.5          0.2     setosa\n4             5.0          3.6           1.4          0.2     setosa\n..            ...          ...           ...          ...        ...\n145           6.7          3.0           5.2          2.3  virginica\n146           6.3          2.5           5.0          1.9  virginica\n147           6.5          3.0           5.2          2.0  virginica\n148           6.2          3.4           5.4          2.3  virginica\n149           5.9          3.0           5.1          1.8  virginica\n\n[150 rows x 5 columns]",
      "text/html": "<div>\n<style scoped>\n    .dataframe tbody tr th:only-of-type {\n        vertical-align: middle;\n    }\n\n    .dataframe tbody tr th {\n        vertical-align: top;\n    }\n\n    .dataframe thead th {\n        text-align: right;\n    }\n</style>\n<table border=\"1\" class=\"dataframe\">\n  <thead>\n    <tr style=\"text-align: right;\">\n      <th></th>\n      <th>sepal_length</th>\n      <th>sepal_width</th>\n      <th>petal_length</th>\n      <th>petal_width</th>\n      <th>species</th>\n    </tr>\n  </thead>\n  <tbody>\n    <tr>\n      <th>0</th>\n      <td>5.1</td>\n      <td>3.5</td>\n      <td>1.4</td>\n      <td>0.2</td>\n      <td>setosa</td>\n    </tr>\n    <tr>\n      <th>1</th>\n      <td>4.9</td>\n      <td>3.0</td>\n      <td>1.4</td>\n      <td>0.2</td>\n      <td>setosa</td>\n    </tr>\n    <tr>\n      <th>2</th>\n      <td>4.7</td>\n      <td>3.2</td>\n      <td>1.3</td>\n      <td>0.2</td>\n      <td>setosa</td>\n    </tr>\n    <tr>\n      <th>3</th>\n      <td>4.6</td>\n      <td>3.1</td>\n      <td>1.5</td>\n      <td>0.2</td>\n      <td>setosa</td>\n    </tr>\n    <tr>\n      <th>4</th>\n      <td>5.0</td>\n      <td>3.6</td>\n      <td>1.4</td>\n      <td>0.2</td>\n      <td>setosa</td>\n    </tr>\n    <tr>\n      <th>...</th>\n      <td>...</td>\n      <td>...</td>\n      <td>...</td>\n      <td>...</td>\n      <td>...</td>\n    </tr>\n    <tr>\n      <th>145</th>\n      <td>6.7</td>\n      <td>3.0</td>\n      <td>5.2</td>\n      <td>2.3</td>\n      <td>virginica</td>\n    </tr>\n    <tr>\n      <th>146</th>\n      <td>6.3</td>\n      <td>2.5</td>\n      <td>5.0</td>\n      <td>1.9</td>\n      <td>virginica</td>\n    </tr>\n    <tr>\n      <th>147</th>\n      <td>6.5</td>\n      <td>3.0</td>\n      <td>5.2</td>\n      <td>2.0</td>\n      <td>virginica</td>\n    </tr>\n    <tr>\n      <th>148</th>\n      <td>6.2</td>\n      <td>3.4</td>\n      <td>5.4</td>\n      <td>2.3</td>\n      <td>virginica</td>\n    </tr>\n    <tr>\n      <th>149</th>\n      <td>5.9</td>\n      <td>3.0</td>\n      <td>5.1</td>\n      <td>1.8</td>\n      <td>virginica</td>\n    </tr>\n  </tbody>\n</table>\n<p>150 rows × 5 columns</p>\n</div>"
     },
     "execution_count": 144,
     "metadata": {},
     "output_type": "execute_result"
    }
   ],
   "source": [
    "import pandas as pd\n",
    "import numpy as np\n",
    "\n",
    "data_file = '../data/iris.csv'\n",
    "irisDF = pd.read_csv(data_file)\n",
    "irisDF\n"
   ],
   "metadata": {
    "collapsed": false,
    "ExecuteTime": {
     "end_time": "2024-03-04T02:33:26.929490Z",
     "start_time": "2024-03-04T02:33:26.906815Z"
    }
   },
   "id": "fc729f352f515d54",
   "execution_count": 144
  },
  {
   "cell_type": "code",
   "outputs": [],
   "source": [
    "targetDF = irisDF.species.iloc[:100]\n",
    "featureDF = irisDF.iloc[:100][irisDF.columns[:-1]]"
   ],
   "metadata": {
    "collapsed": false,
    "ExecuteTime": {
     "end_time": "2024-03-04T02:33:26.981989Z",
     "start_time": "2024-03-04T02:33:26.932554Z"
    }
   },
   "id": "83e5a5f05c87a909",
   "execution_count": 145
  },
  {
   "cell_type": "code",
   "outputs": [],
   "source": [
    "from sklearn.model_selection import train_test_split\n",
    "from sklearn.preprocessing  import StandardScaler\n",
    "from sklearn.neighbors import KNeighborsClassifier, KNeighborsRegressor\n",
    "from sklearn.linear_model import LinearRegression\n",
    "from sklearn.linear_model import LogisticRegression"
   ],
   "metadata": {
    "collapsed": false,
    "ExecuteTime": {
     "end_time": "2024-03-04T02:33:27.005825Z",
     "start_time": "2024-03-04T02:33:26.972053Z"
    }
   },
   "id": "2e8b9c117c3c1c6b",
   "execution_count": 146
  },
  {
   "cell_type": "code",
   "outputs": [],
   "source": [
    "X_train, x_test, y_train, y_test = train_test_split(featureDF,\n",
    "                                                    targetDF,\n",
    "                                                    test_size=0.3,\n",
    "                                                    random_state=1)"
   ],
   "metadata": {
    "collapsed": false,
    "ExecuteTime": {
     "end_time": "2024-03-04T02:33:27.017207Z",
     "start_time": "2024-03-04T02:33:26.989196Z"
    }
   },
   "id": "7c139edb6ce10992",
   "execution_count": 147
  },
  {
   "cell_type": "code",
   "outputs": [
    {
     "data": {
      "text/plain": "(1.0, 1.0)"
     },
     "execution_count": 148,
     "metadata": {},
     "output_type": "execute_result"
    }
   ],
   "source": [
    "scaler = StandardScaler()\n",
    "\n",
    "scaler.fit(X_train)\n",
    "\n",
    "train = scaler.transform(X_train)\n",
    "test = scaler.transform(x_test)\n",
    "\n",
    "\n",
    "model = KNeighborsClassifier()\n",
    "model.fit(train, y_train)\n",
    "\n",
    "model_score = model.score(train, y_train)\n",
    "test_score = model.score(test, y_test)\n",
    "\n",
    "model_score, test_score"
   ],
   "metadata": {
    "collapsed": false,
    "ExecuteTime": {
     "end_time": "2024-03-04T02:33:27.044503Z",
     "start_time": "2024-03-04T02:33:27.022566Z"
    }
   },
   "id": "e589cbe01969f2e1",
   "execution_count": 148
  },
  {
   "cell_type": "code",
   "outputs": [
    {
     "data": {
      "text/plain": "array([[ 0.54917501, -0.83473362,  0.86954426,  0.37915259],\n       [ 0.39842109, -0.61171319,  0.86954426,  0.90298183],\n       [ 1.60445248, -0.61171319,  1.21343182,  1.25220133],\n       [ 0.39842109, -0.16567232,  0.93832177,  0.72837209],\n       [ 0.24766716, -0.16567232,  0.86954426,  0.90298183],\n       [-0.65685638,  0.94942984, -1.05622607, -0.84311563],\n       [-0.20459461,  1.39547071, -0.91867105, -1.01772538],\n       [-0.35534854, -0.83473362,  0.73198923,  1.07759158],\n       [-0.50610246,  0.50338898, -0.78111603, -0.49389614],\n       [-0.80761031,  0.05734811, -0.91867105, -1.19233513],\n       [ 1.90596033,  0.05734811,  1.28220933,  1.25220133],\n       [ 0.09691324, -1.72681535,  0.80076675,  0.90298183],\n       [ 1.90596033, -0.16567232,  1.48854186,  1.60142082],\n       [ 0.39842109,  2.95661374, -0.91867105, -0.66850589],\n       [ 0.85068286, -0.83473362,  1.55731938,  1.42681107],\n       [-1.41062601, -1.72681535, -1.05622607, -0.84311563],\n       [-0.95836423, -0.16567232, -0.98744856, -0.84311563],\n       [ 1.00143678, -0.16567232,  1.21343182,  1.07759158],\n       [-0.65685638,  0.72640941, -0.84989354, -0.66850589],\n       [-0.50610246, -1.28077449,  0.11299163,  0.55376234],\n       [-0.65685638,  0.94942984, -0.84989354, -0.31928639],\n       [ 0.39842109, -0.61171319,  1.1446543 ,  0.90298183],\n       [-0.95836423,  0.72640941, -0.643561  , -1.01772538],\n       [-0.65685638,  1.17245028, -0.98744856, -1.01772538],\n       [ 1.7552064 , -0.38869275,  1.21343182,  0.90298183],\n       [-0.65685638,  0.50338898, -0.98744856, -1.01772538],\n       [-0.50610246,  1.39547071, -0.91867105, -0.66850589],\n       [ 1.30294463, -1.72681535,  1.07587679,  0.90298183],\n       [-1.25987208,  0.05734811, -0.91867105, -1.01772538],\n       [ 1.45369856, -0.38869275,  1.00709928,  0.90298183],\n       [-0.95836423,  0.05734811, -0.84989354, -1.01772538],\n       [ 0.24766716, -0.16567232,  1.1446543 ,  1.25220133],\n       [ 0.69992893,  0.28036854,  1.35098684,  1.77603057],\n       [-1.56137993,  0.28036854, -1.05622607, -1.01772538],\n       [-1.25987208,  0.28036854, -0.98744856, -1.01772538],\n       [ 0.09691324, -1.28077449,  0.80076675,  0.90298183],\n       [-1.56137993, -0.38869275, -0.98744856, -1.01772538],\n       [-0.65685638, -2.39587665,  0.45687919,  0.37915259],\n       [-0.50610246,  0.94942984, -0.98744856, -1.01772538],\n       [ 0.09691324, -1.05775405,  1.07587679,  0.72837209],\n       [-0.80761031, -1.50379492,  0.31932416,  0.37915259],\n       [-1.25987208,  1.17245028, -1.26255861, -1.01772538],\n       [ 0.69992893, -0.16567232,  0.93832177,  1.25220133],\n       [ 1.00143678, -0.38869275,  1.28220933,  1.07759158],\n       [-0.65685638,  0.72640941, -0.91867105, -1.01772538],\n       [ 0.39842109, -0.38869275,  0.93832177,  0.90298183],\n       [-1.71213385, -0.16567232, -1.1937811 , -1.19233513],\n       [ 1.15219071, -1.94983579,  1.1446543 ,  1.25220133],\n       [ 0.85068286,  0.72640941,  1.1446543 ,  1.42681107],\n       [ 0.54917501,  2.06453201, -1.12500359, -1.01772538],\n       [-1.10911816,  0.28036854, -0.84989354, -1.01772538],\n       [-0.35534854,  0.72640941, -0.98744856, -1.01772538],\n       [-0.95836423,  0.72640941, -0.84989354, -1.01772538],\n       [ 0.39842109,  1.61849114, -0.78111603, -0.84311563],\n       [-0.05384069,  0.72640941, -0.78111603, -1.01772538],\n       [ 2.3582221 ,  0.28036854,  1.28220933,  1.07759158],\n       [-0.65685638, -0.16567232, -0.84989354, -1.01772538],\n       [-1.25987208,  0.72640941, -0.98744856, -0.84311563],\n       [ 1.00143678, -0.61171319,  0.80076675,  0.90298183],\n       [ 2.05671425, -0.61171319,  1.35098684,  1.07759158],\n       [-0.80761031, -0.16567232, -0.98744856, -1.01772538],\n       [-0.05384069,  1.84151158, -1.05622607, -0.66850589],\n       [ 0.24766716, -0.38869275,  0.5256567 ,  0.90298183],\n       [ 0.39842109, -1.05775405,  0.45687919,  0.37915259],\n       [-0.05384069,  1.84151158, -0.78111603, -0.66850589],\n       [ 1.7552064 , -0.16567232,  1.07587679,  1.07759158],\n       [-0.80761031,  0.05734811, -0.91867105, -1.19233513],\n       [ 1.30294463, -1.28077449,  1.41976435,  1.25220133],\n       [-0.95836423, -0.16567232, -0.98744856, -1.19233513],\n       [-0.80761031,  0.05734811, -0.91867105, -1.19233513]])"
     },
     "execution_count": 149,
     "metadata": {},
     "output_type": "execute_result"
    }
   ],
   "source": [
    "train"
   ],
   "metadata": {
    "collapsed": false,
    "ExecuteTime": {
     "end_time": "2024-03-04T02:33:27.045421Z",
     "start_time": "2024-03-04T02:33:27.031815Z"
    }
   },
   "id": "57e4b397afabf312",
   "execution_count": 149
  },
  {
   "cell_type": "code",
   "outputs": [
    {
     "data": {
      "text/plain": "     sepal_length  sepal_width  petal_length  petal_width    species\n0             5.1          3.5           1.4          0.2     setosa\n1             4.9          3.0           1.4          0.2     setosa\n2             4.7          3.2           1.3          0.2     setosa\n3             4.6          3.1           1.5          0.2     setosa\n4             5.0          3.6           1.4          0.2     setosa\n..            ...          ...           ...          ...        ...\n145           6.7          3.0           5.2          2.3  virginica\n146           6.3          2.5           5.0          1.9  virginica\n147           6.5          3.0           5.2          2.0  virginica\n148           6.2          3.4           5.4          2.3  virginica\n149           5.9          3.0           5.1          1.8  virginica\n\n[150 rows x 5 columns]",
      "text/html": "<div>\n<style scoped>\n    .dataframe tbody tr th:only-of-type {\n        vertical-align: middle;\n    }\n\n    .dataframe tbody tr th {\n        vertical-align: top;\n    }\n\n    .dataframe thead th {\n        text-align: right;\n    }\n</style>\n<table border=\"1\" class=\"dataframe\">\n  <thead>\n    <tr style=\"text-align: right;\">\n      <th></th>\n      <th>sepal_length</th>\n      <th>sepal_width</th>\n      <th>petal_length</th>\n      <th>petal_width</th>\n      <th>species</th>\n    </tr>\n  </thead>\n  <tbody>\n    <tr>\n      <th>0</th>\n      <td>5.1</td>\n      <td>3.5</td>\n      <td>1.4</td>\n      <td>0.2</td>\n      <td>setosa</td>\n    </tr>\n    <tr>\n      <th>1</th>\n      <td>4.9</td>\n      <td>3.0</td>\n      <td>1.4</td>\n      <td>0.2</td>\n      <td>setosa</td>\n    </tr>\n    <tr>\n      <th>2</th>\n      <td>4.7</td>\n      <td>3.2</td>\n      <td>1.3</td>\n      <td>0.2</td>\n      <td>setosa</td>\n    </tr>\n    <tr>\n      <th>3</th>\n      <td>4.6</td>\n      <td>3.1</td>\n      <td>1.5</td>\n      <td>0.2</td>\n      <td>setosa</td>\n    </tr>\n    <tr>\n      <th>4</th>\n      <td>5.0</td>\n      <td>3.6</td>\n      <td>1.4</td>\n      <td>0.2</td>\n      <td>setosa</td>\n    </tr>\n    <tr>\n      <th>...</th>\n      <td>...</td>\n      <td>...</td>\n      <td>...</td>\n      <td>...</td>\n      <td>...</td>\n    </tr>\n    <tr>\n      <th>145</th>\n      <td>6.7</td>\n      <td>3.0</td>\n      <td>5.2</td>\n      <td>2.3</td>\n      <td>virginica</td>\n    </tr>\n    <tr>\n      <th>146</th>\n      <td>6.3</td>\n      <td>2.5</td>\n      <td>5.0</td>\n      <td>1.9</td>\n      <td>virginica</td>\n    </tr>\n    <tr>\n      <th>147</th>\n      <td>6.5</td>\n      <td>3.0</td>\n      <td>5.2</td>\n      <td>2.0</td>\n      <td>virginica</td>\n    </tr>\n    <tr>\n      <th>148</th>\n      <td>6.2</td>\n      <td>3.4</td>\n      <td>5.4</td>\n      <td>2.3</td>\n      <td>virginica</td>\n    </tr>\n    <tr>\n      <th>149</th>\n      <td>5.9</td>\n      <td>3.0</td>\n      <td>5.1</td>\n      <td>1.8</td>\n      <td>virginica</td>\n    </tr>\n  </tbody>\n</table>\n<p>150 rows × 5 columns</p>\n</div>"
     },
     "execution_count": 150,
     "metadata": {},
     "output_type": "execute_result"
    }
   ],
   "source": [
    "irisDF"
   ],
   "metadata": {
    "collapsed": false,
    "ExecuteTime": {
     "end_time": "2024-03-04T02:33:27.046181Z",
     "start_time": "2024-03-04T02:33:27.038265Z"
    }
   },
   "id": "e79a76810c4cdfab",
   "execution_count": 150
  },
  {
   "cell_type": "code",
   "outputs": [],
   "source": [
    "targetDF = irisDF.iloc[:50][irisDF.columns[2]]\n",
    "featureDF = irisDF[['sepal_length', 'sepal_width', 'petal_width']].iloc[:50]"
   ],
   "metadata": {
    "collapsed": false,
    "ExecuteTime": {
     "end_time": "2024-03-04T02:33:27.065744Z",
     "start_time": "2024-03-04T02:33:27.042305Z"
    }
   },
   "id": "ca128117323b5115",
   "execution_count": 151
  },
  {
   "cell_type": "code",
   "outputs": [
    {
     "data": {
      "text/plain": "0     1.4\n1     1.4\n2     1.3\n3     1.5\n4     1.4\n5     1.7\n6     1.4\n7     1.5\n8     1.4\n9     1.5\n10    1.5\n11    1.6\n12    1.4\n13    1.1\n14    1.2\n15    1.5\n16    1.3\n17    1.4\n18    1.7\n19    1.5\n20    1.7\n21    1.5\n22    1.0\n23    1.7\n24    1.9\n25    1.6\n26    1.6\n27    1.5\n28    1.4\n29    1.6\n30    1.6\n31    1.5\n32    1.5\n33    1.4\n34    1.5\n35    1.2\n36    1.3\n37    1.5\n38    1.3\n39    1.5\n40    1.3\n41    1.3\n42    1.3\n43    1.6\n44    1.9\n45    1.4\n46    1.6\n47    1.4\n48    1.5\n49    1.4\nName: petal_length, dtype: float64"
     },
     "execution_count": 152,
     "metadata": {},
     "output_type": "execute_result"
    }
   ],
   "source": [
    "targetDF"
   ],
   "metadata": {
    "collapsed": false,
    "ExecuteTime": {
     "end_time": "2024-03-04T02:33:27.068161Z",
     "start_time": "2024-03-04T02:33:27.047585Z"
    }
   },
   "id": "66f4c574d712db62",
   "execution_count": 152
  },
  {
   "cell_type": "code",
   "outputs": [
    {
     "data": {
      "text/plain": "    sepal_length  sepal_width  petal_width\n0            5.1          3.5          0.2\n1            4.9          3.0          0.2\n2            4.7          3.2          0.2\n3            4.6          3.1          0.2\n4            5.0          3.6          0.2\n5            5.4          3.9          0.4\n6            4.6          3.4          0.3\n7            5.0          3.4          0.2\n8            4.4          2.9          0.2\n9            4.9          3.1          0.1\n10           5.4          3.7          0.2\n11           4.8          3.4          0.2\n12           4.8          3.0          0.1\n13           4.3          3.0          0.1\n14           5.8          4.0          0.2\n15           5.7          4.4          0.4\n16           5.4          3.9          0.4\n17           5.1          3.5          0.3\n18           5.7          3.8          0.3\n19           5.1          3.8          0.3\n20           5.4          3.4          0.2\n21           5.1          3.7          0.4\n22           4.6          3.6          0.2\n23           5.1          3.3          0.5\n24           4.8          3.4          0.2\n25           5.0          3.0          0.2\n26           5.0          3.4          0.4\n27           5.2          3.5          0.2\n28           5.2          3.4          0.2\n29           4.7          3.2          0.2\n30           4.8          3.1          0.2\n31           5.4          3.4          0.4\n32           5.2          4.1          0.1\n33           5.5          4.2          0.2\n34           4.9          3.1          0.1\n35           5.0          3.2          0.2\n36           5.5          3.5          0.2\n37           4.9          3.1          0.1\n38           4.4          3.0          0.2\n39           5.1          3.4          0.2\n40           5.0          3.5          0.3\n41           4.5          2.3          0.3\n42           4.4          3.2          0.2\n43           5.0          3.5          0.6\n44           5.1          3.8          0.4\n45           4.8          3.0          0.3\n46           5.1          3.8          0.2\n47           4.6          3.2          0.2\n48           5.3          3.7          0.2\n49           5.0          3.3          0.2",
      "text/html": "<div>\n<style scoped>\n    .dataframe tbody tr th:only-of-type {\n        vertical-align: middle;\n    }\n\n    .dataframe tbody tr th {\n        vertical-align: top;\n    }\n\n    .dataframe thead th {\n        text-align: right;\n    }\n</style>\n<table border=\"1\" class=\"dataframe\">\n  <thead>\n    <tr style=\"text-align: right;\">\n      <th></th>\n      <th>sepal_length</th>\n      <th>sepal_width</th>\n      <th>petal_width</th>\n    </tr>\n  </thead>\n  <tbody>\n    <tr>\n      <th>0</th>\n      <td>5.1</td>\n      <td>3.5</td>\n      <td>0.2</td>\n    </tr>\n    <tr>\n      <th>1</th>\n      <td>4.9</td>\n      <td>3.0</td>\n      <td>0.2</td>\n    </tr>\n    <tr>\n      <th>2</th>\n      <td>4.7</td>\n      <td>3.2</td>\n      <td>0.2</td>\n    </tr>\n    <tr>\n      <th>3</th>\n      <td>4.6</td>\n      <td>3.1</td>\n      <td>0.2</td>\n    </tr>\n    <tr>\n      <th>4</th>\n      <td>5.0</td>\n      <td>3.6</td>\n      <td>0.2</td>\n    </tr>\n    <tr>\n      <th>5</th>\n      <td>5.4</td>\n      <td>3.9</td>\n      <td>0.4</td>\n    </tr>\n    <tr>\n      <th>6</th>\n      <td>4.6</td>\n      <td>3.4</td>\n      <td>0.3</td>\n    </tr>\n    <tr>\n      <th>7</th>\n      <td>5.0</td>\n      <td>3.4</td>\n      <td>0.2</td>\n    </tr>\n    <tr>\n      <th>8</th>\n      <td>4.4</td>\n      <td>2.9</td>\n      <td>0.2</td>\n    </tr>\n    <tr>\n      <th>9</th>\n      <td>4.9</td>\n      <td>3.1</td>\n      <td>0.1</td>\n    </tr>\n    <tr>\n      <th>10</th>\n      <td>5.4</td>\n      <td>3.7</td>\n      <td>0.2</td>\n    </tr>\n    <tr>\n      <th>11</th>\n      <td>4.8</td>\n      <td>3.4</td>\n      <td>0.2</td>\n    </tr>\n    <tr>\n      <th>12</th>\n      <td>4.8</td>\n      <td>3.0</td>\n      <td>0.1</td>\n    </tr>\n    <tr>\n      <th>13</th>\n      <td>4.3</td>\n      <td>3.0</td>\n      <td>0.1</td>\n    </tr>\n    <tr>\n      <th>14</th>\n      <td>5.8</td>\n      <td>4.0</td>\n      <td>0.2</td>\n    </tr>\n    <tr>\n      <th>15</th>\n      <td>5.7</td>\n      <td>4.4</td>\n      <td>0.4</td>\n    </tr>\n    <tr>\n      <th>16</th>\n      <td>5.4</td>\n      <td>3.9</td>\n      <td>0.4</td>\n    </tr>\n    <tr>\n      <th>17</th>\n      <td>5.1</td>\n      <td>3.5</td>\n      <td>0.3</td>\n    </tr>\n    <tr>\n      <th>18</th>\n      <td>5.7</td>\n      <td>3.8</td>\n      <td>0.3</td>\n    </tr>\n    <tr>\n      <th>19</th>\n      <td>5.1</td>\n      <td>3.8</td>\n      <td>0.3</td>\n    </tr>\n    <tr>\n      <th>20</th>\n      <td>5.4</td>\n      <td>3.4</td>\n      <td>0.2</td>\n    </tr>\n    <tr>\n      <th>21</th>\n      <td>5.1</td>\n      <td>3.7</td>\n      <td>0.4</td>\n    </tr>\n    <tr>\n      <th>22</th>\n      <td>4.6</td>\n      <td>3.6</td>\n      <td>0.2</td>\n    </tr>\n    <tr>\n      <th>23</th>\n      <td>5.1</td>\n      <td>3.3</td>\n      <td>0.5</td>\n    </tr>\n    <tr>\n      <th>24</th>\n      <td>4.8</td>\n      <td>3.4</td>\n      <td>0.2</td>\n    </tr>\n    <tr>\n      <th>25</th>\n      <td>5.0</td>\n      <td>3.0</td>\n      <td>0.2</td>\n    </tr>\n    <tr>\n      <th>26</th>\n      <td>5.0</td>\n      <td>3.4</td>\n      <td>0.4</td>\n    </tr>\n    <tr>\n      <th>27</th>\n      <td>5.2</td>\n      <td>3.5</td>\n      <td>0.2</td>\n    </tr>\n    <tr>\n      <th>28</th>\n      <td>5.2</td>\n      <td>3.4</td>\n      <td>0.2</td>\n    </tr>\n    <tr>\n      <th>29</th>\n      <td>4.7</td>\n      <td>3.2</td>\n      <td>0.2</td>\n    </tr>\n    <tr>\n      <th>30</th>\n      <td>4.8</td>\n      <td>3.1</td>\n      <td>0.2</td>\n    </tr>\n    <tr>\n      <th>31</th>\n      <td>5.4</td>\n      <td>3.4</td>\n      <td>0.4</td>\n    </tr>\n    <tr>\n      <th>32</th>\n      <td>5.2</td>\n      <td>4.1</td>\n      <td>0.1</td>\n    </tr>\n    <tr>\n      <th>33</th>\n      <td>5.5</td>\n      <td>4.2</td>\n      <td>0.2</td>\n    </tr>\n    <tr>\n      <th>34</th>\n      <td>4.9</td>\n      <td>3.1</td>\n      <td>0.1</td>\n    </tr>\n    <tr>\n      <th>35</th>\n      <td>5.0</td>\n      <td>3.2</td>\n      <td>0.2</td>\n    </tr>\n    <tr>\n      <th>36</th>\n      <td>5.5</td>\n      <td>3.5</td>\n      <td>0.2</td>\n    </tr>\n    <tr>\n      <th>37</th>\n      <td>4.9</td>\n      <td>3.1</td>\n      <td>0.1</td>\n    </tr>\n    <tr>\n      <th>38</th>\n      <td>4.4</td>\n      <td>3.0</td>\n      <td>0.2</td>\n    </tr>\n    <tr>\n      <th>39</th>\n      <td>5.1</td>\n      <td>3.4</td>\n      <td>0.2</td>\n    </tr>\n    <tr>\n      <th>40</th>\n      <td>5.0</td>\n      <td>3.5</td>\n      <td>0.3</td>\n    </tr>\n    <tr>\n      <th>41</th>\n      <td>4.5</td>\n      <td>2.3</td>\n      <td>0.3</td>\n    </tr>\n    <tr>\n      <th>42</th>\n      <td>4.4</td>\n      <td>3.2</td>\n      <td>0.2</td>\n    </tr>\n    <tr>\n      <th>43</th>\n      <td>5.0</td>\n      <td>3.5</td>\n      <td>0.6</td>\n    </tr>\n    <tr>\n      <th>44</th>\n      <td>5.1</td>\n      <td>3.8</td>\n      <td>0.4</td>\n    </tr>\n    <tr>\n      <th>45</th>\n      <td>4.8</td>\n      <td>3.0</td>\n      <td>0.3</td>\n    </tr>\n    <tr>\n      <th>46</th>\n      <td>5.1</td>\n      <td>3.8</td>\n      <td>0.2</td>\n    </tr>\n    <tr>\n      <th>47</th>\n      <td>4.6</td>\n      <td>3.2</td>\n      <td>0.2</td>\n    </tr>\n    <tr>\n      <th>48</th>\n      <td>5.3</td>\n      <td>3.7</td>\n      <td>0.2</td>\n    </tr>\n    <tr>\n      <th>49</th>\n      <td>5.0</td>\n      <td>3.3</td>\n      <td>0.2</td>\n    </tr>\n  </tbody>\n</table>\n</div>"
     },
     "execution_count": 153,
     "metadata": {},
     "output_type": "execute_result"
    }
   ],
   "source": [
    "featureDF"
   ],
   "metadata": {
    "collapsed": false,
    "ExecuteTime": {
     "end_time": "2024-03-04T02:33:27.107997Z",
     "start_time": "2024-03-04T02:33:27.073323Z"
    }
   },
   "id": "4ea0a9aacd174260",
   "execution_count": 153
  },
  {
   "cell_type": "code",
   "outputs": [
    {
     "data": {
      "text/plain": "(0.1962172513502608, -0.4798816548072402)"
     },
     "execution_count": 154,
     "metadata": {},
     "output_type": "execute_result"
    }
   ],
   "source": [
    "X_train, x_test, y_train, y_test = train_test_split(featureDF,\n",
    "                                                    targetDF,\n",
    "                                                    test_size=0.3,\n",
    "                                                    random_state=1)\n",
    "\n",
    "scaler = StandardScaler()\n",
    "\n",
    "scaler.fit(X_train)\n",
    "\n",
    "train = scaler.transform(X_train)\n",
    "test = scaler.transform(x_test)\n",
    "\n",
    "\n",
    "model = LinearRegression()\n",
    "model.fit(train, y_train)\n",
    "\n",
    "model_score = model.score(train, y_train)\n",
    "test_score = model.score(test, y_test)\n",
    "\n",
    "\n",
    "model_score, test_score"
   ],
   "metadata": {
    "collapsed": false,
    "ExecuteTime": {
     "end_time": "2024-03-04T02:33:27.119703Z",
     "start_time": "2024-03-04T02:33:27.083873Z"
    }
   },
   "id": "499b9a303d50e1c7",
   "execution_count": 154
  }
 ],
 "metadata": {
  "kernelspec": {
   "display_name": "Python 3",
   "language": "python",
   "name": "python3"
  },
  "language_info": {
   "codemirror_mode": {
    "name": "ipython",
    "version": 2
   },
   "file_extension": ".py",
   "mimetype": "text/x-python",
   "name": "python",
   "nbconvert_exporter": "python",
   "pygments_lexer": "ipython2",
   "version": "2.7.6"
  }
 },
 "nbformat": 4,
 "nbformat_minor": 5
}
