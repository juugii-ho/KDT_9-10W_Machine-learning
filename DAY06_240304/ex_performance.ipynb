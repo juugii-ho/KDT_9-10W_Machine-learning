{
 "cells": [
  {
   "cell_type": "markdown",
   "source": [
    "# 분류 모델 성능지표\n",
    "    - 모델 구현 후 성능 평가 방식\n",
    "    - 정확도 (Accuracy) : 불균형 데이터에 부적합\n",
    "    - 보완 평가 방식 : 정밀도, 재현율, F1 점수, 혼동행렬 테이블\n",
    "   "
   ],
   "metadata": {
    "collapsed": false
   },
   "id": "94da28dec2de5f38"
  },
  {
   "cell_type": "markdown",
   "source": [
    "## (1) 임시 데이터 <hr>"
   ],
   "metadata": {
    "collapsed": false
   },
   "id": "9a119ab076cc7554"
  },
  {
   "cell_type": "code",
   "outputs": [],
   "source": [
    "import pandas as pd\n",
    "\n",
    "y_true = [0,1,1,0]\n",
    "y_pre  = [1,1,1,0]"
   ],
   "metadata": {
    "collapsed": false,
    "ExecuteTime": {
     "end_time": "2024-03-04T04:24:47.468761Z",
     "start_time": "2024-03-04T04:24:47.467137Z"
    }
   },
   "id": "9e29687cee4b8fba",
   "execution_count": 1
  },
  {
   "cell_type": "markdown",
   "source": [
    "## (2) 분류 평가지표 <hr>"
   ],
   "metadata": {
    "collapsed": false
   },
   "id": "82991d1fabf59b50"
  },
  {
   "cell_type": "code",
   "outputs": [
    {
     "name": "stdout",
     "output_type": "stream",
     "text": [
      "[분류 정확도] => 0.75\n"
     ]
    }
   ],
   "source": [
    "## (2-1) 분류 정확도 => Accuracy : 불균형 데이터의 경우 모델 평가 지표로 사용 불가\n",
    "\n",
    "from sklearn.metrics import accuracy_score\n",
    "\n",
    "ret = accuracy_score(y_true,y_pre)\n",
    "\n",
    "print(f'[분류 정확도] => {ret}')"
   ],
   "metadata": {
    "collapsed": false,
    "ExecuteTime": {
     "end_time": "2024-03-04T04:26:36.889144Z",
     "start_time": "2024-03-04T04:26:36.886756Z"
    }
   },
   "id": "cd871d7c6326a75f",
   "execution_count": 3
  },
  {
   "cell_type": "code",
   "outputs": [
    {
     "name": "stdout",
     "output_type": "stream",
     "text": [
      "[분류 정밀도] => 0.6666666666666666\n"
     ]
    }
   ],
   "source": [
    "## (2-2) 정밀도 => precision : 예측 양성율\n",
    "from sklearn.metrics import precision_score\n",
    "\n",
    "ret = precision_score(y_true,y_pre)\n",
    "\n",
    "print(f'[분류 정밀도] => {ret}')"
   ],
   "metadata": {
    "collapsed": false,
    "ExecuteTime": {
     "end_time": "2024-03-04T04:33:36.531117Z",
     "start_time": "2024-03-04T04:33:36.526076Z"
    }
   },
   "id": "8a27f71742cbffc3",
   "execution_count": 4
  },
  {
   "cell_type": "code",
   "outputs": [
    {
     "name": "stdout",
     "output_type": "stream",
     "text": [
      "[분류 재현율] => 1.0\n"
     ]
    }
   ],
   "source": [
    "## (2-3) 재현율 => recall : 양성율\n",
    "from sklearn.metrics import recall_score\n",
    "\n",
    "ret = recall_score(y_true,y_pre)\n",
    "\n",
    "print(f'[분류 재현율] => {ret}')"
   ],
   "metadata": {
    "collapsed": false,
    "ExecuteTime": {
     "end_time": "2024-03-04T04:34:12.080095Z",
     "start_time": "2024-03-04T04:34:12.076154Z"
    }
   },
   "id": "c1774992cefdcf5b",
   "execution_count": 5
  },
  {
   "cell_type": "code",
   "outputs": [
    {
     "name": "stdout",
     "output_type": "stream",
     "text": [
      "[분류 f1점수] => 0.8\n"
     ]
    }
   ],
   "source": [
    "## (2-4) f1 점수 => f1-score : 정밀도와 재현율 상호보완 조화평균\n",
    "from sklearn.metrics import f1_score\n",
    "\n",
    "ret = f1_score(y_true,y_pre)\n",
    "\n",
    "print(f'[분류 f1점수] => {ret}')"
   ],
   "metadata": {
    "collapsed": false,
    "ExecuteTime": {
     "end_time": "2024-03-04T04:34:55.202271Z",
     "start_time": "2024-03-04T04:34:55.197382Z"
    }
   },
   "id": "735c6d489d7ae67d",
   "execution_count": 6
  },
  {
   "cell_type": "code",
   "outputs": [
    {
     "data": {
      "text/plain": "array([[1, 1],\n       [0, 2]])"
     },
     "execution_count": 38,
     "metadata": {},
     "output_type": "execute_result"
    }
   ],
   "source": [
    "#### (2-5) 혼동행렬값 출력\n",
    "from sklearn.metrics import confusion_matrix, ConfusionMatrixDisplay\n",
    "\n",
    "# 반환값 : tn, tp, fn, fp\n",
    "\n",
    "ret_matrix = confusion_matrix(y_true, y_pre)\n",
    "\n",
    "# import pandas as pd\n",
    "\n",
    "# retDF = pd.DataFrame(ret_matrix)\n",
    "ret_matrix"
   ],
   "metadata": {
    "collapsed": false,
    "ExecuteTime": {
     "end_time": "2024-03-04T05:10:32.529454Z",
     "start_time": "2024-03-04T05:10:32.525528Z"
    }
   },
   "id": "c5d6d42fdc821b0d",
   "execution_count": 38
  },
  {
   "cell_type": "code",
   "outputs": [
    {
     "data": {
      "text/plain": "(1, 1, 0, 2)"
     },
     "execution_count": 37,
     "metadata": {},
     "output_type": "execute_result"
    }
   ],
   "source": [
    "tn, fp, fn, tp = ret_matrix.reshape(-1,)\n",
    "ret_matrix.reshape(-1,)\n",
    "tn, fp, fn, tp"
   ],
   "metadata": {
    "collapsed": false,
    "ExecuteTime": {
     "end_time": "2024-03-04T05:04:56.827183Z",
     "start_time": "2024-03-04T05:04:56.821544Z"
    }
   },
   "id": "28633373a01d551c",
   "execution_count": 37
  },
  {
   "cell_type": "code",
   "outputs": [
    {
     "name": "stdout",
     "output_type": "stream",
     "text": [
      "정확도 :  0.75 0.75\n",
      "정밀도 :  0.6666666666666666 0.6666666666666666\n",
      "재현율 :  1.0 1.0\n",
      "f1-score :  0.8 0.8\n"
     ]
    }
   ],
   "source": [
    "# 정확도, 정밀도, 재현율, f1-score 계산\n",
    "accuracy = (tp+tn) / (tp+tn+fp+fn)\n",
    "print('정확도 : ', accuracy, accuracy_score(y_true, y_pre))\n",
    "\n",
    "precision = tp / (tp+fp)\n",
    "print('정밀도 : ', precision, precision_score(y_true, y_pre))\n",
    "\n",
    "recall = tp / (tp+fn)\n",
    "print('재현율 : ', recall, recall_score(y_true, y_pre))\n",
    "\n",
    "f1_score2 = 2 * (recall * precision) / (recall+precision)\n",
    "print('f1-score : ', f1_score2, f1_score(y_true, y_pre))\n"
   ],
   "metadata": {
    "collapsed": false,
    "ExecuteTime": {
     "end_time": "2024-03-04T05:00:22.172421Z",
     "start_time": "2024-03-04T05:00:22.162853Z"
    }
   },
   "id": "d50d8ce84f22a2d4",
   "execution_count": 36
  },
  {
   "cell_type": "code",
   "outputs": [
    {
     "data": {
      "text/plain": "<Figure size 640x480 with 2 Axes>",
      "image/png": "[encoded data removed]"
     },
     "metadata": {},
     "output_type": "display_data"
    }
   ],
   "source": [
    "import matplotlib.pyplot as plt\n",
    "conplot = ConfusionMatrixDisplay(ret_matrix)\n",
    "conplot.plot()\n",
    "plt.show()"
   ],
   "metadata": {
    "collapsed": false,
    "ExecuteTime": {
     "end_time": "2024-03-04T05:11:33.648252Z",
     "start_time": "2024-03-04T05:11:33.532474Z"
    }
   },
   "id": "a123b00c5de89b44",
   "execution_count": 43
  },
  {
   "cell_type": "code",
   "outputs": [],
   "source": [],
   "metadata": {
    "collapsed": false
   },
   "id": "c587a66e357bd707"
  }
 ],
 "metadata": {
  "kernelspec": {
   "display_name": "Python 3",
   "language": "python",
   "name": "python3"
  },
  "language_info": {
   "codemirror_mode": {
    "name": "ipython",
    "version": 2
   },
   "file_extension": ".py",
   "mimetype": "text/x-python",
   "name": "python",
   "nbconvert_exporter": "python",
   "pygments_lexer": "ipython2",
   "version": "2.7.6"
  }
 },
 "nbformat": 4,
 "nbformat_minor": 5
}
