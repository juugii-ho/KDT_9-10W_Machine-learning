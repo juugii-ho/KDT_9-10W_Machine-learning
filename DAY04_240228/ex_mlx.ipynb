{
 "cells": [
  {
   "cell_type": "code",
   "execution_count": null,
   "id": "initial_id",
   "metadata": {
    "collapsed": true,
    "ExecuteTime": {
     "end_time": "2024-02-28T04:02:54.698039Z",
     "start_time": "2024-02-28T04:02:54.693190Z"
    }
   },
   "outputs": [],
   "source": []
  },
  {
   "cell_type": "code",
   "outputs": [
    {
     "data": {
      "text/plain": "    Species  Weight  Length\n0     Bream   242.0    25.4\n1     Bream   290.0    26.3\n2     Bream   340.0    26.5\n3     Bream   363.0    29.0\n4     Bream   430.0    29.0\n..      ...     ...     ...\n154   Smelt    12.2    12.2\n155   Smelt    13.4    12.4\n156   Smelt    12.2    13.0\n157   Smelt    19.7    14.3\n158   Smelt    19.9    15.0\n\n[159 rows x 3 columns]",
      "text/html": "<div>\n<style scoped>\n    .dataframe tbody tr th:only-of-type {\n        vertical-align: middle;\n    }\n\n    .dataframe tbody tr th {\n        vertical-align: top;\n    }\n\n    .dataframe thead th {\n        text-align: right;\n    }\n</style>\n<table border=\"1\" class=\"dataframe\">\n  <thead>\n    <tr style=\"text-align: right;\">\n      <th></th>\n      <th>Species</th>\n      <th>Weight</th>\n      <th>Length</th>\n    </tr>\n  </thead>\n  <tbody>\n    <tr>\n      <th>0</th>\n      <td>Bream</td>\n      <td>242.0</td>\n      <td>25.4</td>\n    </tr>\n    <tr>\n      <th>1</th>\n      <td>Bream</td>\n      <td>290.0</td>\n      <td>26.3</td>\n    </tr>\n    <tr>\n      <th>2</th>\n      <td>Bream</td>\n      <td>340.0</td>\n      <td>26.5</td>\n    </tr>\n    <tr>\n      <th>3</th>\n      <td>Bream</td>\n      <td>363.0</td>\n      <td>29.0</td>\n    </tr>\n    <tr>\n      <th>4</th>\n      <td>Bream</td>\n      <td>430.0</td>\n      <td>29.0</td>\n    </tr>\n    <tr>\n      <th>...</th>\n      <td>...</td>\n      <td>...</td>\n      <td>...</td>\n    </tr>\n    <tr>\n      <th>154</th>\n      <td>Smelt</td>\n      <td>12.2</td>\n      <td>12.2</td>\n    </tr>\n    <tr>\n      <th>155</th>\n      <td>Smelt</td>\n      <td>13.4</td>\n      <td>12.4</td>\n    </tr>\n    <tr>\n      <th>156</th>\n      <td>Smelt</td>\n      <td>12.2</td>\n      <td>13.0</td>\n    </tr>\n    <tr>\n      <th>157</th>\n      <td>Smelt</td>\n      <td>19.7</td>\n      <td>14.3</td>\n    </tr>\n    <tr>\n      <th>158</th>\n      <td>Smelt</td>\n      <td>19.9</td>\n      <td>15.0</td>\n    </tr>\n  </tbody>\n</table>\n<p>159 rows × 3 columns</p>\n</div>"
     },
     "execution_count": 1,
     "metadata": {},
     "output_type": "execute_result"
    }
   ],
   "source": [
    "from ML_func import fcolumns, finfo, fzdata, fboxplot\n",
    "\n",
    "import pandas as pd\n",
    "import matplotlib.pyplot as plt\n",
    "import seaborn as sns\n",
    "from sklearn.preprocessing import StandardScaler, MinMaxScaler\n",
    "from sklearn.linear_model import LinearRegression\n",
    "import numpy as np\n",
    "import time\n",
    "\n",
    "data_file = '../data/fish.csv'\n",
    "fishDF = pd.read_csv(data_file, usecols=[0, 1, 2])\n",
    "fishDF"
   ],
   "metadata": {
    "collapsed": false,
    "ExecuteTime": {
     "end_time": "2024-02-28T04:02:54.855408Z",
     "start_time": "2024-02-28T04:02:54.695165Z"
    }
   },
   "id": "3e6ccabfd7e847a5",
   "execution_count": 1
  },
  {
   "cell_type": "code",
   "outputs": [
    {
     "data": {
      "text/plain": "   Species  Weight  Length\n0    Bream   242.0    25.4\n1    Bream   290.0    26.3\n2    Bream   340.0    26.5\n3    Bream   363.0    29.0\n4    Bream   430.0    29.0\n5    Bream   450.0    29.7\n6    Bream   500.0    29.7\n7    Bream   390.0    30.0\n8    Bream   450.0    30.0\n9    Bream   500.0    30.7\n10   Bream   475.0    31.0\n11   Bream   500.0    31.0\n12   Bream   500.0    31.5\n13   Bream   340.0    32.0\n14   Bream   600.0    32.0\n15   Bream   600.0    32.0\n16   Bream   700.0    33.0\n17   Bream   700.0    33.0\n18   Bream   610.0    33.5\n19   Bream   650.0    33.5\n20   Bream   575.0    34.0\n21   Bream   685.0    34.0\n22   Bream   620.0    34.5\n23   Bream   680.0    35.0\n24   Bream   700.0    35.0\n25   Bream   725.0    35.0\n26   Bream   720.0    35.0\n27   Bream   714.0    36.0\n28   Bream   850.0    36.0\n29   Bream  1000.0    37.0\n30   Bream   920.0    38.5\n31   Bream   955.0    38.5\n32   Bream   925.0    39.5\n33   Bream   975.0    41.0\n34   Bream   950.0    41.0",
      "text/html": "<div>\n<style scoped>\n    .dataframe tbody tr th:only-of-type {\n        vertical-align: middle;\n    }\n\n    .dataframe tbody tr th {\n        vertical-align: top;\n    }\n\n    .dataframe thead th {\n        text-align: right;\n    }\n</style>\n<table border=\"1\" class=\"dataframe\">\n  <thead>\n    <tr style=\"text-align: right;\">\n      <th></th>\n      <th>Species</th>\n      <th>Weight</th>\n      <th>Length</th>\n    </tr>\n  </thead>\n  <tbody>\n    <tr>\n      <th>0</th>\n      <td>Bream</td>\n      <td>242.0</td>\n      <td>25.4</td>\n    </tr>\n    <tr>\n      <th>1</th>\n      <td>Bream</td>\n      <td>290.0</td>\n      <td>26.3</td>\n    </tr>\n    <tr>\n      <th>2</th>\n      <td>Bream</td>\n      <td>340.0</td>\n      <td>26.5</td>\n    </tr>\n    <tr>\n      <th>3</th>\n      <td>Bream</td>\n      <td>363.0</td>\n      <td>29.0</td>\n    </tr>\n    <tr>\n      <th>4</th>\n      <td>Bream</td>\n      <td>430.0</td>\n      <td>29.0</td>\n    </tr>\n    <tr>\n      <th>5</th>\n      <td>Bream</td>\n      <td>450.0</td>\n      <td>29.7</td>\n    </tr>\n    <tr>\n      <th>6</th>\n      <td>Bream</td>\n      <td>500.0</td>\n      <td>29.7</td>\n    </tr>\n    <tr>\n      <th>7</th>\n      <td>Bream</td>\n      <td>390.0</td>\n      <td>30.0</td>\n    </tr>\n    <tr>\n      <th>8</th>\n      <td>Bream</td>\n      <td>450.0</td>\n      <td>30.0</td>\n    </tr>\n    <tr>\n      <th>9</th>\n      <td>Bream</td>\n      <td>500.0</td>\n      <td>30.7</td>\n    </tr>\n    <tr>\n      <th>10</th>\n      <td>Bream</td>\n      <td>475.0</td>\n      <td>31.0</td>\n    </tr>\n    <tr>\n      <th>11</th>\n      <td>Bream</td>\n      <td>500.0</td>\n      <td>31.0</td>\n    </tr>\n    <tr>\n      <th>12</th>\n      <td>Bream</td>\n      <td>500.0</td>\n      <td>31.5</td>\n    </tr>\n    <tr>\n      <th>13</th>\n      <td>Bream</td>\n      <td>340.0</td>\n      <td>32.0</td>\n    </tr>\n    <tr>\n      <th>14</th>\n      <td>Bream</td>\n      <td>600.0</td>\n      <td>32.0</td>\n    </tr>\n    <tr>\n      <th>15</th>\n      <td>Bream</td>\n      <td>600.0</td>\n      <td>32.0</td>\n    </tr>\n    <tr>\n      <th>16</th>\n      <td>Bream</td>\n      <td>700.0</td>\n      <td>33.0</td>\n    </tr>\n    <tr>\n      <th>17</th>\n      <td>Bream</td>\n      <td>700.0</td>\n      <td>33.0</td>\n    </tr>\n    <tr>\n      <th>18</th>\n      <td>Bream</td>\n      <td>610.0</td>\n      <td>33.5</td>\n    </tr>\n    <tr>\n      <th>19</th>\n      <td>Bream</td>\n      <td>650.0</td>\n      <td>33.5</td>\n    </tr>\n    <tr>\n      <th>20</th>\n      <td>Bream</td>\n      <td>575.0</td>\n      <td>34.0</td>\n    </tr>\n    <tr>\n      <th>21</th>\n      <td>Bream</td>\n      <td>685.0</td>\n      <td>34.0</td>\n    </tr>\n    <tr>\n      <th>22</th>\n      <td>Bream</td>\n      <td>620.0</td>\n      <td>34.5</td>\n    </tr>\n    <tr>\n      <th>23</th>\n      <td>Bream</td>\n      <td>680.0</td>\n      <td>35.0</td>\n    </tr>\n    <tr>\n      <th>24</th>\n      <td>Bream</td>\n      <td>700.0</td>\n      <td>35.0</td>\n    </tr>\n    <tr>\n      <th>25</th>\n      <td>Bream</td>\n      <td>725.0</td>\n      <td>35.0</td>\n    </tr>\n    <tr>\n      <th>26</th>\n      <td>Bream</td>\n      <td>720.0</td>\n      <td>35.0</td>\n    </tr>\n    <tr>\n      <th>27</th>\n      <td>Bream</td>\n      <td>714.0</td>\n      <td>36.0</td>\n    </tr>\n    <tr>\n      <th>28</th>\n      <td>Bream</td>\n      <td>850.0</td>\n      <td>36.0</td>\n    </tr>\n    <tr>\n      <th>29</th>\n      <td>Bream</td>\n      <td>1000.0</td>\n      <td>37.0</td>\n    </tr>\n    <tr>\n      <th>30</th>\n      <td>Bream</td>\n      <td>920.0</td>\n      <td>38.5</td>\n    </tr>\n    <tr>\n      <th>31</th>\n      <td>Bream</td>\n      <td>955.0</td>\n      <td>38.5</td>\n    </tr>\n    <tr>\n      <th>32</th>\n      <td>Bream</td>\n      <td>925.0</td>\n      <td>39.5</td>\n    </tr>\n    <tr>\n      <th>33</th>\n      <td>Bream</td>\n      <td>975.0</td>\n      <td>41.0</td>\n    </tr>\n    <tr>\n      <th>34</th>\n      <td>Bream</td>\n      <td>950.0</td>\n      <td>41.0</td>\n    </tr>\n  </tbody>\n</table>\n</div>"
     },
     "execution_count": 2,
     "metadata": {},
     "output_type": "execute_result"
    }
   ],
   "source": [
    "bream = fcolumns(fishDF, 'Species', 'Bream', 'bream')\n",
    "bream"
   ],
   "metadata": {
    "collapsed": false,
    "ExecuteTime": {
     "end_time": "2024-02-28T04:02:54.860652Z",
     "start_time": "2024-02-28T04:02:54.852118Z"
    }
   },
   "id": "1c56205f76be590b",
   "execution_count": 2
  },
  {
   "cell_type": "code",
   "outputs": [
    {
     "name": "stdout",
     "output_type": "stream",
     "text": [
      "<class 'pandas.core.frame.DataFrame'>\n",
      "RangeIndex: 35 entries, 0 to 34\n",
      "Data columns (total 3 columns):\n",
      " #   Column   Non-Null Count  Dtype  \n",
      "---  ------   --------------  -----  \n",
      " 0   Species  35 non-null     object \n",
      " 1   Weight   35 non-null     float64\n",
      " 2   Length   35 non-null     float64\n",
      "dtypes: float64(2), object(1)\n",
      "memory usage: 968.0+ bytes\n"
     ]
    }
   ],
   "source": [
    "bream.info()"
   ],
   "metadata": {
    "collapsed": false,
    "ExecuteTime": {
     "end_time": "2024-02-28T04:02:54.866708Z",
     "start_time": "2024-02-28T04:02:54.861653Z"
    }
   },
   "id": "3744904eb34758d",
   "execution_count": 3
  },
  {
   "cell_type": "code",
   "outputs": [],
   "source": [],
   "metadata": {
    "collapsed": false,
    "ExecuteTime": {
     "end_time": "2024-02-28T04:02:54.867220Z",
     "start_time": "2024-02-28T04:02:54.864311Z"
    }
   },
   "id": "2d1586143d65d8fa",
   "execution_count": 3
  },
  {
   "cell_type": "code",
   "outputs": [
    {
     "name": "stdout",
     "output_type": "stream",
     "text": [
      "<class 'pandas.core.frame.DataFrame'>\n",
      "RangeIndex: 35 entries, 0 to 34\n",
      "Data columns (total 3 columns):\n",
      " #   Column   Non-Null Count  Dtype  \n",
      "---  ------   --------------  -----  \n",
      " 0   Species  35 non-null     object \n",
      " 1   Weight   35 non-null     float64\n",
      " 2   Length   35 non-null     float64\n",
      "dtypes: float64(2), object(1)\n",
      "memory usage: 968.0+ bytes\n",
      "None,\n",
      "\n",
      "\n",
      "  Species  Weight  Length\n",
      "0   Bream   242.0    25.4\n",
      "1   Bream   290.0    26.3\n",
      "2   Bream   340.0    26.5,\n",
      "\n",
      "\n",
      "   Species  Weight  Length\n",
      "32   Bream   925.0    39.5\n",
      "33   Bream   975.0    41.0\n",
      "34   Bream   950.0    41.0,\n",
      "\n",
      "\n",
      "            Weight     Length\n",
      "count    35.000000  35.000000\n",
      "mean    617.828571  33.108571\n",
      "std     209.205709   3.911925\n",
      "min     242.000000  25.400000\n",
      "25%     462.500000  30.350000\n",
      "50%     610.000000  33.000000\n",
      "75%     717.000000  35.000000\n",
      "max    1000.000000  41.000000\n"
     ]
    }
   ],
   "source": [
    "finfo(bream)"
   ],
   "metadata": {
    "collapsed": false,
    "ExecuteTime": {
     "end_time": "2024-02-28T04:02:54.887383Z",
     "start_time": "2024-02-28T04:02:54.869212Z"
    }
   },
   "id": "3fd250e80bbafb82",
   "execution_count": 4
  },
  {
   "cell_type": "code",
   "outputs": [],
   "source": [
    "bream1 = bream[['Weight', 'Length']]"
   ],
   "metadata": {
    "collapsed": false,
    "ExecuteTime": {
     "end_time": "2024-02-28T04:02:54.887673Z",
     "start_time": "2024-02-28T04:02:54.876282Z"
    }
   },
   "id": "f1d8890a6675c7f8",
   "execution_count": 5
  },
  {
   "cell_type": "code",
   "outputs": [
    {
     "name": "stdout",
     "output_type": "stream",
     "text": [
      "mean_value, std_value :  Weight    617.828571\n",
      "Length     33.108571\n",
      "dtype: float64 Weight    209.205709\n",
      "Length      3.911925\n",
      "dtype: float64\n",
      "\n",
      "\n",
      "# 양끝단 제거를 위한 기준값 임의로 잡기=> 1.0\n",
      "# base = 1.0\n",
      "# mask = z_data.abs()>base\n",
      "# DF[~mask].dropna(inplace=True)\n"
     ]
    },
    {
     "data": {
      "text/plain": "      Weight    Length\n0  -1.796455 -1.970531\n1  -1.567015 -1.740466\n2  -1.328016 -1.689340\n3  -1.218077 -1.050268\n4  -0.897818 -1.050268\n5  -0.802218 -0.871328\n6  -0.563219 -0.871328\n7  -1.089017 -0.794640\n8  -0.802218 -0.794640\n9  -0.563219 -0.615700\n10 -0.682718 -0.539011\n11 -0.563219 -0.539011\n12 -0.563219 -0.411197\n13 -1.328016 -0.283383\n14 -0.085220 -0.283383\n15 -0.085220 -0.283383\n16  0.392778 -0.027754\n17  0.392778 -0.027754\n18 -0.037420  0.100060\n19  0.153779  0.100060\n20 -0.204720  0.227875\n21  0.321078  0.227875\n22  0.010379  0.355689\n23  0.297178  0.483503\n24  0.392778  0.483503\n25  0.512278  0.483503\n26  0.488378  0.483503\n27  0.459698  0.739132\n28  1.109776  0.739132\n29  1.826773  0.994760\n30  1.444375  1.378203\n31  1.611674  1.378203\n32  1.468275  1.633832\n33  1.707274  2.017275\n34  1.587774  2.017275",
      "text/html": "<div>\n<style scoped>\n    .dataframe tbody tr th:only-of-type {\n        vertical-align: middle;\n    }\n\n    .dataframe tbody tr th {\n        vertical-align: top;\n    }\n\n    .dataframe thead th {\n        text-align: right;\n    }\n</style>\n<table border=\"1\" class=\"dataframe\">\n  <thead>\n    <tr style=\"text-align: right;\">\n      <th></th>\n      <th>Weight</th>\n      <th>Length</th>\n    </tr>\n  </thead>\n  <tbody>\n    <tr>\n      <th>0</th>\n      <td>-1.796455</td>\n      <td>-1.970531</td>\n    </tr>\n    <tr>\n      <th>1</th>\n      <td>-1.567015</td>\n      <td>-1.740466</td>\n    </tr>\n    <tr>\n      <th>2</th>\n      <td>-1.328016</td>\n      <td>-1.689340</td>\n    </tr>\n    <tr>\n      <th>3</th>\n      <td>-1.218077</td>\n      <td>-1.050268</td>\n    </tr>\n    <tr>\n      <th>4</th>\n      <td>-0.897818</td>\n      <td>-1.050268</td>\n    </tr>\n    <tr>\n      <th>5</th>\n      <td>-0.802218</td>\n      <td>-0.871328</td>\n    </tr>\n    <tr>\n      <th>6</th>\n      <td>-0.563219</td>\n      <td>-0.871328</td>\n    </tr>\n    <tr>\n      <th>7</th>\n      <td>-1.089017</td>\n      <td>-0.794640</td>\n    </tr>\n    <tr>\n      <th>8</th>\n      <td>-0.802218</td>\n      <td>-0.794640</td>\n    </tr>\n    <tr>\n      <th>9</th>\n      <td>-0.563219</td>\n      <td>-0.615700</td>\n    </tr>\n    <tr>\n      <th>10</th>\n      <td>-0.682718</td>\n      <td>-0.539011</td>\n    </tr>\n    <tr>\n      <th>11</th>\n      <td>-0.563219</td>\n      <td>-0.539011</td>\n    </tr>\n    <tr>\n      <th>12</th>\n      <td>-0.563219</td>\n      <td>-0.411197</td>\n    </tr>\n    <tr>\n      <th>13</th>\n      <td>-1.328016</td>\n      <td>-0.283383</td>\n    </tr>\n    <tr>\n      <th>14</th>\n      <td>-0.085220</td>\n      <td>-0.283383</td>\n    </tr>\n    <tr>\n      <th>15</th>\n      <td>-0.085220</td>\n      <td>-0.283383</td>\n    </tr>\n    <tr>\n      <th>16</th>\n      <td>0.392778</td>\n      <td>-0.027754</td>\n    </tr>\n    <tr>\n      <th>17</th>\n      <td>0.392778</td>\n      <td>-0.027754</td>\n    </tr>\n    <tr>\n      <th>18</th>\n      <td>-0.037420</td>\n      <td>0.100060</td>\n    </tr>\n    <tr>\n      <th>19</th>\n      <td>0.153779</td>\n      <td>0.100060</td>\n    </tr>\n    <tr>\n      <th>20</th>\n      <td>-0.204720</td>\n      <td>0.227875</td>\n    </tr>\n    <tr>\n      <th>21</th>\n      <td>0.321078</td>\n      <td>0.227875</td>\n    </tr>\n    <tr>\n      <th>22</th>\n      <td>0.010379</td>\n      <td>0.355689</td>\n    </tr>\n    <tr>\n      <th>23</th>\n      <td>0.297178</td>\n      <td>0.483503</td>\n    </tr>\n    <tr>\n      <th>24</th>\n      <td>0.392778</td>\n      <td>0.483503</td>\n    </tr>\n    <tr>\n      <th>25</th>\n      <td>0.512278</td>\n      <td>0.483503</td>\n    </tr>\n    <tr>\n      <th>26</th>\n      <td>0.488378</td>\n      <td>0.483503</td>\n    </tr>\n    <tr>\n      <th>27</th>\n      <td>0.459698</td>\n      <td>0.739132</td>\n    </tr>\n    <tr>\n      <th>28</th>\n      <td>1.109776</td>\n      <td>0.739132</td>\n    </tr>\n    <tr>\n      <th>29</th>\n      <td>1.826773</td>\n      <td>0.994760</td>\n    </tr>\n    <tr>\n      <th>30</th>\n      <td>1.444375</td>\n      <td>1.378203</td>\n    </tr>\n    <tr>\n      <th>31</th>\n      <td>1.611674</td>\n      <td>1.378203</td>\n    </tr>\n    <tr>\n      <th>32</th>\n      <td>1.468275</td>\n      <td>1.633832</td>\n    </tr>\n    <tr>\n      <th>33</th>\n      <td>1.707274</td>\n      <td>2.017275</td>\n    </tr>\n    <tr>\n      <th>34</th>\n      <td>1.587774</td>\n      <td>2.017275</td>\n    </tr>\n  </tbody>\n</table>\n</div>"
     },
     "execution_count": 6,
     "metadata": {},
     "output_type": "execute_result"
    }
   ],
   "source": [
    "fzdata(bream1)"
   ],
   "metadata": {
    "collapsed": false,
    "ExecuteTime": {
     "end_time": "2024-02-28T04:02:54.948704Z",
     "start_time": "2024-02-28T04:02:54.884131Z"
    }
   },
   "id": "992a7c85e961dc33",
   "execution_count": 6
  },
  {
   "cell_type": "code",
   "outputs": [
    {
     "data": {
      "text/plain": "462.5"
     },
     "execution_count": 7,
     "metadata": {},
     "output_type": "execute_result"
    }
   ],
   "source": [
    "bream1.quantile(0.25).iloc[0]"
   ],
   "metadata": {
    "collapsed": false,
    "ExecuteTime": {
     "end_time": "2024-02-28T04:02:54.949769Z",
     "start_time": "2024-02-28T04:02:54.888372Z"
    }
   },
   "id": "122a0f81bf58d78",
   "execution_count": 7
  },
  {
   "cell_type": "code",
   "outputs": [
    {
     "data": {
      "text/plain": "<Figure size 640x480 with 1 Axes>",
      "image/png": "[encoded data removed]"
     },
     "metadata": {},
     "output_type": "display_data"
    }
   ],
   "source": [
    "plt.boxplot(bream1)\n",
    "plt.show()"
   ],
   "metadata": {
    "collapsed": false,
    "ExecuteTime": {
     "end_time": "2024-02-28T04:02:55.110434Z",
     "start_time": "2024-02-28T04:02:54.891447Z"
    }
   },
   "id": "6613d5d4c39a42d0",
   "execution_count": 8
  },
  {
   "cell_type": "code",
   "outputs": [
    {
     "data": {
      "text/plain": "{'whiskers': [<matplotlib.lines.Line2D at 0x1697ea580>,\n  <matplotlib.lines.Line2D at 0x1697ea820>,\n  <matplotlib.lines.Line2D at 0x1697f9820>,\n  <matplotlib.lines.Line2D at 0x1697f9ac0>],\n 'caps': [<matplotlib.lines.Line2D at 0x1697eaac0>,\n  <matplotlib.lines.Line2D at 0x1697ead60>,\n  <matplotlib.lines.Line2D at 0x1697f9d60>,\n  <matplotlib.lines.Line2D at 0x169808040>],\n 'boxes': [<matplotlib.lines.Line2D at 0x1697ea400>,\n  <matplotlib.lines.Line2D at 0x1697f9580>],\n 'medians': [<matplotlib.lines.Line2D at 0x1697f9040>,\n  <matplotlib.lines.Line2D at 0x1698082e0>],\n 'fliers': [<matplotlib.lines.Line2D at 0x1697f92e0>,\n  <matplotlib.lines.Line2D at 0x169808580>],\n 'means': []}"
     },
     "execution_count": 9,
     "metadata": {},
     "output_type": "execute_result"
    },
    {
     "data": {
      "text/plain": "<Figure size 640x480 with 1 Axes>",
      "image/png": "[encoded data removed]"
     },
     "metadata": {},
     "output_type": "display_data"
    }
   ],
   "source": [
    "plt.boxplot(bream1)"
   ],
   "metadata": {
    "collapsed": false,
    "ExecuteTime": {
     "end_time": "2024-02-28T04:02:55.194637Z",
     "start_time": "2024-02-28T04:02:55.063221Z"
    }
   },
   "id": "ae1dd34ddd8bfefc",
   "execution_count": 9
  },
  {
   "cell_type": "code",
   "outputs": [
    {
     "name": "stdout",
     "output_type": "stream",
     "text": [
      "'최저 :', 242.0, \n",
      "    '1QR :' 462.5, \n",
      "    '3QR :' 717.0\n",
      "    '최고 :' 1000.0)\n",
      "IQR : -254.5\n"
     ]
    },
    {
     "data": {
      "text/plain": "<Figure size 640x480 with 1 Axes>",
      "image/png": "[encoded data removed]"
     },
     "metadata": {},
     "output_type": "display_data"
    }
   ],
   "source": [
    "fboxplot(bream1['Weight'])"
   ],
   "metadata": {
    "collapsed": false,
    "ExecuteTime": {
     "end_time": "2024-02-28T04:04:48.311365Z",
     "start_time": "2024-02-28T04:04:48.264440Z"
    }
   },
   "id": "840498743bc4ff2f",
   "execution_count": 13
  },
  {
   "cell_type": "code",
   "outputs": [
    {
     "data": {
      "text/plain": "6"
     },
     "execution_count": 11,
     "metadata": {},
     "output_type": "execute_result"
    },
    {
     "data": {
      "text/plain": "<Figure size 640x480 with 1 Axes>",
      "image/png": "[encoded data removed]"
     },
     "metadata": {},
     "output_type": "display_data"
    }
   ],
   "source": [
    "bp_obj = plt.boxplot(bream1)\n",
    "len(bp_obj)\n",
    "# for i in range(len(bp_obj)):"
   ],
   "metadata": {
    "collapsed": false,
    "ExecuteTime": {
     "end_time": "2024-02-28T04:02:55.290404Z",
     "start_time": "2024-02-28T04:02:55.230379Z"
    }
   },
   "id": "e55e3efaf8396c17",
   "execution_count": 11
  },
  {
   "cell_type": "code",
   "outputs": [],
   "source": [],
   "metadata": {
    "collapsed": false,
    "ExecuteTime": {
     "end_time": "2024-02-28T04:02:55.290799Z",
     "start_time": "2024-02-28T04:02:55.287895Z"
    }
   },
   "id": "e94fcd295dc6f946",
   "execution_count": 11
  }
 ],
 "metadata": {
  "kernelspec": {
   "display_name": "Python 3",
   "language": "python",
   "name": "python3"
  },
  "language_info": {
   "codemirror_mode": {
    "name": "ipython",
    "version": 2
   },
   "file_extension": ".py",
   "mimetype": "text/x-python",
   "name": "python",
   "nbconvert_exporter": "python",
   "pygments_lexer": "ipython2",
   "version": "2.7.6"
  }
 },
 "nbformat": 4,
 "nbformat_minor": 5
}
