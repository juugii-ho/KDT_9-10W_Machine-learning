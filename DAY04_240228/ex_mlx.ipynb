{
 "cells": [
  {
   "cell_type": "code",
   "execution_count": 35,
   "id": "initial_id",
   "metadata": {
    "collapsed": true,
    "ExecuteTime": {
     "end_time": "2024-02-28T00:53:54.183972Z",
     "start_time": "2024-02-28T00:53:53.922648Z"
    }
   },
   "outputs": [
    {
     "name": "stdout",
     "output_type": "stream",
     "text": [
      "cpu elapsed time: 0.021541118621826172\n",
      "gpu elapsed time: 0.11496114730834961\n",
      "cpu-gpu elapsed time: 0.1150217056274414\n",
      "gpu-cpu elapsed time: 0.006538867950439453\n"
     ]
    }
   ],
   "source": [
    "# import mlx.core as mx\n",
    "# import time\n",
    "# \n",
    "# a = mx.random.uniform(shape=(4096, 512))\n",
    "# b = mx.random.uniform(shape=(512, 4))\n",
    "# def fun(a, b, d1, d2):\n",
    "#     x = mx.matmul(a, b, stream=d1)\n",
    "#     mx.eval(x)\n",
    "#     for _ in range(500):\n",
    "#         b = mx.exp(b, stream=d2)\n",
    "#         mx.eval(b)\n",
    "#     return x, b\n",
    "# \n",
    "# a = mx.random.uniform(shape=(4096, 512))\n",
    "# b = mx.random.uniform(shape=(512, 4))\n",
    "# \n",
    "# start = time.time()\n",
    "# fun(a, b, mx.cpu, mx.cpu)\n",
    "# print(f\"cpu elapsed time: {time.time()-start}\")\n",
    "# \n",
    "# start = time.time()\n",
    "# fun(a, b, mx.gpu, mx.gpu)\n",
    "# print(f\"gpu elapsed time: {time.time()-start}\")\n",
    "# \n",
    "# start = time.time()\n",
    "# fun(a, b, mx.cpu, mx.gpu)\n",
    "# print(f\"cpu-gpu elapsed time: {time.time()-start}\")\n",
    "# \n",
    "# start = time.time()\n",
    "# fun(a, b, mx.gpu, mx.cpu)\n",
    "# print(f\"gpu-cpu elapsed time: {time.time()-start}\")"
   ]
  },
  {
   "cell_type": "code",
   "outputs": [
    {
     "ename": "ImportError",
     "evalue": "cannot import name 'fDFcolumns' from 'ML_func' (/Users/sml/PycharmProjects/Machine-learning/DAY04_240228/ML_func.py)",
     "output_type": "error",
     "traceback": [
      "\u001B[0;31m---------------------------------------------------------------------------\u001B[0m",
      "\u001B[0;31mImportError\u001B[0m                               Traceback (most recent call last)",
      "Cell \u001B[0;32mIn[39], line 1\u001B[0m\n\u001B[0;32m----> 1\u001B[0m \u001B[38;5;28;01mfrom\u001B[39;00m \u001B[38;5;21;01mML_func\u001B[39;00m \u001B[38;5;28;01mimport\u001B[39;00m fDFcolumns\n\u001B[1;32m      3\u001B[0m \u001B[38;5;28;01mimport\u001B[39;00m \u001B[38;5;21;01mpandas\u001B[39;00m \u001B[38;5;28;01mas\u001B[39;00m \u001B[38;5;21;01mpd\u001B[39;00m\n\u001B[1;32m      4\u001B[0m \u001B[38;5;28;01mimport\u001B[39;00m \u001B[38;5;21;01mmatplotlib\u001B[39;00m\u001B[38;5;21;01m.\u001B[39;00m\u001B[38;5;21;01mpyplot\u001B[39;00m \u001B[38;5;28;01mas\u001B[39;00m \u001B[38;5;21;01mplt\u001B[39;00m\n",
      "\u001B[0;31mImportError\u001B[0m: cannot import name 'fDFcolumns' from 'ML_func' (/Users/sml/PycharmProjects/Machine-learning/DAY04_240228/ML_func.py)"
     ]
    }
   ],
   "source": [
    "from ML_func import fDFcolumns\n",
    "\n",
    "import pandas as pd\n",
    "import matplotlib.pyplot as plt\n",
    "import seaborn as sns\n",
    "from sklearn.preprocessing import StandardScaler, MinMaxScaler\n",
    "from sklearn.linear_model import LinearRegression\n",
    "import numpy as np\n",
    "import time\n",
    "\n",
    "data_file = '../data/fish.csv'\n",
    "fishDF = pd.read_csv(data_file, usecols=[0, 1, 2])\n",
    "fishDF"
   ],
   "metadata": {
    "collapsed": false,
    "ExecuteTime": {
     "end_time": "2024-02-28T00:54:31.139381Z",
     "start_time": "2024-02-28T00:54:31.128035Z"
    }
   },
   "id": "3e6ccabfd7e847a5",
   "execution_count": 39
  },
  {
   "cell_type": "code",
   "outputs": [
    {
     "ename": "NameError",
     "evalue": "name 'fDFcolumns' is not defined",
     "output_type": "error",
     "traceback": [
      "\u001B[0;31m---------------------------------------------------------------------------\u001B[0m",
      "\u001B[0;31mNameError\u001B[0m                                 Traceback (most recent call last)",
      "Cell \u001B[0;32mIn[40], line 1\u001B[0m\n\u001B[0;32m----> 1\u001B[0m bream \u001B[38;5;241m=\u001B[39m \u001B[43mfDFcolumns\u001B[49m(fishDF, \u001B[38;5;124m'\u001B[39m\u001B[38;5;124mSpecies\u001B[39m\u001B[38;5;124m'\u001B[39m, \u001B[38;5;124m'\u001B[39m\u001B[38;5;124mBream\u001B[39m\u001B[38;5;124m'\u001B[39m, \u001B[38;5;124m'\u001B[39m\u001B[38;5;124mbream\u001B[39m\u001B[38;5;124m'\u001B[39m)\n\u001B[1;32m      2\u001B[0m bream\n",
      "\u001B[0;31mNameError\u001B[0m: name 'fDFcolumns' is not defined"
     ]
    }
   ],
   "source": [
    "bream = fDFcolumns(fishDF, 'Species', 'Bream', 'bream')\n",
    "bream"
   ],
   "metadata": {
    "collapsed": false,
    "ExecuteTime": {
     "end_time": "2024-02-28T00:54:31.577035Z",
     "start_time": "2024-02-28T00:54:31.573526Z"
    }
   },
   "id": "1c56205f76be590b",
   "execution_count": 40
  },
  {
   "cell_type": "code",
   "outputs": [],
   "source": [],
   "metadata": {
    "collapsed": false,
    "ExecuteTime": {
     "start_time": "2024-02-28T00:53:54.196046Z"
    }
   },
   "id": "3fd250e80bbafb82",
   "execution_count": null
  },
  {
   "cell_type": "code",
   "outputs": [],
   "source": [],
   "metadata": {
    "collapsed": false,
    "ExecuteTime": {
     "start_time": "2024-02-28T00:53:54.197126Z"
    }
   },
   "id": "992a7c85e961dc33"
  }
 ],
 "metadata": {
  "kernelspec": {
   "display_name": "Python 3",
   "language": "python",
   "name": "python3"
  },
  "language_info": {
   "codemirror_mode": {
    "name": "ipython",
    "version": 2
   },
   "file_extension": ".py",
   "mimetype": "text/x-python",
   "name": "python",
   "nbconvert_exporter": "python",
   "pygments_lexer": "ipython2",
   "version": "2.7.6"
  }
 },
 "nbformat": 4,
 "nbformat_minor": 5
}
