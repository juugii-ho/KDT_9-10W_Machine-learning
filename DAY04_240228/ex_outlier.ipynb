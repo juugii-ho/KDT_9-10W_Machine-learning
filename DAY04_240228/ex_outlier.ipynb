{
 "cells": [
  {
   "cell_type": "markdown",
   "source": [
    "### 이상치 데이터 처리\n",
    "- 피쳐/특성 데이터 값의 범위를 벗어나는 데이터를 의미\n",
    "- 종류 : 잘못 입력된 경우, 혹은 자연으로 생성된 데이터\n",
    "    - 잘못 입력된 데이터 : 입력 시의 오타 ===> 제거 또는 대체\n",
    "    - 자연 생성 데이터 : 연봉, 키, 몸무게, 나이 ===> 분리해서 전용 모델/ 식별용 피쳐\n",
    "- 탐지\n",
    "    - 시각화 확인\n",
    "    - 데이터의 분포를 확인 : Z-score /IQR(Turkey Fences)\n",
    "- 처리"
   ],
   "metadata": {
    "collapsed": false
   },
   "id": "23e7949676c97882"
  },
  {
   "cell_type": "markdown",
   "source": [
    "### (1) 모듈 로딩 및 데이터 준비 <hr>"
   ],
   "metadata": {
    "collapsed": false
   },
   "id": "6b62ae23689fd872"
  },
  {
   "cell_type": "code",
   "outputs": [],
   "source": [
    "import pandas as pd\n",
    "import matplotlib.pyplot as plt"
   ],
   "metadata": {
    "collapsed": false,
    "ExecuteTime": {
     "end_time": "2024-02-28T00:51:09.597561Z",
     "start_time": "2024-02-28T00:51:09.595653Z"
    }
   },
   "id": "c5d7143f6eac0b9f",
   "execution_count": 1
  },
  {
   "cell_type": "code",
   "outputs": [
    {
     "name": "stdout",
     "output_type": "stream",
     "text": [
      "<class 'pandas.core.frame.DataFrame'>\n",
      "RangeIndex: 11 entries, 0 to 10\n",
      "Data columns (total 1 columns):\n",
      " #   Column  Non-Null Count  Dtype\n",
      "---  ------  --------------  -----\n",
      " 0   num     11 non-null     int64\n",
      "dtypes: int64(1)\n",
      "memory usage: 216.0 bytes\n"
     ]
    }
   ],
   "source": [
    "# 임의의 데이터\n",
    "dataDF = pd.DataFrame({\"num\":[1,2,3,1,2,3,1,2,3,1,15]})\n",
    "dataDF.info()"
   ],
   "metadata": {
    "collapsed": false,
    "ExecuteTime": {
     "end_time": "2024-02-28T00:52:00.296208Z",
     "start_time": "2024-02-28T00:52:00.293825Z"
    }
   },
   "id": "a0c8374af89748ab",
   "execution_count": 5
  },
  {
   "cell_type": "markdown",
   "source": [
    "### (2) 데이터 전처리 <hr>"
   ],
   "metadata": {
    "collapsed": false
   },
   "id": "442297b31b10ebec"
  },
  {
   "cell_type": "markdown",
   "source": [
    "#### (2-1) 데이터 확인"
   ],
   "metadata": {
    "collapsed": false
   },
   "id": "7440d993df281910"
  },
  {
   "cell_type": "code",
   "outputs": [],
   "source": [
    "# 시각화로 데이터 분포 확인\n"
   ],
   "metadata": {
    "collapsed": false
   },
   "id": "d692fa8bef1f0d1c"
  }
 ],
 "metadata": {
  "kernelspec": {
   "display_name": "Python 3",
   "language": "python",
   "name": "python3"
  },
  "language_info": {
   "codemirror_mode": {
    "name": "ipython",
    "version": 2
   },
   "file_extension": ".py",
   "mimetype": "text/x-python",
   "name": "python",
   "nbconvert_exporter": "python",
   "pygments_lexer": "ipython2",
   "version": "2.7.6"
  }
 },
 "nbformat": 4,
 "nbformat_minor": 5
}
