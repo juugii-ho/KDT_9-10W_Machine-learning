{
 "cells": [
  {
   "cell_type": "code",
   "execution_count": 93,
   "id": "initial_id",
   "metadata": {
    "collapsed": true,
    "ExecuteTime": {
     "end_time": "2024-02-27T05:58:42.948261Z",
     "start_time": "2024-02-27T05:58:42.799547Z"
    }
   },
   "outputs": [],
   "source": [
    "import pandas as pd\n",
    "import matplotlib.pyplot as plt\n",
    "import seaborn as sns\n",
    "from sklearn.preprocessing import StandardScaler, MinMaxScaler\n",
    "from sklearn.linear_model import LinearRegression\n",
    "import numpy as np"
   ]
  },
  {
   "cell_type": "code",
   "outputs": [],
   "source": [
    "data_file = '../data/fish.csv'"
   ],
   "metadata": {
    "collapsed": false,
    "ExecuteTime": {
     "end_time": "2024-02-27T05:58:42.958294Z",
     "start_time": "2024-02-27T05:58:42.946470Z"
    }
   },
   "id": "c26017f1868a70f4",
   "execution_count": 94
  },
  {
   "cell_type": "code",
   "outputs": [
    {
     "data": {
      "text/plain": "            Weight     Length   Diagonal     Height      Width\ncount    56.000000  56.000000  56.000000  56.000000  56.000000\nmean    382.239286  27.892857  29.571429   7.861870   4.745723\nstd     347.617717   9.021668   9.529509   2.878177   1.774626\nmin       5.900000   8.400000   8.800000   2.112000   1.408000\n25%     120.000000  21.825000  23.325000   5.692500   3.525000\n50%     207.500000  25.300000  26.750000   6.921800   4.154900\n75%     692.500000  36.625000  39.075000  10.846500   6.448125\nmax    1100.000000  44.000000  46.600000  12.800200   8.142000",
      "text/html": "<div>\n<style scoped>\n    .dataframe tbody tr th:only-of-type {\n        vertical-align: middle;\n    }\n\n    .dataframe tbody tr th {\n        vertical-align: top;\n    }\n\n    .dataframe thead th {\n        text-align: right;\n    }\n</style>\n<table border=\"1\" class=\"dataframe\">\n  <thead>\n    <tr style=\"text-align: right;\">\n      <th></th>\n      <th>Weight</th>\n      <th>Length</th>\n      <th>Diagonal</th>\n      <th>Height</th>\n      <th>Width</th>\n    </tr>\n  </thead>\n  <tbody>\n    <tr>\n      <th>count</th>\n      <td>56.000000</td>\n      <td>56.000000</td>\n      <td>56.000000</td>\n      <td>56.000000</td>\n      <td>56.000000</td>\n    </tr>\n    <tr>\n      <th>mean</th>\n      <td>382.239286</td>\n      <td>27.892857</td>\n      <td>29.571429</td>\n      <td>7.861870</td>\n      <td>4.745723</td>\n    </tr>\n    <tr>\n      <th>std</th>\n      <td>347.617717</td>\n      <td>9.021668</td>\n      <td>9.529509</td>\n      <td>2.878177</td>\n      <td>1.774626</td>\n    </tr>\n    <tr>\n      <th>min</th>\n      <td>5.900000</td>\n      <td>8.400000</td>\n      <td>8.800000</td>\n      <td>2.112000</td>\n      <td>1.408000</td>\n    </tr>\n    <tr>\n      <th>25%</th>\n      <td>120.000000</td>\n      <td>21.825000</td>\n      <td>23.325000</td>\n      <td>5.692500</td>\n      <td>3.525000</td>\n    </tr>\n    <tr>\n      <th>50%</th>\n      <td>207.500000</td>\n      <td>25.300000</td>\n      <td>26.750000</td>\n      <td>6.921800</td>\n      <td>4.154900</td>\n    </tr>\n    <tr>\n      <th>75%</th>\n      <td>692.500000</td>\n      <td>36.625000</td>\n      <td>39.075000</td>\n      <td>10.846500</td>\n      <td>6.448125</td>\n    </tr>\n    <tr>\n      <th>max</th>\n      <td>1100.000000</td>\n      <td>44.000000</td>\n      <td>46.600000</td>\n      <td>12.800200</td>\n      <td>8.142000</td>\n    </tr>\n  </tbody>\n</table>\n</div>"
     },
     "execution_count": 140,
     "metadata": {},
     "output_type": "execute_result"
    }
   ],
   "source": [
    "DF = pd.read_csv(data_file) # 원하는 헤더  usecols=[0,1,2]\n",
    "newDF = DF[DF['Species']=='Perch']\n",
    "newDF = newDF.reset_index(drop=True)\n",
    "newDF.describe()"
   ],
   "metadata": {
    "collapsed": false,
    "ExecuteTime": {
     "end_time": "2024-02-27T07:01:36.610037Z",
     "start_time": "2024-02-27T07:01:36.588571Z"
    }
   },
   "id": "8e1d1a5aa1def01f",
   "execution_count": 140
  },
  {
   "cell_type": "code",
   "outputs": [
    {
     "name": "stdout",
     "output_type": "stream",
     "text": [
      "<class 'pandas.core.frame.DataFrame'>\n",
      "RangeIndex: 56 entries, 0 to 55\n",
      "Data columns (total 6 columns):\n",
      " #   Column    Non-Null Count  Dtype  \n",
      "---  ------    --------------  -----  \n",
      " 0   Species   56 non-null     object \n",
      " 1   Weight    56 non-null     float64\n",
      " 2   Length    56 non-null     float64\n",
      " 3   Diagonal  56 non-null     float64\n",
      " 4   Height    56 non-null     float64\n",
      " 5   Width     56 non-null     float64\n",
      "dtypes: float64(5), object(1)\n",
      "memory usage: 2.8+ KB\n"
     ]
    }
   ],
   "source": [
    "newDF.info()"
   ],
   "metadata": {
    "collapsed": false,
    "ExecuteTime": {
     "end_time": "2024-02-27T07:01:37.494427Z",
     "start_time": "2024-02-27T07:01:37.490851Z"
    }
   },
   "id": "dda7779eba6e0a49",
   "execution_count": 141
  },
  {
   "cell_type": "code",
   "outputs": [
    {
     "data": {
      "text/plain": "  Species  Weight  Length  Diagonal  Height   Width\n0   Perch     5.9     8.4       8.8  2.1120  1.4080\n1   Perch    32.0    13.7      14.7  3.5280  1.9992\n2   Perch    40.0    15.0      16.0  3.8240  2.4320\n3   Perch    51.5    16.2      17.2  4.5924  2.6316\n4   Perch    70.0    17.4      18.5  4.5880  2.9415",
      "text/html": "<div>\n<style scoped>\n    .dataframe tbody tr th:only-of-type {\n        vertical-align: middle;\n    }\n\n    .dataframe tbody tr th {\n        vertical-align: top;\n    }\n\n    .dataframe thead th {\n        text-align: right;\n    }\n</style>\n<table border=\"1\" class=\"dataframe\">\n  <thead>\n    <tr style=\"text-align: right;\">\n      <th></th>\n      <th>Species</th>\n      <th>Weight</th>\n      <th>Length</th>\n      <th>Diagonal</th>\n      <th>Height</th>\n      <th>Width</th>\n    </tr>\n  </thead>\n  <tbody>\n    <tr>\n      <th>0</th>\n      <td>Perch</td>\n      <td>5.9</td>\n      <td>8.4</td>\n      <td>8.8</td>\n      <td>2.1120</td>\n      <td>1.4080</td>\n    </tr>\n    <tr>\n      <th>1</th>\n      <td>Perch</td>\n      <td>32.0</td>\n      <td>13.7</td>\n      <td>14.7</td>\n      <td>3.5280</td>\n      <td>1.9992</td>\n    </tr>\n    <tr>\n      <th>2</th>\n      <td>Perch</td>\n      <td>40.0</td>\n      <td>15.0</td>\n      <td>16.0</td>\n      <td>3.8240</td>\n      <td>2.4320</td>\n    </tr>\n    <tr>\n      <th>3</th>\n      <td>Perch</td>\n      <td>51.5</td>\n      <td>16.2</td>\n      <td>17.2</td>\n      <td>4.5924</td>\n      <td>2.6316</td>\n    </tr>\n    <tr>\n      <th>4</th>\n      <td>Perch</td>\n      <td>70.0</td>\n      <td>17.4</td>\n      <td>18.5</td>\n      <td>4.5880</td>\n      <td>2.9415</td>\n    </tr>\n  </tbody>\n</table>\n</div>"
     },
     "execution_count": 142,
     "metadata": {},
     "output_type": "execute_result"
    }
   ],
   "source": [
    "newDF.head(5)"
   ],
   "metadata": {
    "collapsed": false,
    "ExecuteTime": {
     "end_time": "2024-02-27T07:01:38.460064Z",
     "start_time": "2024-02-27T07:01:38.454932Z"
    }
   },
   "id": "f91448fec20f22e",
   "execution_count": 142
  },
  {
   "cell_type": "code",
   "outputs": [
    {
     "data": {
      "text/plain": "            Weight     Length   Diagonal     Height      Width\ncount    56.000000  56.000000  56.000000  56.000000  56.000000\nmean    382.239286  27.892857  29.571429   7.861870   4.745723\nstd     347.617717   9.021668   9.529509   2.878177   1.774626\nmin       5.900000   8.400000   8.800000   2.112000   1.408000\n25%     120.000000  21.825000  23.325000   5.692500   3.525000\n50%     207.500000  25.300000  26.750000   6.921800   4.154900\n75%     692.500000  36.625000  39.075000  10.846500   6.448125\nmax    1100.000000  44.000000  46.600000  12.800200   8.142000",
      "text/html": "<div>\n<style scoped>\n    .dataframe tbody tr th:only-of-type {\n        vertical-align: middle;\n    }\n\n    .dataframe tbody tr th {\n        vertical-align: top;\n    }\n\n    .dataframe thead th {\n        text-align: right;\n    }\n</style>\n<table border=\"1\" class=\"dataframe\">\n  <thead>\n    <tr style=\"text-align: right;\">\n      <th></th>\n      <th>Weight</th>\n      <th>Length</th>\n      <th>Diagonal</th>\n      <th>Height</th>\n      <th>Width</th>\n    </tr>\n  </thead>\n  <tbody>\n    <tr>\n      <th>count</th>\n      <td>56.000000</td>\n      <td>56.000000</td>\n      <td>56.000000</td>\n      <td>56.000000</td>\n      <td>56.000000</td>\n    </tr>\n    <tr>\n      <th>mean</th>\n      <td>382.239286</td>\n      <td>27.892857</td>\n      <td>29.571429</td>\n      <td>7.861870</td>\n      <td>4.745723</td>\n    </tr>\n    <tr>\n      <th>std</th>\n      <td>347.617717</td>\n      <td>9.021668</td>\n      <td>9.529509</td>\n      <td>2.878177</td>\n      <td>1.774626</td>\n    </tr>\n    <tr>\n      <th>min</th>\n      <td>5.900000</td>\n      <td>8.400000</td>\n      <td>8.800000</td>\n      <td>2.112000</td>\n      <td>1.408000</td>\n    </tr>\n    <tr>\n      <th>25%</th>\n      <td>120.000000</td>\n      <td>21.825000</td>\n      <td>23.325000</td>\n      <td>5.692500</td>\n      <td>3.525000</td>\n    </tr>\n    <tr>\n      <th>50%</th>\n      <td>207.500000</td>\n      <td>25.300000</td>\n      <td>26.750000</td>\n      <td>6.921800</td>\n      <td>4.154900</td>\n    </tr>\n    <tr>\n      <th>75%</th>\n      <td>692.500000</td>\n      <td>36.625000</td>\n      <td>39.075000</td>\n      <td>10.846500</td>\n      <td>6.448125</td>\n    </tr>\n    <tr>\n      <th>max</th>\n      <td>1100.000000</td>\n      <td>44.000000</td>\n      <td>46.600000</td>\n      <td>12.800200</td>\n      <td>8.142000</td>\n    </tr>\n  </tbody>\n</table>\n</div>"
     },
     "execution_count": 143,
     "metadata": {},
     "output_type": "execute_result"
    }
   ],
   "source": [
    "newDF.describe()"
   ],
   "metadata": {
    "collapsed": false,
    "ExecuteTime": {
     "end_time": "2024-02-27T07:01:38.841263Z",
     "start_time": "2024-02-27T07:01:38.831121Z"
    }
   },
   "id": "aaf4a9d5a22445ce",
   "execution_count": 143
  },
  {
   "cell_type": "code",
   "outputs": [
    {
     "data": {
      "text/plain": "<Figure size 640x480 with 1 Axes>",
      "image/png": "[encoded data removed]"
     },
     "metadata": {},
     "output_type": "display_data"
    }
   ],
   "source": [
    "# 무게와 길이에 대한 시각화\n",
    "\n",
    "plt.plot(newDF[newDF.columns[1]], newDF[newDF.columns[2]], 'go-')\n",
    "plt.xlabel(newDF.columns[1])\n",
    "plt.ylabel(newDF.columns[2])\n",
    "plt.show()"
   ],
   "metadata": {
    "collapsed": false,
    "ExecuteTime": {
     "end_time": "2024-02-27T07:01:40.271341Z",
     "start_time": "2024-02-27T07:01:40.156426Z"
    }
   },
   "id": "638327463fbd0b29",
   "execution_count": 144
  },
  {
   "cell_type": "code",
   "outputs": [
    {
     "data": {
      "text/plain": "            Weight    Length  Diagonal    Height     Width\nWeight    1.000000  0.958656  0.959506  0.968441  0.963943\nLength    0.958656  1.000000  0.999779  0.985584  0.974617\nDiagonal  0.959506  0.999779  1.000000  0.985909  0.975131\nHeight    0.968441  0.985584  0.985909  1.000000  0.982943\nWidth     0.963943  0.974617  0.975131  0.982943  1.000000",
      "text/html": "<div>\n<style scoped>\n    .dataframe tbody tr th:only-of-type {\n        vertical-align: middle;\n    }\n\n    .dataframe tbody tr th {\n        vertical-align: top;\n    }\n\n    .dataframe thead th {\n        text-align: right;\n    }\n</style>\n<table border=\"1\" class=\"dataframe\">\n  <thead>\n    <tr style=\"text-align: right;\">\n      <th></th>\n      <th>Weight</th>\n      <th>Length</th>\n      <th>Diagonal</th>\n      <th>Height</th>\n      <th>Width</th>\n    </tr>\n  </thead>\n  <tbody>\n    <tr>\n      <th>Weight</th>\n      <td>1.000000</td>\n      <td>0.958656</td>\n      <td>0.959506</td>\n      <td>0.968441</td>\n      <td>0.963943</td>\n    </tr>\n    <tr>\n      <th>Length</th>\n      <td>0.958656</td>\n      <td>1.000000</td>\n      <td>0.999779</td>\n      <td>0.985584</td>\n      <td>0.974617</td>\n    </tr>\n    <tr>\n      <th>Diagonal</th>\n      <td>0.959506</td>\n      <td>0.999779</td>\n      <td>1.000000</td>\n      <td>0.985909</td>\n      <td>0.975131</td>\n    </tr>\n    <tr>\n      <th>Height</th>\n      <td>0.968441</td>\n      <td>0.985584</td>\n      <td>0.985909</td>\n      <td>1.000000</td>\n      <td>0.982943</td>\n    </tr>\n    <tr>\n      <th>Width</th>\n      <td>0.963943</td>\n      <td>0.974617</td>\n      <td>0.975131</td>\n      <td>0.982943</td>\n      <td>1.000000</td>\n    </tr>\n  </tbody>\n</table>\n</div>"
     },
     "execution_count": 145,
     "metadata": {},
     "output_type": "execute_result"
    }
   ],
   "source": [
    "newDF.corr(numeric_only=True)"
   ],
   "metadata": {
    "collapsed": false,
    "ExecuteTime": {
     "end_time": "2024-02-27T07:01:41.808759Z",
     "start_time": "2024-02-27T07:01:41.782621Z"
    }
   },
   "id": "1104de988cd642c9",
   "execution_count": 145
  },
  {
   "cell_type": "code",
   "outputs": [
    {
     "data": {
      "text/plain": "  Species  Weight  Length  Diagonal  Height   Width\n0   Perch     5.9     8.4       8.8   2.112  1.4080\n1   Perch    32.0    13.7      14.7   3.528  1.9992\n2   Perch    40.0    15.0      16.0   3.824  2.4320",
      "text/html": "<div>\n<style scoped>\n    .dataframe tbody tr th:only-of-type {\n        vertical-align: middle;\n    }\n\n    .dataframe tbody tr th {\n        vertical-align: top;\n    }\n\n    .dataframe thead th {\n        text-align: right;\n    }\n</style>\n<table border=\"1\" class=\"dataframe\">\n  <thead>\n    <tr style=\"text-align: right;\">\n      <th></th>\n      <th>Species</th>\n      <th>Weight</th>\n      <th>Length</th>\n      <th>Diagonal</th>\n      <th>Height</th>\n      <th>Width</th>\n    </tr>\n  </thead>\n  <tbody>\n    <tr>\n      <th>0</th>\n      <td>Perch</td>\n      <td>5.9</td>\n      <td>8.4</td>\n      <td>8.8</td>\n      <td>2.112</td>\n      <td>1.4080</td>\n    </tr>\n    <tr>\n      <th>1</th>\n      <td>Perch</td>\n      <td>32.0</td>\n      <td>13.7</td>\n      <td>14.7</td>\n      <td>3.528</td>\n      <td>1.9992</td>\n    </tr>\n    <tr>\n      <th>2</th>\n      <td>Perch</td>\n      <td>40.0</td>\n      <td>15.0</td>\n      <td>16.0</td>\n      <td>3.824</td>\n      <td>2.4320</td>\n    </tr>\n  </tbody>\n</table>\n</div>"
     },
     "execution_count": 146,
     "metadata": {},
     "output_type": "execute_result"
    }
   ],
   "source": [
    "newDF.iloc[:3]\n"
   ],
   "metadata": {
    "collapsed": false,
    "ExecuteTime": {
     "end_time": "2024-02-27T07:01:42.771498Z",
     "start_time": "2024-02-27T07:01:42.766629Z"
    }
   },
   "id": "b9f27b5f0c98250",
   "execution_count": 146
  },
  {
   "cell_type": "code",
   "outputs": [],
   "source": [
    "model = LinearRegression()"
   ],
   "metadata": {
    "collapsed": false,
    "ExecuteTime": {
     "end_time": "2024-02-27T07:01:44.178611Z",
     "start_time": "2024-02-27T07:01:44.167594Z"
    }
   },
   "id": "7eab4ee1386fcb95",
   "execution_count": 147
  },
  {
   "cell_type": "code",
   "outputs": [
    {
     "data": {
      "text/plain": "LinearRegression()",
      "text/html": "<style>#sk-container-id-7 {color: black;}#sk-container-id-7 pre{padding: 0;}#sk-container-id-7 div.sk-toggleable {background-color: white;}#sk-container-id-7 label.sk-toggleable__label {cursor: pointer;display: block;width: 100%;margin-bottom: 0;padding: 0.3em;box-sizing: border-box;text-align: center;}#sk-container-id-7 label.sk-toggleable__label-arrow:before {content: \"▸\";float: left;margin-right: 0.25em;color: #696969;}#sk-container-id-7 label.sk-toggleable__label-arrow:hover:before {color: black;}#sk-container-id-7 div.sk-estimator:hover label.sk-toggleable__label-arrow:before {color: black;}#sk-container-id-7 div.sk-toggleable__content {max-height: 0;max-width: 0;overflow: hidden;text-align: left;background-color: #f0f8ff;}#sk-container-id-7 div.sk-toggleable__content pre {margin: 0.2em;color: black;border-radius: 0.25em;background-color: #f0f8ff;}#sk-container-id-7 input.sk-toggleable__control:checked~div.sk-toggleable__content {max-height: 200px;max-width: 100%;overflow: auto;}#sk-container-id-7 input.sk-toggleable__control:checked~label.sk-toggleable__label-arrow:before {content: \"▾\";}#sk-container-id-7 div.sk-estimator input.sk-toggleable__control:checked~label.sk-toggleable__label {background-color: #d4ebff;}#sk-container-id-7 div.sk-label input.sk-toggleable__control:checked~label.sk-toggleable__label {background-color: #d4ebff;}#sk-container-id-7 input.sk-hidden--visually {border: 0;clip: rect(1px 1px 1px 1px);clip: rect(1px, 1px, 1px, 1px);height: 1px;margin: -1px;overflow: hidden;padding: 0;position: absolute;width: 1px;}#sk-container-id-7 div.sk-estimator {font-family: monospace;background-color: #f0f8ff;border: 1px dotted black;border-radius: 0.25em;box-sizing: border-box;margin-bottom: 0.5em;}#sk-container-id-7 div.sk-estimator:hover {background-color: #d4ebff;}#sk-container-id-7 div.sk-parallel-item::after {content: \"\";width: 100%;border-bottom: 1px solid gray;flex-grow: 1;}#sk-container-id-7 div.sk-label:hover label.sk-toggleable__label {background-color: #d4ebff;}#sk-container-id-7 div.sk-serial::before {content: \"\";position: absolute;border-left: 1px solid gray;box-sizing: border-box;top: 0;bottom: 0;left: 50%;z-index: 0;}#sk-container-id-7 div.sk-serial {display: flex;flex-direction: column;align-items: center;background-color: white;padding-right: 0.2em;padding-left: 0.2em;position: relative;}#sk-container-id-7 div.sk-item {position: relative;z-index: 1;}#sk-container-id-7 div.sk-parallel {display: flex;align-items: stretch;justify-content: center;background-color: white;position: relative;}#sk-container-id-7 div.sk-item::before, #sk-container-id-7 div.sk-parallel-item::before {content: \"\";position: absolute;border-left: 1px solid gray;box-sizing: border-box;top: 0;bottom: 0;left: 50%;z-index: -1;}#sk-container-id-7 div.sk-parallel-item {display: flex;flex-direction: column;z-index: 1;position: relative;background-color: white;}#sk-container-id-7 div.sk-parallel-item:first-child::after {align-self: flex-end;width: 50%;}#sk-container-id-7 div.sk-parallel-item:last-child::after {align-self: flex-start;width: 50%;}#sk-container-id-7 div.sk-parallel-item:only-child::after {width: 0;}#sk-container-id-7 div.sk-dashed-wrapped {border: 1px dashed gray;margin: 0 0.4em 0.5em 0.4em;box-sizing: border-box;padding-bottom: 0.4em;background-color: white;}#sk-container-id-7 div.sk-label label {font-family: monospace;font-weight: bold;display: inline-block;line-height: 1.2em;}#sk-container-id-7 div.sk-label-container {text-align: center;}#sk-container-id-7 div.sk-container {/* jupyter's `normalize.less` sets `[hidden] { display: none; }` but bootstrap.min.css set `[hidden] { display: none !important; }` so we also need the `!important` here to be able to override the default hidden behavior on the sphinx rendered scikit-learn.org. See: https://github.com/scikit-learn/scikit-learn/issues/21755 */display: inline-block !important;position: relative;}#sk-container-id-7 div.sk-text-repr-fallback {display: none;}</style><div id=\"sk-container-id-7\" class=\"sk-top-container\"><div class=\"sk-text-repr-fallback\"><pre>LinearRegression()</pre><b>In a Jupyter environment, please rerun this cell to show the HTML representation or trust the notebook. <br />On GitHub, the HTML representation is unable to render, please try loading this page with nbviewer.org.</b></div><div class=\"sk-container\" hidden><div class=\"sk-item\"><div class=\"sk-estimator sk-toggleable\"><input class=\"sk-toggleable__control sk-hidden--visually\" id=\"sk-estimator-id-7\" type=\"checkbox\" checked><label for=\"sk-estimator-id-7\" class=\"sk-toggleable__label sk-toggleable__label-arrow\">LinearRegression</label><div class=\"sk-toggleable__content\"><pre>LinearRegression()</pre></div></div></div></div></div>"
     },
     "execution_count": 148,
     "metadata": {},
     "output_type": "execute_result"
    }
   ],
   "source": [
    "model.fit(newDF[[newDF.columns[1]]], newDF[newDF.columns[2]])\n"
   ],
   "metadata": {
    "collapsed": false,
    "ExecuteTime": {
     "end_time": "2024-02-27T07:01:50.124772Z",
     "start_time": "2024-02-27T07:01:50.105339Z"
    }
   },
   "id": "b3258d5e87548ffb",
   "execution_count": 148
  },
  {
   "cell_type": "markdown",
   "source": [
    "# KNN"
   ],
   "metadata": {
    "collapsed": false
   },
   "id": "58f0e25166d48275"
  },
  {
   "cell_type": "code",
   "outputs": [],
   "source": [],
   "metadata": {
    "collapsed": false,
    "ExecuteTime": {
     "end_time": "2024-02-27T07:01:57.237040Z",
     "start_time": "2024-02-27T07:01:57.227516Z"
    }
   },
   "id": "44bf7929374685fe",
   "execution_count": 148
  },
  {
   "cell_type": "code",
   "outputs": [
    {
     "data": {
      "text/plain": "   Weight  Length  Diagonal  Height   Width\n0     5.9     8.4       8.8   2.112  1.4080\n1    32.0    13.7      14.7   3.528  1.9992",
      "text/html": "<div>\n<style scoped>\n    .dataframe tbody tr th:only-of-type {\n        vertical-align: middle;\n    }\n\n    .dataframe tbody tr th {\n        vertical-align: top;\n    }\n\n    .dataframe thead th {\n        text-align: right;\n    }\n</style>\n<table border=\"1\" class=\"dataframe\">\n  <thead>\n    <tr style=\"text-align: right;\">\n      <th></th>\n      <th>Weight</th>\n      <th>Length</th>\n      <th>Diagonal</th>\n      <th>Height</th>\n      <th>Width</th>\n    </tr>\n  </thead>\n  <tbody>\n    <tr>\n      <th>0</th>\n      <td>5.9</td>\n      <td>8.4</td>\n      <td>8.8</td>\n      <td>2.112</td>\n      <td>1.4080</td>\n    </tr>\n    <tr>\n      <th>1</th>\n      <td>32.0</td>\n      <td>13.7</td>\n      <td>14.7</td>\n      <td>3.528</td>\n      <td>1.9992</td>\n    </tr>\n  </tbody>\n</table>\n</div>"
     },
     "execution_count": 149,
     "metadata": {},
     "output_type": "execute_result"
    }
   ],
   "source": [
    "# 피쳐/특성/속성 데이터 추출\n",
    "featureDF = newDF[newDF.columns[1:]]\n",
    "targetDF = newDF[newDF.columns[0]]\n",
    "targetDF = targetDF.replace({newDF.columns[0]:0, newDF.columns[1]:1})\n",
    "\n",
    "\n",
    "featureDF.head(2)"
   ],
   "metadata": {
    "collapsed": false,
    "ExecuteTime": {
     "end_time": "2024-02-27T07:01:57.554692Z",
     "start_time": "2024-02-27T07:01:57.523032Z"
    }
   },
   "id": "b11d3c5c1db45101",
   "execution_count": 149
  },
  {
   "cell_type": "code",
   "outputs": [
    {
     "name": "stdout",
     "output_type": "stream",
     "text": [
      "16    Perch\n",
      "29    Perch\n",
      "32    Perch\n",
      "13    Perch\n",
      "22    Perch\n",
      "7     Perch\n",
      "31    Perch\n",
      "12    Perch\n",
      "8     Perch\n",
      "1     Perch\n",
      "4     Perch\n",
      "19    Perch\n",
      "42    Perch\n",
      "37    Perch\n",
      "33    Perch\n",
      "54    Perch\n",
      "24    Perch\n",
      "2     Perch\n",
      "35    Perch\n",
      "45    Perch\n",
      "34    Perch\n",
      "5     Perch\n",
      "52    Perch\n",
      "44    Perch\n",
      "47    Perch\n",
      "40    Perch\n",
      "3     Perch\n",
      "49    Perch\n",
      "46    Perch\n",
      "25    Perch\n",
      "18    Perch\n",
      "20    Perch\n",
      "23    Perch\n",
      "11    Perch\n",
      "28    Perch\n",
      "21    Perch\n",
      "0     Perch\n",
      "55    Perch\n",
      "50    Perch\n",
      "26    Perch\n",
      "38    Perch\n",
      "39    Perch\n",
      "27    Perch\n",
      "51    Perch\n",
      "Name: Species, dtype: object\n"
     ]
    }
   ],
   "source": [
    "# 모듈 로딩\n",
    "from sklearn.model_selection import train_test_split\n",
    "\n",
    "X_train, X_test, y_train, y_test = train_test_split(featureDF,\n",
    "                                                    targetDF,\n",
    "                                                    test_size=0.2,\n",
    "                                                    stratify=targetDF)\n",
    "print(y_train)"
   ],
   "metadata": {
    "collapsed": false,
    "ExecuteTime": {
     "end_time": "2024-02-27T07:01:57.854359Z",
     "start_time": "2024-02-27T07:01:57.843228Z"
    }
   },
   "id": "2990360add9650ec",
   "execution_count": 150
  },
  {
   "cell_type": "code",
   "outputs": [],
   "source": [],
   "metadata": {
    "collapsed": false,
    "ExecuteTime": {
     "end_time": "2024-02-27T07:01:58.397856Z",
     "start_time": "2024-02-27T07:01:58.390626Z"
    }
   },
   "id": "cc6e420e6e0cfa55",
   "execution_count": 150
  },
  {
   "cell_type": "code",
   "outputs": [],
   "source": [
    "# 모듈로딩\n",
    "from sklearn.preprocessing import StandardScaler"
   ],
   "metadata": {
    "collapsed": false,
    "ExecuteTime": {
     "end_time": "2024-02-27T07:01:58.701166Z",
     "start_time": "2024-02-27T07:01:58.693678Z"
    }
   },
   "id": "a87c03b332811a77",
   "execution_count": 151
  },
  {
   "cell_type": "code",
   "outputs": [],
   "source": [
    "scaler = StandardScaler()"
   ],
   "metadata": {
    "collapsed": false,
    "ExecuteTime": {
     "end_time": "2024-02-27T07:01:59.006217Z",
     "start_time": "2024-02-27T07:01:59.000550Z"
    }
   },
   "id": "28fd3a59f2229423",
   "execution_count": 152
  },
  {
   "cell_type": "code",
   "outputs": [
    {
     "data": {
      "text/plain": "StandardScaler()",
      "text/html": "<style>#sk-container-id-8 {color: black;}#sk-container-id-8 pre{padding: 0;}#sk-container-id-8 div.sk-toggleable {background-color: white;}#sk-container-id-8 label.sk-toggleable__label {cursor: pointer;display: block;width: 100%;margin-bottom: 0;padding: 0.3em;box-sizing: border-box;text-align: center;}#sk-container-id-8 label.sk-toggleable__label-arrow:before {content: \"▸\";float: left;margin-right: 0.25em;color: #696969;}#sk-container-id-8 label.sk-toggleable__label-arrow:hover:before {color: black;}#sk-container-id-8 div.sk-estimator:hover label.sk-toggleable__label-arrow:before {color: black;}#sk-container-id-8 div.sk-toggleable__content {max-height: 0;max-width: 0;overflow: hidden;text-align: left;background-color: #f0f8ff;}#sk-container-id-8 div.sk-toggleable__content pre {margin: 0.2em;color: black;border-radius: 0.25em;background-color: #f0f8ff;}#sk-container-id-8 input.sk-toggleable__control:checked~div.sk-toggleable__content {max-height: 200px;max-width: 100%;overflow: auto;}#sk-container-id-8 input.sk-toggleable__control:checked~label.sk-toggleable__label-arrow:before {content: \"▾\";}#sk-container-id-8 div.sk-estimator input.sk-toggleable__control:checked~label.sk-toggleable__label {background-color: #d4ebff;}#sk-container-id-8 div.sk-label input.sk-toggleable__control:checked~label.sk-toggleable__label {background-color: #d4ebff;}#sk-container-id-8 input.sk-hidden--visually {border: 0;clip: rect(1px 1px 1px 1px);clip: rect(1px, 1px, 1px, 1px);height: 1px;margin: -1px;overflow: hidden;padding: 0;position: absolute;width: 1px;}#sk-container-id-8 div.sk-estimator {font-family: monospace;background-color: #f0f8ff;border: 1px dotted black;border-radius: 0.25em;box-sizing: border-box;margin-bottom: 0.5em;}#sk-container-id-8 div.sk-estimator:hover {background-color: #d4ebff;}#sk-container-id-8 div.sk-parallel-item::after {content: \"\";width: 100%;border-bottom: 1px solid gray;flex-grow: 1;}#sk-container-id-8 div.sk-label:hover label.sk-toggleable__label {background-color: #d4ebff;}#sk-container-id-8 div.sk-serial::before {content: \"\";position: absolute;border-left: 1px solid gray;box-sizing: border-box;top: 0;bottom: 0;left: 50%;z-index: 0;}#sk-container-id-8 div.sk-serial {display: flex;flex-direction: column;align-items: center;background-color: white;padding-right: 0.2em;padding-left: 0.2em;position: relative;}#sk-container-id-8 div.sk-item {position: relative;z-index: 1;}#sk-container-id-8 div.sk-parallel {display: flex;align-items: stretch;justify-content: center;background-color: white;position: relative;}#sk-container-id-8 div.sk-item::before, #sk-container-id-8 div.sk-parallel-item::before {content: \"\";position: absolute;border-left: 1px solid gray;box-sizing: border-box;top: 0;bottom: 0;left: 50%;z-index: -1;}#sk-container-id-8 div.sk-parallel-item {display: flex;flex-direction: column;z-index: 1;position: relative;background-color: white;}#sk-container-id-8 div.sk-parallel-item:first-child::after {align-self: flex-end;width: 50%;}#sk-container-id-8 div.sk-parallel-item:last-child::after {align-self: flex-start;width: 50%;}#sk-container-id-8 div.sk-parallel-item:only-child::after {width: 0;}#sk-container-id-8 div.sk-dashed-wrapped {border: 1px dashed gray;margin: 0 0.4em 0.5em 0.4em;box-sizing: border-box;padding-bottom: 0.4em;background-color: white;}#sk-container-id-8 div.sk-label label {font-family: monospace;font-weight: bold;display: inline-block;line-height: 1.2em;}#sk-container-id-8 div.sk-label-container {text-align: center;}#sk-container-id-8 div.sk-container {/* jupyter's `normalize.less` sets `[hidden] { display: none; }` but bootstrap.min.css set `[hidden] { display: none !important; }` so we also need the `!important` here to be able to override the default hidden behavior on the sphinx rendered scikit-learn.org. See: https://github.com/scikit-learn/scikit-learn/issues/21755 */display: inline-block !important;position: relative;}#sk-container-id-8 div.sk-text-repr-fallback {display: none;}</style><div id=\"sk-container-id-8\" class=\"sk-top-container\"><div class=\"sk-text-repr-fallback\"><pre>StandardScaler()</pre><b>In a Jupyter environment, please rerun this cell to show the HTML representation or trust the notebook. <br />On GitHub, the HTML representation is unable to render, please try loading this page with nbviewer.org.</b></div><div class=\"sk-container\" hidden><div class=\"sk-item\"><div class=\"sk-estimator sk-toggleable\"><input class=\"sk-toggleable__control sk-hidden--visually\" id=\"sk-estimator-id-8\" type=\"checkbox\" checked><label for=\"sk-estimator-id-8\" class=\"sk-toggleable__label sk-toggleable__label-arrow\">StandardScaler</label><div class=\"sk-toggleable__content\"><pre>StandardScaler()</pre></div></div></div></div></div>"
     },
     "execution_count": 153,
     "metadata": {},
     "output_type": "execute_result"
    }
   ],
   "source": [
    "scaler.fit(X_train)"
   ],
   "metadata": {
    "collapsed": false,
    "ExecuteTime": {
     "end_time": "2024-02-27T07:01:59.289654Z",
     "start_time": "2024-02-27T07:01:59.281986Z"
    }
   },
   "id": "d92494ad9d0eb887",
   "execution_count": 153
  },
  {
   "cell_type": "code",
   "outputs": [
    {
     "data": {
      "text/plain": "array([380.62272727,  27.79545455,  29.47045455,   7.84782045,\n         4.7317    ])"
     },
     "execution_count": 154,
     "metadata": {},
     "output_type": "execute_result"
    }
   ],
   "source": [
    "scaler.mean_"
   ],
   "metadata": {
    "collapsed": false,
    "ExecuteTime": {
     "end_time": "2024-02-27T07:01:59.571619Z",
     "start_time": "2024-02-27T07:01:59.548883Z"
    }
   },
   "id": "3cbf9a95fa3ccee2",
   "execution_count": 154
  },
  {
   "cell_type": "code",
   "outputs": [
    {
     "data": {
      "text/plain": "array([[-0.72884005, -0.63636914, -0.62153533, -0.59736719, -0.67541829],\n       [-0.47292581, -0.14224722, -0.15307703, -0.23368492, -0.32894947],\n       [-0.33624434, -0.03244235, -0.05938537, -0.27369684, -0.22204229],\n       [-0.72884005, -0.71323255, -0.69440662, -0.50318104, -0.67038078],\n       [-0.67067773, -0.52656427, -0.51743348, -0.9038159 , -0.61888622],\n       [-0.87424587, -0.96578376, -0.96507141, -0.76037109, -0.94117499],\n       [-0.35078493, -0.03244235, -0.05938537, -0.23395992, -0.22204229],\n       [-0.74338063, -0.74617401, -0.72563717, -0.74088075, -0.5956577 ],\n       [-0.85970529, -0.89990083, -0.90261031, -0.93162488, -0.94867528],\n       [-1.01383546, -1.54774958, -1.53763156, -1.48491692, -1.52944434],\n       [-0.90332703, -1.14147155, -1.14204455, -1.12054716, -1.00201693],\n       [-0.72884005, -0.58146671, -0.56948441, -0.68467843, -0.62000567],\n       [ 0.92878627,  1.01070393,  1.03368399,  1.0268282 ,  0.85800008],\n       [ 0.38787663,  0.54952347,  0.47153403,  0.75011343,  0.71997228],\n       [-0.37986609, -0.03244235, -0.05938537, -0.19422299, -0.09263423],\n       [ 1.80122118,  1.7244356 ,  1.72075616,  1.6349132 ,  1.9088249 ],\n       [-0.452569  , -0.4167594 , -0.41333164, -0.19071679, -0.56459305],\n       [-0.99057053, -1.40500324, -1.40229916, -1.38316838, -1.28719603],\n       [-0.23446027,  0.0993235 ,  0.06553684, -0.09027448, -0.05390137],\n       [ 0.78338045,  1.23031368,  1.24188768,  1.1305017 ,  0.71157643],\n       [-0.37986609,  0.02246009, -0.00733445, -0.00942565, -0.29525412],\n       [-0.81608354, -1.07558863, -1.06917326, -0.9024753 , -0.78926604],\n       [ 1.80122118,  1.66953316,  1.63747469,  1.40419152,  1.42477606],\n       [ 1.51040954,  1.23031368,  1.24188768,  1.1305017 ,  1.54578827],\n       [ 1.36500372,  1.34011855,  1.33557934,  1.40274779,  1.32917529],\n       [ 0.88516453,  0.9558015 ,  0.99204326,  1.04264047,  1.19349832],\n       [-0.95712719, -1.2732374 , -1.27737695, -1.11903468, -1.17547523],\n       [ 1.84484292,  1.34011855,  1.34598953,  1.5581893 ,  1.52843684],\n       [ 1.27776023,  1.23031368,  1.2314775 ,  1.57554843,  1.46630754],\n       [-0.68521831, -0.4167594 , -0.41333164, -0.50627475, -0.50750126],\n       [-0.78700238, -0.63636914, -0.62153533, -0.79931741, -0.41234827],\n       [-0.67067773, -0.58146671, -0.56948441, -0.36293306, -0.62000567],\n       [-0.6125154 , -0.47166184, -0.46538256, -0.54064925, -0.5634736 ],\n       [-0.7724618 , -0.74617401, -0.72563717, -0.66353811, -0.79715814],\n       [-0.53399626, -0.2410716 , -0.25717887, -0.44233817, -0.27577575],\n       [-0.68521831, -0.55950573, -0.54866404, -0.65126641, -0.61664733],\n       [-1.08973729, -2.1297154 , -2.15183244, -1.97165991, -1.86035285],\n       [ 1.80122118,  1.77933803,  1.78321727,  1.59531377,  1.60310395],\n       [ 1.27776023,  1.34011855,  1.35639971,  1.12995171,  1.06252303],\n       [-0.5601693 , -0.35087648, -0.34046035, -0.38307652, -0.3167475 ],\n       [ 0.51001752,  0.73619175,  0.73178864,  0.82797168,  0.9267901 ],\n       [ 1.33592256,  0.79109419,  0.81507012,  1.25143121,  1.71499267],\n       [-0.58343424, -0.30695453, -0.3092298 , -0.48410319, -0.58670213],\n       [ 2.09203281,  1.55972829,  1.57501358,  1.70235598,  1.19596111]])"
     },
     "execution_count": 155,
     "metadata": {},
     "output_type": "execute_result"
    }
   ],
   "source": [
    "scaled_X_train=scaler.transform(X_train) # 검증이나 데이터에 사용할 때 새 변수명 부여해서 반복 사용\n",
    "scaled_X_train"
   ],
   "metadata": {
    "collapsed": false,
    "ExecuteTime": {
     "end_time": "2024-02-27T07:01:59.807829Z",
     "start_time": "2024-02-27T07:01:59.797508Z"
    }
   },
   "id": "c452228b09a2478d",
   "execution_count": 155
  },
  {
   "cell_type": "code",
   "outputs": [
    {
     "data": {
      "text/plain": "array([[-0.72884005, -0.63636914, -0.62153533, -0.59736719, -0.67541829],\n       [-0.47292581, -0.14224722, -0.15307703, -0.23368492, -0.32894947],\n       [-0.33624434, -0.03244235, -0.05938537, -0.27369684, -0.22204229],\n       [-0.72884005, -0.71323255, -0.69440662, -0.50318104, -0.67038078],\n       [-0.67067773, -0.52656427, -0.51743348, -0.9038159 , -0.61888622],\n       [-0.87424587, -0.96578376, -0.96507141, -0.76037109, -0.94117499],\n       [-0.35078493, -0.03244235, -0.05938537, -0.23395992, -0.22204229],\n       [-0.74338063, -0.74617401, -0.72563717, -0.74088075, -0.5956577 ],\n       [-0.85970529, -0.89990083, -0.90261031, -0.93162488, -0.94867528],\n       [-1.01383546, -1.54774958, -1.53763156, -1.48491692, -1.52944434],\n       [-0.90332703, -1.14147155, -1.14204455, -1.12054716, -1.00201693],\n       [-0.72884005, -0.58146671, -0.56948441, -0.68467843, -0.62000567],\n       [ 0.92878627,  1.01070393,  1.03368399,  1.0268282 ,  0.85800008],\n       [ 0.38787663,  0.54952347,  0.47153403,  0.75011343,  0.71997228],\n       [-0.37986609, -0.03244235, -0.05938537, -0.19422299, -0.09263423],\n       [ 1.80122118,  1.7244356 ,  1.72075616,  1.6349132 ,  1.9088249 ],\n       [-0.452569  , -0.4167594 , -0.41333164, -0.19071679, -0.56459305],\n       [-0.99057053, -1.40500324, -1.40229916, -1.38316838, -1.28719603],\n       [-0.23446027,  0.0993235 ,  0.06553684, -0.09027448, -0.05390137],\n       [ 0.78338045,  1.23031368,  1.24188768,  1.1305017 ,  0.71157643],\n       [-0.37986609,  0.02246009, -0.00733445, -0.00942565, -0.29525412],\n       [-0.81608354, -1.07558863, -1.06917326, -0.9024753 , -0.78926604],\n       [ 1.80122118,  1.66953316,  1.63747469,  1.40419152,  1.42477606],\n       [ 1.51040954,  1.23031368,  1.24188768,  1.1305017 ,  1.54578827],\n       [ 1.36500372,  1.34011855,  1.33557934,  1.40274779,  1.32917529],\n       [ 0.88516453,  0.9558015 ,  0.99204326,  1.04264047,  1.19349832],\n       [-0.95712719, -1.2732374 , -1.27737695, -1.11903468, -1.17547523],\n       [ 1.84484292,  1.34011855,  1.34598953,  1.5581893 ,  1.52843684],\n       [ 1.27776023,  1.23031368,  1.2314775 ,  1.57554843,  1.46630754],\n       [-0.68521831, -0.4167594 , -0.41333164, -0.50627475, -0.50750126],\n       [-0.78700238, -0.63636914, -0.62153533, -0.79931741, -0.41234827],\n       [-0.67067773, -0.58146671, -0.56948441, -0.36293306, -0.62000567],\n       [-0.6125154 , -0.47166184, -0.46538256, -0.54064925, -0.5634736 ],\n       [-0.7724618 , -0.74617401, -0.72563717, -0.66353811, -0.79715814],\n       [-0.53399626, -0.2410716 , -0.25717887, -0.44233817, -0.27577575],\n       [-0.68521831, -0.55950573, -0.54866404, -0.65126641, -0.61664733],\n       [-1.08973729, -2.1297154 , -2.15183244, -1.97165991, -1.86035285],\n       [ 1.80122118,  1.77933803,  1.78321727,  1.59531377,  1.60310395],\n       [ 1.27776023,  1.34011855,  1.35639971,  1.12995171,  1.06252303],\n       [-0.5601693 , -0.35087648, -0.34046035, -0.38307652, -0.3167475 ],\n       [ 0.51001752,  0.73619175,  0.73178864,  0.82797168,  0.9267901 ],\n       [ 1.33592256,  0.79109419,  0.81507012,  1.25143121,  1.71499267],\n       [-0.58343424, -0.30695453, -0.3092298 , -0.48410319, -0.58670213],\n       [ 2.09203281,  1.55972829,  1.57501358,  1.70235598,  1.19596111]])"
     },
     "execution_count": 156,
     "metadata": {},
     "output_type": "execute_result"
    }
   ],
   "source": [
    "scaler.fit_transform(X_train) # fit_transform : 검증이나 데이터에 사용하지 않을 때 사용"
   ],
   "metadata": {
    "collapsed": false,
    "ExecuteTime": {
     "end_time": "2024-02-27T07:02:00.140117Z",
     "start_time": "2024-02-27T07:02:00.080385Z"
    }
   },
   "id": "30e49919f2ea9021",
   "execution_count": 156
  },
  {
   "cell_type": "code",
   "outputs": [
    {
     "data": {
      "text/plain": "array([[ 1.51040954,  1.34011855,  1.35639971,  1.33448002,  1.39555849],\n       [-0.75792122, -0.63636914, -0.62153533, -0.59736719, -0.7411858 ],\n       [ 0.92878627,  0.90089906,  0.91917196,  0.94917619,  1.12454039],\n       [-0.85970529, -0.85597889, -0.88178994, -0.9507371 , -1.09689006],\n       [-0.17629794,  0.24206983,  0.22168961, -0.07982463,  0.02233297],\n       [-0.78700238, -0.74617401, -0.72563717, -0.74088075, -0.65862659],\n       [ 2.09203281,  1.66953316,  1.66870524,  1.60346052,  1.50274553],\n       [ 0.89970511,  1.01070393,  1.02327381,  0.93632012,  0.91509188],\n       [-0.8800621 , -0.99872522, -1.04835289, -0.91045018, -0.90020323],\n       [-0.75792122, -0.63636914, -0.62153533, -0.75892736, -0.67541829],\n       [-0.71429947, -0.63636914, -0.62153533, -0.67814727, -0.67541829],\n       [-0.23446027, -0.05440332, -0.08020574,  0.16334062,  0.22702383]])"
     },
     "execution_count": 157,
     "metadata": {},
     "output_type": "execute_result"
    }
   ],
   "source": [
    "# 테스트용 데이터 피쳐 스케일링\n",
    "scaled_X_test = scaler.transform(X_test)\n",
    "scaled_X_test"
   ],
   "metadata": {
    "collapsed": false,
    "ExecuteTime": {
     "end_time": "2024-02-27T07:02:00.387742Z",
     "start_time": "2024-02-27T07:02:00.369420Z"
    }
   },
   "id": "dd0a7223fece601d",
   "execution_count": 157
  },
  {
   "cell_type": "code",
   "outputs": [
    {
     "data": {
      "text/plain": "    Weight  Length  Diagonal   Height   Width\n16   130.0    22.0      23.5   6.1100  3.5250\n29   218.0    26.5      28.0   7.1680  4.1440\n32   265.0    27.5      28.9   7.0516  4.3350\n13   130.0    21.3      22.8   6.3840  3.5340\n22   150.0    23.0      24.5   5.2185  3.6260\n7     80.0    19.0      20.2   5.6358  3.0502\n31   260.0    27.5      28.9   7.1672  4.3350\n12   125.0    21.0      22.5   5.6925  3.6675\n8     85.0    19.6      20.8   5.1376  3.0368\n1     32.0    13.7      14.7   3.5280  1.9992\n4     70.0    17.4      18.5   4.5880  2.9415\n19   130.0    22.5      24.0   5.8560  3.6240\n42   700.0    37.0      39.4  10.8350  6.2646\n37   514.0    32.8      34.0  10.0300  6.0180\n33   250.0    27.5      28.9   7.2828  4.5662\n54  1000.0    43.5      46.0  12.6040  8.1420\n24   225.0    24.0      25.5   7.2930  3.7230\n2     40.0    15.0      16.0   3.8240  2.4320\n35   300.0    28.7      30.1   7.5852  4.6354\n45   650.0    39.0      41.4  11.1366  6.0030\n34   250.0    28.0      29.4   7.8204  4.2042\n5    100.0    18.0      19.2   5.2224  3.3216\n52  1000.0    43.0      45.2  11.9328  7.2772\n44   900.0    39.0      41.4  11.1366  7.4934\n47   850.0    40.0      42.3  11.9286  7.1064\n40   685.0    36.5      39.0  10.8810  6.8640\n3     51.5    16.2      17.2   4.5924  2.6316\n49  1015.0    40.0      42.4  12.3808  7.4624\n46   820.0    39.0      41.3  12.4313  7.3514\n25   145.0    24.0      25.5   6.3750  3.8250\n18   110.0    22.0      23.5   5.5225  3.9950\n20   150.0    22.5      24.0   6.7920  3.6240\n23   170.0    23.5      25.0   6.2750  3.7250\n11   115.0    21.0      22.5   5.9175  3.3075\n28   197.0    25.6      27.0   6.5610  4.2390\n21   145.0    22.7      24.2   5.9532  3.6300\n0      5.9     8.4       8.8   2.1120  1.4080\n55  1000.0    44.0      46.6  12.4888  7.5958\n50   820.0    40.0      42.5  11.1350  6.6300\n26   188.0    24.6      26.2   6.7334  4.1658\n38   556.0    34.5      36.5  10.2565  6.3875\n39   840.0    35.0      37.3  11.4884  7.7957\n27   180.0    25.0      26.5   6.4395  3.6835\n51  1100.0    42.0      44.6  12.8002  6.8684",
      "text/html": "<div>\n<style scoped>\n    .dataframe tbody tr th:only-of-type {\n        vertical-align: middle;\n    }\n\n    .dataframe tbody tr th {\n        vertical-align: top;\n    }\n\n    .dataframe thead th {\n        text-align: right;\n    }\n</style>\n<table border=\"1\" class=\"dataframe\">\n  <thead>\n    <tr style=\"text-align: right;\">\n      <th></th>\n      <th>Weight</th>\n      <th>Length</th>\n      <th>Diagonal</th>\n      <th>Height</th>\n      <th>Width</th>\n    </tr>\n  </thead>\n  <tbody>\n    <tr>\n      <th>16</th>\n      <td>130.0</td>\n      <td>22.0</td>\n      <td>23.5</td>\n      <td>6.1100</td>\n      <td>3.5250</td>\n    </tr>\n    <tr>\n      <th>29</th>\n      <td>218.0</td>\n      <td>26.5</td>\n      <td>28.0</td>\n      <td>7.1680</td>\n      <td>4.1440</td>\n    </tr>\n    <tr>\n      <th>32</th>\n      <td>265.0</td>\n      <td>27.5</td>\n      <td>28.9</td>\n      <td>7.0516</td>\n      <td>4.3350</td>\n    </tr>\n    <tr>\n      <th>13</th>\n      <td>130.0</td>\n      <td>21.3</td>\n      <td>22.8</td>\n      <td>6.3840</td>\n      <td>3.5340</td>\n    </tr>\n    <tr>\n      <th>22</th>\n      <td>150.0</td>\n      <td>23.0</td>\n      <td>24.5</td>\n      <td>5.2185</td>\n      <td>3.6260</td>\n    </tr>\n    <tr>\n      <th>7</th>\n      <td>80.0</td>\n      <td>19.0</td>\n      <td>20.2</td>\n      <td>5.6358</td>\n      <td>3.0502</td>\n    </tr>\n    <tr>\n      <th>31</th>\n      <td>260.0</td>\n      <td>27.5</td>\n      <td>28.9</td>\n      <td>7.1672</td>\n      <td>4.3350</td>\n    </tr>\n    <tr>\n      <th>12</th>\n      <td>125.0</td>\n      <td>21.0</td>\n      <td>22.5</td>\n      <td>5.6925</td>\n      <td>3.6675</td>\n    </tr>\n    <tr>\n      <th>8</th>\n      <td>85.0</td>\n      <td>19.6</td>\n      <td>20.8</td>\n      <td>5.1376</td>\n      <td>3.0368</td>\n    </tr>\n    <tr>\n      <th>1</th>\n      <td>32.0</td>\n      <td>13.7</td>\n      <td>14.7</td>\n      <td>3.5280</td>\n      <td>1.9992</td>\n    </tr>\n    <tr>\n      <th>4</th>\n      <td>70.0</td>\n      <td>17.4</td>\n      <td>18.5</td>\n      <td>4.5880</td>\n      <td>2.9415</td>\n    </tr>\n    <tr>\n      <th>19</th>\n      <td>130.0</td>\n      <td>22.5</td>\n      <td>24.0</td>\n      <td>5.8560</td>\n      <td>3.6240</td>\n    </tr>\n    <tr>\n      <th>42</th>\n      <td>700.0</td>\n      <td>37.0</td>\n      <td>39.4</td>\n      <td>10.8350</td>\n      <td>6.2646</td>\n    </tr>\n    <tr>\n      <th>37</th>\n      <td>514.0</td>\n      <td>32.8</td>\n      <td>34.0</td>\n      <td>10.0300</td>\n      <td>6.0180</td>\n    </tr>\n    <tr>\n      <th>33</th>\n      <td>250.0</td>\n      <td>27.5</td>\n      <td>28.9</td>\n      <td>7.2828</td>\n      <td>4.5662</td>\n    </tr>\n    <tr>\n      <th>54</th>\n      <td>1000.0</td>\n      <td>43.5</td>\n      <td>46.0</td>\n      <td>12.6040</td>\n      <td>8.1420</td>\n    </tr>\n    <tr>\n      <th>24</th>\n      <td>225.0</td>\n      <td>24.0</td>\n      <td>25.5</td>\n      <td>7.2930</td>\n      <td>3.7230</td>\n    </tr>\n    <tr>\n      <th>2</th>\n      <td>40.0</td>\n      <td>15.0</td>\n      <td>16.0</td>\n      <td>3.8240</td>\n      <td>2.4320</td>\n    </tr>\n    <tr>\n      <th>35</th>\n      <td>300.0</td>\n      <td>28.7</td>\n      <td>30.1</td>\n      <td>7.5852</td>\n      <td>4.6354</td>\n    </tr>\n    <tr>\n      <th>45</th>\n      <td>650.0</td>\n      <td>39.0</td>\n      <td>41.4</td>\n      <td>11.1366</td>\n      <td>6.0030</td>\n    </tr>\n    <tr>\n      <th>34</th>\n      <td>250.0</td>\n      <td>28.0</td>\n      <td>29.4</td>\n      <td>7.8204</td>\n      <td>4.2042</td>\n    </tr>\n    <tr>\n      <th>5</th>\n      <td>100.0</td>\n      <td>18.0</td>\n      <td>19.2</td>\n      <td>5.2224</td>\n      <td>3.3216</td>\n    </tr>\n    <tr>\n      <th>52</th>\n      <td>1000.0</td>\n      <td>43.0</td>\n      <td>45.2</td>\n      <td>11.9328</td>\n      <td>7.2772</td>\n    </tr>\n    <tr>\n      <th>44</th>\n      <td>900.0</td>\n      <td>39.0</td>\n      <td>41.4</td>\n      <td>11.1366</td>\n      <td>7.4934</td>\n    </tr>\n    <tr>\n      <th>47</th>\n      <td>850.0</td>\n      <td>40.0</td>\n      <td>42.3</td>\n      <td>11.9286</td>\n      <td>7.1064</td>\n    </tr>\n    <tr>\n      <th>40</th>\n      <td>685.0</td>\n      <td>36.5</td>\n      <td>39.0</td>\n      <td>10.8810</td>\n      <td>6.8640</td>\n    </tr>\n    <tr>\n      <th>3</th>\n      <td>51.5</td>\n      <td>16.2</td>\n      <td>17.2</td>\n      <td>4.5924</td>\n      <td>2.6316</td>\n    </tr>\n    <tr>\n      <th>49</th>\n      <td>1015.0</td>\n      <td>40.0</td>\n      <td>42.4</td>\n      <td>12.3808</td>\n      <td>7.4624</td>\n    </tr>\n    <tr>\n      <th>46</th>\n      <td>820.0</td>\n      <td>39.0</td>\n      <td>41.3</td>\n      <td>12.4313</td>\n      <td>7.3514</td>\n    </tr>\n    <tr>\n      <th>25</th>\n      <td>145.0</td>\n      <td>24.0</td>\n      <td>25.5</td>\n      <td>6.3750</td>\n      <td>3.8250</td>\n    </tr>\n    <tr>\n      <th>18</th>\n      <td>110.0</td>\n      <td>22.0</td>\n      <td>23.5</td>\n      <td>5.5225</td>\n      <td>3.9950</td>\n    </tr>\n    <tr>\n      <th>20</th>\n      <td>150.0</td>\n      <td>22.5</td>\n      <td>24.0</td>\n      <td>6.7920</td>\n      <td>3.6240</td>\n    </tr>\n    <tr>\n      <th>23</th>\n      <td>170.0</td>\n      <td>23.5</td>\n      <td>25.0</td>\n      <td>6.2750</td>\n      <td>3.7250</td>\n    </tr>\n    <tr>\n      <th>11</th>\n      <td>115.0</td>\n      <td>21.0</td>\n      <td>22.5</td>\n      <td>5.9175</td>\n      <td>3.3075</td>\n    </tr>\n    <tr>\n      <th>28</th>\n      <td>197.0</td>\n      <td>25.6</td>\n      <td>27.0</td>\n      <td>6.5610</td>\n      <td>4.2390</td>\n    </tr>\n    <tr>\n      <th>21</th>\n      <td>145.0</td>\n      <td>22.7</td>\n      <td>24.2</td>\n      <td>5.9532</td>\n      <td>3.6300</td>\n    </tr>\n    <tr>\n      <th>0</th>\n      <td>5.9</td>\n      <td>8.4</td>\n      <td>8.8</td>\n      <td>2.1120</td>\n      <td>1.4080</td>\n    </tr>\n    <tr>\n      <th>55</th>\n      <td>1000.0</td>\n      <td>44.0</td>\n      <td>46.6</td>\n      <td>12.4888</td>\n      <td>7.5958</td>\n    </tr>\n    <tr>\n      <th>50</th>\n      <td>820.0</td>\n      <td>40.0</td>\n      <td>42.5</td>\n      <td>11.1350</td>\n      <td>6.6300</td>\n    </tr>\n    <tr>\n      <th>26</th>\n      <td>188.0</td>\n      <td>24.6</td>\n      <td>26.2</td>\n      <td>6.7334</td>\n      <td>4.1658</td>\n    </tr>\n    <tr>\n      <th>38</th>\n      <td>556.0</td>\n      <td>34.5</td>\n      <td>36.5</td>\n      <td>10.2565</td>\n      <td>6.3875</td>\n    </tr>\n    <tr>\n      <th>39</th>\n      <td>840.0</td>\n      <td>35.0</td>\n      <td>37.3</td>\n      <td>11.4884</td>\n      <td>7.7957</td>\n    </tr>\n    <tr>\n      <th>27</th>\n      <td>180.0</td>\n      <td>25.0</td>\n      <td>26.5</td>\n      <td>6.4395</td>\n      <td>3.6835</td>\n    </tr>\n    <tr>\n      <th>51</th>\n      <td>1100.0</td>\n      <td>42.0</td>\n      <td>44.6</td>\n      <td>12.8002</td>\n      <td>6.8684</td>\n    </tr>\n  </tbody>\n</table>\n</div>"
     },
     "execution_count": 158,
     "metadata": {},
     "output_type": "execute_result"
    }
   ],
   "source": [
    "\n",
    "X_train"
   ],
   "metadata": {
    "collapsed": false,
    "ExecuteTime": {
     "end_time": "2024-02-27T07:02:00.656851Z",
     "start_time": "2024-02-27T07:02:00.636780Z"
    }
   },
   "id": "1c115583e6de4c9f",
   "execution_count": 158
  },
  {
   "cell_type": "code",
   "outputs": [
    {
     "data": {
      "text/plain": "Text(0, 0.5, 'Length')"
     },
     "execution_count": 159,
     "metadata": {},
     "output_type": "execute_result"
    },
    {
     "data": {
      "text/plain": "<Figure size 640x480 with 1 Axes>",
      "image/png": "[encoded data removed]"
     },
     "metadata": {},
     "output_type": "display_data"
    }
   ],
   "source": [
    "## 원본 데이터 시각화\n",
    "import matplotlib.pyplot as plt\n",
    "\n",
    "plt.plot(X_train[X_train.columns[0]], X_train[X_train.columns[1]], 'ro')\n",
    "\n",
    "# 학습 데이터 시각화\n",
    "# plt.scatter(twoFishDF.Weight, twoFishDF.Length, c=twoFishDF.Species)\n",
    "plt.xlabel(X_train.columns[0])\n",
    "plt.ylabel(X_train.columns[1])"
   ],
   "metadata": {
    "collapsed": false,
    "ExecuteTime": {
     "end_time": "2024-02-27T07:02:00.946326Z",
     "start_time": "2024-02-27T07:02:00.859652Z"
    }
   },
   "id": "8061a51cafd1f356",
   "execution_count": 159
  },
  {
   "cell_type": "code",
   "outputs": [
    {
     "data": {
      "text/plain": "(-2.0, 2.0)"
     },
     "execution_count": 160,
     "metadata": {},
     "output_type": "execute_result"
    },
    {
     "data": {
      "text/plain": "<Figure size 640x480 with 1 Axes>",
      "image/png": "[encoded data removed]"
     },
     "metadata": {},
     "output_type": "display_data"
    }
   ],
   "source": [
    "## => 스케일됨 데이터 시각화 ==> scaled_X_train\n",
    "scaled_X_train.shape, scaled_X_train.ndim\n",
    "\n",
    "plt.plot(scaled_X_train[:,0], scaled_X_train[:,1], 'ro')\n",
    "plt.xlim(-2,2)\n",
    "plt.ylim(-2,2)\n"
   ],
   "metadata": {
    "collapsed": false,
    "ExecuteTime": {
     "end_time": "2024-02-27T07:02:01.138181Z",
     "start_time": "2024-02-27T07:02:01.043551Z"
    }
   },
   "id": "c947312eb9263198",
   "execution_count": 160
  },
  {
   "cell_type": "code",
   "outputs": [],
   "source": [
    "from sklearn.neighbors import KNeighborsClassifier      # 기계학습 관련 모듈\n",
    "\n",
    "max_k = scaled_X_train.shape[0]\n",
    "max_k\n",
    "\n",
    "test_scoreList = []\n",
    "train_scoreList = []\n",
    "for k in range(1,max_k+1):\n",
    "    fishModel = KNeighborsClassifier(n_neighbors=k)\n",
    "    fishModel.fit(scaled_X_train, y_train)\n",
    "    train_scoreList.append(fishModel.score(scaled_X_train,y_train))\n",
    "    test_scoreList.append(fishModel.score(scaled_X_test,y_test))"
   ],
   "metadata": {
    "collapsed": false,
    "ExecuteTime": {
     "end_time": "2024-02-27T07:02:01.595409Z",
     "start_time": "2024-02-27T07:02:01.408157Z"
    }
   },
   "id": "600f8c15da450dee",
   "execution_count": 161
  },
  {
   "cell_type": "code",
   "outputs": [
    {
     "data": {
      "text/plain": "Text(0, 0.5, 'Score')"
     },
     "execution_count": 162,
     "metadata": {},
     "output_type": "execute_result"
    },
    {
     "data": {
      "text/plain": "<Figure size 640x480 with 1 Axes>",
      "image/png": "[encoded data removed]"
     },
     "metadata": {},
     "output_type": "display_data"
    }
   ],
   "source": [
    "# k 갯수에 따른 학습용/테스트용 점수 시각화\n",
    "plt.plot(train_scoreList, 'b--', label='Train Score')\n",
    "plt.plot(test_scoreList, 'r-', label='Test Score')\n",
    "plt.title(\"K & Score\")\n",
    "plt.xlabel('K')\n",
    "plt.ylabel('Score')"
   ],
   "metadata": {
    "collapsed": false,
    "ExecuteTime": {
     "end_time": "2024-02-27T07:02:01.772210Z",
     "start_time": "2024-02-27T07:02:01.678118Z"
    }
   },
   "id": "9027ea75a685dcdc",
   "execution_count": 162
  },
  {
   "cell_type": "code",
   "outputs": [],
   "source": [
    "scaled_X_train=scaler.transform(X_train) # 검증이나 데이터에 사용할 때 새 변수명 부여해서 반복 사용"
   ],
   "metadata": {
    "collapsed": false,
    "ExecuteTime": {
     "end_time": "2024-02-27T07:02:01.917412Z",
     "start_time": "2024-02-27T07:02:01.907490Z"
    }
   },
   "id": "c2a9c28197dd65a2",
   "execution_count": 163
  },
  {
   "cell_type": "code",
   "outputs": [
    {
     "data": {
      "text/plain": "array([[-0.72884005, -0.63636914, -0.62153533, -0.59736719, -0.67541829],\n       [-0.47292581, -0.14224722, -0.15307703, -0.23368492, -0.32894947],\n       [-0.33624434, -0.03244235, -0.05938537, -0.27369684, -0.22204229],\n       [-0.72884005, -0.71323255, -0.69440662, -0.50318104, -0.67038078],\n       [-0.67067773, -0.52656427, -0.51743348, -0.9038159 , -0.61888622],\n       [-0.87424587, -0.96578376, -0.96507141, -0.76037109, -0.94117499],\n       [-0.35078493, -0.03244235, -0.05938537, -0.23395992, -0.22204229],\n       [-0.74338063, -0.74617401, -0.72563717, -0.74088075, -0.5956577 ],\n       [-0.85970529, -0.89990083, -0.90261031, -0.93162488, -0.94867528],\n       [-1.01383546, -1.54774958, -1.53763156, -1.48491692, -1.52944434],\n       [-0.90332703, -1.14147155, -1.14204455, -1.12054716, -1.00201693],\n       [-0.72884005, -0.58146671, -0.56948441, -0.68467843, -0.62000567],\n       [ 0.92878627,  1.01070393,  1.03368399,  1.0268282 ,  0.85800008],\n       [ 0.38787663,  0.54952347,  0.47153403,  0.75011343,  0.71997228],\n       [-0.37986609, -0.03244235, -0.05938537, -0.19422299, -0.09263423],\n       [ 1.80122118,  1.7244356 ,  1.72075616,  1.6349132 ,  1.9088249 ],\n       [-0.452569  , -0.4167594 , -0.41333164, -0.19071679, -0.56459305],\n       [-0.99057053, -1.40500324, -1.40229916, -1.38316838, -1.28719603],\n       [-0.23446027,  0.0993235 ,  0.06553684, -0.09027448, -0.05390137],\n       [ 0.78338045,  1.23031368,  1.24188768,  1.1305017 ,  0.71157643],\n       [-0.37986609,  0.02246009, -0.00733445, -0.00942565, -0.29525412],\n       [-0.81608354, -1.07558863, -1.06917326, -0.9024753 , -0.78926604],\n       [ 1.80122118,  1.66953316,  1.63747469,  1.40419152,  1.42477606],\n       [ 1.51040954,  1.23031368,  1.24188768,  1.1305017 ,  1.54578827],\n       [ 1.36500372,  1.34011855,  1.33557934,  1.40274779,  1.32917529],\n       [ 0.88516453,  0.9558015 ,  0.99204326,  1.04264047,  1.19349832],\n       [-0.95712719, -1.2732374 , -1.27737695, -1.11903468, -1.17547523],\n       [ 1.84484292,  1.34011855,  1.34598953,  1.5581893 ,  1.52843684],\n       [ 1.27776023,  1.23031368,  1.2314775 ,  1.57554843,  1.46630754],\n       [-0.68521831, -0.4167594 , -0.41333164, -0.50627475, -0.50750126],\n       [-0.78700238, -0.63636914, -0.62153533, -0.79931741, -0.41234827],\n       [-0.67067773, -0.58146671, -0.56948441, -0.36293306, -0.62000567],\n       [-0.6125154 , -0.47166184, -0.46538256, -0.54064925, -0.5634736 ],\n       [-0.7724618 , -0.74617401, -0.72563717, -0.66353811, -0.79715814],\n       [-0.53399626, -0.2410716 , -0.25717887, -0.44233817, -0.27577575],\n       [-0.68521831, -0.55950573, -0.54866404, -0.65126641, -0.61664733],\n       [-1.08973729, -2.1297154 , -2.15183244, -1.97165991, -1.86035285],\n       [ 1.80122118,  1.77933803,  1.78321727,  1.59531377,  1.60310395],\n       [ 1.27776023,  1.34011855,  1.35639971,  1.12995171,  1.06252303],\n       [-0.5601693 , -0.35087648, -0.34046035, -0.38307652, -0.3167475 ],\n       [ 0.51001752,  0.73619175,  0.73178864,  0.82797168,  0.9267901 ],\n       [ 1.33592256,  0.79109419,  0.81507012,  1.25143121,  1.71499267],\n       [-0.58343424, -0.30695453, -0.3092298 , -0.48410319, -0.58670213],\n       [ 2.09203281,  1.55972829,  1.57501358,  1.70235598,  1.19596111]])"
     },
     "execution_count": 164,
     "metadata": {},
     "output_type": "execute_result"
    }
   ],
   "source": [
    "scaled_X_train"
   ],
   "metadata": {
    "collapsed": false,
    "ExecuteTime": {
     "end_time": "2024-02-27T07:02:07.921093Z",
     "start_time": "2024-02-27T07:02:07.904953Z"
    }
   },
   "id": "1263ad96b86a4665",
   "execution_count": 164
  },
  {
   "cell_type": "code",
   "outputs": [
    {
     "ename": "ValueError",
     "evalue": "The number of classes has to be greater than one; got 1 class",
     "output_type": "error",
     "traceback": [
      "\u001B[0;31m---------------------------------------------------------------------------\u001B[0m",
      "\u001B[0;31mValueError\u001B[0m                                Traceback (most recent call last)",
      "Cell \u001B[0;32mIn[165], line 4\u001B[0m\n\u001B[1;32m      1\u001B[0m \u001B[38;5;28;01mfrom\u001B[39;00m \u001B[38;5;21;01msklearn\u001B[39;00m\u001B[38;5;21;01m.\u001B[39;00m\u001B[38;5;21;01msvm\u001B[39;00m \u001B[38;5;28;01mimport\u001B[39;00m SVC\n\u001B[1;32m      3\u001B[0m fishmodel2\u001B[38;5;241m=\u001B[39mSVC()\n\u001B[0;32m----> 4\u001B[0m \u001B[43mfishmodel2\u001B[49m\u001B[38;5;241;43m.\u001B[39;49m\u001B[43mfit\u001B[49m\u001B[43m(\u001B[49m\u001B[43mscaled_X_train\u001B[49m\u001B[43m,\u001B[49m\u001B[43my_train\u001B[49m\u001B[43m)\u001B[49m\n",
      "File \u001B[0;32m~/anaconda3/envs/EXAM_ML/lib/python3.9/site-packages/sklearn/base.py:1151\u001B[0m, in \u001B[0;36m_fit_context.<locals>.decorator.<locals>.wrapper\u001B[0;34m(estimator, *args, **kwargs)\u001B[0m\n\u001B[1;32m   1144\u001B[0m     estimator\u001B[38;5;241m.\u001B[39m_validate_params()\n\u001B[1;32m   1146\u001B[0m \u001B[38;5;28;01mwith\u001B[39;00m config_context(\n\u001B[1;32m   1147\u001B[0m     skip_parameter_validation\u001B[38;5;241m=\u001B[39m(\n\u001B[1;32m   1148\u001B[0m         prefer_skip_nested_validation \u001B[38;5;129;01mor\u001B[39;00m global_skip_validation\n\u001B[1;32m   1149\u001B[0m     )\n\u001B[1;32m   1150\u001B[0m ):\n\u001B[0;32m-> 1151\u001B[0m     \u001B[38;5;28;01mreturn\u001B[39;00m \u001B[43mfit_method\u001B[49m\u001B[43m(\u001B[49m\u001B[43mestimator\u001B[49m\u001B[43m,\u001B[49m\u001B[43m \u001B[49m\u001B[38;5;241;43m*\u001B[39;49m\u001B[43margs\u001B[49m\u001B[43m,\u001B[49m\u001B[43m \u001B[49m\u001B[38;5;241;43m*\u001B[39;49m\u001B[38;5;241;43m*\u001B[39;49m\u001B[43mkwargs\u001B[49m\u001B[43m)\u001B[49m\n",
      "File \u001B[0;32m~/anaconda3/envs/EXAM_ML/lib/python3.9/site-packages/sklearn/svm/_base.py:199\u001B[0m, in \u001B[0;36mBaseLibSVM.fit\u001B[0;34m(self, X, y, sample_weight)\u001B[0m\n\u001B[1;32m    189\u001B[0m \u001B[38;5;28;01melse\u001B[39;00m:\n\u001B[1;32m    190\u001B[0m     X, y \u001B[38;5;241m=\u001B[39m \u001B[38;5;28mself\u001B[39m\u001B[38;5;241m.\u001B[39m_validate_data(\n\u001B[1;32m    191\u001B[0m         X,\n\u001B[1;32m    192\u001B[0m         y,\n\u001B[0;32m   (...)\u001B[0m\n\u001B[1;32m    196\u001B[0m         accept_large_sparse\u001B[38;5;241m=\u001B[39m\u001B[38;5;28;01mFalse\u001B[39;00m,\n\u001B[1;32m    197\u001B[0m     )\n\u001B[0;32m--> 199\u001B[0m y \u001B[38;5;241m=\u001B[39m \u001B[38;5;28;43mself\u001B[39;49m\u001B[38;5;241;43m.\u001B[39;49m\u001B[43m_validate_targets\u001B[49m\u001B[43m(\u001B[49m\u001B[43my\u001B[49m\u001B[43m)\u001B[49m\n\u001B[1;32m    201\u001B[0m sample_weight \u001B[38;5;241m=\u001B[39m np\u001B[38;5;241m.\u001B[39masarray(\n\u001B[1;32m    202\u001B[0m     [] \u001B[38;5;28;01mif\u001B[39;00m sample_weight \u001B[38;5;129;01mis\u001B[39;00m \u001B[38;5;28;01mNone\u001B[39;00m \u001B[38;5;28;01melse\u001B[39;00m sample_weight, dtype\u001B[38;5;241m=\u001B[39mnp\u001B[38;5;241m.\u001B[39mfloat64\n\u001B[1;32m    203\u001B[0m )\n\u001B[1;32m    204\u001B[0m solver_type \u001B[38;5;241m=\u001B[39m LIBSVM_IMPL\u001B[38;5;241m.\u001B[39mindex(\u001B[38;5;28mself\u001B[39m\u001B[38;5;241m.\u001B[39m_impl)\n",
      "File \u001B[0;32m~/anaconda3/envs/EXAM_ML/lib/python3.9/site-packages/sklearn/svm/_base.py:747\u001B[0m, in \u001B[0;36mBaseSVC._validate_targets\u001B[0;34m(self, y)\u001B[0m\n\u001B[1;32m    745\u001B[0m \u001B[38;5;28mself\u001B[39m\u001B[38;5;241m.\u001B[39mclass_weight_ \u001B[38;5;241m=\u001B[39m compute_class_weight(\u001B[38;5;28mself\u001B[39m\u001B[38;5;241m.\u001B[39mclass_weight, classes\u001B[38;5;241m=\u001B[39m\u001B[38;5;28mcls\u001B[39m, y\u001B[38;5;241m=\u001B[39my_)\n\u001B[1;32m    746\u001B[0m \u001B[38;5;28;01mif\u001B[39;00m \u001B[38;5;28mlen\u001B[39m(\u001B[38;5;28mcls\u001B[39m) \u001B[38;5;241m<\u001B[39m \u001B[38;5;241m2\u001B[39m:\n\u001B[0;32m--> 747\u001B[0m     \u001B[38;5;28;01mraise\u001B[39;00m \u001B[38;5;167;01mValueError\u001B[39;00m(\n\u001B[1;32m    748\u001B[0m         \u001B[38;5;124m\"\u001B[39m\u001B[38;5;124mThe number of classes has to be greater than one; got \u001B[39m\u001B[38;5;132;01m%d\u001B[39;00m\u001B[38;5;124m class\u001B[39m\u001B[38;5;124m\"\u001B[39m\n\u001B[1;32m    749\u001B[0m         \u001B[38;5;241m%\u001B[39m \u001B[38;5;28mlen\u001B[39m(\u001B[38;5;28mcls\u001B[39m)\n\u001B[1;32m    750\u001B[0m     )\n\u001B[1;32m    752\u001B[0m \u001B[38;5;28mself\u001B[39m\u001B[38;5;241m.\u001B[39mclasses_ \u001B[38;5;241m=\u001B[39m \u001B[38;5;28mcls\u001B[39m\n\u001B[1;32m    754\u001B[0m \u001B[38;5;28;01mreturn\u001B[39;00m np\u001B[38;5;241m.\u001B[39masarray(y, dtype\u001B[38;5;241m=\u001B[39mnp\u001B[38;5;241m.\u001B[39mfloat64, order\u001B[38;5;241m=\u001B[39m\u001B[38;5;124m\"\u001B[39m\u001B[38;5;124mC\u001B[39m\u001B[38;5;124m\"\u001B[39m)\n",
      "\u001B[0;31mValueError\u001B[0m: The number of classes has to be greater than one; got 1 class"
     ]
    }
   ],
   "source": [
    "from sklearn.svm import SVC\n",
    "\n",
    "fishmodel2=SVC()\n",
    "fishmodel2.fit(scaled_X_train,y_train)"
   ],
   "metadata": {
    "collapsed": false,
    "ExecuteTime": {
     "end_time": "2024-02-27T07:02:08.162390Z",
     "start_time": "2024-02-27T07:02:08.122487Z"
    }
   },
   "id": "5f190a5d83f72cb",
   "execution_count": 165
  },
  {
   "cell_type": "code",
   "outputs": [
    {
     "ename": "ValueError",
     "evalue": "This solver needs samples of at least 2 classes in the data, but the data contains only one class: 'Perch'",
     "output_type": "error",
     "traceback": [
      "\u001B[0;31m---------------------------------------------------------------------------\u001B[0m",
      "\u001B[0;31mValueError\u001B[0m                                Traceback (most recent call last)",
      "Cell \u001B[0;32mIn[166], line 5\u001B[0m\n\u001B[1;32m      2\u001B[0m \u001B[38;5;28;01mfrom\u001B[39;00m \u001B[38;5;21;01msklearn\u001B[39;00m\u001B[38;5;21;01m.\u001B[39;00m\u001B[38;5;21;01mlinear_model\u001B[39;00m \u001B[38;5;28;01mimport\u001B[39;00m LogisticRegression\n\u001B[1;32m      4\u001B[0m fishmodel3 \u001B[38;5;241m=\u001B[39m LogisticRegression()\n\u001B[0;32m----> 5\u001B[0m \u001B[43mfishmodel3\u001B[49m\u001B[38;5;241;43m.\u001B[39;49m\u001B[43mfit\u001B[49m\u001B[43m(\u001B[49m\u001B[43mscaled_X_train\u001B[49m\u001B[43m,\u001B[49m\u001B[43my_train\u001B[49m\u001B[43m)\u001B[49m\n",
      "File \u001B[0;32m~/anaconda3/envs/EXAM_ML/lib/python3.9/site-packages/sklearn/base.py:1151\u001B[0m, in \u001B[0;36m_fit_context.<locals>.decorator.<locals>.wrapper\u001B[0;34m(estimator, *args, **kwargs)\u001B[0m\n\u001B[1;32m   1144\u001B[0m     estimator\u001B[38;5;241m.\u001B[39m_validate_params()\n\u001B[1;32m   1146\u001B[0m \u001B[38;5;28;01mwith\u001B[39;00m config_context(\n\u001B[1;32m   1147\u001B[0m     skip_parameter_validation\u001B[38;5;241m=\u001B[39m(\n\u001B[1;32m   1148\u001B[0m         prefer_skip_nested_validation \u001B[38;5;129;01mor\u001B[39;00m global_skip_validation\n\u001B[1;32m   1149\u001B[0m     )\n\u001B[1;32m   1150\u001B[0m ):\n\u001B[0;32m-> 1151\u001B[0m     \u001B[38;5;28;01mreturn\u001B[39;00m \u001B[43mfit_method\u001B[49m\u001B[43m(\u001B[49m\u001B[43mestimator\u001B[49m\u001B[43m,\u001B[49m\u001B[43m \u001B[49m\u001B[38;5;241;43m*\u001B[39;49m\u001B[43margs\u001B[49m\u001B[43m,\u001B[49m\u001B[43m \u001B[49m\u001B[38;5;241;43m*\u001B[39;49m\u001B[38;5;241;43m*\u001B[39;49m\u001B[43mkwargs\u001B[49m\u001B[43m)\u001B[49m\n",
      "File \u001B[0;32m~/anaconda3/envs/EXAM_ML/lib/python3.9/site-packages/sklearn/linear_model/_logistic.py:1252\u001B[0m, in \u001B[0;36mLogisticRegression.fit\u001B[0;34m(self, X, y, sample_weight)\u001B[0m\n\u001B[1;32m   1250\u001B[0m classes_ \u001B[38;5;241m=\u001B[39m \u001B[38;5;28mself\u001B[39m\u001B[38;5;241m.\u001B[39mclasses_\n\u001B[1;32m   1251\u001B[0m \u001B[38;5;28;01mif\u001B[39;00m n_classes \u001B[38;5;241m<\u001B[39m \u001B[38;5;241m2\u001B[39m:\n\u001B[0;32m-> 1252\u001B[0m     \u001B[38;5;28;01mraise\u001B[39;00m \u001B[38;5;167;01mValueError\u001B[39;00m(\n\u001B[1;32m   1253\u001B[0m         \u001B[38;5;124m\"\u001B[39m\u001B[38;5;124mThis solver needs samples of at least 2 classes\u001B[39m\u001B[38;5;124m\"\u001B[39m\n\u001B[1;32m   1254\u001B[0m         \u001B[38;5;124m\"\u001B[39m\u001B[38;5;124m in the data, but the data contains only one\u001B[39m\u001B[38;5;124m\"\u001B[39m\n\u001B[1;32m   1255\u001B[0m         \u001B[38;5;124m\"\u001B[39m\u001B[38;5;124m class: \u001B[39m\u001B[38;5;132;01m%r\u001B[39;00m\u001B[38;5;124m\"\u001B[39m\n\u001B[1;32m   1256\u001B[0m         \u001B[38;5;241m%\u001B[39m classes_[\u001B[38;5;241m0\u001B[39m]\n\u001B[1;32m   1257\u001B[0m     )\n\u001B[1;32m   1259\u001B[0m \u001B[38;5;28;01mif\u001B[39;00m \u001B[38;5;28mlen\u001B[39m(\u001B[38;5;28mself\u001B[39m\u001B[38;5;241m.\u001B[39mclasses_) \u001B[38;5;241m==\u001B[39m \u001B[38;5;241m2\u001B[39m:\n\u001B[1;32m   1260\u001B[0m     n_classes \u001B[38;5;241m=\u001B[39m \u001B[38;5;241m1\u001B[39m\n",
      "\u001B[0;31mValueError\u001B[0m: This solver needs samples of at least 2 classes in the data, but the data contains only one class: 'Perch'"
     ]
    }
   ],
   "source": [
    "## 방법 (3) : logistic regression\n",
    "from sklearn.linear_model import LogisticRegression\n",
    "\n",
    "fishmodel3 = LogisticRegression()\n",
    "fishmodel3.fit(scaled_X_train,y_train)"
   ],
   "metadata": {
    "collapsed": false,
    "ExecuteTime": {
     "end_time": "2024-02-27T07:02:08.324352Z",
     "start_time": "2024-02-27T07:02:08.294822Z"
    }
   },
   "id": "9df470a62584e22e",
   "execution_count": 166
  },
  {
   "cell_type": "code",
   "outputs": [
    {
     "name": "stdout",
     "output_type": "stream",
     "text": [
      "KNN 1.0\n"
     ]
    },
    {
     "ename": "AttributeError",
     "evalue": "'SVC' object has no attribute 'support_vectors_'",
     "output_type": "error",
     "traceback": [
      "\u001B[0;31m---------------------------------------------------------------------------\u001B[0m",
      "\u001B[0;31mAttributeError\u001B[0m                            Traceback (most recent call last)",
      "Cell \u001B[0;32mIn[167], line 2\u001B[0m\n\u001B[1;32m      1\u001B[0m \u001B[38;5;28mprint\u001B[39m(\u001B[38;5;124m'\u001B[39m\u001B[38;5;124mKNN\u001B[39m\u001B[38;5;124m'\u001B[39m, fishModel\u001B[38;5;241m.\u001B[39mscore(scaled_X_test, y_test))\n\u001B[0;32m----> 2\u001B[0m \u001B[38;5;28mprint\u001B[39m(\u001B[38;5;124m'\u001B[39m\u001B[38;5;124mSVC\u001B[39m\u001B[38;5;124m'\u001B[39m, \u001B[43mfishmodel2\u001B[49m\u001B[38;5;241;43m.\u001B[39;49m\u001B[43mscore\u001B[49m\u001B[43m(\u001B[49m\u001B[43mscaled_X_test\u001B[49m\u001B[43m,\u001B[49m\u001B[43m \u001B[49m\u001B[43my_test\u001B[49m\u001B[43m)\u001B[49m)\n\u001B[1;32m      3\u001B[0m \u001B[38;5;28mprint\u001B[39m(\u001B[38;5;124m'\u001B[39m\u001B[38;5;124mLogisticRegression\u001B[39m\u001B[38;5;124m'\u001B[39m, fishmodel3\u001B[38;5;241m.\u001B[39mscore(scaled_X_test, y_test))\n",
      "File \u001B[0;32m~/anaconda3/envs/EXAM_ML/lib/python3.9/site-packages/sklearn/base.py:705\u001B[0m, in \u001B[0;36mClassifierMixin.score\u001B[0;34m(self, X, y, sample_weight)\u001B[0m\n\u001B[1;32m    680\u001B[0m \u001B[38;5;250m\u001B[39m\u001B[38;5;124;03m\"\"\"\u001B[39;00m\n\u001B[1;32m    681\u001B[0m \u001B[38;5;124;03mReturn the mean accuracy on the given test data and labels.\u001B[39;00m\n\u001B[1;32m    682\u001B[0m \n\u001B[0;32m   (...)\u001B[0m\n\u001B[1;32m    701\u001B[0m \u001B[38;5;124;03m    Mean accuracy of ``self.predict(X)`` w.r.t. `y`.\u001B[39;00m\n\u001B[1;32m    702\u001B[0m \u001B[38;5;124;03m\"\"\"\u001B[39;00m\n\u001B[1;32m    703\u001B[0m \u001B[38;5;28;01mfrom\u001B[39;00m \u001B[38;5;21;01m.\u001B[39;00m\u001B[38;5;21;01mmetrics\u001B[39;00m \u001B[38;5;28;01mimport\u001B[39;00m accuracy_score\n\u001B[0;32m--> 705\u001B[0m \u001B[38;5;28;01mreturn\u001B[39;00m accuracy_score(y, \u001B[38;5;28;43mself\u001B[39;49m\u001B[38;5;241;43m.\u001B[39;49m\u001B[43mpredict\u001B[49m\u001B[43m(\u001B[49m\u001B[43mX\u001B[49m\u001B[43m)\u001B[49m, sample_weight\u001B[38;5;241m=\u001B[39msample_weight)\n",
      "File \u001B[0;32m~/anaconda3/envs/EXAM_ML/lib/python3.9/site-packages/sklearn/svm/_base.py:818\u001B[0m, in \u001B[0;36mBaseSVC.predict\u001B[0;34m(self, X)\u001B[0m\n\u001B[1;32m    816\u001B[0m     y \u001B[38;5;241m=\u001B[39m np\u001B[38;5;241m.\u001B[39margmax(\u001B[38;5;28mself\u001B[39m\u001B[38;5;241m.\u001B[39mdecision_function(X), axis\u001B[38;5;241m=\u001B[39m\u001B[38;5;241m1\u001B[39m)\n\u001B[1;32m    817\u001B[0m \u001B[38;5;28;01melse\u001B[39;00m:\n\u001B[0;32m--> 818\u001B[0m     y \u001B[38;5;241m=\u001B[39m \u001B[38;5;28;43msuper\u001B[39;49m\u001B[43m(\u001B[49m\u001B[43m)\u001B[49m\u001B[38;5;241;43m.\u001B[39;49m\u001B[43mpredict\u001B[49m\u001B[43m(\u001B[49m\u001B[43mX\u001B[49m\u001B[43m)\u001B[49m\n\u001B[1;32m    819\u001B[0m \u001B[38;5;28;01mreturn\u001B[39;00m \u001B[38;5;28mself\u001B[39m\u001B[38;5;241m.\u001B[39mclasses_\u001B[38;5;241m.\u001B[39mtake(np\u001B[38;5;241m.\u001B[39masarray(y, dtype\u001B[38;5;241m=\u001B[39mnp\u001B[38;5;241m.\u001B[39mintp))\n",
      "File \u001B[0;32m~/anaconda3/envs/EXAM_ML/lib/python3.9/site-packages/sklearn/svm/_base.py:431\u001B[0m, in \u001B[0;36mBaseLibSVM.predict\u001B[0;34m(self, X)\u001B[0m\n\u001B[1;32m    415\u001B[0m \u001B[38;5;28;01mdef\u001B[39;00m \u001B[38;5;21mpredict\u001B[39m(\u001B[38;5;28mself\u001B[39m, X):\n\u001B[1;32m    416\u001B[0m \u001B[38;5;250m    \u001B[39m\u001B[38;5;124;03m\"\"\"Perform regression on samples in X.\u001B[39;00m\n\u001B[1;32m    417\u001B[0m \n\u001B[1;32m    418\u001B[0m \u001B[38;5;124;03m    For an one-class model, +1 (inlier) or -1 (outlier) is returned.\u001B[39;00m\n\u001B[0;32m   (...)\u001B[0m\n\u001B[1;32m    429\u001B[0m \u001B[38;5;124;03m        The predicted values.\u001B[39;00m\n\u001B[1;32m    430\u001B[0m \u001B[38;5;124;03m    \"\"\"\u001B[39;00m\n\u001B[0;32m--> 431\u001B[0m     X \u001B[38;5;241m=\u001B[39m \u001B[38;5;28;43mself\u001B[39;49m\u001B[38;5;241;43m.\u001B[39;49m\u001B[43m_validate_for_predict\u001B[49m\u001B[43m(\u001B[49m\u001B[43mX\u001B[49m\u001B[43m)\u001B[49m\n\u001B[1;32m    432\u001B[0m     predict \u001B[38;5;241m=\u001B[39m \u001B[38;5;28mself\u001B[39m\u001B[38;5;241m.\u001B[39m_sparse_predict \u001B[38;5;28;01mif\u001B[39;00m \u001B[38;5;28mself\u001B[39m\u001B[38;5;241m.\u001B[39m_sparse \u001B[38;5;28;01melse\u001B[39;00m \u001B[38;5;28mself\u001B[39m\u001B[38;5;241m.\u001B[39m_dense_predict\n\u001B[1;32m    433\u001B[0m     \u001B[38;5;28;01mreturn\u001B[39;00m predict(X)\n",
      "File \u001B[0;32m~/anaconda3/envs/EXAM_ML/lib/python3.9/site-packages/sklearn/svm/_base.py:640\u001B[0m, in \u001B[0;36mBaseLibSVM._validate_for_predict\u001B[0;34m(self, X)\u001B[0m\n\u001B[1;32m    633\u001B[0m         \u001B[38;5;28;01mraise\u001B[39;00m \u001B[38;5;167;01mValueError\u001B[39;00m(\n\u001B[1;32m    634\u001B[0m             \u001B[38;5;124m\"\u001B[39m\u001B[38;5;124mX.shape[1] = \u001B[39m\u001B[38;5;132;01m%d\u001B[39;00m\u001B[38;5;124m should be equal to \u001B[39m\u001B[38;5;132;01m%d\u001B[39;00m\u001B[38;5;124m, \u001B[39m\u001B[38;5;124m\"\u001B[39m\n\u001B[1;32m    635\u001B[0m             \u001B[38;5;124m\"\u001B[39m\u001B[38;5;124mthe number of samples at training time\u001B[39m\u001B[38;5;124m\"\u001B[39m\n\u001B[1;32m    636\u001B[0m             \u001B[38;5;241m%\u001B[39m (X\u001B[38;5;241m.\u001B[39mshape[\u001B[38;5;241m1\u001B[39m], \u001B[38;5;28mself\u001B[39m\u001B[38;5;241m.\u001B[39mshape_fit_[\u001B[38;5;241m0\u001B[39m])\n\u001B[1;32m    637\u001B[0m         )\n\u001B[1;32m    638\u001B[0m \u001B[38;5;66;03m# Fixes https://nvd.nist.gov/vuln/detail/CVE-2020-28975\u001B[39;00m\n\u001B[1;32m    639\u001B[0m \u001B[38;5;66;03m# Check that _n_support is consistent with support_vectors\u001B[39;00m\n\u001B[0;32m--> 640\u001B[0m sv \u001B[38;5;241m=\u001B[39m \u001B[38;5;28;43mself\u001B[39;49m\u001B[38;5;241;43m.\u001B[39;49m\u001B[43msupport_vectors_\u001B[49m\n\u001B[1;32m    641\u001B[0m \u001B[38;5;28;01mif\u001B[39;00m \u001B[38;5;129;01mnot\u001B[39;00m \u001B[38;5;28mself\u001B[39m\u001B[38;5;241m.\u001B[39m_sparse \u001B[38;5;129;01mand\u001B[39;00m sv\u001B[38;5;241m.\u001B[39msize \u001B[38;5;241m>\u001B[39m \u001B[38;5;241m0\u001B[39m \u001B[38;5;129;01mand\u001B[39;00m \u001B[38;5;28mself\u001B[39m\u001B[38;5;241m.\u001B[39mn_support_\u001B[38;5;241m.\u001B[39msum() \u001B[38;5;241m!=\u001B[39m sv\u001B[38;5;241m.\u001B[39mshape[\u001B[38;5;241m0\u001B[39m]:\n\u001B[1;32m    642\u001B[0m     \u001B[38;5;28;01mraise\u001B[39;00m \u001B[38;5;167;01mValueError\u001B[39;00m(\n\u001B[1;32m    643\u001B[0m         \u001B[38;5;124mf\u001B[39m\u001B[38;5;124m\"\u001B[39m\u001B[38;5;124mThe internal representation of \u001B[39m\u001B[38;5;132;01m{\u001B[39;00m\u001B[38;5;28mself\u001B[39m\u001B[38;5;241m.\u001B[39m\u001B[38;5;18m__class__\u001B[39m\u001B[38;5;241m.\u001B[39m\u001B[38;5;18m__name__\u001B[39m\u001B[38;5;132;01m}\u001B[39;00m\u001B[38;5;124m was altered\u001B[39m\u001B[38;5;124m\"\u001B[39m\n\u001B[1;32m    644\u001B[0m     )\n",
      "\u001B[0;31mAttributeError\u001B[0m: 'SVC' object has no attribute 'support_vectors_'"
     ]
    }
   ],
   "source": [
    "print('KNN', fishModel.score(scaled_X_test, y_test))\n",
    "print('SVC', fishmodel2.score(scaled_X_test, y_test))\n",
    "print('LogisticRegression', fishmodel3.score(scaled_X_test, y_test))"
   ],
   "metadata": {
    "collapsed": false,
    "ExecuteTime": {
     "end_time": "2024-02-27T07:02:08.471337Z",
     "start_time": "2024-02-27T07:02:08.407495Z"
    }
   },
   "id": "fd34b55df91df4fd",
   "execution_count": 167
  },
  {
   "cell_type": "code",
   "outputs": [],
   "source": [],
   "metadata": {
    "collapsed": false,
    "ExecuteTime": {
     "end_time": "2024-02-27T07:02:08.623459Z",
     "start_time": "2024-02-27T07:02:08.593096Z"
    }
   },
   "id": "8bafb04816b347a0",
   "execution_count": 167
  },
  {
   "cell_type": "markdown",
   "source": [
    "# KNNRegression"
   ],
   "metadata": {
    "collapsed": false
   },
   "id": "b354c356a3e44f1d"
  },
  {
   "cell_type": "code",
   "outputs": [
    {
     "name": "stdout",
     "output_type": "stream",
     "text": [
      "피쳐에 할당되는 가중치 (x항)계수 : [0.02487985]\n",
      "수식에 사용되는 절편          : 18.382802913636723\n"
     ]
    }
   ],
   "source": [
    "# 학습 후 속성 확인\n",
    "print(f'피쳐에 할당되는 가중치 (x항)계수 : {model.coef_}')\n",
    "print(f'수식에 사용되는 절편          : {model.intercept_}')"
   ],
   "metadata": {
    "collapsed": false,
    "ExecuteTime": {
     "end_time": "2024-02-27T07:02:11.755548Z",
     "start_time": "2024-02-27T07:02:11.743991Z"
    }
   },
   "id": "2331dbdcc6132261",
   "execution_count": 168
  },
  {
   "cell_type": "code",
   "outputs": [
    {
     "data": {
      "text/plain": "0     18.529594\n1     19.178958\n2     19.377997\n3     19.664115\n4     20.124392\n5     20.870787\n6     20.323431\n7     20.373191\n8     20.497590\n9     20.497590\n10    21.119586\n11    21.243985\n12    21.492784\n13    21.617183\n14    21.368384\n15    21.368384\n16    21.617183\n17    21.741582\n18    21.119586\n19    21.617183\n20    22.114780\n21    21.990380\n22    22.114780\n23    22.612377\n24    23.980768\n25    21.990380\n26    23.060214\n27    22.861175\n28    23.284132\n29    23.806609\n30    25.846756\n31    24.851563\n32    24.975962\n33    24.602764\n34    24.602764\n35    25.846756\n36    26.344353\n37    31.171043\n38    32.215997\n39    39.281873\n40    35.425497\n41    35.798695\n42    35.798695\n43    35.549896\n44    40.774664\n45    34.554702\n46    38.784276\n47    39.530671\n48    40.774664\n49    43.635846\n50    38.784276\n51    45.750633\n52    43.262648\n53    45.750633\n54    43.262648\n55    43.262648\nName: Weight, dtype: float64"
     },
     "execution_count": 169,
     "metadata": {},
     "output_type": "execute_result"
    }
   ],
   "source": [
    "(newDF[newDF.columns[1]]*model.coef_) + model.intercept_"
   ],
   "metadata": {
    "collapsed": false,
    "ExecuteTime": {
     "end_time": "2024-02-27T07:02:11.887688Z",
     "start_time": "2024-02-27T07:02:11.858117Z"
    }
   },
   "id": "3a2cb2845ae98a4f",
   "execution_count": 169
  },
  {
   "cell_type": "code",
   "outputs": [
    {
     "data": {
      "text/plain": "0.9190210732447819"
     },
     "execution_count": 170,
     "metadata": {},
     "output_type": "execute_result"
    }
   ],
   "source": [
    "# 결정계수 : 1.0에 가까울수록 잘 만들어진 모델\n",
    "model.score(newDF[[newDF.columns[1]]], newDF[newDF.columns[2]])\n"
   ],
   "metadata": {
    "collapsed": false,
    "ExecuteTime": {
     "end_time": "2024-02-27T07:02:12.007668Z",
     "start_time": "2024-02-27T07:02:11.952757Z"
    }
   },
   "id": "3e6089782d83ca35",
   "execution_count": 170
  },
  {
   "cell_type": "code",
   "outputs": [
    {
     "data": {
      "text/plain": "array([18.5, 19.2, 19.4, 19.7, 20.1, 20.9, 20.3, 20.4, 20.5, 20.5, 21.1,\n       21.2, 21.5, 21.6, 21.4, 21.4, 21.6, 21.7, 21.1, 21.6, 22.1, 22. ,\n       22.1, 22.6, 24. , 22. , 23.1, 22.9, 23.3, 23.8, 25.8, 24.9, 25. ,\n       24.6, 24.6, 25.8, 26.3, 31.2, 32.2, 39.3, 35.4, 35.8, 35.8, 35.5,\n       40.8, 34.6, 38.8, 39.5, 40.8, 43.6, 38.8, 45.8, 43.3, 45.8, 43.3,\n       43.3])"
     },
     "execution_count": 171,
     "metadata": {},
     "output_type": "execute_result"
    }
   ],
   "source": [
    "y_pre = model.predict(newDF[[newDF.columns[1]]])\n",
    "y_pre = np.round(y_pre,1)\n",
    "y_pre"
   ],
   "metadata": {
    "collapsed": false,
    "ExecuteTime": {
     "end_time": "2024-02-27T07:02:12.121235Z",
     "start_time": "2024-02-27T07:02:12.049555Z"
    }
   },
   "id": "22870200ac71880",
   "execution_count": 171
  },
  {
   "cell_type": "code",
   "outputs": [
    {
     "data": {
      "text/plain": "0     10.1\n1      5.5\n2      4.4\n3      3.5\n4      2.7\n5      2.9\n6      1.6\n7      1.4\n8      0.9\n9      0.5\n10     0.1\n11     0.2\n12     0.5\n13     0.3\n14    -0.6\n15    -0.6\n16    -0.4\n17    -0.3\n18    -0.9\n19    -0.9\n20    -0.4\n21    -0.7\n22    -0.9\n23    -0.9\n24     0.0\n25    -2.0\n26    -1.5\n27    -2.1\n28    -2.3\n29    -2.7\n30    -1.5\n31    -2.6\n32    -2.5\n33    -2.9\n34    -3.4\n35    -2.9\n36    -3.7\n37    -1.6\n38    -2.3\n39     4.3\n40    -1.1\n41    -0.2\n42    -1.2\n43    -1.5\n44     1.8\n45    -4.4\n46    -0.2\n47    -0.5\n48     0.8\n49     3.6\n50    -1.2\n51     3.8\n52     0.3\n53     2.8\n54    -0.2\n55    -0.7\nName: Length, dtype: float64"
     },
     "execution_count": 172,
     "metadata": {},
     "output_type": "execute_result"
    }
   ],
   "source": [
    "# 오차 계산 => 예측값 - 정답\n",
    "errorSR = y_pre - newDF[newDF.columns[2]]\n",
    "errorSR"
   ],
   "metadata": {
    "collapsed": false,
    "ExecuteTime": {
     "end_time": "2024-02-27T07:02:12.266122Z",
     "start_time": "2024-02-27T07:02:12.186635Z"
    }
   },
   "id": "9f39ff65d9601b78",
   "execution_count": 172
  },
  {
   "cell_type": "code",
   "outputs": [
    {
     "data": {
      "text/plain": "(array([18.5, 19.2, 19.4, 19.7, 20.1, 20.9, 20.3, 20.4, 20.5, 20.5, 21.1,\n        21.2, 21.5, 21.6, 21.4, 21.4, 21.6, 21.7, 21.1, 21.6, 22.1, 22. ,\n        22.1, 22.6, 24. , 22. , 23.1, 22.9, 23.3, 23.8, 25.8, 24.9, 25. ,\n        24.6, 24.6, 25.8, 26.3, 31.2, 32.2, 39.3, 35.4, 35.8, 35.8, 35.5,\n        40.8, 34.6, 38.8, 39.5, 40.8, 43.6, 38.8, 45.8, 43.3, 45.8, 43.3,\n        43.3]),\n 0      8.4\n 1     13.7\n 2     15.0\n 3     16.2\n 4     17.4\n 5     18.0\n 6     18.7\n 7     19.0\n 8     19.6\n 9     20.0\n 10    21.0\n 11    21.0\n 12    21.0\n 13    21.3\n 14    22.0\n 15    22.0\n 16    22.0\n 17    22.0\n 18    22.0\n 19    22.5\n 20    22.5\n 21    22.7\n 22    23.0\n 23    23.5\n 24    24.0\n 25    24.0\n 26    24.6\n 27    25.0\n 28    25.6\n 29    26.5\n 30    27.3\n 31    27.5\n 32    27.5\n 33    27.5\n 34    28.0\n 35    28.7\n 36    30.0\n 37    32.8\n 38    34.5\n 39    35.0\n 40    36.5\n 41    36.0\n 42    37.0\n 43    37.0\n 44    39.0\n 45    39.0\n 46    39.0\n 47    40.0\n 48    40.0\n 49    40.0\n 50    40.0\n 51    42.0\n 52    43.0\n 53    43.0\n 54    43.5\n 55    44.0\n Name: Length, dtype: float64)"
     },
     "execution_count": 173,
     "metadata": {},
     "output_type": "execute_result"
    }
   ],
   "source": [
    "np.round(y_pre,1), newDF[newDF.columns[2]]"
   ],
   "metadata": {
    "collapsed": false,
    "ExecuteTime": {
     "end_time": "2024-02-27T07:02:12.336491Z",
     "start_time": "2024-02-27T07:02:12.308899Z"
    }
   },
   "id": "bb066ba6c6a8868",
   "execution_count": 173
  },
  {
   "cell_type": "code",
   "outputs": [
    {
     "data": {
      "text/plain": "6.483571428571426"
     },
     "execution_count": 174,
     "metadata": {},
     "output_type": "execute_result"
    }
   ],
   "source": [
    "(errorSR**2).sum() / errorSR.shape[0] # 분산\n"
   ],
   "metadata": {
    "collapsed": false,
    "ExecuteTime": {
     "end_time": "2024-02-27T07:02:12.352580Z",
     "start_time": "2024-02-27T07:02:12.338536Z"
    }
   },
   "id": "48ded59e0fba787c",
   "execution_count": 174
  },
  {
   "cell_type": "code",
   "outputs": [
    {
     "data": {
      "text/plain": "24    0.0\nName: Length, dtype: float64"
     },
     "execution_count": 175,
     "metadata": {},
     "output_type": "execute_result"
    }
   ],
   "source": [
    "# 정답과 완벽히 똑같은 갯수 찾기\n",
    "errorSR[(y_pre-newDF[newDF.columns[2]]) == 0.0]"
   ],
   "metadata": {
    "collapsed": false,
    "ExecuteTime": {
     "end_time": "2024-02-27T07:02:12.422184Z",
     "start_time": "2024-02-27T07:02:12.408002Z"
    }
   },
   "id": "26305360f9a9abf5",
   "execution_count": 175
  },
  {
   "cell_type": "code",
   "outputs": [
    {
     "data": {
      "text/plain": "0.918891577369194"
     },
     "execution_count": 176,
     "metadata": {},
     "output_type": "execute_result"
    }
   ],
   "source": [
    "from sklearn.metrics import mean_squared_error, mean_absolute_error, r2_score\n",
    "\n",
    "# 결정 계수 값\n",
    "r2_score(newDF[newDF.columns[2]], y_pre)"
   ],
   "metadata": {
    "collapsed": false,
    "ExecuteTime": {
     "end_time": "2024-02-27T07:02:12.529653Z",
     "start_time": "2024-02-27T07:02:12.479187Z"
    }
   },
   "id": "8b92ddf58ddb8f64",
   "execution_count": 176
  },
  {
   "cell_type": "code",
   "outputs": [
    {
     "data": {
      "text/plain": "6.483571428571426"
     },
     "execution_count": 177,
     "metadata": {},
     "output_type": "execute_result"
    }
   ],
   "source": [
    "# 평균제곱오차 : MSE\n",
    "mean_squared_error(newDF[newDF.columns[2]], y_pre)"
   ],
   "metadata": {
    "collapsed": false,
    "ExecuteTime": {
     "end_time": "2024-02-27T07:02:12.641645Z",
     "start_time": "2024-02-27T07:02:12.576571Z"
    }
   },
   "id": "14c4849ec2bb2c0c",
   "execution_count": 177
  },
  {
   "cell_type": "code",
   "outputs": [
    {
     "data": {
      "text/plain": "2.5462858104642194"
     },
     "execution_count": 178,
     "metadata": {},
     "output_type": "execute_result"
    }
   ],
   "source": [
    "# 루트평균제곱오차 : RMSE - 1.4 버전에 추가\n",
    "# root_mean_squared_eroor(perchDF.Length, y_pre) 아래 식으로도 가능\n",
    "mean_squared_error(newDF[newDF.columns[2]], y_pre, squared=False)"
   ],
   "metadata": {
    "collapsed": false,
    "ExecuteTime": {
     "end_time": "2024-02-27T07:02:12.720730Z",
     "start_time": "2024-02-27T07:02:12.675559Z"
    }
   },
   "id": "b2051ae358733da2",
   "execution_count": 178
  },
  {
   "cell_type": "code",
   "outputs": [
    {
     "data": {
      "text/plain": "1.8535714285714282"
     },
     "execution_count": 179,
     "metadata": {},
     "output_type": "execute_result"
    }
   ],
   "source": [
    "# 평균절대값오차\n",
    "mean_absolute_error(newDF[newDF.columns[2]], y_pre)"
   ],
   "metadata": {
    "collapsed": false,
    "ExecuteTime": {
     "end_time": "2024-02-27T07:02:12.906647Z",
     "start_time": "2024-02-27T07:02:12.806767Z"
    }
   },
   "id": "9560e8ef3ff5342c",
   "execution_count": 179
  },
  {
   "cell_type": "code",
   "outputs": [],
   "source": [],
   "metadata": {
    "collapsed": false,
    "ExecuteTime": {
     "end_time": "2024-02-27T07:02:12.951825Z",
     "start_time": "2024-02-27T07:02:12.865615Z"
    }
   },
   "id": "333e1fef1b55f34",
   "execution_count": 179
  },
  {
   "cell_type": "code",
   "outputs": [],
   "source": [],
   "metadata": {
    "collapsed": false,
    "ExecuteTime": {
     "end_time": "2024-02-27T07:02:13.008936Z",
     "start_time": "2024-02-27T07:02:12.955784Z"
    }
   },
   "id": "ba38bb1ca827018e",
   "execution_count": 179
  },
  {
   "cell_type": "code",
   "outputs": [],
   "source": [],
   "metadata": {
    "collapsed": false,
    "ExecuteTime": {
     "end_time": "2024-02-27T07:02:13.061493Z",
     "start_time": "2024-02-27T07:02:12.999287Z"
    }
   },
   "id": "83a0dd2254556d81",
   "execution_count": 179
  },
  {
   "cell_type": "code",
   "outputs": [],
   "source": [],
   "metadata": {
    "collapsed": false,
    "ExecuteTime": {
     "end_time": "2024-02-27T07:02:13.131732Z",
     "start_time": "2024-02-27T07:02:13.093020Z"
    }
   },
   "id": "fb376b641ee722d3",
   "execution_count": 179
  },
  {
   "cell_type": "code",
   "outputs": [],
   "source": [],
   "metadata": {
    "collapsed": false,
    "ExecuteTime": {
     "end_time": "2024-02-27T07:02:13.240954Z",
     "start_time": "2024-02-27T07:02:13.164784Z"
    }
   },
   "id": "b4cabfa16c966801",
   "execution_count": 179
  },
  {
   "cell_type": "code",
   "outputs": [],
   "source": [],
   "metadata": {
    "collapsed": false,
    "ExecuteTime": {
     "end_time": "2024-02-27T07:02:13.347446Z",
     "start_time": "2024-02-27T07:02:13.245250Z"
    }
   },
   "id": "d44ac337a857703c",
   "execution_count": 179
  },
  {
   "cell_type": "code",
   "outputs": [],
   "source": [],
   "metadata": {
    "collapsed": false
   },
   "id": "2f63c46617599ede"
  }
 ],
 "metadata": {
  "kernelspec": {
   "display_name": "Python 3",
   "language": "python",
   "name": "python3"
  },
  "language_info": {
   "codemirror_mode": {
    "name": "ipython",
    "version": 2
   },
   "file_extension": ".py",
   "mimetype": "text/x-python",
   "name": "python",
   "nbconvert_exporter": "python",
   "pygments_lexer": "ipython2",
   "version": "2.7.6"
  }
 },
 "nbformat": 4,
 "nbformat_minor": 5
}
