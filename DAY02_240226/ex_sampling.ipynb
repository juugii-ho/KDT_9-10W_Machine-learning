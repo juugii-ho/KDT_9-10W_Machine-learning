{
 "cells": [
  {
   "cell_type": "markdown",
   "source": [
    "### 표본추출/샘플링\n",
    "- 전체 데이터에서 일부 데이터를 추출\n",
    "- pandas.DataFrame.sample() 메서드\n",
    "- 복원추출 : 추출된 데이터를 다시 추가해서 추출하는 방식\n",
    "- 비복원추출 : 추출된 데이터를 제거 후 남은 데이터에서 추출하는 방식 - default가 비복원"
   ],
   "metadata": {
    "collapsed": false
   },
   "id": "e16bd5aa89129a7b"
  },
  {
   "cell_type": "code",
   "outputs": [],
   "source": [
    "import pandas as pd"
   ],
   "metadata": {
    "collapsed": false,
    "ExecuteTime": {
     "end_time": "2024-02-26T01:16:20.085113Z",
     "start_time": "2024-02-26T01:16:20.083235Z"
    }
   },
   "id": "d534daa82e8c8d2e",
   "execution_count": 3
  },
  {
   "cell_type": "code",
   "outputs": [
    {
     "data": {
      "text/plain": "   kor  math  eng\n0   10    11  111\n1   20    22  222\n2   30    33  333",
      "text/html": "<div>\n<style scoped>\n    .dataframe tbody tr th:only-of-type {\n        vertical-align: middle;\n    }\n\n    .dataframe tbody tr th {\n        vertical-align: top;\n    }\n\n    .dataframe thead th {\n        text-align: right;\n    }\n</style>\n<table border=\"1\" class=\"dataframe\">\n  <thead>\n    <tr style=\"text-align: right;\">\n      <th></th>\n      <th>kor</th>\n      <th>math</th>\n      <th>eng</th>\n    </tr>\n  </thead>\n  <tbody>\n    <tr>\n      <th>0</th>\n      <td>10</td>\n      <td>11</td>\n      <td>111</td>\n    </tr>\n    <tr>\n      <th>1</th>\n      <td>20</td>\n      <td>22</td>\n      <td>222</td>\n    </tr>\n    <tr>\n      <th>2</th>\n      <td>30</td>\n      <td>33</td>\n      <td>333</td>\n    </tr>\n  </tbody>\n</table>\n</div>"
     },
     "execution_count": 4,
     "metadata": {},
     "output_type": "execute_result"
    }
   ],
   "source": [
    "# 임의의 데이터 생성\n",
    "dataDF=pd.DataFrame({'kor':[10,20,30], \n",
    "                     'math':[11,22,33],\n",
    "                     'eng':[111,222,333]})\n",
    "\n",
    "dataDF"
   ],
   "metadata": {
    "collapsed": false,
    "ExecuteTime": {
     "end_time": "2024-02-26T01:17:11.097303Z",
     "start_time": "2024-02-26T01:17:11.087835Z"
    }
   },
   "id": "7c7a339d9a38fe27",
   "execution_count": 4
  },
  {
   "cell_type": "code",
   "outputs": [
    {
     "name": "stdout",
     "output_type": "stream",
     "text": [
      "[1]번\n",
      "   math  kor  eng\n",
      "0    11   10  111\n",
      "1    22   20  222\n",
      "2    33   30  333\n",
      "[2]번\n",
      "   eng  kor  math\n",
      "0  111   10    11\n",
      "1  222   20    22\n",
      "2  333   30    33\n",
      "[3]번\n",
      "   eng  kor  math\n",
      "0  111   10    11\n",
      "1  222   20    22\n",
      "2  333   30    33\n",
      "[4]번\n",
      "   kor  math  eng\n",
      "0   10    11  111\n",
      "1   20    22  222\n",
      "2   30    33  333\n",
      "[5]번\n",
      "   math  eng  kor\n",
      "0    11  111   10\n",
      "1    22  222   20\n",
      "2    33  333   30\n"
     ]
    }
   ],
   "source": [
    "# 1개의 샘플/표본 데이터 추출 => [기본] 비복원 - 전체 데이터 수 초과 불가\n",
    "# 추출 기준 축(axis)로 설정\n",
    "for cnt in range(1,6):\n",
    "    print(f'[{cnt}]번')\n",
    "    print(dataDF.sample(n=3, axis='columns')) # 기본이 n개 행 단위로 추출\n",
    "    # 비복원이므로 n이 행의 수를 넘어가면 에러"
   ],
   "metadata": {
    "collapsed": false,
    "ExecuteTime": {
     "end_time": "2024-02-26T01:21:04.062997Z",
     "start_time": "2024-02-26T01:21:04.058499Z"
    }
   },
   "id": "45d2177a28e8870f",
   "execution_count": 7
  },
  {
   "cell_type": "code",
   "outputs": [
    {
     "name": "stdout",
     "output_type": "stream",
     "text": [
      "[1]번\n",
      "   kor  eng  kor  eng\n",
      "0   10  111   10  111\n",
      "1   20  222   20  222\n",
      "2   30  333   30  333\n",
      "[2]번\n",
      "   math  eng  math  math\n",
      "0    11  111    11    11\n",
      "1    22  222    22    22\n",
      "2    33  333    33    33\n",
      "[3]번\n",
      "   kor  math  eng  math\n",
      "0   10    11  111    11\n",
      "1   20    22  222    22\n",
      "2   30    33  333    33\n",
      "[4]번\n",
      "   kor  eng  math  math\n",
      "0   10  111    11    11\n",
      "1   20  222    22    22\n",
      "2   30  333    33    33\n",
      "[5]번\n",
      "   math  kor  eng  math\n",
      "0    11   10  111    11\n",
      "1    22   20  222    22\n",
      "2    33   30  333    33\n"
     ]
    }
   ],
   "source": [
    "# 1개의 샘플/표본 데이터 추출 => [설정] 복원 - replace 매개변수 True 설정\n",
    "# 추출 기준 축(axis)로 설정\n",
    "for cnt in range(1,6):\n",
    "    print(f'[{cnt}]번')\n",
    "    print(dataDF.sample(n=4, axis='columns', replace=True))\n",
    "    # 복원이므로 n이 행의 수를 넘어가도 가능"
   ],
   "metadata": {
    "collapsed": false,
    "ExecuteTime": {
     "end_time": "2024-02-26T01:27:56.288267Z",
     "start_time": "2024-02-26T01:27:56.284776Z"
    }
   },
   "id": "c0d8e26594382b35",
   "execution_count": 16
  },
  {
   "cell_type": "code",
   "outputs": [
    {
     "name": "stdout",
     "output_type": "stream",
     "text": [
      "[1]번\n",
      "   kor  math  eng\n",
      "0   10    11  111\n",
      "1   20    22  222\n",
      "2   30    33  333\n",
      "[2]번\n",
      "   kor  math  eng\n",
      "0   10    11  111\n",
      "2   30    33  333\n",
      "1   20    22  222\n",
      "[3]번\n",
      "   kor  math  eng\n",
      "1   20    22  222\n",
      "2   30    33  333\n",
      "0   10    11  111\n",
      "[4]번\n",
      "   kor  math  eng\n",
      "2   30    33  333\n",
      "1   20    22  222\n",
      "0   10    11  111\n",
      "[5]번\n",
      "   kor  math  eng\n",
      "0   10    11  111\n",
      "2   30    33  333\n",
      "1   20    22  222\n"
     ]
    }
   ],
   "source": [
    "# 1개의 샘플/표본 데이터 추출 => [기본] 비복원 - 전체 데이터 수 초과 불가\n",
    "# 추출 기준 축(axis)을 행으로 설정\n",
    "for cnt in range(1,6):\n",
    "    print(f'[{cnt}]번')\n",
    "    print(dataDF.sample(n=3))"
   ],
   "metadata": {
    "collapsed": false,
    "ExecuteTime": {
     "end_time": "2024-02-26T01:27:54.342219Z",
     "start_time": "2024-02-26T01:27:54.339642Z"
    }
   },
   "id": "10c3debb9e988bf2",
   "execution_count": 15
  },
  {
   "cell_type": "code",
   "outputs": [],
   "source": [],
   "metadata": {
    "collapsed": false,
    "ExecuteTime": {
     "end_time": "2024-02-26T01:27:48.845914Z",
     "start_time": "2024-02-26T01:27:48.842818Z"
    }
   },
   "id": "a22516de4e860e2d",
   "execution_count": 13
  },
  {
   "cell_type": "code",
   "outputs": [],
   "source": [],
   "metadata": {
    "collapsed": false,
    "ExecuteTime": {
     "end_time": "2024-02-26T01:27:49.225039Z",
     "start_time": "2024-02-26T01:27:49.222199Z"
    }
   },
   "id": "f39e59b3b71f30b6",
   "execution_count": 13
  },
  {
   "cell_type": "code",
   "outputs": [],
   "source": [],
   "metadata": {
    "collapsed": false
   },
   "id": "38a68e728f5671d2"
  }
 ],
 "metadata": {
  "kernelspec": {
   "display_name": "Python 3",
   "language": "python",
   "name": "python3"
  },
  "language_info": {
   "codemirror_mode": {
    "name": "ipython",
    "version": 2
   },
   "file_extension": ".py",
   "mimetype": "text/x-python",
   "name": "python",
   "nbconvert_exporter": "python",
   "pygments_lexer": "ipython2",
   "version": "2.7.6"
  }
 },
 "nbformat": 4,
 "nbformat_minor": 5
}
