{
 "cells": [
  {
   "cell_type": "markdown",
   "source": [
    "## 목표 : 생선 품종 분류 모델\n",
    "    - 데이터 : 2가지 품종의 생선 데이터 fish.csv\n",
    "    - 피 쳐 : Weight, Length\n",
    "    - 타 겟 : Speci\n",
    "    - 유 형 : 지도학습 / 분류\n",
    "    - 최적의 K 즉, 이웃 데이터 수 찾기 코드 추"
   ],
   "metadata": {
    "collapsed": false
   },
   "id": "571e184f0257d5a5"
  },
  {
   "cell_type": "markdown",
   "source": [
    "### (1) 모듈 로딩 & 데이터 준비 <hr>"
   ],
   "metadata": {
    "collapsed": false
   },
   "id": "216ef2a9d120c866"
  },
  {
   "cell_type": "code",
   "outputs": [],
   "source": [
    "import pandas as pd                                     # 데이터 파일 관련 모듈\n",
    "import sklearn.preprocessing\n",
    "from sklearn.neighbors import KNeighborsClassifier      # 기계학습 관련 모듈"
   ],
   "metadata": {
    "collapsed": false,
    "ExecuteTime": {
     "end_time": "2024-02-27T05:59:36.458412Z",
     "start_time": "2024-02-27T05:59:36.251514Z"
    }
   },
   "id": "63460c919a3bc1b7",
   "execution_count": 2
  },
  {
   "cell_type": "code",
   "outputs": [],
   "source": [
    "data_file = '../data/fish.csv'"
   ],
   "metadata": {
    "collapsed": false,
    "ExecuteTime": {
     "end_time": "2024-02-27T05:59:36.459059Z",
     "start_time": "2024-02-27T05:59:36.444816Z"
    }
   },
   "id": "533cefdccb399e24",
   "execution_count": 3
  },
  {
   "cell_type": "code",
   "outputs": [
    {
     "name": "stdout",
     "output_type": "stream",
     "text": [
      "<class 'pandas.core.frame.DataFrame'>\n",
      "RangeIndex: 159 entries, 0 to 158\n",
      "Data columns (total 3 columns):\n",
      " #   Column   Non-Null Count  Dtype  \n",
      "---  ------   --------------  -----  \n",
      " 0   Species  159 non-null    object \n",
      " 1   Weight   159 non-null    float64\n",
      " 2   Length   159 non-null    float64\n",
      "dtypes: float64(2), object(1)\n",
      "memory usage: 3.9+ KB\n"
     ]
    }
   ],
   "source": [
    "# 5개 피쳐/특성 중 2개의 피쳐/특성 선택\n",
    "fishDF = pd.read_csv(data_file, usecols=[0,1,2])\n",
    "fishDF.info() # 수치, 시각화 모두 해서 확인해야"
   ],
   "metadata": {
    "collapsed": false,
    "ExecuteTime": {
     "end_time": "2024-02-27T05:59:36.459851Z",
     "start_time": "2024-02-27T05:59:36.447157Z"
    }
   },
   "id": "d0dbc79ee94ed300",
   "execution_count": 4
  },
  {
   "cell_type": "code",
   "outputs": [],
   "source": [
    "# Bream, Smelt 품종 행만 추출\n",
    "mask = fishDF.Species.isin([\"Bream\", \"Smelt\"]) # Boolean Indexing\n",
    "\n",
    "# 해당 행만 도출\n",
    "twoFishDF = fishDF[mask]\n",
    "twoFishDF.index\n",
    "\n",
    "# 인덱스 정리\n",
    "twoFishDF.reset_index(drop=True, inplace=True)"
   ],
   "metadata": {
    "collapsed": false,
    "ExecuteTime": {
     "end_time": "2024-02-27T05:59:36.460625Z",
     "start_time": "2024-02-27T05:59:36.455867Z"
    }
   },
   "id": "bddf7734b3cc791e",
   "execution_count": 5
  },
  {
   "cell_type": "code",
   "outputs": [
    {
     "name": "stderr",
     "output_type": "stream",
     "text": [
      "/var/folders/9y/lpn0hjmn5csct06t4_r5qtjr0000gn/T/ipykernel_68006/2798699763.py:3: SettingWithCopyWarning: \n",
      "A value is trying to be set on a copy of a slice from a DataFrame.\n",
      "Try using .loc[row_indexer,col_indexer] = value instead\n",
      "\n",
      "See the caveats in the documentation: https://pandas.pydata.org/pandas-docs/stable/user_guide/indexing.html#returning-a-view-versus-a-copy\n",
      "  twoFishDF['Species']= twoFishDF.Species.astype('int64')\n"
     ]
    },
    {
     "data": {
      "text/plain": "dtype('int64')"
     },
     "execution_count": 6,
     "metadata": {},
     "output_type": "execute_result"
    }
   ],
   "source": [
    "## Bream, Smelt 품종명을 수치화\n",
    "twoFishDF.loc[:,'Species'] = twoFishDF.Species.replace({'Bream':0,  'Smelt': 1}).copy()\n",
    "twoFishDF['Species']= twoFishDF.Species.astype('int64')\n",
    "twoFishDF['Species'].dtype # dtype('int64')"
   ],
   "metadata": {
    "collapsed": false,
    "ExecuteTime": {
     "end_time": "2024-02-27T05:59:36.471534Z",
     "start_time": "2024-02-27T05:59:36.460378Z"
    }
   },
   "id": "463ad2e480b9830f",
   "execution_count": 6
  },
  {
   "cell_type": "markdown",
   "source": [
    "### (2) 데이터 전처리<hr>\n",
    "- 정제 : 결측치, 중복값, 중복데이터, 이상치 처리\n",
    "- 정규화 : 피쳐 스케일링"
   ],
   "metadata": {
    "collapsed": false
   },
   "id": "a5eb1316869cfb39"
  },
  {
   "cell_type": "code",
   "outputs": [],
   "source": [
    "# # 표준 정규분포 => 평균 0, 표준편차 1 => z-score = (피쳐 - 평균)  / 표준편차\n",
    "# twoFishDF.describe()\n",
    "# twoFishDF['Weight'].mean(), twoFishDF['Length'].mean()\n"
   ],
   "metadata": {
    "collapsed": false,
    "ExecuteTime": {
     "end_time": "2024-02-27T05:59:36.503792Z",
     "start_time": "2024-02-27T05:59:36.463380Z"
    }
   },
   "id": "4eea2f1210bd7554",
   "execution_count": 7
  },
  {
   "cell_type": "code",
   "outputs": [],
   "source": [
    "# # Weight 컬럼\n",
    "# twoFishDF['Weight'].mean(), twoFishDF['Weight'].std()\n",
    "# ret1 = twoFishDF.Weight - twoFishDF['Weight'].mean()\n",
    "# ret1/twoFishDF['Weight'].std()\n",
    "# twoFishDF.loc[:,'Weight'] = ret1\n",
    "# \n",
    "# ret2 = twoFishDF.Length - twoFishDF['Length'].mean()\n",
    "# ret2/twoFishDF['Length'].std()\n",
    "# twoFishDF.loc[:,'Length'] = ret2\n",
    "# twoFishDF\n",
    "# \n",
    "# # 학습한 데이터의 평균, 표준편차를, 검증용 데이터에 그대로 이용해야 함\n",
    "# # 이 과정이 피쳐가 많은 경우 함수를 쓰거나 아래 sklearn 이용\n"
   ],
   "metadata": {
    "collapsed": false,
    "ExecuteTime": {
     "end_time": "2024-02-27T05:59:36.506102Z",
     "start_time": "2024-02-27T05:59:36.466075Z"
    }
   },
   "id": "4834a009dd0d2bcd",
   "execution_count": 8
  },
  {
   "cell_type": "markdown",
   "source": [
    "### (3) 기계학습 데이터셋 준비 => 피쳐와 타겟 분리 <hr>"
   ],
   "metadata": {
    "collapsed": false
   },
   "id": "4b4f6ccd7638127f"
  },
  {
   "cell_type": "code",
   "outputs": [
    {
     "data": {
      "text/plain": "   Weight  Length\n0   242.0    25.4\n1   290.0    26.3",
      "text/html": "<div>\n<style scoped>\n    .dataframe tbody tr th:only-of-type {\n        vertical-align: middle;\n    }\n\n    .dataframe tbody tr th {\n        vertical-align: top;\n    }\n\n    .dataframe thead th {\n        text-align: right;\n    }\n</style>\n<table border=\"1\" class=\"dataframe\">\n  <thead>\n    <tr style=\"text-align: right;\">\n      <th></th>\n      <th>Weight</th>\n      <th>Length</th>\n    </tr>\n  </thead>\n  <tbody>\n    <tr>\n      <th>0</th>\n      <td>242.0</td>\n      <td>25.4</td>\n    </tr>\n    <tr>\n      <th>1</th>\n      <td>290.0</td>\n      <td>26.3</td>\n    </tr>\n  </tbody>\n</table>\n</div>"
     },
     "execution_count": 9,
     "metadata": {},
     "output_type": "execute_result"
    }
   ],
   "source": [
    "# 피쳐/특성/속성 데이터 추출\n",
    "featureDF = twoFishDF[twoFishDF.columns[1:]]\n",
    "featureDF.head(2)"
   ],
   "metadata": {
    "collapsed": false,
    "ExecuteTime": {
     "end_time": "2024-02-27T05:59:36.508861Z",
     "start_time": "2024-02-27T05:59:36.469950Z"
    }
   },
   "id": "781be545c13c7376",
   "execution_count": 9
  },
  {
   "cell_type": "code",
   "outputs": [
    {
     "data": {
      "text/plain": "0    0\n1    0\nName: Species, dtype: int64"
     },
     "execution_count": 10,
     "metadata": {},
     "output_type": "execute_result"
    }
   ],
   "source": [
    "# 클래스/타겟/라벨 데이터 추출 ==> 수치화 즉 정수인코딩\n",
    "targetDF = twoFishDF['Species']\n",
    "targetDF.head(2)"
   ],
   "metadata": {
    "collapsed": false,
    "ExecuteTime": {
     "end_time": "2024-02-27T05:59:36.516489Z",
     "start_time": "2024-02-27T05:59:36.475536Z"
    }
   },
   "id": "e3cec6c2536d056d",
   "execution_count": 10
  },
  {
   "cell_type": "code",
   "outputs": [
    {
     "data": {
      "text/plain": "(dtype('int64'),\n 0    0\n 1    0\n 2    0\n 3    0\n 4    0\n Name: Species, dtype: int64)"
     },
     "execution_count": 11,
     "metadata": {},
     "output_type": "execute_result"
    }
   ],
   "source": [
    "targetDF = targetDF.replace({'Bream':0, 'Smelt':1})\n",
    "targetDF.dtype, targetDF.head()"
   ],
   "metadata": {
    "collapsed": false,
    "ExecuteTime": {
     "end_time": "2024-02-27T05:59:36.517458Z",
     "start_time": "2024-02-27T05:59:36.481320Z"
    }
   },
   "id": "1a00ae2585178c63",
   "execution_count": 11
  },
  {
   "cell_type": "markdown",
   "source": [
    "(3-1) 학습/테스트 데이터셋 분리 <hr>\n",
    "- 지도학습 중 분류 => [고려] 타겟의 비율\n",
    "- 학습 : 테스트 = 80 : 20"
   ],
   "metadata": {
    "collapsed": false
   },
   "id": "c50bf9a019f2558c"
  },
  {
   "cell_type": "code",
   "outputs": [],
   "source": [
    "# 모듈 로딩\n",
    "from sklearn.model_selection import train_test_split"
   ],
   "metadata": {
    "collapsed": false,
    "ExecuteTime": {
     "end_time": "2024-02-27T05:59:36.518282Z",
     "start_time": "2024-02-27T05:59:36.483742Z"
    }
   },
   "id": "4a7b8185fa1f440",
   "execution_count": 12
  },
  {
   "cell_type": "code",
   "outputs": [
    {
     "name": "stdout",
     "output_type": "stream",
     "text": [
      "13    0\n",
      "2     0\n",
      "40    1\n",
      "3     0\n",
      "7     0\n",
      "48    1\n",
      "19    0\n",
      "26    0\n",
      "4     0\n",
      "37    1\n",
      "32    0\n",
      "41    1\n",
      "9     0\n",
      "17    0\n",
      "8     0\n",
      "33    0\n",
      "34    0\n",
      "35    1\n",
      "6     0\n",
      "11    0\n",
      "30    0\n",
      "23    0\n",
      "14    0\n",
      "1     0\n",
      "42    1\n",
      "36    1\n",
      "28    0\n",
      "46    1\n",
      "24    0\n",
      "25    0\n",
      "12    0\n",
      "44    1\n",
      "31    0\n",
      "47    1\n",
      "16    0\n",
      "18    0\n",
      "20    0\n",
      "39    1\n",
      "29    0\n",
      "Name: Species, dtype: int64\n"
     ]
    }
   ],
   "source": [
    "X_train, X_test, y_train, y_test = train_test_split(featureDF,\n",
    "                                                    targetDF,\n",
    "                                                    test_size=0.2,\n",
    "                                                    stratify=targetDF)\n",
    "print(y_train)"
   ],
   "metadata": {
    "collapsed": false,
    "ExecuteTime": {
     "end_time": "2024-02-27T05:59:36.519035Z",
     "start_time": "2024-02-27T05:59:36.486536Z"
    }
   },
   "id": "3226adf2f0cc7a31",
   "execution_count": 13
  },
  {
   "cell_type": "code",
   "outputs": [
    {
     "name": "stdout",
     "output_type": "stream",
     "text": [
      "학습용 데이터셋 ------>\n",
      "(39, 2), (39,)\n",
      "학습용 데이터셋 ------>\n",
      "Species\n",
      "0    0.717949\n",
      "1    0.282051\n",
      "Name: count, dtype: float64\n",
      "테스트용 데이터셋 ------>\n",
      "(10, 2), (10,)\n",
      "테스트용 데이터셋 ------>\n",
      "Species\n",
      "0    0.7\n",
      "1    0.3\n",
      "Name: count, dtype: float64\n"
     ]
    }
   ],
   "source": [
    "# 학습 및 테스트 데이터셋 화인\n",
    "print(f'학습용 데이터셋 ------>\\n{X_train.shape}, {y_train.shape}')\n",
    "print(f'학습용 데이터셋 ------>\\n{y_train.value_counts()/y_train.shape[0]}')\n",
    "\n",
    "print(f'테스트용 데이터셋 ------>\\n{X_test.shape}, {y_test.shape}')\n",
    "print(f'테스트용 데이터셋 ------>\\n{y_test.value_counts()/y_test.shape}')\n",
    "\n"
   ],
   "metadata": {
    "collapsed": false,
    "ExecuteTime": {
     "end_time": "2024-02-27T05:59:36.519831Z",
     "start_time": "2024-02-27T05:59:36.492986Z"
    }
   },
   "id": "7753d3da7c0dd726",
   "execution_count": 14
  },
  {
   "cell_type": "markdown",
   "source": [
    "(3-2) 피쳐 데이터의 스케일링  <hr>\n",
    "- 피쳐들의 값의 범위가 다른 것을 통일 시켜줌\n",
    "- scikit-learn의 preprocessing 모듈 활용"
   ],
   "metadata": {
    "collapsed": false
   },
   "id": "45b1529ec5e527bf"
  },
  {
   "cell_type": "code",
   "outputs": [],
   "source": [
    "# 모듈로딩\n",
    "from sklearn.preprocessing import StandardScaler"
   ],
   "metadata": {
    "collapsed": false,
    "ExecuteTime": {
     "end_time": "2024-02-27T05:59:36.589295Z",
     "start_time": "2024-02-27T05:59:36.495564Z"
    }
   },
   "id": "ac34b423a0b83455",
   "execution_count": 15
  },
  {
   "cell_type": "code",
   "outputs": [],
   "source": [
    "# 표준정규분포 스케일링 : 평균 0, 편차 1\n",
    "# (1) 스케일러 인스턴스 생성\n",
    "# (2) 데이터에 대한 평균, 표준편차 계산 진행 : fit() 메서드\n",
    "# (3) 데이터에 대한 스케일링 진행 : transform() 메서드"
   ],
   "metadata": {
    "collapsed": false,
    "ExecuteTime": {
     "end_time": "2024-02-27T05:59:36.590354Z",
     "start_time": "2024-02-27T05:59:36.498309Z"
    }
   },
   "id": "6f62f2a7a7fe830b",
   "execution_count": 16
  },
  {
   "cell_type": "code",
   "outputs": [],
   "source": [
    "scaler = StandardScaler()"
   ],
   "metadata": {
    "collapsed": false,
    "ExecuteTime": {
     "end_time": "2024-02-27T05:59:36.591207Z",
     "start_time": "2024-02-27T05:59:36.500612Z"
    }
   },
   "id": "8d34275e4f4239de",
   "execution_count": 17
  },
  {
   "cell_type": "code",
   "outputs": [
    {
     "data": {
      "text/plain": "StandardScaler()",
      "text/html": "<style>#sk-container-id-1 {color: black;}#sk-container-id-1 pre{padding: 0;}#sk-container-id-1 div.sk-toggleable {background-color: white;}#sk-container-id-1 label.sk-toggleable__label {cursor: pointer;display: block;width: 100%;margin-bottom: 0;padding: 0.3em;box-sizing: border-box;text-align: center;}#sk-container-id-1 label.sk-toggleable__label-arrow:before {content: \"▸\";float: left;margin-right: 0.25em;color: #696969;}#sk-container-id-1 label.sk-toggleable__label-arrow:hover:before {color: black;}#sk-container-id-1 div.sk-estimator:hover label.sk-toggleable__label-arrow:before {color: black;}#sk-container-id-1 div.sk-toggleable__content {max-height: 0;max-width: 0;overflow: hidden;text-align: left;background-color: #f0f8ff;}#sk-container-id-1 div.sk-toggleable__content pre {margin: 0.2em;color: black;border-radius: 0.25em;background-color: #f0f8ff;}#sk-container-id-1 input.sk-toggleable__control:checked~div.sk-toggleable__content {max-height: 200px;max-width: 100%;overflow: auto;}#sk-container-id-1 input.sk-toggleable__control:checked~label.sk-toggleable__label-arrow:before {content: \"▾\";}#sk-container-id-1 div.sk-estimator input.sk-toggleable__control:checked~label.sk-toggleable__label {background-color: #d4ebff;}#sk-container-id-1 div.sk-label input.sk-toggleable__control:checked~label.sk-toggleable__label {background-color: #d4ebff;}#sk-container-id-1 input.sk-hidden--visually {border: 0;clip: rect(1px 1px 1px 1px);clip: rect(1px, 1px, 1px, 1px);height: 1px;margin: -1px;overflow: hidden;padding: 0;position: absolute;width: 1px;}#sk-container-id-1 div.sk-estimator {font-family: monospace;background-color: #f0f8ff;border: 1px dotted black;border-radius: 0.25em;box-sizing: border-box;margin-bottom: 0.5em;}#sk-container-id-1 div.sk-estimator:hover {background-color: #d4ebff;}#sk-container-id-1 div.sk-parallel-item::after {content: \"\";width: 100%;border-bottom: 1px solid gray;flex-grow: 1;}#sk-container-id-1 div.sk-label:hover label.sk-toggleable__label {background-color: #d4ebff;}#sk-container-id-1 div.sk-serial::before {content: \"\";position: absolute;border-left: 1px solid gray;box-sizing: border-box;top: 0;bottom: 0;left: 50%;z-index: 0;}#sk-container-id-1 div.sk-serial {display: flex;flex-direction: column;align-items: center;background-color: white;padding-right: 0.2em;padding-left: 0.2em;position: relative;}#sk-container-id-1 div.sk-item {position: relative;z-index: 1;}#sk-container-id-1 div.sk-parallel {display: flex;align-items: stretch;justify-content: center;background-color: white;position: relative;}#sk-container-id-1 div.sk-item::before, #sk-container-id-1 div.sk-parallel-item::before {content: \"\";position: absolute;border-left: 1px solid gray;box-sizing: border-box;top: 0;bottom: 0;left: 50%;z-index: -1;}#sk-container-id-1 div.sk-parallel-item {display: flex;flex-direction: column;z-index: 1;position: relative;background-color: white;}#sk-container-id-1 div.sk-parallel-item:first-child::after {align-self: flex-end;width: 50%;}#sk-container-id-1 div.sk-parallel-item:last-child::after {align-self: flex-start;width: 50%;}#sk-container-id-1 div.sk-parallel-item:only-child::after {width: 0;}#sk-container-id-1 div.sk-dashed-wrapped {border: 1px dashed gray;margin: 0 0.4em 0.5em 0.4em;box-sizing: border-box;padding-bottom: 0.4em;background-color: white;}#sk-container-id-1 div.sk-label label {font-family: monospace;font-weight: bold;display: inline-block;line-height: 1.2em;}#sk-container-id-1 div.sk-label-container {text-align: center;}#sk-container-id-1 div.sk-container {/* jupyter's `normalize.less` sets `[hidden] { display: none; }` but bootstrap.min.css set `[hidden] { display: none !important; }` so we also need the `!important` here to be able to override the default hidden behavior on the sphinx rendered scikit-learn.org. See: https://github.com/scikit-learn/scikit-learn/issues/21755 */display: inline-block !important;position: relative;}#sk-container-id-1 div.sk-text-repr-fallback {display: none;}</style><div id=\"sk-container-id-1\" class=\"sk-top-container\"><div class=\"sk-text-repr-fallback\"><pre>StandardScaler()</pre><b>In a Jupyter environment, please rerun this cell to show the HTML representation or trust the notebook. <br />On GitHub, the HTML representation is unable to render, please try loading this page with nbviewer.org.</b></div><div class=\"sk-container\" hidden><div class=\"sk-item\"><div class=\"sk-estimator sk-toggleable\"><input class=\"sk-toggleable__control sk-hidden--visually\" id=\"sk-estimator-id-1\" type=\"checkbox\" checked><label for=\"sk-estimator-id-1\" class=\"sk-toggleable__label sk-toggleable__label-arrow\">StandardScaler</label><div class=\"sk-toggleable__content\"><pre>StandardScaler()</pre></div></div></div></div></div>"
     },
     "execution_count": 18,
     "metadata": {},
     "output_type": "execute_result"
    }
   ],
   "source": [
    "scaler.fit(X_train)"
   ],
   "metadata": {
    "collapsed": false,
    "ExecuteTime": {
     "end_time": "2024-02-27T05:59:36.607553Z",
     "start_time": "2024-02-27T05:59:36.503237Z"
    }
   },
   "id": "4554480dc1595d2a",
   "execution_count": 18
  },
  {
   "cell_type": "code",
   "outputs": [
    {
     "data": {
      "text/plain": "array([460.55384615,  27.37692308])"
     },
     "execution_count": 19,
     "metadata": {},
     "output_type": "execute_result"
    }
   ],
   "source": [
    "scaler.mean_"
   ],
   "metadata": {
    "collapsed": false,
    "ExecuteTime": {
     "end_time": "2024-02-27T05:59:36.610278Z",
     "start_time": "2024-02-27T05:59:36.508146Z"
    }
   },
   "id": "b4c9731c2a707cbf",
   "execution_count": 19
  },
  {
   "cell_type": "code",
   "outputs": [
    {
     "data": {
      "text/plain": "array([[-0.36025602,  0.45093111],\n       [-0.36025602, -0.08553435],\n       [-1.35029346, -1.56812983],\n       [-0.29152418,  0.15831359],\n       [-0.21083896,  0.25585276],\n       [-1.31682404, -1.20723488],\n       [ 0.56612975,  0.59723988],\n       [ 0.77531363,  0.74354864],\n       [-0.09130532,  0.15831359],\n       [-1.35537364, -1.63640725],\n       [ 1.38792357,  1.18247493],\n       [-1.34640862, -1.51936024],\n       [ 0.11787857,  0.32413018],\n       [ 0.7155468 ,  0.54847029],\n       [-0.03153849,  0.25585276],\n       [ 1.53734063,  1.3287837 ],\n       [ 1.4626321 ,  1.3287837 ],\n       [-1.35627014, -1.71443859],\n       [ 0.11787857,  0.22659101],\n       [ 0.11787857,  0.35339194],\n       [ 1.37298187,  1.08493576],\n       [ 0.65577998,  0.74354864],\n       [ 0.41671269,  0.45093111],\n       [-0.50967308, -0.10504219],\n       [-1.34670745, -1.51936024],\n       [-1.35387947, -1.64616117],\n       [ 1.16379798,  0.84108782],\n       [-1.33983427, -1.40231323],\n       [ 0.7155468 ,  0.74354864],\n       [ 0.79025533,  0.74354864],\n       [ 0.11787857,  0.40216153],\n       [-1.33983427, -1.48034457],\n       [ 1.47757381,  1.08493576],\n       [-1.31742171, -1.2755123 ],\n       [ 0.7155468 ,  0.54847029],\n       [ 0.4465961 ,  0.59723988],\n       [ 0.34200416,  0.64600947],\n       [-1.34700629, -1.57788375],\n       [ 1.61204916,  0.93862699]])"
     },
     "execution_count": 20,
     "metadata": {},
     "output_type": "execute_result"
    }
   ],
   "source": [
    "scaled_X_train=scaler.transform(X_train) # 검증이나 데이터에 사용할 때 새 변수명 부여해서 반복 사용\n",
    "scaled_X_train"
   ],
   "metadata": {
    "collapsed": false,
    "ExecuteTime": {
     "end_time": "2024-02-27T05:59:36.619499Z",
     "start_time": "2024-02-27T05:59:36.512726Z"
    }
   },
   "id": "fd9bcad873be0ea",
   "execution_count": 20
  },
  {
   "cell_type": "code",
   "outputs": [],
   "source": [],
   "metadata": {
    "collapsed": false,
    "ExecuteTime": {
     "end_time": "2024-02-27T05:59:36.626235Z",
     "start_time": "2024-02-27T05:59:36.515712Z"
    }
   },
   "id": "af621adbbb613b92",
   "execution_count": 20
  },
  {
   "cell_type": "code",
   "outputs": [
    {
     "data": {
      "text/plain": "array([[-0.36025602,  0.45093111],\n       [-0.36025602, -0.08553435],\n       [-1.35029346, -1.56812983],\n       [-0.29152418,  0.15831359],\n       [-0.21083896,  0.25585276],\n       [-1.31682404, -1.20723488],\n       [ 0.56612975,  0.59723988],\n       [ 0.77531363,  0.74354864],\n       [-0.09130532,  0.15831359],\n       [-1.35537364, -1.63640725],\n       [ 1.38792357,  1.18247493],\n       [-1.34640862, -1.51936024],\n       [ 0.11787857,  0.32413018],\n       [ 0.7155468 ,  0.54847029],\n       [-0.03153849,  0.25585276],\n       [ 1.53734063,  1.3287837 ],\n       [ 1.4626321 ,  1.3287837 ],\n       [-1.35627014, -1.71443859],\n       [ 0.11787857,  0.22659101],\n       [ 0.11787857,  0.35339194],\n       [ 1.37298187,  1.08493576],\n       [ 0.65577998,  0.74354864],\n       [ 0.41671269,  0.45093111],\n       [-0.50967308, -0.10504219],\n       [-1.34670745, -1.51936024],\n       [-1.35387947, -1.64616117],\n       [ 1.16379798,  0.84108782],\n       [-1.33983427, -1.40231323],\n       [ 0.7155468 ,  0.74354864],\n       [ 0.79025533,  0.74354864],\n       [ 0.11787857,  0.40216153],\n       [-1.33983427, -1.48034457],\n       [ 1.47757381,  1.08493576],\n       [-1.31742171, -1.2755123 ],\n       [ 0.7155468 ,  0.54847029],\n       [ 0.4465961 ,  0.59723988],\n       [ 0.34200416,  0.64600947],\n       [-1.34700629, -1.57788375],\n       [ 1.61204916,  0.93862699]])"
     },
     "execution_count": 21,
     "metadata": {},
     "output_type": "execute_result"
    }
   ],
   "source": [
    "scaler.fit_transform(X_train) # fit_transform : 검증이나 데이터에 사용하지 않을 때 사용"
   ],
   "metadata": {
    "collapsed": false,
    "ExecuteTime": {
     "end_time": "2024-02-27T05:59:36.631176Z",
     "start_time": "2024-02-27T05:59:36.520187Z"
    }
   },
   "id": "564469a4c5b8e495",
   "execution_count": 21
  },
  {
   "cell_type": "code",
   "outputs": [
    {
     "data": {
      "text/plain": "array([[-1.34730512, -1.59739158],\n       [ 0.47647951,  0.69477905],\n       [ 0.04317004,  0.35339194],\n       [-0.65311346, -0.19282745],\n       [-1.34700629, -1.49985241],\n       [ 0.75738358,  0.84108782],\n       [ 0.41671269,  0.45093111],\n       [-1.33624826, -1.46083674],\n       [-0.03153849,  0.22659101],\n       [ 0.67072169,  0.64600947]])"
     },
     "execution_count": 22,
     "metadata": {},
     "output_type": "execute_result"
    }
   ],
   "source": [
    "# 테스트용 데이터 피쳐 스케일링\n",
    "scaled_X_test = scaler.transform(X_test)\n",
    "scaled_X_test"
   ],
   "metadata": {
    "collapsed": false,
    "ExecuteTime": {
     "end_time": "2024-02-27T05:59:36.641609Z",
     "start_time": "2024-02-27T05:59:36.523810Z"
    }
   },
   "id": "b7218fb1f9e50cdc",
   "execution_count": 22
  },
  {
   "cell_type": "markdown",
   "source": [
    "(3-3) 시각화"
   ],
   "metadata": {
    "collapsed": false
   },
   "id": "b5a2ffd4cb441383"
  },
  {
   "cell_type": "code",
   "outputs": [
    {
     "data": {
      "text/plain": "Text(0, 0.5, 'Length')"
     },
     "execution_count": 23,
     "metadata": {},
     "output_type": "execute_result"
    },
    {
     "data": {
      "text/plain": "<Figure size 640x480 with 1 Axes>",
      "image/png": "[encoded data removed]"
     },
     "metadata": {},
     "output_type": "display_data"
    }
   ],
   "source": [
    "## 원본 데이터 시각화\n",
    "import matplotlib.pyplot as plt\n",
    "\n",
    "plt.plot(X_train.Weight, X_train.Length, 'ro')\n",
    "\n",
    "# 학습 데이터 시각화\n",
    "# plt.scatter(twoFishDF.Weight, twoFishDF.Length, c=twoFishDF.Species)\n",
    "plt.xlabel('Weight')\n",
    "plt.ylabel('Length')"
   ],
   "metadata": {
    "collapsed": false,
    "ExecuteTime": {
     "end_time": "2024-02-27T05:59:36.739995Z",
     "start_time": "2024-02-27T05:59:36.527468Z"
    }
   },
   "id": "788579de050bfcb4",
   "execution_count": 23
  },
  {
   "cell_type": "code",
   "outputs": [
    {
     "data": {
      "text/plain": "(-2.0, 2.0)"
     },
     "execution_count": 24,
     "metadata": {},
     "output_type": "execute_result"
    },
    {
     "data": {
      "text/plain": "<Figure size 640x480 with 1 Axes>",
      "image/png": "[encoded data removed]"
     },
     "metadata": {},
     "output_type": "display_data"
    }
   ],
   "source": [
    "## => 스케일됨 데이터 시각화 ==> scaled_X_train\n",
    "scaled_X_train.shape, scaled_X_train.ndim\n",
    "\n",
    "plt.plot(scaled_X_train[:,0], scaled_X_train[:,1], 'ro')\n",
    "plt.xlim(-2,2)\n",
    "plt.ylim(-2,2)\n"
   ],
   "metadata": {
    "collapsed": false,
    "ExecuteTime": {
     "end_time": "2024-02-27T05:59:36.821810Z",
     "start_time": "2024-02-27T05:59:36.687326Z"
    }
   },
   "id": "a4e39bbbe5b2337b",
   "execution_count": 24
  },
  {
   "cell_type": "markdown",
   "source": [
    "## (4) 학습 진행"
   ],
   "metadata": {
    "collapsed": false
   },
   "id": "475e893574c8855d"
  },
  {
   "cell_type": "code",
   "outputs": [],
   "source": [
    "## 방법 (1) : KNN 알고리즘\n",
    "## 모델 성능 좌우하는 매개변수 => 하이퍼 파라미터 : n_neighbors\n",
    "## n_neighbors 즉 k 갯수 : 1 ~ 전체 데이터 수\n",
    "max_k = scaled_X_train.shape[0]\n",
    "max_k\n",
    "\n",
    "test_scoreList = []\n",
    "train_scoreList = []\n",
    "for k in range(1,max_k+1):\n",
    "    fishModel = KNeighborsClassifier(n_neighbors=k)\n",
    "    fishModel.fit(scaled_X_train, y_train)\n",
    "    train_scoreList.append(fishModel.score(scaled_X_train,y_train))\n",
    "    test_scoreList.append(fishModel.score(scaled_X_test,y_test))\n",
    "    \n",
    "# train_scoreList = []\n",
    "# test_scoreList = []\n",
    "# for k in range(1, max_k+1):\n",
    "#     model = KNeighborsClassifier(n_neighbors=k)\n",
    "#     model.fit(scaled_X_train, y_train)\n",
    "#     train_scoreList.append(model.score(scaled_X_train, y_train))\n",
    "#     test_scoreList.append(model.score(scaled_X_test, y_test))\n",
    "    "
   ],
   "metadata": {
    "collapsed": false,
    "ExecuteTime": {
     "end_time": "2024-02-27T05:59:37.172457Z",
     "start_time": "2024-02-27T05:59:36.822717Z"
    }
   },
   "id": "546ae917b5494323",
   "execution_count": 25
  },
  {
   "cell_type": "code",
   "outputs": [
    {
     "name": "stdout",
     "output_type": "stream",
     "text": [
      "Train Score : [1.0, 1.0, 1.0, 1.0, 1.0, 1.0, 1.0, 1.0, 1.0, 1.0, 1.0, 1.0, 1.0, 1.0, 1.0, 1.0, 1.0, 1.0, 1.0, 1.0, 1.0, 0.717948717948718, 0.717948717948718, 0.717948717948718, 0.717948717948718, 0.717948717948718, 0.717948717948718, 0.717948717948718, 0.717948717948718, 0.717948717948718, 0.717948717948718, 0.717948717948718, 0.717948717948718, 0.717948717948718, 0.717948717948718, 0.717948717948718, 0.717948717948718, 0.717948717948718, 0.717948717948718]\n",
      "Test Score : [1.0, 1.0, 1.0, 1.0, 1.0, 1.0, 1.0, 1.0, 1.0, 1.0, 1.0, 1.0, 1.0, 1.0, 1.0, 1.0, 1.0, 1.0, 1.0, 1.0, 1.0, 0.7, 0.7, 0.7, 0.7, 0.7, 0.7, 0.7, 0.7, 0.7, 0.7, 0.7, 0.7, 0.7, 0.7, 0.7, 0.7, 0.7, 0.7]\n"
     ]
    }
   ],
   "source": [
    "# 학습 및 테스트 데이터에 대한 점수 확인\n",
    "print(f'Train Score : {train_scoreList}')\n",
    "print(f'Test Score : {test_scoreList}')"
   ],
   "metadata": {
    "collapsed": false,
    "ExecuteTime": {
     "end_time": "2024-02-27T05:59:37.175519Z",
     "start_time": "2024-02-27T05:59:37.172827Z"
    }
   },
   "id": "30e7a214c994e56d",
   "execution_count": 26
  },
  {
   "cell_type": "code",
   "outputs": [
    {
     "data": {
      "text/plain": "Text(0, 0.5, 'Score')"
     },
     "execution_count": 27,
     "metadata": {},
     "output_type": "execute_result"
    },
    {
     "data": {
      "text/plain": "<Figure size 640x480 with 1 Axes>",
      "image/png": "[encoded data removed]"
     },
     "metadata": {},
     "output_type": "display_data"
    }
   ],
   "source": [
    "# k 갯수에 따른 학습용/테스트용 점수 시각화\n",
    "plt.plot(train_scoreList, 'b--', label='Train Score')\n",
    "plt.plot(test_scoreList, 'r-', label='Test Score')\n",
    "plt.title(\"K & Score\")\n",
    "plt.xlabel('K')\n",
    "plt.ylabel('Score')\n",
    "# plt.title()"
   ],
   "metadata": {
    "collapsed": false,
    "ExecuteTime": {
     "end_time": "2024-02-27T05:59:37.281676Z",
     "start_time": "2024-02-27T05:59:37.182580Z"
    }
   },
   "id": "476192f967f65106",
   "execution_count": 27
  },
  {
   "cell_type": "code",
   "outputs": [],
   "source": [
    "# 학습\n",
    "# fishModel.fit(scaled_X_train, y_train)"
   ],
   "metadata": {
    "collapsed": false,
    "ExecuteTime": {
     "end_time": "2024-02-27T05:59:37.286224Z",
     "start_time": "2024-02-27T05:59:37.284049Z"
    }
   },
   "id": "74a4b4dc0fc7f3dc",
   "execution_count": 28
  },
  {
   "cell_type": "code",
   "outputs": [
    {
     "data": {
      "text/plain": "13    0\n2     0\n40    1\n3     0\n7     0\n48    1\n19    0\n26    0\n4     0\n37    1\n32    0\n41    1\n9     0\n17    0\n8     0\n33    0\n34    0\n35    1\n6     0\n11    0\n30    0\n23    0\n14    0\n1     0\n42    1\n36    1\n28    0\n46    1\n24    0\n25    0\n12    0\n44    1\n31    0\n47    1\n16    0\n18    0\n20    0\n39    1\n29    0\nName: Species, dtype: int64"
     },
     "execution_count": 37,
     "metadata": {},
     "output_type": "execute_result"
    }
   ],
   "source": [
    "y_train"
   ],
   "metadata": {
    "collapsed": false,
    "ExecuteTime": {
     "end_time": "2024-02-27T06:00:51.599354Z",
     "start_time": "2024-02-27T06:00:51.587812Z"
    }
   },
   "id": "df76972c231b49b7",
   "execution_count": 37
  },
  {
   "cell_type": "code",
   "outputs": [
    {
     "data": {
      "text/plain": "SVC()",
      "text/html": "<style>#sk-container-id-2 {color: black;}#sk-container-id-2 pre{padding: 0;}#sk-container-id-2 div.sk-toggleable {background-color: white;}#sk-container-id-2 label.sk-toggleable__label {cursor: pointer;display: block;width: 100%;margin-bottom: 0;padding: 0.3em;box-sizing: border-box;text-align: center;}#sk-container-id-2 label.sk-toggleable__label-arrow:before {content: \"▸\";float: left;margin-right: 0.25em;color: #696969;}#sk-container-id-2 label.sk-toggleable__label-arrow:hover:before {color: black;}#sk-container-id-2 div.sk-estimator:hover label.sk-toggleable__label-arrow:before {color: black;}#sk-container-id-2 div.sk-toggleable__content {max-height: 0;max-width: 0;overflow: hidden;text-align: left;background-color: #f0f8ff;}#sk-container-id-2 div.sk-toggleable__content pre {margin: 0.2em;color: black;border-radius: 0.25em;background-color: #f0f8ff;}#sk-container-id-2 input.sk-toggleable__control:checked~div.sk-toggleable__content {max-height: 200px;max-width: 100%;overflow: auto;}#sk-container-id-2 input.sk-toggleable__control:checked~label.sk-toggleable__label-arrow:before {content: \"▾\";}#sk-container-id-2 div.sk-estimator input.sk-toggleable__control:checked~label.sk-toggleable__label {background-color: #d4ebff;}#sk-container-id-2 div.sk-label input.sk-toggleable__control:checked~label.sk-toggleable__label {background-color: #d4ebff;}#sk-container-id-2 input.sk-hidden--visually {border: 0;clip: rect(1px 1px 1px 1px);clip: rect(1px, 1px, 1px, 1px);height: 1px;margin: -1px;overflow: hidden;padding: 0;position: absolute;width: 1px;}#sk-container-id-2 div.sk-estimator {font-family: monospace;background-color: #f0f8ff;border: 1px dotted black;border-radius: 0.25em;box-sizing: border-box;margin-bottom: 0.5em;}#sk-container-id-2 div.sk-estimator:hover {background-color: #d4ebff;}#sk-container-id-2 div.sk-parallel-item::after {content: \"\";width: 100%;border-bottom: 1px solid gray;flex-grow: 1;}#sk-container-id-2 div.sk-label:hover label.sk-toggleable__label {background-color: #d4ebff;}#sk-container-id-2 div.sk-serial::before {content: \"\";position: absolute;border-left: 1px solid gray;box-sizing: border-box;top: 0;bottom: 0;left: 50%;z-index: 0;}#sk-container-id-2 div.sk-serial {display: flex;flex-direction: column;align-items: center;background-color: white;padding-right: 0.2em;padding-left: 0.2em;position: relative;}#sk-container-id-2 div.sk-item {position: relative;z-index: 1;}#sk-container-id-2 div.sk-parallel {display: flex;align-items: stretch;justify-content: center;background-color: white;position: relative;}#sk-container-id-2 div.sk-item::before, #sk-container-id-2 div.sk-parallel-item::before {content: \"\";position: absolute;border-left: 1px solid gray;box-sizing: border-box;top: 0;bottom: 0;left: 50%;z-index: -1;}#sk-container-id-2 div.sk-parallel-item {display: flex;flex-direction: column;z-index: 1;position: relative;background-color: white;}#sk-container-id-2 div.sk-parallel-item:first-child::after {align-self: flex-end;width: 50%;}#sk-container-id-2 div.sk-parallel-item:last-child::after {align-self: flex-start;width: 50%;}#sk-container-id-2 div.sk-parallel-item:only-child::after {width: 0;}#sk-container-id-2 div.sk-dashed-wrapped {border: 1px dashed gray;margin: 0 0.4em 0.5em 0.4em;box-sizing: border-box;padding-bottom: 0.4em;background-color: white;}#sk-container-id-2 div.sk-label label {font-family: monospace;font-weight: bold;display: inline-block;line-height: 1.2em;}#sk-container-id-2 div.sk-label-container {text-align: center;}#sk-container-id-2 div.sk-container {/* jupyter's `normalize.less` sets `[hidden] { display: none; }` but bootstrap.min.css set `[hidden] { display: none !important; }` so we also need the `!important` here to be able to override the default hidden behavior on the sphinx rendered scikit-learn.org. See: https://github.com/scikit-learn/scikit-learn/issues/21755 */display: inline-block !important;position: relative;}#sk-container-id-2 div.sk-text-repr-fallback {display: none;}</style><div id=\"sk-container-id-2\" class=\"sk-top-container\"><div class=\"sk-text-repr-fallback\"><pre>SVC()</pre><b>In a Jupyter environment, please rerun this cell to show the HTML representation or trust the notebook. <br />On GitHub, the HTML representation is unable to render, please try loading this page with nbviewer.org.</b></div><div class=\"sk-container\" hidden><div class=\"sk-item\"><div class=\"sk-estimator sk-toggleable\"><input class=\"sk-toggleable__control sk-hidden--visually\" id=\"sk-estimator-id-2\" type=\"checkbox\" checked><label for=\"sk-estimator-id-2\" class=\"sk-toggleable__label sk-toggleable__label-arrow\">SVC</label><div class=\"sk-toggleable__content\"><pre>SVC()</pre></div></div></div></div></div>"
     },
     "execution_count": 29,
     "metadata": {},
     "output_type": "execute_result"
    }
   ],
   "source": [
    "## 방법 (2) : SVC\n",
    "from sklearn.svm import SVC\n",
    "\n",
    "fishmodel2=SVC()\n",
    "fishmodel2.fit(scaled_X_train,y_train)"
   ],
   "metadata": {
    "collapsed": false,
    "ExecuteTime": {
     "end_time": "2024-02-27T05:59:37.294398Z",
     "start_time": "2024-02-27T05:59:37.289809Z"
    }
   },
   "id": "90d63e87cd5c6b6d",
   "execution_count": 29
  },
  {
   "cell_type": "code",
   "outputs": [
    {
     "data": {
      "text/plain": "LogisticRegression()",
      "text/html": "<style>#sk-container-id-3 {color: black;}#sk-container-id-3 pre{padding: 0;}#sk-container-id-3 div.sk-toggleable {background-color: white;}#sk-container-id-3 label.sk-toggleable__label {cursor: pointer;display: block;width: 100%;margin-bottom: 0;padding: 0.3em;box-sizing: border-box;text-align: center;}#sk-container-id-3 label.sk-toggleable__label-arrow:before {content: \"▸\";float: left;margin-right: 0.25em;color: #696969;}#sk-container-id-3 label.sk-toggleable__label-arrow:hover:before {color: black;}#sk-container-id-3 div.sk-estimator:hover label.sk-toggleable__label-arrow:before {color: black;}#sk-container-id-3 div.sk-toggleable__content {max-height: 0;max-width: 0;overflow: hidden;text-align: left;background-color: #f0f8ff;}#sk-container-id-3 div.sk-toggleable__content pre {margin: 0.2em;color: black;border-radius: 0.25em;background-color: #f0f8ff;}#sk-container-id-3 input.sk-toggleable__control:checked~div.sk-toggleable__content {max-height: 200px;max-width: 100%;overflow: auto;}#sk-container-id-3 input.sk-toggleable__control:checked~label.sk-toggleable__label-arrow:before {content: \"▾\";}#sk-container-id-3 div.sk-estimator input.sk-toggleable__control:checked~label.sk-toggleable__label {background-color: #d4ebff;}#sk-container-id-3 div.sk-label input.sk-toggleable__control:checked~label.sk-toggleable__label {background-color: #d4ebff;}#sk-container-id-3 input.sk-hidden--visually {border: 0;clip: rect(1px 1px 1px 1px);clip: rect(1px, 1px, 1px, 1px);height: 1px;margin: -1px;overflow: hidden;padding: 0;position: absolute;width: 1px;}#sk-container-id-3 div.sk-estimator {font-family: monospace;background-color: #f0f8ff;border: 1px dotted black;border-radius: 0.25em;box-sizing: border-box;margin-bottom: 0.5em;}#sk-container-id-3 div.sk-estimator:hover {background-color: #d4ebff;}#sk-container-id-3 div.sk-parallel-item::after {content: \"\";width: 100%;border-bottom: 1px solid gray;flex-grow: 1;}#sk-container-id-3 div.sk-label:hover label.sk-toggleable__label {background-color: #d4ebff;}#sk-container-id-3 div.sk-serial::before {content: \"\";position: absolute;border-left: 1px solid gray;box-sizing: border-box;top: 0;bottom: 0;left: 50%;z-index: 0;}#sk-container-id-3 div.sk-serial {display: flex;flex-direction: column;align-items: center;background-color: white;padding-right: 0.2em;padding-left: 0.2em;position: relative;}#sk-container-id-3 div.sk-item {position: relative;z-index: 1;}#sk-container-id-3 div.sk-parallel {display: flex;align-items: stretch;justify-content: center;background-color: white;position: relative;}#sk-container-id-3 div.sk-item::before, #sk-container-id-3 div.sk-parallel-item::before {content: \"\";position: absolute;border-left: 1px solid gray;box-sizing: border-box;top: 0;bottom: 0;left: 50%;z-index: -1;}#sk-container-id-3 div.sk-parallel-item {display: flex;flex-direction: column;z-index: 1;position: relative;background-color: white;}#sk-container-id-3 div.sk-parallel-item:first-child::after {align-self: flex-end;width: 50%;}#sk-container-id-3 div.sk-parallel-item:last-child::after {align-self: flex-start;width: 50%;}#sk-container-id-3 div.sk-parallel-item:only-child::after {width: 0;}#sk-container-id-3 div.sk-dashed-wrapped {border: 1px dashed gray;margin: 0 0.4em 0.5em 0.4em;box-sizing: border-box;padding-bottom: 0.4em;background-color: white;}#sk-container-id-3 div.sk-label label {font-family: monospace;font-weight: bold;display: inline-block;line-height: 1.2em;}#sk-container-id-3 div.sk-label-container {text-align: center;}#sk-container-id-3 div.sk-container {/* jupyter's `normalize.less` sets `[hidden] { display: none; }` but bootstrap.min.css set `[hidden] { display: none !important; }` so we also need the `!important` here to be able to override the default hidden behavior on the sphinx rendered scikit-learn.org. See: https://github.com/scikit-learn/scikit-learn/issues/21755 */display: inline-block !important;position: relative;}#sk-container-id-3 div.sk-text-repr-fallback {display: none;}</style><div id=\"sk-container-id-3\" class=\"sk-top-container\"><div class=\"sk-text-repr-fallback\"><pre>LogisticRegression()</pre><b>In a Jupyter environment, please rerun this cell to show the HTML representation or trust the notebook. <br />On GitHub, the HTML representation is unable to render, please try loading this page with nbviewer.org.</b></div><div class=\"sk-container\" hidden><div class=\"sk-item\"><div class=\"sk-estimator sk-toggleable\"><input class=\"sk-toggleable__control sk-hidden--visually\" id=\"sk-estimator-id-3\" type=\"checkbox\" checked><label for=\"sk-estimator-id-3\" class=\"sk-toggleable__label sk-toggleable__label-arrow\">LogisticRegression</label><div class=\"sk-toggleable__content\"><pre>LogisticRegression()</pre></div></div></div></div></div>"
     },
     "execution_count": 30,
     "metadata": {},
     "output_type": "execute_result"
    }
   ],
   "source": [
    "## 방법 (3) : logistic regression\n",
    "from sklearn.linear_model import LogisticRegression\n",
    "\n",
    "fishmodel3 = LogisticRegression()\n",
    "fishmodel3.fit(scaled_X_train,y_train)"
   ],
   "metadata": {
    "collapsed": false,
    "ExecuteTime": {
     "end_time": "2024-02-27T05:59:37.312798Z",
     "start_time": "2024-02-27T05:59:37.295727Z"
    }
   },
   "id": "f825739f5edbe64b",
   "execution_count": 30
  },
  {
   "cell_type": "markdown",
   "source": [
    "## (5) 테스트 진행"
   ],
   "metadata": {
    "collapsed": false
   },
   "id": "6be264a654687a0"
  },
  {
   "cell_type": "code",
   "outputs": [
    {
     "name": "stdout",
     "output_type": "stream",
     "text": [
      "KNN 0.7\n",
      "SVC 1.0\n",
      "LogisticRegression 1.0\n"
     ]
    }
   ],
   "source": [
    "print('KNN', fishModel.score(scaled_X_test, y_test))\n",
    "print('SVC', fishmodel2.score(scaled_X_test, y_test))\n",
    "print('LogisticRegression', fishmodel3.score(scaled_X_test, y_test))"
   ],
   "metadata": {
    "collapsed": false,
    "ExecuteTime": {
     "end_time": "2024-02-27T05:59:37.313788Z",
     "start_time": "2024-02-27T05:59:37.302140Z"
    }
   },
   "id": "b92c1114b7d4b9c1",
   "execution_count": 31
  },
  {
   "cell_type": "markdown",
   "source": [
    "(6) 예측"
   ],
   "metadata": {
    "collapsed": false
   },
   "id": "68b47ee58d720eeb"
  },
  {
   "cell_type": "code",
   "outputs": [
    {
     "data": {
      "text/plain": "array([0, 0, 0, 0, 0, 0, 0, 0, 0, 0])"
     },
     "execution_count": 32,
     "metadata": {},
     "output_type": "execute_result"
    }
   ],
   "source": [
    "## 길이 25, 무게 160인 생선의 품종 예측\n",
    "new_data = pd.DataFrame([[160,25]], columns=['Weight', 'Length'])\n",
    "\n",
    "fishModel.predict(scaled_X_test)"
   ],
   "metadata": {
    "collapsed": false,
    "ExecuteTime": {
     "end_time": "2024-02-27T05:59:37.316996Z",
     "start_time": "2024-02-27T05:59:37.309042Z"
    }
   },
   "id": "7a1ae19c9c0e4452",
   "execution_count": 32
  },
  {
   "cell_type": "code",
   "outputs": [
    {
     "data": {
      "text/plain": "array([[-0.89815744, -0.23184312]])"
     },
     "execution_count": 33,
     "metadata": {},
     "output_type": "execute_result"
    }
   ],
   "source": [
    "scaled_new_data = scaler.transform(new_data)\n",
    "scaled_new_data"
   ],
   "metadata": {
    "collapsed": false,
    "ExecuteTime": {
     "end_time": "2024-02-27T05:59:37.333042Z",
     "start_time": "2024-02-27T05:59:37.316375Z"
    }
   },
   "id": "669d693cd416cb93",
   "execution_count": 33
  },
  {
   "cell_type": "code",
   "outputs": [
    {
     "data": {
      "text/plain": "array([0])"
     },
     "execution_count": 34,
     "metadata": {},
     "output_type": "execute_result"
    }
   ],
   "source": [
    "# 예측\n",
    "fishModel.predict(scaled_new_data)"
   ],
   "metadata": {
    "collapsed": false,
    "ExecuteTime": {
     "end_time": "2024-02-27T05:59:37.354837Z",
     "start_time": "2024-02-27T05:59:37.320021Z"
    }
   },
   "id": "86bfd459470f009d",
   "execution_count": 34
  },
  {
   "cell_type": "code",
   "outputs": [
    {
     "data": {
      "text/plain": "[<matplotlib.lines.Line2D at 0x146e377f0>]"
     },
     "execution_count": 35,
     "metadata": {},
     "output_type": "execute_result"
    },
    {
     "data": {
      "text/plain": "<Figure size 640x480 with 1 Axes>",
      "image/png": "[encoded data removed]"
     },
     "metadata": {},
     "output_type": "display_data"
    }
   ],
   "source": [
    "plt.scatter(scaled_X_train[:,0], scaled_X_train[:,1])\n",
    "plt.plot(scaled_new_data[:,0], scaled_new_data[:,1],'ro')"
   ],
   "metadata": {
    "collapsed": false,
    "ExecuteTime": {
     "end_time": "2024-02-27T05:59:37.420263Z",
     "start_time": "2024-02-27T05:59:37.328747Z"
    }
   },
   "id": "d2e9af09e5af553a",
   "execution_count": 35
  },
  {
   "cell_type": "markdown",
   "source": [],
   "metadata": {
    "collapsed": false
   },
   "id": "19c8b8723f76e8a3"
  },
  {
   "cell_type": "code",
   "outputs": [],
   "source": [],
   "metadata": {
    "collapsed": false,
    "ExecuteTime": {
     "end_time": "2024-02-27T05:59:37.421803Z",
     "start_time": "2024-02-27T05:59:37.418721Z"
    }
   },
   "id": "b836926a0f57306f",
   "execution_count": 35
  },
  {
   "cell_type": "code",
   "outputs": [],
   "source": [],
   "metadata": {
    "collapsed": false,
    "ExecuteTime": {
     "end_time": "2024-02-27T05:59:37.423765Z",
     "start_time": "2024-02-27T05:59:37.421486Z"
    }
   },
   "id": "932021123f5f8eee",
   "execution_count": 35
  }
 ],
 "metadata": {
  "kernelspec": {
   "display_name": "Python 3",
   "language": "python",
   "name": "python3"
  },
  "language_info": {
   "codemirror_mode": {
    "name": "ipython",
    "version": 2
   },
   "file_extension": ".py",
   "mimetype": "text/x-python",
   "name": "python",
   "nbconvert_exporter": "python",
   "pygments_lexer": "ipython2",
   "version": "2.7.6"
  }
 },
 "nbformat": 4,
 "nbformat_minor": 5
}
