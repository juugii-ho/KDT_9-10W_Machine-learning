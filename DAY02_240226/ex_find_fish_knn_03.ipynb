{
 "cells": [
  {
   "cell_type": "markdown",
   "source": [
    "## 목표 : 생선 품종 분류 모델\n",
    "    - 데이터 : 2가지 품종의 생선 데이터 fish.csv\n",
    "    - 피 쳐 : Weight, Length\n",
    "    - 타 겟 : Speci\n",
    "    - 유 형 : 지도학습 / 분류\n",
    "    - 최적의 K 즉, 이웃 데이터 수 찾기 코드 추"
   ],
   "metadata": {
    "collapsed": false
   },
   "id": "571e184f0257d5a5"
  },
  {
   "cell_type": "markdown",
   "source": [
    "### (1) 모듈 로딩 & 데이터 준비 <hr>"
   ],
   "metadata": {
    "collapsed": false
   },
   "id": "216ef2a9d120c866"
  },
  {
   "cell_type": "code",
   "outputs": [],
   "source": [
    "import pandas as pd                                     # 데이터 파일 관련 모듈\n",
    "import sklearn.preprocessing\n",
    "from sklearn.neighbors import KNeighborsClassifier      # 기계학습 관련 모듈"
   ],
   "metadata": {
    "collapsed": false,
    "ExecuteTime": {
     "end_time": "2024-02-26T07:25:45.322708Z",
     "start_time": "2024-02-26T07:25:45.219862Z"
    }
   },
   "id": "63460c919a3bc1b7",
   "execution_count": 97
  },
  {
   "cell_type": "code",
   "outputs": [],
   "source": [
    "data_file = '../data/fish.csv'"
   ],
   "metadata": {
    "collapsed": false,
    "ExecuteTime": {
     "end_time": "2024-02-26T07:25:45.327074Z",
     "start_time": "2024-02-26T07:25:45.317626Z"
    }
   },
   "id": "533cefdccb399e24",
   "execution_count": 98
  },
  {
   "cell_type": "code",
   "outputs": [
    {
     "name": "stdout",
     "output_type": "stream",
     "text": [
      "<class 'pandas.core.frame.DataFrame'>\n",
      "RangeIndex: 159 entries, 0 to 158\n",
      "Data columns (total 3 columns):\n",
      " #   Column   Non-Null Count  Dtype  \n",
      "---  ------   --------------  -----  \n",
      " 0   Species  159 non-null    object \n",
      " 1   Weight   159 non-null    float64\n",
      " 2   Length   159 non-null    float64\n",
      "dtypes: float64(2), object(1)\n",
      "memory usage: 3.9+ KB\n"
     ]
    }
   ],
   "source": [
    "# 5개 피쳐/특성 중 2개의 피쳐/특성 선택\n",
    "fishDF = pd.read_csv(data_file, usecols=[0,1,2])\n",
    "fishDF.info() # 수치, 시각화 모두 해서 확인해야"
   ],
   "metadata": {
    "collapsed": false,
    "ExecuteTime": {
     "end_time": "2024-02-26T07:25:45.341543Z",
     "start_time": "2024-02-26T07:25:45.330441Z"
    }
   },
   "id": "d0dbc79ee94ed300",
   "execution_count": 99
  },
  {
   "cell_type": "code",
   "outputs": [],
   "source": [
    "# Bream, Smelt 품종 행만 추출\n",
    "mask = fishDF.Species.isin([\"Bream\", \"Smelt\"]) # Boolean Indexing\n",
    "\n",
    "# 해당 행만 도출\n",
    "twoFishDF = fishDF[mask]\n",
    "twoFishDF.index\n",
    "\n",
    "# 인덱스 정리\n",
    "twoFishDF.reset_index(drop=True, inplace=True)"
   ],
   "metadata": {
    "collapsed": false,
    "ExecuteTime": {
     "end_time": "2024-02-26T07:25:45.359267Z",
     "start_time": "2024-02-26T07:25:45.344252Z"
    }
   },
   "id": "bddf7734b3cc791e",
   "execution_count": 100
  },
  {
   "cell_type": "code",
   "outputs": [
    {
     "name": "stderr",
     "output_type": "stream",
     "text": [
      "/var/folders/9y/lpn0hjmn5csct06t4_r5qtjr0000gn/T/ipykernel_62099/2798699763.py:3: SettingWithCopyWarning: \n",
      "A value is trying to be set on a copy of a slice from a DataFrame.\n",
      "Try using .loc[row_indexer,col_indexer] = value instead\n",
      "\n",
      "See the caveats in the documentation: https://pandas.pydata.org/pandas-docs/stable/user_guide/indexing.html#returning-a-view-versus-a-copy\n",
      "  twoFishDF['Species']= twoFishDF.Species.astype('int64')\n"
     ]
    },
    {
     "data": {
      "text/plain": "dtype('int64')"
     },
     "execution_count": 101,
     "metadata": {},
     "output_type": "execute_result"
    }
   ],
   "source": [
    "## Bream, Smelt 품종명을 수치화\n",
    "twoFishDF.loc[:,'Species'] = twoFishDF.Species.replace({'Bream':0,  'Smelt': 1}).copy()\n",
    "twoFishDF['Species']= twoFishDF.Species.astype('int64')\n",
    "twoFishDF['Species'].dtype # dtype('int64')"
   ],
   "metadata": {
    "collapsed": false,
    "ExecuteTime": {
     "end_time": "2024-02-26T07:25:45.373294Z",
     "start_time": "2024-02-26T07:25:45.362062Z"
    }
   },
   "id": "463ad2e480b9830f",
   "execution_count": 101
  },
  {
   "cell_type": "markdown",
   "source": [
    "### (2) 데이터 전처리<hr>\n",
    "- 정제 : 결측치, 중복값, 중복데이터, 이상치 처리\n",
    "- 정규화 : 피쳐 스케일링"
   ],
   "metadata": {
    "collapsed": false
   },
   "id": "a5eb1316869cfb39"
  },
  {
   "cell_type": "code",
   "outputs": [],
   "source": [
    "# # 표준 정규분포 => 평균 0, 표준편차 1 => z-score = (피쳐 - 평균)  / 표준편차\n",
    "# twoFishDF.describe()\n",
    "# twoFishDF['Weight'].mean(), twoFishDF['Length'].mean()\n"
   ],
   "metadata": {
    "collapsed": false,
    "ExecuteTime": {
     "end_time": "2024-02-26T07:25:45.407660Z",
     "start_time": "2024-02-26T07:25:45.374181Z"
    }
   },
   "id": "4eea2f1210bd7554",
   "execution_count": 102
  },
  {
   "cell_type": "code",
   "outputs": [],
   "source": [
    "# # Weight 컬럼\n",
    "# twoFishDF['Weight'].mean(), twoFishDF['Weight'].std()\n",
    "# ret1 = twoFishDF.Weight - twoFishDF['Weight'].mean()\n",
    "# ret1/twoFishDF['Weight'].std()\n",
    "# twoFishDF.loc[:,'Weight'] = ret1\n",
    "# \n",
    "# ret2 = twoFishDF.Length - twoFishDF['Length'].mean()\n",
    "# ret2/twoFishDF['Length'].std()\n",
    "# twoFishDF.loc[:,'Length'] = ret2\n",
    "# twoFishDF\n",
    "# \n",
    "# # 학습한 데이터의 평균, 표준편차를, 검증용 데이터에 그대로 이용해야 함\n",
    "# # 이 과정이 피쳐가 많은 경우 함수를 쓰거나 아래 sklearn 이용\n"
   ],
   "metadata": {
    "collapsed": false,
    "ExecuteTime": {
     "end_time": "2024-02-26T07:25:45.424292Z",
     "start_time": "2024-02-26T07:25:45.400725Z"
    }
   },
   "id": "4834a009dd0d2bcd",
   "execution_count": 103
  },
  {
   "cell_type": "markdown",
   "source": [
    "### (3) 기계학습 데이터셋 준비 => 피쳐와 타겟 분리 <hr>"
   ],
   "metadata": {
    "collapsed": false
   },
   "id": "4b4f6ccd7638127f"
  },
  {
   "cell_type": "code",
   "outputs": [
    {
     "data": {
      "text/plain": "   Weight  Length\n0   242.0    25.4\n1   290.0    26.3",
      "text/html": "<div>\n<style scoped>\n    .dataframe tbody tr th:only-of-type {\n        vertical-align: middle;\n    }\n\n    .dataframe tbody tr th {\n        vertical-align: top;\n    }\n\n    .dataframe thead th {\n        text-align: right;\n    }\n</style>\n<table border=\"1\" class=\"dataframe\">\n  <thead>\n    <tr style=\"text-align: right;\">\n      <th></th>\n      <th>Weight</th>\n      <th>Length</th>\n    </tr>\n  </thead>\n  <tbody>\n    <tr>\n      <th>0</th>\n      <td>242.0</td>\n      <td>25.4</td>\n    </tr>\n    <tr>\n      <th>1</th>\n      <td>290.0</td>\n      <td>26.3</td>\n    </tr>\n  </tbody>\n</table>\n</div>"
     },
     "execution_count": 104,
     "metadata": {},
     "output_type": "execute_result"
    }
   ],
   "source": [
    "# 피쳐/특성/속성 데이터 추출\n",
    "featureDF = twoFishDF[twoFishDF.columns[1:]]\n",
    "featureDF.head(2)"
   ],
   "metadata": {
    "collapsed": false,
    "ExecuteTime": {
     "end_time": "2024-02-26T07:25:45.428524Z",
     "start_time": "2024-02-26T07:25:45.421290Z"
    }
   },
   "id": "781be545c13c7376",
   "execution_count": 104
  },
  {
   "cell_type": "code",
   "outputs": [
    {
     "data": {
      "text/plain": "0    0\n1    0\nName: Species, dtype: int64"
     },
     "execution_count": 105,
     "metadata": {},
     "output_type": "execute_result"
    }
   ],
   "source": [
    "# 클래스/타겟/라벨 데이터 추출 ==> 수치화 즉 정수인코딩\n",
    "targetDF = twoFishDF['Species']\n",
    "targetDF.head(2)"
   ],
   "metadata": {
    "collapsed": false,
    "ExecuteTime": {
     "end_time": "2024-02-26T07:25:45.440403Z",
     "start_time": "2024-02-26T07:25:45.431057Z"
    }
   },
   "id": "e3cec6c2536d056d",
   "execution_count": 105
  },
  {
   "cell_type": "code",
   "outputs": [
    {
     "data": {
      "text/plain": "(dtype('int64'),\n 0    0\n 1    0\n 2    0\n 3    0\n 4    0\n Name: Species, dtype: int64)"
     },
     "execution_count": 106,
     "metadata": {},
     "output_type": "execute_result"
    }
   ],
   "source": [
    "targetDF = targetDF.replace({'Bream':0, 'Smelt':1})\n",
    "targetDF.dtype, targetDF.head()"
   ],
   "metadata": {
    "collapsed": false,
    "ExecuteTime": {
     "end_time": "2024-02-26T07:25:45.469403Z",
     "start_time": "2024-02-26T07:25:45.442135Z"
    }
   },
   "id": "1a00ae2585178c63",
   "execution_count": 106
  },
  {
   "cell_type": "markdown",
   "source": [
    "(3-1) 학습/테스트 데이터셋 분리 <hr>\n",
    "- 지도학습 중 분류 => [고려] 타겟의 비율\n",
    "- 학습 : 테스트 = 80 : 20"
   ],
   "metadata": {
    "collapsed": false
   },
   "id": "c50bf9a019f2558c"
  },
  {
   "cell_type": "code",
   "outputs": [],
   "source": [
    "# 모듈 로딩\n",
    "from sklearn.model_selection import train_test_split"
   ],
   "metadata": {
    "collapsed": false,
    "ExecuteTime": {
     "end_time": "2024-02-26T07:25:45.472777Z",
     "start_time": "2024-02-26T07:25:45.451647Z"
    }
   },
   "id": "4a7b8185fa1f440",
   "execution_count": 107
  },
  {
   "cell_type": "code",
   "outputs": [
    {
     "name": "stdout",
     "output_type": "stream",
     "text": [
      "13    0\n",
      "5     0\n",
      "14    0\n",
      "44    1\n",
      "7     0\n",
      "11    0\n",
      "10    0\n",
      "19    0\n",
      "40    1\n",
      "0     0\n",
      "20    0\n",
      "34    0\n",
      "45    1\n",
      "1     0\n",
      "29    0\n",
      "9     0\n",
      "28    0\n",
      "32    0\n",
      "48    1\n",
      "25    0\n",
      "46    1\n",
      "4     0\n",
      "39    1\n",
      "41    1\n",
      "22    0\n",
      "42    1\n",
      "31    0\n",
      "38    1\n",
      "47    1\n",
      "36    1\n",
      "24    0\n",
      "18    0\n",
      "12    0\n",
      "30    0\n",
      "3     0\n",
      "2     0\n",
      "21    0\n",
      "27    0\n",
      "6     0\n",
      "Name: Species, dtype: int64\n"
     ]
    }
   ],
   "source": [
    "X_train, X_test, y_train, y_test = train_test_split(featureDF,\n",
    "                                                    targetDF,\n",
    "                                                    test_size=0.2,\n",
    "                                                    stratify=targetDF)\n",
    "print(y_train)"
   ],
   "metadata": {
    "collapsed": false,
    "ExecuteTime": {
     "end_time": "2024-02-26T07:45:37.892902Z",
     "start_time": "2024-02-26T07:45:37.875377Z"
    }
   },
   "id": "3226adf2f0cc7a31",
   "execution_count": 123
  },
  {
   "cell_type": "code",
   "outputs": [
    {
     "name": "stdout",
     "output_type": "stream",
     "text": [
      "학습용 데이터셋 ------>\n",
      "(39, 2), (39,)\n",
      "학습용 데이터셋 ------>\n",
      "Species\n",
      "0    0.717949\n",
      "1    0.282051\n",
      "Name: count, dtype: float64\n",
      "테스트용 데이터셋 ------>\n",
      "(10, 2), (10,)\n",
      "테스트용 데이터셋 ------>\n",
      "Species\n",
      "0    0.7\n",
      "1    0.3\n",
      "Name: count, dtype: float64\n"
     ]
    }
   ],
   "source": [
    "# 학습 및 테스트 데이터셋 화인\n",
    "print(f'학습용 데이터셋 ------>\\n{X_train.shape}, {y_train.shape}')\n",
    "print(f'학습용 데이터셋 ------>\\n{y_train.value_counts()/y_train.shape[0]}')\n",
    "\n",
    "print(f'테스트용 데이터셋 ------>\\n{X_test.shape}, {y_test.shape}')\n",
    "print(f'테스트용 데이터셋 ------>\\n{y_test.value_counts()/y_test.shape}')\n",
    "\n"
   ],
   "metadata": {
    "collapsed": false,
    "ExecuteTime": {
     "end_time": "2024-02-26T07:25:45.538463Z",
     "start_time": "2024-02-26T07:25:45.492594Z"
    }
   },
   "id": "7753d3da7c0dd726",
   "execution_count": 109
  },
  {
   "cell_type": "markdown",
   "source": [
    "(3-2) 피쳐 데이터의 스케일링  <hr>\n",
    "- 피쳐들의 값의 범위가 다른 것을 통일 시켜줌\n",
    "- scikit-learn의 preprocessing 모듈 활용"
   ],
   "metadata": {
    "collapsed": false
   },
   "id": "45b1529ec5e527bf"
  },
  {
   "cell_type": "code",
   "outputs": [],
   "source": [
    "# 모듈로딩\n",
    "from sklearn.preprocessing import StandardScaler"
   ],
   "metadata": {
    "collapsed": false,
    "ExecuteTime": {
     "end_time": "2024-02-26T07:25:45.575993Z",
     "start_time": "2024-02-26T07:25:45.538932Z"
    }
   },
   "id": "ac34b423a0b83455",
   "execution_count": 110
  },
  {
   "cell_type": "code",
   "outputs": [],
   "source": [
    "# 표준정규분포 스케일링 : 평균 0, 편차 1\n",
    "# (1) 스케일러 인스턴스 생성\n",
    "# (2) 데이터에 대한 평균, 표준편차 계산 진행 : fit() 메서드\n",
    "# (3) 데이터에 대한 스케일링 진행 : transform() 메서드"
   ],
   "metadata": {
    "collapsed": false,
    "ExecuteTime": {
     "end_time": "2024-02-26T07:25:45.597265Z",
     "start_time": "2024-02-26T07:25:45.569013Z"
    }
   },
   "id": "6f62f2a7a7fe830b",
   "execution_count": 111
  },
  {
   "cell_type": "code",
   "outputs": [],
   "source": [
    "scaler = StandardScaler()"
   ],
   "metadata": {
    "collapsed": false,
    "ExecuteTime": {
     "end_time": "2024-02-26T07:25:45.607916Z",
     "start_time": "2024-02-26T07:25:45.592675Z"
    }
   },
   "id": "8d34275e4f4239de",
   "execution_count": 112
  },
  {
   "cell_type": "code",
   "outputs": [
    {
     "data": {
      "text/plain": "StandardScaler()",
      "text/html": "<style>#sk-container-id-4 {color: black;}#sk-container-id-4 pre{padding: 0;}#sk-container-id-4 div.sk-toggleable {background-color: white;}#sk-container-id-4 label.sk-toggleable__label {cursor: pointer;display: block;width: 100%;margin-bottom: 0;padding: 0.3em;box-sizing: border-box;text-align: center;}#sk-container-id-4 label.sk-toggleable__label-arrow:before {content: \"▸\";float: left;margin-right: 0.25em;color: #696969;}#sk-container-id-4 label.sk-toggleable__label-arrow:hover:before {color: black;}#sk-container-id-4 div.sk-estimator:hover label.sk-toggleable__label-arrow:before {color: black;}#sk-container-id-4 div.sk-toggleable__content {max-height: 0;max-width: 0;overflow: hidden;text-align: left;background-color: #f0f8ff;}#sk-container-id-4 div.sk-toggleable__content pre {margin: 0.2em;color: black;border-radius: 0.25em;background-color: #f0f8ff;}#sk-container-id-4 input.sk-toggleable__control:checked~div.sk-toggleable__content {max-height: 200px;max-width: 100%;overflow: auto;}#sk-container-id-4 input.sk-toggleable__control:checked~label.sk-toggleable__label-arrow:before {content: \"▾\";}#sk-container-id-4 div.sk-estimator input.sk-toggleable__control:checked~label.sk-toggleable__label {background-color: #d4ebff;}#sk-container-id-4 div.sk-label input.sk-toggleable__control:checked~label.sk-toggleable__label {background-color: #d4ebff;}#sk-container-id-4 input.sk-hidden--visually {border: 0;clip: rect(1px 1px 1px 1px);clip: rect(1px, 1px, 1px, 1px);height: 1px;margin: -1px;overflow: hidden;padding: 0;position: absolute;width: 1px;}#sk-container-id-4 div.sk-estimator {font-family: monospace;background-color: #f0f8ff;border: 1px dotted black;border-radius: 0.25em;box-sizing: border-box;margin-bottom: 0.5em;}#sk-container-id-4 div.sk-estimator:hover {background-color: #d4ebff;}#sk-container-id-4 div.sk-parallel-item::after {content: \"\";width: 100%;border-bottom: 1px solid gray;flex-grow: 1;}#sk-container-id-4 div.sk-label:hover label.sk-toggleable__label {background-color: #d4ebff;}#sk-container-id-4 div.sk-serial::before {content: \"\";position: absolute;border-left: 1px solid gray;box-sizing: border-box;top: 0;bottom: 0;left: 50%;z-index: 0;}#sk-container-id-4 div.sk-serial {display: flex;flex-direction: column;align-items: center;background-color: white;padding-right: 0.2em;padding-left: 0.2em;position: relative;}#sk-container-id-4 div.sk-item {position: relative;z-index: 1;}#sk-container-id-4 div.sk-parallel {display: flex;align-items: stretch;justify-content: center;background-color: white;position: relative;}#sk-container-id-4 div.sk-item::before, #sk-container-id-4 div.sk-parallel-item::before {content: \"\";position: absolute;border-left: 1px solid gray;box-sizing: border-box;top: 0;bottom: 0;left: 50%;z-index: -1;}#sk-container-id-4 div.sk-parallel-item {display: flex;flex-direction: column;z-index: 1;position: relative;background-color: white;}#sk-container-id-4 div.sk-parallel-item:first-child::after {align-self: flex-end;width: 50%;}#sk-container-id-4 div.sk-parallel-item:last-child::after {align-self: flex-start;width: 50%;}#sk-container-id-4 div.sk-parallel-item:only-child::after {width: 0;}#sk-container-id-4 div.sk-dashed-wrapped {border: 1px dashed gray;margin: 0 0.4em 0.5em 0.4em;box-sizing: border-box;padding-bottom: 0.4em;background-color: white;}#sk-container-id-4 div.sk-label label {font-family: monospace;font-weight: bold;display: inline-block;line-height: 1.2em;}#sk-container-id-4 div.sk-label-container {text-align: center;}#sk-container-id-4 div.sk-container {/* jupyter's `normalize.less` sets `[hidden] { display: none; }` but bootstrap.min.css set `[hidden] { display: none !important; }` so we also need the `!important` here to be able to override the default hidden behavior on the sphinx rendered scikit-learn.org. See: https://github.com/scikit-learn/scikit-learn/issues/21755 */display: inline-block !important;position: relative;}#sk-container-id-4 div.sk-text-repr-fallback {display: none;}</style><div id=\"sk-container-id-4\" class=\"sk-top-container\"><div class=\"sk-text-repr-fallback\"><pre>StandardScaler()</pre><b>In a Jupyter environment, please rerun this cell to show the HTML representation or trust the notebook. <br />On GitHub, the HTML representation is unable to render, please try loading this page with nbviewer.org.</b></div><div class=\"sk-container\" hidden><div class=\"sk-item\"><div class=\"sk-estimator sk-toggleable\"><input class=\"sk-toggleable__control sk-hidden--visually\" id=\"sk-estimator-id-4\" type=\"checkbox\" checked><label for=\"sk-estimator-id-4\" class=\"sk-toggleable__label sk-toggleable__label-arrow\">StandardScaler</label><div class=\"sk-toggleable__content\"><pre>StandardScaler()</pre></div></div></div></div></div>"
     },
     "execution_count": 113,
     "metadata": {},
     "output_type": "execute_result"
    }
   ],
   "source": [
    "scaler.fit(X_train)"
   ],
   "metadata": {
    "collapsed": false,
    "ExecuteTime": {
     "end_time": "2024-02-26T07:25:45.630144Z",
     "start_time": "2024-02-26T07:25:45.611292Z"
    }
   },
   "id": "4554480dc1595d2a",
   "execution_count": 113
  },
  {
   "cell_type": "code",
   "outputs": [
    {
     "data": {
      "text/plain": "array([445.10769231,  27.00769231])"
     },
     "execution_count": 114,
     "metadata": {},
     "output_type": "execute_result"
    }
   ],
   "source": [
    "scaler.mean_"
   ],
   "metadata": {
    "collapsed": false,
    "ExecuteTime": {
     "end_time": "2024-02-26T07:25:45.631106Z",
     "start_time": "2024-02-26T07:25:45.615519Z"
    }
   },
   "id": "b4c9731c2a707cbf",
   "execution_count": 114
  },
  {
   "cell_type": "code",
   "outputs": [
    {
     "data": {
      "text/plain": "array([[-1.34626941, -1.61122914],\n       [ 0.63352176,  0.65347304],\n       [-1.34565102, -1.53070639],\n       [ 1.63841342,  1.40837376],\n       [-1.34596022, -1.59109845],\n       [ 0.50984279,  0.65347304],\n       [ 0.01512689,  0.30118603],\n       [ 1.71571278,  1.00576004],\n       [-1.34936139, -1.58103311],\n       [ 0.16972561,  0.40183946],\n       [ 0.16972561,  0.37164343],\n       [ 0.78812048,  0.60314632],\n       [ 0.47892304,  0.50249289],\n       [-1.31534967, -1.27907282],\n       [-1.35307176, -1.66155585],\n       [-1.31473128, -1.20861542],\n       [-0.47958901, -0.07123166],\n       [ 0.47892304,  0.50249289],\n       [-1.34534182, -1.53070639],\n       [-0.17039157,  0.30118603],\n       [ 0.78812048,  0.80445318],\n       [-0.62800377, -0.16181975],\n       [ 1.4838147 ,  1.25739362],\n       [ 1.46835483,  1.15674019],\n       [-1.34596022, -1.51057571],\n       [ 0.09242625,  0.40183946],\n       [ 0.01512689,  0.27099   ],\n       [ 0.16972561,  0.27099   ],\n       [ 0.84995996,  0.80445318],\n       [ 0.72628099,  0.80445318],\n       [ 1.25191663,  0.90510661],\n       [ 0.40162368,  0.70379975],\n       [ 0.74174086,  0.70379975],\n       [-0.0467126 ,  0.2005326 ],\n       [-1.35461775, -1.65149051],\n       [ 1.57657393,  1.15674019],\n       [-1.33853948, -1.40992228],\n       [ 0.16972561,  0.45216618],\n       [-0.25387488,  0.2005326 ]])"
     },
     "execution_count": 115,
     "metadata": {},
     "output_type": "execute_result"
    }
   ],
   "source": [
    "scaled_X_train=scaler.transform(X_train) # 검증이나 데이터에 사용할 때 새 변수명 부여해서 반복 사용\n",
    "scaled_X_train"
   ],
   "metadata": {
    "collapsed": false,
    "ExecuteTime": {
     "end_time": "2024-02-26T07:25:45.653831Z",
     "start_time": "2024-02-26T07:25:45.635191Z"
    }
   },
   "id": "fd9bcad873be0ea",
   "execution_count": 115
  },
  {
   "cell_type": "code",
   "outputs": [
    {
     "data": {
      "text/plain": "array([[-1.34626941, -1.61122914],\n       [ 0.63352176,  0.65347304],\n       [-1.34565102, -1.53070639],\n       [ 1.63841342,  1.40837376],\n       [-1.34596022, -1.59109845],\n       [ 0.50984279,  0.65347304],\n       [ 0.01512689,  0.30118603],\n       [ 1.71571278,  1.00576004],\n       [-1.34936139, -1.58103311],\n       [ 0.16972561,  0.40183946],\n       [ 0.16972561,  0.37164343],\n       [ 0.78812048,  0.60314632],\n       [ 0.47892304,  0.50249289],\n       [-1.31534967, -1.27907282],\n       [-1.35307176, -1.66155585],\n       [-1.31473128, -1.20861542],\n       [-0.47958901, -0.07123166],\n       [ 0.47892304,  0.50249289],\n       [-1.34534182, -1.53070639],\n       [-0.17039157,  0.30118603],\n       [ 0.78812048,  0.80445318],\n       [-0.62800377, -0.16181975],\n       [ 1.4838147 ,  1.25739362],\n       [ 1.46835483,  1.15674019],\n       [-1.34596022, -1.51057571],\n       [ 0.09242625,  0.40183946],\n       [ 0.01512689,  0.27099   ],\n       [ 0.16972561,  0.27099   ],\n       [ 0.84995996,  0.80445318],\n       [ 0.72628099,  0.80445318],\n       [ 1.25191663,  0.90510661],\n       [ 0.40162368,  0.70379975],\n       [ 0.74174086,  0.70379975],\n       [-0.0467126 ,  0.2005326 ],\n       [-1.35461775, -1.65149051],\n       [ 1.57657393,  1.15674019],\n       [-1.33853948, -1.40992228],\n       [ 0.16972561,  0.45216618],\n       [-0.25387488,  0.2005326 ]])"
     },
     "execution_count": 116,
     "metadata": {},
     "output_type": "execute_result"
    }
   ],
   "source": [
    "scaler.fit_transform(X_train) # fit_transform : 검증이나 데이터에 사용하지 않을 때 사용"
   ],
   "metadata": {
    "collapsed": false,
    "ExecuteTime": {
     "end_time": "2024-02-26T07:25:45.654653Z",
     "start_time": "2024-02-26T07:25:45.642026Z"
    }
   },
   "id": "564469a4c5b8e495",
   "execution_count": 116
  },
  {
   "cell_type": "code",
   "outputs": [
    {
     "data": {
      "text/plain": "array([[-0.32499029, -0.05110097],\n       [ 1.56111406,  1.40837376],\n       [-0.32499029,  0.50249289],\n       [ 0.78812048,  0.60314632],\n       [ 0.86541984,  0.80445318],\n       [ 0.83140812,  0.90510661],\n       [-1.33853948, -1.49044502],\n       [-1.35554534, -1.73201325],\n       [-1.33482911, -1.47031434],\n       [ 0.54076253,  0.75412647]])"
     },
     "execution_count": 117,
     "metadata": {},
     "output_type": "execute_result"
    }
   ],
   "source": [
    "# 테스트용 데이터 피쳐 스케일링\n",
    "scaled_X_test = scaler.transform(X_test)\n",
    "scaled_X_test"
   ],
   "metadata": {
    "collapsed": false,
    "ExecuteTime": {
     "end_time": "2024-02-26T07:25:45.685065Z",
     "start_time": "2024-02-26T07:25:45.656865Z"
    }
   },
   "id": "b7218fb1f9e50cdc",
   "execution_count": 117
  },
  {
   "cell_type": "markdown",
   "source": [
    "(3-3) 시각화"
   ],
   "metadata": {
    "collapsed": false
   },
   "id": "b5a2ffd4cb441383"
  },
  {
   "cell_type": "code",
   "outputs": [
    {
     "data": {
      "text/plain": "Text(0, 0.5, 'Length')"
     },
     "execution_count": 118,
     "metadata": {},
     "output_type": "execute_result"
    },
    {
     "data": {
      "text/plain": "<Figure size 640x480 with 1 Axes>",
      "image/png": "[encoded data removed]"
     },
     "metadata": {},
     "output_type": "display_data"
    }
   ],
   "source": [
    "## 원본 데이터 시각화\n",
    "import matplotlib.pyplot as plt\n",
    "\n",
    "plt.plot(X_train.Weight, X_train.Length, 'ro')\n",
    "\n",
    "# 학습 데이터 시각화\n",
    "# plt.scatter(twoFishDF.Weight, twoFishDF.Length, c=twoFishDF.Species)\n",
    "plt.xlabel('Weight')\n",
    "plt.ylabel('Length')"
   ],
   "metadata": {
    "collapsed": false,
    "ExecuteTime": {
     "end_time": "2024-02-26T07:25:45.765991Z",
     "start_time": "2024-02-26T07:25:45.684051Z"
    }
   },
   "id": "788579de050bfcb4",
   "execution_count": 118
  },
  {
   "cell_type": "code",
   "outputs": [
    {
     "data": {
      "text/plain": "(-2.0, 2.0)"
     },
     "execution_count": 119,
     "metadata": {},
     "output_type": "execute_result"
    },
    {
     "data": {
      "text/plain": "<Figure size 640x480 with 1 Axes>",
      "image/png": "[encoded data removed]"
     },
     "metadata": {},
     "output_type": "display_data"
    }
   ],
   "source": [
    "## => 스케일됨 데이터 시각화 ==> scaled_X_train\n",
    "scaled_X_train.shape, scaled_X_train.ndim\n",
    "\n",
    "plt.plot(scaled_X_train[:,0], scaled_X_train[:,1], 'ro')\n",
    "plt.xlim(-2,2)\n",
    "plt.ylim(-2,2)\n"
   ],
   "metadata": {
    "collapsed": false,
    "ExecuteTime": {
     "end_time": "2024-02-26T07:25:45.855693Z",
     "start_time": "2024-02-26T07:25:45.767392Z"
    }
   },
   "id": "a4e39bbbe5b2337b",
   "execution_count": 119
  },
  {
   "cell_type": "markdown",
   "source": [
    "## (4) 학습 진행"
   ],
   "metadata": {
    "collapsed": false
   },
   "id": "475e893574c8855d"
  },
  {
   "cell_type": "code",
   "outputs": [],
   "source": [
    "## 방법 (1) : KNN 알고리즘\n",
    "## 모델 성능 좌우하는 매개변수 => 하이퍼 파라미터 : n_neighbors\n",
    "## n_neighbors 즉 k 갯수 : 1 ~ 전체 데이터 수\n",
    "max_k = scaled_X_train.shape[0]\n",
    "max_k\n",
    "\n",
    "test_scoreList = []\n",
    "train_scoreList = []\n",
    "for k in range(1,max_k+1):\n",
    "    fishModel = KNeighborsClassifier(n_neighbors=k)\n",
    "    fishModel.fit(scaled_X_train, y_train)\n",
    "    train_scoreList.append(fishModel.score(scaled_X_train,y_train))\n",
    "    test_scoreList.append(fishModel.score(scaled_X_test,y_test))\n",
    "    \n",
    "# train_scoreList = []\n",
    "# test_scoreList = []\n",
    "# for k in range(1, max_k+1):\n",
    "#     model = KNeighborsClassifier(n_neighbors=k)\n",
    "#     model.fit(scaled_X_train, y_train)\n",
    "#     train_scoreList.append(model.score(scaled_X_train, y_train))\n",
    "#     test_scoreList.append(model.score(scaled_X_test, y_test))\n",
    "    "
   ],
   "metadata": {
    "collapsed": false,
    "ExecuteTime": {
     "end_time": "2024-02-26T07:25:46.005530Z",
     "start_time": "2024-02-26T07:25:45.858123Z"
    }
   },
   "id": "546ae917b5494323",
   "execution_count": 120
  },
  {
   "cell_type": "code",
   "outputs": [
    {
     "name": "stdout",
     "output_type": "stream",
     "text": [
      "Train Score : [1.0, 1.0, 1.0, 1.0, 1.0, 1.0, 1.0, 1.0, 1.0, 1.0, 1.0, 1.0, 1.0, 1.0, 1.0, 1.0, 1.0, 1.0, 1.0, 1.0, 1.0, 0.717948717948718, 0.717948717948718, 0.717948717948718, 0.717948717948718, 0.717948717948718, 0.717948717948718, 0.717948717948718, 0.717948717948718, 0.717948717948718, 0.717948717948718, 0.717948717948718, 0.717948717948718, 0.717948717948718, 0.717948717948718, 0.717948717948718, 0.717948717948718, 0.717948717948718, 0.717948717948718]\n",
      "Test Score : [1.0, 1.0, 1.0, 1.0, 1.0, 1.0, 1.0, 1.0, 1.0, 1.0, 1.0, 1.0, 1.0, 1.0, 1.0, 1.0, 1.0, 1.0, 1.0, 1.0, 1.0, 0.7, 0.7, 0.7, 0.7, 0.7, 0.7, 0.7, 0.7, 0.7, 0.7, 0.7, 0.7, 0.7, 0.7, 0.7, 0.7, 0.7, 0.7]\n"
     ]
    }
   ],
   "source": [
    "# 학습 및 테스트 데이터에 대한 점수 확인\n",
    "print(f'Train Score : {train_scoreList}')\n",
    "print(f'Test Score : {test_scoreList}')"
   ],
   "metadata": {
    "collapsed": false,
    "ExecuteTime": {
     "end_time": "2024-02-26T07:25:46.008288Z",
     "start_time": "2024-02-26T07:25:46.004390Z"
    }
   },
   "id": "30e7a214c994e56d",
   "execution_count": 121
  },
  {
   "cell_type": "code",
   "outputs": [
    {
     "ename": "TypeError",
     "evalue": "title() missing 1 required positional argument: 'label'",
     "output_type": "error",
     "traceback": [
      "\u001B[0;31m---------------------------------------------------------------------------\u001B[0m",
      "\u001B[0;31mTypeError\u001B[0m                                 Traceback (most recent call last)",
      "Cell \u001B[0;32mIn[122], line 7\u001B[0m\n\u001B[1;32m      5\u001B[0m plt\u001B[38;5;241m.\u001B[39mxlabel(\u001B[38;5;124m'\u001B[39m\u001B[38;5;124mK\u001B[39m\u001B[38;5;124m'\u001B[39m)\n\u001B[1;32m      6\u001B[0m plt\u001B[38;5;241m.\u001B[39mylabel(\u001B[38;5;124m'\u001B[39m\u001B[38;5;124mScore\u001B[39m\u001B[38;5;124m'\u001B[39m)\n\u001B[0;32m----> 7\u001B[0m \u001B[43mplt\u001B[49m\u001B[38;5;241;43m.\u001B[39;49m\u001B[43mtitle\u001B[49m\u001B[43m(\u001B[49m\u001B[43m)\u001B[49m\n",
      "\u001B[0;31mTypeError\u001B[0m: title() missing 1 required positional argument: 'label'"
     ]
    },
    {
     "data": {
      "text/plain": "<Figure size 640x480 with 1 Axes>",
      "image/png": "[encoded data removed]"
     },
     "metadata": {},
     "output_type": "display_data"
    }
   ],
   "source": [
    "# k 갯수에 따른 학습용/테스트용 점수 시각화\n",
    "plt.plot(train_scoreList, 'b--', label='Train Score')\n",
    "plt.plot(test_scoreList, 'r-', label='Test Score')\n",
    "plt.title(\"K & Score\")\n",
    "plt.xlabel('K')\n",
    "plt.ylabel('Score')\n",
    "plt.title()"
   ],
   "metadata": {
    "collapsed": false,
    "ExecuteTime": {
     "end_time": "2024-02-26T07:25:46.118045Z",
     "start_time": "2024-02-26T07:25:46.010573Z"
    }
   },
   "id": "476192f967f65106",
   "execution_count": 122
  },
  {
   "cell_type": "code",
   "outputs": [],
   "source": [
    "# 학습\n",
    "# fishModel.fit(scaled_X_train, y_train)"
   ],
   "metadata": {
    "collapsed": false,
    "ExecuteTime": {
     "start_time": "2024-02-26T07:25:46.117776Z"
    }
   },
   "id": "74a4b4dc0fc7f3dc",
   "execution_count": null
  },
  {
   "cell_type": "code",
   "outputs": [],
   "source": [
    "## 방법 (2) : SVC\n",
    "from sklearn.svm import SVC\n",
    "\n",
    "fishmodel2=SVC()\n",
    "fishmodel2.fit(scaled_X_train,y_train)"
   ],
   "metadata": {
    "collapsed": false,
    "ExecuteTime": {
     "end_time": "2024-02-26T07:25:46.126979Z",
     "start_time": "2024-02-26T07:25:46.119644Z"
    }
   },
   "id": "90d63e87cd5c6b6d",
   "execution_count": null
  },
  {
   "cell_type": "code",
   "outputs": [],
   "source": [
    "## 방법 (3) : logistic regression\n",
    "from sklearn.linear_model import LogisticRegression\n",
    "\n",
    "fishmodel3 = LogisticRegression()\n",
    "fishmodel3.fit(scaled_X_train,y_train)"
   ],
   "metadata": {
    "collapsed": false,
    "ExecuteTime": {
     "start_time": "2024-02-26T07:25:46.121024Z"
    }
   },
   "id": "f825739f5edbe64b",
   "execution_count": null
  },
  {
   "cell_type": "markdown",
   "source": [
    "## (5) 테스트 진행"
   ],
   "metadata": {
    "collapsed": false
   },
   "id": "6be264a654687a0"
  },
  {
   "cell_type": "code",
   "outputs": [],
   "source": [
    "print('KNN', fishModel.score(scaled_X_test, y_test))\n",
    "print('SVC', fishmodel2.score(scaled_X_test, y_test))\n",
    "print('LogisticRegression', fishmodel3.score(scaled_X_test, y_test))"
   ],
   "metadata": {
    "collapsed": false,
    "ExecuteTime": {
     "start_time": "2024-02-26T07:25:46.122463Z"
    }
   },
   "id": "b92c1114b7d4b9c1",
   "execution_count": null
  },
  {
   "cell_type": "markdown",
   "source": [
    "(6) 예측"
   ],
   "metadata": {
    "collapsed": false
   },
   "id": "68b47ee58d720eeb"
  },
  {
   "cell_type": "code",
   "outputs": [],
   "source": [
    "## 길이 25, 무게 160인 생선의 품종 예측\n",
    "new_data = pd.DataFrame([[160,25]], columns=['Weight', 'Length'])\n",
    "\n",
    "fishModel.predict(scaled_X_test)"
   ],
   "metadata": {
    "collapsed": false,
    "ExecuteTime": {
     "start_time": "2024-02-26T07:25:46.124092Z"
    }
   },
   "id": "7a1ae19c9c0e4452",
   "execution_count": null
  },
  {
   "cell_type": "code",
   "outputs": [],
   "source": [
    "scaled_new_data = scaler.transform(new_data)\n",
    "scaled_new_data"
   ],
   "metadata": {
    "collapsed": false,
    "ExecuteTime": {
     "start_time": "2024-02-26T07:25:46.125739Z"
    }
   },
   "id": "669d693cd416cb93",
   "execution_count": null
  },
  {
   "cell_type": "code",
   "outputs": [],
   "source": [
    "# 예측\n",
    "fishModel.predict(scaled_new_data)"
   ],
   "metadata": {
    "collapsed": false,
    "ExecuteTime": {
     "start_time": "2024-02-26T07:25:46.126891Z"
    }
   },
   "id": "86bfd459470f009d",
   "execution_count": null
  },
  {
   "cell_type": "code",
   "outputs": [],
   "source": [
    "plt.scatter(scaled_X_train[:,0], scaled_X_train[:,1])\n",
    "plt.plot(scaled_new_data[:,0], scaled_new_data[:,1],'ro')"
   ],
   "metadata": {
    "collapsed": false,
    "ExecuteTime": {
     "end_time": "2024-02-26T07:25:46.133346Z",
     "start_time": "2024-02-26T07:25:46.127750Z"
    }
   },
   "id": "d2e9af09e5af553a",
   "execution_count": null
  },
  {
   "cell_type": "markdown",
   "source": [],
   "metadata": {
    "collapsed": false
   },
   "id": "19c8b8723f76e8a3"
  },
  {
   "cell_type": "code",
   "outputs": [],
   "source": [],
   "metadata": {
    "collapsed": false,
    "ExecuteTime": {
     "start_time": "2024-02-26T07:25:46.128773Z"
    }
   },
   "id": "b836926a0f57306f",
   "execution_count": null
  },
  {
   "cell_type": "code",
   "outputs": [],
   "source": [],
   "metadata": {
    "collapsed": false,
    "ExecuteTime": {
     "start_time": "2024-02-26T07:25:46.129786Z"
    }
   },
   "id": "932021123f5f8eee"
  }
 ],
 "metadata": {
  "kernelspec": {
   "display_name": "Python 3",
   "language": "python",
   "name": "python3"
  },
  "language_info": {
   "codemirror_mode": {
    "name": "ipython",
    "version": 2
   },
   "file_extension": ".py",
   "mimetype": "text/x-python",
   "name": "python",
   "nbconvert_exporter": "python",
   "pygments_lexer": "ipython2",
   "version": "2.7.6"
  }
 },
 "nbformat": 4,
 "nbformat_minor": 5
}
