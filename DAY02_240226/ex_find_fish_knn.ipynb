{
 "cells": [
  {
   "cell_type": "markdown",
   "source": [
    "#### KNN\n",
    "- 유유상종 : 끼리끼리 모인다\n",
    "- K개의 가장 가까이 존재하는 데이터를 기준으로 결과를 정하는 알고리즘\n",
    "- 데이터와 데이터의 거리를 도출해서 거리 순으로 정렬\n",
    "- K개 만큼 가까이 있는 데이터 도출\n",
    "    => 분류 : 다수결 원칙으로 많은 종류의 데이터 결론 도출\n",
    "    => 회귀 : 데이터의 평균값으로 결과를 도출 \n",
    "- 특징\n",
    " : 데이터의 규칙/패턴을 나타내는 수식이 없음\n",
    " : 데이터를 메모리 모두 저장 후 거리를 측정해서 결과 도출 => 게으른 학습"
   ],
   "metadata": {
    "collapsed": false
   },
   "id": "3def167caf0a109f"
  },
  {
   "cell_type": "markdown",
   "source": [
    "#### Scikit-learn 패키지 기계학습\n",
    "- 기계학습 방법\n",
    "    (1) 학습 모델 인스턴스 생성\n",
    "    (2) 학습 메서드 => fit(2D, 1D)\n",
    "    (3) 테스트 메서드 => score(2D, 1D)\n",
    "    (4) 활용 메서드 => predict( 2D ) ----> 결과"
   ],
   "metadata": {
    "collapsed": false
   },
   "id": "81d1ec7bcbef7fab"
  },
  {
   "cell_type": "markdown",
   "source": [
    "## 목표 : 생선 품종 분류 모델\n",
    "    - 데이터 : 2가지 품종의 생선 데이터 fish.csv\n",
    "    - 피 쳐 : Weight, Length\n",
    "    - 타 겟 : Speci\n",
    "    - 유 형 : 지도학습 / 분류"
   ],
   "metadata": {
    "collapsed": false
   },
   "id": "571e184f0257d5a5"
  },
  {
   "cell_type": "markdown",
   "source": [
    "### (1) 모듈 로딩 & 데이터 준비 <hr>"
   ],
   "metadata": {
    "collapsed": false
   },
   "id": "216ef2a9d120c866"
  },
  {
   "cell_type": "code",
   "outputs": [],
   "source": [
    "import pandas as pd                                     # 데이터 파일 관련 모듈\n",
    "from sklearn.neighbors import KNeighborsClassifier      # 기계학습 관련 모듈"
   ],
   "metadata": {
    "collapsed": false,
    "ExecuteTime": {
     "end_time": "2024-02-26T04:38:48.730832Z",
     "start_time": "2024-02-26T04:38:48.670708Z"
    }
   },
   "id": "63460c919a3bc1b7",
   "execution_count": 335
  },
  {
   "cell_type": "code",
   "outputs": [],
   "source": [
    "data_file = '../data/fish.csv'"
   ],
   "metadata": {
    "collapsed": false,
    "ExecuteTime": {
     "end_time": "2024-02-26T04:38:48.741426Z",
     "start_time": "2024-02-26T04:38:48.733491Z"
    }
   },
   "id": "533cefdccb399e24",
   "execution_count": 336
  },
  {
   "cell_type": "code",
   "outputs": [
    {
     "name": "stdout",
     "output_type": "stream",
     "text": [
      "<class 'pandas.core.frame.DataFrame'>\n",
      "RangeIndex: 159 entries, 0 to 158\n",
      "Data columns (total 3 columns):\n",
      " #   Column   Non-Null Count  Dtype  \n",
      "---  ------   --------------  -----  \n",
      " 0   Species  159 non-null    object \n",
      " 1   Weight   159 non-null    float64\n",
      " 2   Length   159 non-null    float64\n",
      "dtypes: float64(2), object(1)\n",
      "memory usage: 3.9+ KB\n"
     ]
    }
   ],
   "source": [
    "# 5개 피쳐/특성 중 2개의 피쳐/특성 선택\n",
    "fishDF = pd.read_csv(data_file, usecols=[0,1,2])\n",
    "fishDF.info() # 수치, 시각화 모두 해서 확인해야"
   ],
   "metadata": {
    "collapsed": false,
    "ExecuteTime": {
     "end_time": "2024-02-26T04:38:48.750264Z",
     "start_time": "2024-02-26T04:38:48.743762Z"
    }
   },
   "id": "d0dbc79ee94ed300",
   "execution_count": 337
  },
  {
   "cell_type": "code",
   "outputs": [],
   "source": [
    "# Bream, Smelt 품종 행만 추출\n",
    "mask = fishDF.Species.isin([\"Bream\", \"Smelt\"]) # Boolean Indexing\n",
    "\n",
    "# 해당 행만 도출\n",
    "twoFishDF = fishDF[mask]\n",
    "twoFishDF.index\n",
    "\n",
    "# 인덱스 정리\n",
    "twoFishDF.reset_index(drop=True, inplace=True)"
   ],
   "metadata": {
    "collapsed": false,
    "ExecuteTime": {
     "end_time": "2024-02-26T04:38:48.762927Z",
     "start_time": "2024-02-26T04:38:48.750037Z"
    }
   },
   "id": "bddf7734b3cc791e",
   "execution_count": 338
  },
  {
   "cell_type": "code",
   "outputs": [
    {
     "name": "stderr",
     "output_type": "stream",
     "text": [
      "/var/folders/9y/lpn0hjmn5csct06t4_r5qtjr0000gn/T/ipykernel_36908/269809121.py:6: SettingWithCopyWarning: \n",
      "A value is trying to be set on a copy of a slice from a DataFrame.\n",
      "Try using .loc[row_indexer,col_indexer] = value instead\n",
      "\n",
      "See the caveats in the documentation: https://pandas.pydata.org/pandas-docs/stable/user_guide/indexing.html#returning-a-view-versus-a-copy\n",
      "  twoFishDF['Species']= twoFishDF.Species.astype('int64')\n"
     ]
    },
    {
     "data": {
      "text/plain": "dtype('int64')"
     },
     "execution_count": 339,
     "metadata": {},
     "output_type": "execute_result"
    }
   ],
   "source": [
    "## Bream, Smelt 품종명을 수치화\n",
    "twoFishDF.loc[:,'Species'] = twoFishDF.Species.replace({'Bream':0,  'Smelt': 1}).copy()\n",
    "# DF일때는 위와 같이 .loc 하지 않으면 슬라이싱이 발생하여 warning 발생\n",
    "# twoFishDF.Species.dtype\n",
    "twoFishDF['Species'].dtype # dtype('O')\n",
    "twoFishDF['Species']= twoFishDF.Species.astype('int64')\n",
    "twoFishDF['Species'].dtype # dtype('int64')"
   ],
   "metadata": {
    "collapsed": false,
    "ExecuteTime": {
     "end_time": "2024-02-26T04:38:48.765841Z",
     "start_time": "2024-02-26T04:38:48.754765Z"
    }
   },
   "id": "463ad2e480b9830f",
   "execution_count": 339
  },
  {
   "cell_type": "markdown",
   "source": [
    "### (2) 데이터 전처리<hr>"
   ],
   "metadata": {
    "collapsed": false
   },
   "id": "a5eb1316869cfb39"
  },
  {
   "cell_type": "code",
   "outputs": [
    {
     "data": {
      "text/plain": "<matplotlib.collections.PathCollection at 0x2838f7a60>"
     },
     "execution_count": 340,
     "metadata": {},
     "output_type": "execute_result"
    },
    {
     "data": {
      "text/plain": "<Figure size 640x480 with 1 Axes>",
      "image/png": "[encoded data removed]"
     },
     "metadata": {},
     "output_type": "display_data"
    }
   ],
   "source": [
    "# Weight, Length로 품종 구별이 가능한지 시각화 확인\n",
    "\n",
    "import matplotlib.pyplot as plt\n",
    "\n",
    "plt.scatter(x=twoFishDF.Weight, y=twoFishDF.Length, c=twoFishDF.Species)"
   ],
   "metadata": {
    "collapsed": false,
    "ExecuteTime": {
     "end_time": "2024-02-26T04:38:48.821116Z",
     "start_time": "2024-02-26T04:38:48.758419Z"
    }
   },
   "id": "d6729c11e9fdb2d0",
   "execution_count": 340
  },
  {
   "cell_type": "markdown",
   "source": [
    "#### (3) 기계학습을 위한 데이터 준비\n",
    "- 피쳐/특성 + 타겟/라벨 /클래스\n",
    "- 학습용 데이터셋   : 75%  \n",
    "- 테스트용 데이터셋 :  25%"
   ],
   "metadata": {
    "collapsed": false
   },
   "id": "8e5c2a59d22bf2bc"
  },
  {
   "cell_type": "markdown",
   "source": [
    "(3-1) 직접 타겟/라벨 컬럼의 비율을 고려해서 학습&테스트용 데이터셋 준비"
   ],
   "metadata": {
    "collapsed": false
   },
   "id": "f85bddcf54a563"
  },
  {
   "cell_type": "code",
   "outputs": [
    {
     "data": {
      "text/plain": "(49, 3)"
     },
     "execution_count": 341,
     "metadata": {},
     "output_type": "execute_result"
    }
   ],
   "source": [
    "# 데이터 섞기 => 100% 모두 섞기\n",
    "twoFishDF = twoFishDF.sample(frac=1)\n",
    "twoFishDF.shape # frac=0.5 : (24,3) / frac=1 : (49,3)"
   ],
   "metadata": {
    "collapsed": false,
    "ExecuteTime": {
     "end_time": "2024-02-26T04:38:48.821842Z",
     "start_time": "2024-02-26T04:38:48.815133Z"
    }
   },
   "id": "50774880031f87b5",
   "execution_count": 341
  },
  {
   "cell_type": "code",
   "outputs": [],
   "source": [
    "# 학습과 테스트 비율 조절 갯수 계산\n",
    "num = round(twoFishDF.shape[0] * 0.8)\n",
    "\n",
    "# 학습 데이터셋 추출\n",
    "trainDF = twoFishDF.iloc[:num+1]\n",
    "\n",
    "# 테스트 데이터셋 추출\n",
    "testDF = twoFishDF.iloc[num+1:]"
   ],
   "metadata": {
    "collapsed": false,
    "ExecuteTime": {
     "end_time": "2024-02-26T04:38:48.830460Z",
     "start_time": "2024-02-26T04:38:48.820172Z"
    }
   },
   "id": "19346d1578e4f837",
   "execution_count": 342
  },
  {
   "cell_type": "markdown",
   "source": [
    "(3-2) scikit-learn 모듈 활용한 학습&테스트용 데이터셋 준비\n",
    "- 추가 모듈 롤딩"
   ],
   "metadata": {
    "collapsed": false
   },
   "id": "ba1156dd22fb24bf"
  },
  {
   "cell_type": "code",
   "outputs": [],
   "source": [
    "from sklearn.model_selection import train_test_split"
   ],
   "metadata": {
    "collapsed": false,
    "ExecuteTime": {
     "end_time": "2024-02-26T04:38:48.838608Z",
     "start_time": "2024-02-26T04:38:48.823599Z"
    }
   },
   "id": "7a925028478fe81d",
   "execution_count": 343
  },
  {
   "cell_type": "code",
   "outputs": [
    {
     "name": "stdout",
     "output_type": "stream",
     "text": [
      "featureDF => (49, 2)\n",
      "    Weight  Length\n",
      "18   610.0    33.5\n",
      "35     6.7     9.8\n",
      "targetSR => (49,)\n",
      "18    0\n",
      "35    1\n",
      "Name: Species, dtype: int64\n"
     ]
    }
   ],
   "source": [
    "featureDF=twoFishDF[twoFishDF.columns[1:]]\n",
    "targetSR=twoFishDF.Species\n",
    "\n",
    "print(f'featureDF => {featureDF.shape}\\n{featureDF.head(2)}')\n",
    "print(f'targetSR => {targetSR.shape}\\n{targetSR.head(2)}')\n"
   ],
   "metadata": {
    "collapsed": false,
    "ExecuteTime": {
     "end_time": "2024-02-26T04:38:48.839408Z",
     "start_time": "2024-02-26T04:38:48.828366Z"
    }
   },
   "id": "9683562b7063e9a9",
   "execution_count": 344
  },
  {
   "cell_type": "code",
   "outputs": [],
   "source": [
    "## -- 비율 설정 없이 학습/테스트셋 분리\n",
    "## -- [기본] shuffle=True, train:test = 0.75:0.25\n",
    "## -- [설정] train:test = 0.8:0.2 => test_size= 0.2 이면 나머지 자동 설정\n",
    "## -- [반환] 학습용 피쳐, 테스트용 피쳐, 학습용 타겟, 테스트용 타겟 언팩해서 받음\n",
    "X_train, X_test, y_train, y_test = train_test_split(featureDF, \n",
    "                                                    targetSR,\n",
    "                                                    test_size=0.2\n",
    "                                                    # 고정시키려면 random_state=10 같은 방식으로 고정시킬 수 있음\n",
    ")"
   ],
   "metadata": {
    "collapsed": false,
    "ExecuteTime": {
     "end_time": "2024-02-26T04:42:08.827316Z",
     "start_time": "2024-02-26T04:42:08.819881Z"
    }
   },
   "id": "8ca2b88f13db7cc9",
   "execution_count": 361
  },
  {
   "cell_type": "code",
   "outputs": [
    {
     "name": "stdout",
     "output_type": "stream",
     "text": [
      "X_train => (39, 2), y_train => 32    0\n",
      "30    0\n",
      "47    1\n",
      "20    0\n",
      "33    0\n",
      "34    0\n",
      "5     0\n",
      "41    1\n",
      "21    0\n",
      "38    1\n",
      "0     0\n",
      "19    0\n",
      "15    0\n",
      "39    1\n",
      "40    1\n",
      "46    1\n",
      "43    1\n",
      "28    0\n",
      "17    0\n",
      "25    0\n",
      "7     0\n",
      "13    0\n",
      "11    0\n",
      "8     0\n",
      "3     0\n",
      "45    1\n",
      "16    0\n",
      "48    1\n",
      "12    0\n",
      "9     0\n",
      "37    1\n",
      "10    0\n",
      "4     0\n",
      "18    0\n",
      "36    1\n",
      "35    1\n",
      "1     0\n",
      "42    1\n",
      "44    1\n",
      "Name: Species, dtype: int64\n",
      "    Weight  Length\n",
      "32   925.0    39.5\n",
      "30   920.0    38.5\n",
      "32    0\n",
      "30    0\n",
      "Name: Species, dtype: int64\n",
      "\n",
      "X_test => (10, 2), y_test => 29    0\n",
      "2     0\n",
      "27    0\n",
      "14    0\n",
      "26    0\n",
      "31    0\n",
      "24    0\n",
      "23    0\n",
      "6     0\n",
      "22    0\n",
      "Name: Species, dtype: int64\n",
      "    Weight  Length\n",
      "29  1000.0    37.0\n",
      "2    340.0    26.5\n",
      "29    0\n",
      "2     0\n",
      "Name: Species, dtype: int64\n"
     ]
    }
   ],
   "source": [
    "print(f'X_train => {X_train.shape}, y_train => {y_train}')\n",
    "print(X_train.head(2), y_train.head(2), sep='\\n')\n",
    "print(f'\\nX_test => {X_test.shape}, y_test => {y_test}')\n",
    "print(X_test.head(2), y_test.head(2), sep='\\n')\n",
    "\n"
   ],
   "metadata": {
    "collapsed": false,
    "ExecuteTime": {
     "end_time": "2024-02-26T04:42:09.206679Z",
     "start_time": "2024-02-26T04:42:09.203723Z"
    }
   },
   "id": "ef26b818e85848f0",
   "execution_count": 362
  },
  {
   "cell_type": "code",
   "outputs": [],
   "source": [
    "## -- 비율 설정 없이 학습/테스트셋 분리\n",
    "## -- [기본] shuffle=True, train:test = 0.75:0.25\n",
    "## -- [설정] train:test = 0.8:0.2 => train_size= 0.8 or test_size= 0.2 이면 나머지 자동 설정\n",
    "## --       분류의 경우 target이 불균형일 경우 비율을 지정하는 매개변수 stratify 매개변수를 타겟으로 설정\n",
    "## -- [반환] 학습용 피쳐, 테스트용 피쳐, 학습용 타겟, 테스트용 타겟 언팩해서 받음\n",
    "X_train, X_test, y_train, y_test = train_test_split(featureDF, \n",
    "                                                    targetSR,\n",
    "                                                    test_size=0.2,\n",
    "                                                    stratify=targetSR\n",
    "                                                    # 고정시키려면 random_state=10 같은 방식으로 고정시킬 수 있음\n",
    "\n",
    ")"
   ],
   "metadata": {
    "collapsed": false,
    "ExecuteTime": {
     "end_time": "2024-02-26T04:42:39.464403Z",
     "start_time": "2024-02-26T04:42:39.459554Z"
    }
   },
   "id": "7599e7428d8e09c2",
   "execution_count": 376
  },
  {
   "cell_type": "code",
   "outputs": [
    {
     "name": "stdout",
     "output_type": "stream",
     "text": [
      "X_train => (39, 2), y_train => 34    0\n",
      "20    0\n",
      "2     0\n",
      "6     0\n",
      "41    1\n",
      "11    0\n",
      "23    0\n",
      "17    0\n",
      "28    0\n",
      "9     0\n",
      "42    1\n",
      "25    0\n",
      "38    1\n",
      "1     0\n",
      "8     0\n",
      "44    1\n",
      "18    0\n",
      "48    1\n",
      "27    0\n",
      "37    1\n",
      "47    1\n",
      "4     0\n",
      "3     0\n",
      "21    0\n",
      "15    0\n",
      "13    0\n",
      "16    0\n",
      "30    0\n",
      "29    0\n",
      "31    0\n",
      "19    0\n",
      "5     0\n",
      "43    1\n",
      "7     0\n",
      "10    0\n",
      "46    1\n",
      "45    1\n",
      "12    0\n",
      "39    1\n",
      "Name: Species, dtype: int64\n",
      "    Weight  Length\n",
      "34   950.0    41.0\n",
      "20   575.0    34.0\n",
      "34    0\n",
      "20    0\n",
      "Name: Species, dtype: int64\n",
      "\n",
      "X_test => (10, 2), y_test => 26    0\n",
      "22    0\n",
      "24    0\n",
      "35    1\n",
      "40    1\n",
      "36    1\n",
      "0     0\n",
      "33    0\n",
      "32    0\n",
      "14    0\n",
      "Name: Species, dtype: int64\n",
      "    Weight  Length\n",
      "26   720.0    35.0\n",
      "22   620.0    34.5\n",
      "26    0\n",
      "22    0\n",
      "Name: Species, dtype: int64\n"
     ]
    }
   ],
   "source": [
    "print(f'X_train => {X_train.shape}, y_train => {y_train}')\n",
    "print(X_train.head(2), y_train.head(2), sep='\\n')\n",
    "print(f'\\nX_test => {X_test.shape}, y_test => {y_test}')\n",
    "print(X_test.head(2), y_test.head(2), sep='\\n')"
   ],
   "metadata": {
    "collapsed": false,
    "ExecuteTime": {
     "end_time": "2024-02-26T04:42:39.862890Z",
     "start_time": "2024-02-26T04:42:39.859590Z"
    }
   },
   "id": "9ba7dff38ce1742e",
   "execution_count": 377
  },
  {
   "cell_type": "code",
   "outputs": [],
   "source": [
    "### 검증용 데이터셋 준비 - 학습용 데이터셋에서 분리\n",
    "X_train, X_val, y_train, y_val = train_test_split(X_train, # <= 학습용 데이터셋 넣기\n",
    "                                              y_train, \n",
    "                                              test_size=0.1, \n",
    "                                              stratify=y_train\n",
    "                                              )\n"
   ],
   "metadata": {
    "collapsed": false,
    "ExecuteTime": {
     "end_time": "2024-02-26T04:42:40.153600Z",
     "start_time": "2024-02-26T04:42:40.148634Z"
    }
   },
   "id": "1143e0d43c904e5c",
   "execution_count": 378
  },
  {
   "cell_type": "markdown",
   "source": [
    "#### (4) 학습 진행\n",
    "- 학습 방법 : 지도학습/분류 => KNN\n",
    "- 모델 인스턴스 생성 => fit() 메서드"
   ],
   "metadata": {
    "collapsed": false
   },
   "id": "ecc1befe308d4d1e"
  },
  {
   "cell_type": "code",
   "outputs": [
    {
     "data": {
      "text/plain": "KNeighborsClassifier()",
      "text/html": "<style>#sk-container-id-30 {color: black;}#sk-container-id-30 pre{padding: 0;}#sk-container-id-30 div.sk-toggleable {background-color: white;}#sk-container-id-30 label.sk-toggleable__label {cursor: pointer;display: block;width: 100%;margin-bottom: 0;padding: 0.3em;box-sizing: border-box;text-align: center;}#sk-container-id-30 label.sk-toggleable__label-arrow:before {content: \"▸\";float: left;margin-right: 0.25em;color: #696969;}#sk-container-id-30 label.sk-toggleable__label-arrow:hover:before {color: black;}#sk-container-id-30 div.sk-estimator:hover label.sk-toggleable__label-arrow:before {color: black;}#sk-container-id-30 div.sk-toggleable__content {max-height: 0;max-width: 0;overflow: hidden;text-align: left;background-color: #f0f8ff;}#sk-container-id-30 div.sk-toggleable__content pre {margin: 0.2em;color: black;border-radius: 0.25em;background-color: #f0f8ff;}#sk-container-id-30 input.sk-toggleable__control:checked~div.sk-toggleable__content {max-height: 200px;max-width: 100%;overflow: auto;}#sk-container-id-30 input.sk-toggleable__control:checked~label.sk-toggleable__label-arrow:before {content: \"▾\";}#sk-container-id-30 div.sk-estimator input.sk-toggleable__control:checked~label.sk-toggleable__label {background-color: #d4ebff;}#sk-container-id-30 div.sk-label input.sk-toggleable__control:checked~label.sk-toggleable__label {background-color: #d4ebff;}#sk-container-id-30 input.sk-hidden--visually {border: 0;clip: rect(1px 1px 1px 1px);clip: rect(1px, 1px, 1px, 1px);height: 1px;margin: -1px;overflow: hidden;padding: 0;position: absolute;width: 1px;}#sk-container-id-30 div.sk-estimator {font-family: monospace;background-color: #f0f8ff;border: 1px dotted black;border-radius: 0.25em;box-sizing: border-box;margin-bottom: 0.5em;}#sk-container-id-30 div.sk-estimator:hover {background-color: #d4ebff;}#sk-container-id-30 div.sk-parallel-item::after {content: \"\";width: 100%;border-bottom: 1px solid gray;flex-grow: 1;}#sk-container-id-30 div.sk-label:hover label.sk-toggleable__label {background-color: #d4ebff;}#sk-container-id-30 div.sk-serial::before {content: \"\";position: absolute;border-left: 1px solid gray;box-sizing: border-box;top: 0;bottom: 0;left: 50%;z-index: 0;}#sk-container-id-30 div.sk-serial {display: flex;flex-direction: column;align-items: center;background-color: white;padding-right: 0.2em;padding-left: 0.2em;position: relative;}#sk-container-id-30 div.sk-item {position: relative;z-index: 1;}#sk-container-id-30 div.sk-parallel {display: flex;align-items: stretch;justify-content: center;background-color: white;position: relative;}#sk-container-id-30 div.sk-item::before, #sk-container-id-30 div.sk-parallel-item::before {content: \"\";position: absolute;border-left: 1px solid gray;box-sizing: border-box;top: 0;bottom: 0;left: 50%;z-index: -1;}#sk-container-id-30 div.sk-parallel-item {display: flex;flex-direction: column;z-index: 1;position: relative;background-color: white;}#sk-container-id-30 div.sk-parallel-item:first-child::after {align-self: flex-end;width: 50%;}#sk-container-id-30 div.sk-parallel-item:last-child::after {align-self: flex-start;width: 50%;}#sk-container-id-30 div.sk-parallel-item:only-child::after {width: 0;}#sk-container-id-30 div.sk-dashed-wrapped {border: 1px dashed gray;margin: 0 0.4em 0.5em 0.4em;box-sizing: border-box;padding-bottom: 0.4em;background-color: white;}#sk-container-id-30 div.sk-label label {font-family: monospace;font-weight: bold;display: inline-block;line-height: 1.2em;}#sk-container-id-30 div.sk-label-container {text-align: center;}#sk-container-id-30 div.sk-container {/* jupyter's `normalize.less` sets `[hidden] { display: none; }` but bootstrap.min.css set `[hidden] { display: none !important; }` so we also need the `!important` here to be able to override the default hidden behavior on the sphinx rendered scikit-learn.org. See: https://github.com/scikit-learn/scikit-learn/issues/21755 */display: inline-block !important;position: relative;}#sk-container-id-30 div.sk-text-repr-fallback {display: none;}</style><div id=\"sk-container-id-30\" class=\"sk-top-container\"><div class=\"sk-text-repr-fallback\"><pre>KNeighborsClassifier()</pre><b>In a Jupyter environment, please rerun this cell to show the HTML representation or trust the notebook. <br />On GitHub, the HTML representation is unable to render, please try loading this page with nbviewer.org.</b></div><div class=\"sk-container\" hidden><div class=\"sk-item\"><div class=\"sk-estimator sk-toggleable\"><input class=\"sk-toggleable__control sk-hidden--visually\" id=\"sk-estimator-id-30\" type=\"checkbox\" checked><label for=\"sk-estimator-id-30\" class=\"sk-toggleable__label sk-toggleable__label-arrow\">KNeighborsClassifier</label><div class=\"sk-toggleable__content\"><pre>KNeighborsClassifier()</pre></div></div></div></div></div>"
     },
     "execution_count": 379,
     "metadata": {},
     "output_type": "execute_result"
    }
   ],
   "source": [
    "model=KNeighborsClassifier()\n",
    "model"
   ],
   "metadata": {
    "collapsed": false,
    "ExecuteTime": {
     "end_time": "2024-02-26T04:42:40.737237Z",
     "start_time": "2024-02-26T04:42:40.731706Z"
    }
   },
   "id": "11e81439bc6a1d77",
   "execution_count": 379
  },
  {
   "cell_type": "code",
   "outputs": [
    {
     "data": {
      "text/plain": "KNeighborsClassifier()",
      "text/html": "<style>#sk-container-id-31 {color: black;}#sk-container-id-31 pre{padding: 0;}#sk-container-id-31 div.sk-toggleable {background-color: white;}#sk-container-id-31 label.sk-toggleable__label {cursor: pointer;display: block;width: 100%;margin-bottom: 0;padding: 0.3em;box-sizing: border-box;text-align: center;}#sk-container-id-31 label.sk-toggleable__label-arrow:before {content: \"▸\";float: left;margin-right: 0.25em;color: #696969;}#sk-container-id-31 label.sk-toggleable__label-arrow:hover:before {color: black;}#sk-container-id-31 div.sk-estimator:hover label.sk-toggleable__label-arrow:before {color: black;}#sk-container-id-31 div.sk-toggleable__content {max-height: 0;max-width: 0;overflow: hidden;text-align: left;background-color: #f0f8ff;}#sk-container-id-31 div.sk-toggleable__content pre {margin: 0.2em;color: black;border-radius: 0.25em;background-color: #f0f8ff;}#sk-container-id-31 input.sk-toggleable__control:checked~div.sk-toggleable__content {max-height: 200px;max-width: 100%;overflow: auto;}#sk-container-id-31 input.sk-toggleable__control:checked~label.sk-toggleable__label-arrow:before {content: \"▾\";}#sk-container-id-31 div.sk-estimator input.sk-toggleable__control:checked~label.sk-toggleable__label {background-color: #d4ebff;}#sk-container-id-31 div.sk-label input.sk-toggleable__control:checked~label.sk-toggleable__label {background-color: #d4ebff;}#sk-container-id-31 input.sk-hidden--visually {border: 0;clip: rect(1px 1px 1px 1px);clip: rect(1px, 1px, 1px, 1px);height: 1px;margin: -1px;overflow: hidden;padding: 0;position: absolute;width: 1px;}#sk-container-id-31 div.sk-estimator {font-family: monospace;background-color: #f0f8ff;border: 1px dotted black;border-radius: 0.25em;box-sizing: border-box;margin-bottom: 0.5em;}#sk-container-id-31 div.sk-estimator:hover {background-color: #d4ebff;}#sk-container-id-31 div.sk-parallel-item::after {content: \"\";width: 100%;border-bottom: 1px solid gray;flex-grow: 1;}#sk-container-id-31 div.sk-label:hover label.sk-toggleable__label {background-color: #d4ebff;}#sk-container-id-31 div.sk-serial::before {content: \"\";position: absolute;border-left: 1px solid gray;box-sizing: border-box;top: 0;bottom: 0;left: 50%;z-index: 0;}#sk-container-id-31 div.sk-serial {display: flex;flex-direction: column;align-items: center;background-color: white;padding-right: 0.2em;padding-left: 0.2em;position: relative;}#sk-container-id-31 div.sk-item {position: relative;z-index: 1;}#sk-container-id-31 div.sk-parallel {display: flex;align-items: stretch;justify-content: center;background-color: white;position: relative;}#sk-container-id-31 div.sk-item::before, #sk-container-id-31 div.sk-parallel-item::before {content: \"\";position: absolute;border-left: 1px solid gray;box-sizing: border-box;top: 0;bottom: 0;left: 50%;z-index: -1;}#sk-container-id-31 div.sk-parallel-item {display: flex;flex-direction: column;z-index: 1;position: relative;background-color: white;}#sk-container-id-31 div.sk-parallel-item:first-child::after {align-self: flex-end;width: 50%;}#sk-container-id-31 div.sk-parallel-item:last-child::after {align-self: flex-start;width: 50%;}#sk-container-id-31 div.sk-parallel-item:only-child::after {width: 0;}#sk-container-id-31 div.sk-dashed-wrapped {border: 1px dashed gray;margin: 0 0.4em 0.5em 0.4em;box-sizing: border-box;padding-bottom: 0.4em;background-color: white;}#sk-container-id-31 div.sk-label label {font-family: monospace;font-weight: bold;display: inline-block;line-height: 1.2em;}#sk-container-id-31 div.sk-label-container {text-align: center;}#sk-container-id-31 div.sk-container {/* jupyter's `normalize.less` sets `[hidden] { display: none; }` but bootstrap.min.css set `[hidden] { display: none !important; }` so we also need the `!important` here to be able to override the default hidden behavior on the sphinx rendered scikit-learn.org. See: https://github.com/scikit-learn/scikit-learn/issues/21755 */display: inline-block !important;position: relative;}#sk-container-id-31 div.sk-text-repr-fallback {display: none;}</style><div id=\"sk-container-id-31\" class=\"sk-top-container\"><div class=\"sk-text-repr-fallback\"><pre>KNeighborsClassifier()</pre><b>In a Jupyter environment, please rerun this cell to show the HTML representation or trust the notebook. <br />On GitHub, the HTML representation is unable to render, please try loading this page with nbviewer.org.</b></div><div class=\"sk-container\" hidden><div class=\"sk-item\"><div class=\"sk-estimator sk-toggleable\"><input class=\"sk-toggleable__control sk-hidden--visually\" id=\"sk-estimator-id-31\" type=\"checkbox\" checked><label for=\"sk-estimator-id-31\" class=\"sk-toggleable__label sk-toggleable__label-arrow\">KNeighborsClassifier</label><div class=\"sk-toggleable__content\"><pre>KNeighborsClassifier()</pre></div></div></div></div></div>"
     },
     "execution_count": 380,
     "metadata": {},
     "output_type": "execute_result"
    }
   ],
   "source": [
    "# 학습 진행 => 학습용 데이터 진행\n",
    "model.fit(X_train, y_train)"
   ],
   "metadata": {
    "collapsed": false,
    "ExecuteTime": {
     "end_time": "2024-02-26T04:42:40.817252Z",
     "start_time": "2024-02-26T04:42:40.811239Z"
    }
   },
   "id": "9d35f331e3d650cc",
   "execution_count": 380
  },
  {
   "cell_type": "markdown",
   "source": [
    "#### (5) 테스트 진행 => 학습에 사용되지 않은 데이터로 진행"
   ],
   "metadata": {
    "collapsed": false
   },
   "id": "800dc4874164f872"
  },
  {
   "cell_type": "code",
   "outputs": [
    {
     "data": {
      "text/plain": "1.0"
     },
     "execution_count": 381,
     "metadata": {},
     "output_type": "execute_result"
    }
   ],
   "source": [
    "model.score(X_val, y_val)"
   ],
   "metadata": {
    "collapsed": false,
    "ExecuteTime": {
     "end_time": "2024-02-26T04:42:40.995665Z",
     "start_time": "2024-02-26T04:42:40.989264Z"
    }
   },
   "id": "1f31bbc13bda59d",
   "execution_count": 381
  },
  {
   "cell_type": "markdown",
   "source": [
    "#### (6) 모델 활용 예측 => 새로운 데이터로 진행"
   ],
   "metadata": {
    "collapsed": false
   },
   "id": "6561d890d1e1b3"
  },
  {
   "cell_type": "code",
   "outputs": [],
   "source": [],
   "metadata": {
    "collapsed": false,
    "ExecuteTime": {
     "end_time": "2024-02-26T04:42:41.138357Z",
     "start_time": "2024-02-26T04:42:41.133123Z"
    }
   },
   "id": "35e0b0eff02d3e04",
   "execution_count": 381
  },
  {
   "cell_type": "code",
   "outputs": [
    {
     "data": {
      "text/plain": "array([0, 0, 0, 1, 1, 1, 0, 0, 0, 0])"
     },
     "execution_count": 382,
     "metadata": {},
     "output_type": "execute_result"
    }
   ],
   "source": [
    "model.predict(X_test)"
   ],
   "metadata": {
    "collapsed": false,
    "ExecuteTime": {
     "end_time": "2024-02-26T04:42:41.227869Z",
     "start_time": "2024-02-26T04:42:41.223029Z"
    }
   },
   "id": "12c09a80266eed00",
   "execution_count": 382
  },
  {
   "cell_type": "code",
   "outputs": [
    {
     "data": {
      "text/plain": "26    0\n22    0\n24    0\n35    1\n40    1\n36    1\n0     0\n33    0\n32    0\n14    0\nName: Species, dtype: int64"
     },
     "execution_count": 383,
     "metadata": {},
     "output_type": "execute_result"
    }
   ],
   "source": [
    "y_test"
   ],
   "metadata": {
    "collapsed": false,
    "ExecuteTime": {
     "end_time": "2024-02-26T04:42:41.337206Z",
     "start_time": "2024-02-26T04:42:41.331654Z"
    }
   },
   "id": "3cc35d213c1804dc",
   "execution_count": 383
  },
  {
   "cell_type": "markdown",
   "source": [],
   "metadata": {
    "collapsed": false
   },
   "id": "76d4274e224735ee"
  },
  {
   "cell_type": "markdown",
   "source": [
    "#### (6-1) 사용자로부터 전달받은 새로운 데이터에 대한 예측\n",
    "=> 학습할 때 전달되는 피쳐형태와 동일한 데이터\n"
   ],
   "metadata": {
    "collapsed": false
   },
   "id": "916d84d8dfdc6dd9"
  },
  {
   "cell_type": "code",
   "outputs": [
    {
     "data": {
      "text/plain": "   Weight  Length\n0     160      25",
      "text/html": "<div>\n<style scoped>\n    .dataframe tbody tr th:only-of-type {\n        vertical-align: middle;\n    }\n\n    .dataframe tbody tr th {\n        vertical-align: top;\n    }\n\n    .dataframe thead th {\n        text-align: right;\n    }\n</style>\n<table border=\"1\" class=\"dataframe\">\n  <thead>\n    <tr style=\"text-align: right;\">\n      <th></th>\n      <th>Weight</th>\n      <th>Length</th>\n    </tr>\n  </thead>\n  <tbody>\n    <tr>\n      <th>0</th>\n      <td>160</td>\n      <td>25</td>\n    </tr>\n  </tbody>\n</table>\n</div>"
     },
     "execution_count": 384,
     "metadata": {},
     "output_type": "execute_result"
    }
   ],
   "source": [
    "## 무게가 160, 길이가 25인 생선의 품종 예측 ------------------------\n",
    "new_data = pd.DataFrame([[160,25]], columns=twoFishDF.columns[1:])\n",
    "new_data"
   ],
   "metadata": {
    "collapsed": false,
    "ExecuteTime": {
     "end_time": "2024-02-26T04:42:42.003646Z",
     "start_time": "2024-02-26T04:42:42.000614Z"
    }
   },
   "id": "838ca057244aba0a",
   "execution_count": 384
  },
  {
   "cell_type": "code",
   "outputs": [
    {
     "data": {
      "text/plain": "Text(0, 0.5, 'Length')"
     },
     "execution_count": 385,
     "metadata": {},
     "output_type": "execute_result"
    },
    {
     "data": {
      "text/plain": "<Figure size 640x480 with 1 Axes>",
      "image/png": "[encoded data removed]"
     },
     "metadata": {},
     "output_type": "display_data"
    }
   ],
   "source": [
    "# 새로운 데이터와 학습 데이터의 시각화\n",
    "plt.plot(new_data.Weight, new_data.Length, 'ro')\n",
    "\n",
    "# 학습 데이터 시각화\n",
    "plt.scatter(twoFishDF.Weight, twoFishDF.Length, c=twoFishDF.Species)\n",
    "plt.xlabel('Weight')\n",
    "plt.ylabel('Length')"
   ],
   "metadata": {
    "collapsed": false,
    "ExecuteTime": {
     "end_time": "2024-02-26T04:42:42.217898Z",
     "start_time": "2024-02-26T04:42:42.157383Z"
    }
   },
   "id": "3faeae14c9109f",
   "execution_count": 385
  },
  {
   "cell_type": "code",
   "outputs": [
    {
     "data": {
      "text/plain": "array([1])"
     },
     "execution_count": 386,
     "metadata": {},
     "output_type": "execute_result"
    }
   ],
   "source": [
    "# 생성된 모델로 새로운 데이터 품종 예측\n",
    "model.predict(new_data)"
   ],
   "metadata": {
    "collapsed": false,
    "ExecuteTime": {
     "end_time": "2024-02-26T04:42:42.328651Z",
     "start_time": "2024-02-26T04:42:42.325917Z"
    }
   },
   "id": "b87945a62f435801",
   "execution_count": 386
  },
  {
   "cell_type": "code",
   "outputs": [
    {
     "data": {
      "text/plain": "[26, 18, 34, 31, 23]"
     },
     "execution_count": 390,
     "metadata": {},
     "output_type": "execute_result"
    }
   ],
   "source": [
    "# 새로운 데이터의 최근접 데이터 추출\n",
    "_, index = model.kneighbors(new_data)\n",
    "index.tolist()[0]"
   ],
   "metadata": {
    "collapsed": false,
    "ExecuteTime": {
     "end_time": "2024-02-26T04:43:22.664863Z",
     "start_time": "2024-02-26T04:43:22.660076Z"
    }
   },
   "id": "e4b848c30e48fd1e",
   "execution_count": 390
  },
  {
   "cell_type": "code",
   "outputs": [],
   "source": [
    "modelDF = twoFishDF.iloc[index.tolist()[0]]"
   ],
   "metadata": {
    "collapsed": false,
    "ExecuteTime": {
     "end_time": "2024-02-26T04:43:22.782892Z",
     "start_time": "2024-02-26T04:43:22.778021Z"
    }
   },
   "id": "5b19f07774d6686f",
   "execution_count": 391
  },
  {
   "cell_type": "code",
   "outputs": [
    {
     "data": {
      "text/plain": "(0.0, 1000.0)"
     },
     "execution_count": 394,
     "metadata": {},
     "output_type": "execute_result"
    },
    {
     "data": {
      "text/plain": "<Figure size 640x480 with 1 Axes>",
      "image/png": "[encoded data removed]"
     },
     "metadata": {},
     "output_type": "display_data"
    }
   ],
   "source": [
    "# 새로운 데이터와 학습 데이터의 시각화\n",
    "plt.plot(new_data.Weight, new_data.Length, 'ro')\n",
    "plt.plot(modelDF.Weight, modelDF.Length, 'bo')\n",
    "\n",
    "# 학습 데이터 시각화\n",
    "plt.scatter(twoFishDF.Weight, twoFishDF.Length, c=twoFishDF.Species)\n",
    "plt.xlabel('Weight')\n",
    "plt.ylabel('Length')\n",
    "plt.ylim(0,1000)"
   ],
   "metadata": {
    "collapsed": false,
    "ExecuteTime": {
     "end_time": "2024-02-26T04:44:38.925934Z",
     "start_time": "2024-02-26T04:44:38.872203Z"
    }
   },
   "id": "6d87a52a648420d2",
   "execution_count": 394
  },
  {
   "cell_type": "code",
   "outputs": [],
   "source": [],
   "metadata": {
    "collapsed": false,
    "ExecuteTime": {
     "end_time": "2024-02-26T04:42:11.547218Z",
     "start_time": "2024-02-26T04:42:11.537207Z"
    }
   },
   "id": "f8dd21b51a6eb02b",
   "execution_count": 375
  },
  {
   "cell_type": "code",
   "outputs": [],
   "source": [],
   "metadata": {
    "collapsed": false,
    "ExecuteTime": {
     "end_time": "2024-02-26T04:42:11.605085Z",
     "start_time": "2024-02-26T04:42:11.595230Z"
    }
   },
   "id": "5e498c4fb19adf95",
   "execution_count": 375
  },
  {
   "cell_type": "code",
   "outputs": [],
   "source": [],
   "metadata": {
    "collapsed": false,
    "ExecuteTime": {
     "end_time": "2024-02-26T04:42:11.665265Z",
     "start_time": "2024-02-26T04:42:11.655297Z"
    }
   },
   "id": "9e0d8ead89c05543",
   "execution_count": 375
  },
  {
   "cell_type": "code",
   "outputs": [],
   "source": [],
   "metadata": {
    "collapsed": false,
    "ExecuteTime": {
     "end_time": "2024-02-26T04:42:11.750483Z",
     "start_time": "2024-02-26T04:42:11.738804Z"
    }
   },
   "id": "6ae31af3490b40cc",
   "execution_count": 375
  },
  {
   "cell_type": "code",
   "outputs": [],
   "source": [],
   "metadata": {
    "collapsed": false
   },
   "id": "406fb01d3fee3d18"
  }
 ],
 "metadata": {
  "kernelspec": {
   "display_name": "Python 3",
   "language": "python",
   "name": "python3"
  },
  "language_info": {
   "codemirror_mode": {
    "name": "ipython",
    "version": 2
   },
   "file_extension": ".py",
   "mimetype": "text/x-python",
   "name": "python",
   "nbconvert_exporter": "python",
   "pygments_lexer": "ipython2",
   "version": "2.7.6"
  }
 },
 "nbformat": 4,
 "nbformat_minor": 5
}
