{
 "cells": [
  {
   "cell_type": "markdown",
   "source": [
    "## 목표 : 생선 분류 모델\n",
    "- 데이터 : fish.csv\n",
    "- 피쳐 : 5개 Weight, Length, Diagonal, Height, Width\n",
    "- 타겟 : 1개 Species\n",
    "- 방법 : 지도학습 + 다중분류"
   ],
   "metadata": {
    "collapsed": false
   },
   "id": "726e2552754fcb"
  },
  {
   "cell_type": "markdown",
   "source": [
    "### (1) 모듈로딩 및 데이터 준비 <hr>"
   ],
   "metadata": {
    "collapsed": false
   },
   "id": "a12dd24cd48e1a35"
  },
  {
   "cell_type": "code",
   "outputs": [],
   "source": [
    "import pandas as pd\n",
    "import numpy as np"
   ],
   "metadata": {
    "collapsed": false,
    "ExecuteTime": {
     "end_time": "2024-03-04T05:39:06.720441Z",
     "start_time": "2024-03-04T05:39:06.663457Z"
    }
   },
   "id": "592bf6177f2712c9",
   "execution_count": 2
  },
  {
   "cell_type": "code",
   "outputs": [
    {
     "data": {
      "text/plain": "    Species  Weight  Length  Diagonal   Height   Width\n0     Bream   242.0    25.4      30.0  11.5200  4.0200\n1     Bream   290.0    26.3      31.2  12.4800  4.3056\n2     Bream   340.0    26.5      31.1  12.3778  4.6961\n3     Bream   363.0    29.0      33.5  12.7300  4.4555\n4     Bream   430.0    29.0      34.0  12.4440  5.1340\n..      ...     ...     ...       ...      ...     ...\n154   Smelt    12.2    12.2      13.4   2.0904  1.3936\n155   Smelt    13.4    12.4      13.5   2.4300  1.2690\n156   Smelt    12.2    13.0      13.8   2.2770  1.2558\n157   Smelt    19.7    14.3      15.2   2.8728  2.0672\n158   Smelt    19.9    15.0      16.2   2.9322  1.8792\n\n[159 rows x 6 columns]",
      "text/html": "<div>\n<style scoped>\n    .dataframe tbody tr th:only-of-type {\n        vertical-align: middle;\n    }\n\n    .dataframe tbody tr th {\n        vertical-align: top;\n    }\n\n    .dataframe thead th {\n        text-align: right;\n    }\n</style>\n<table border=\"1\" class=\"dataframe\">\n  <thead>\n    <tr style=\"text-align: right;\">\n      <th></th>\n      <th>Species</th>\n      <th>Weight</th>\n      <th>Length</th>\n      <th>Diagonal</th>\n      <th>Height</th>\n      <th>Width</th>\n    </tr>\n  </thead>\n  <tbody>\n    <tr>\n      <th>0</th>\n      <td>Bream</td>\n      <td>242.0</td>\n      <td>25.4</td>\n      <td>30.0</td>\n      <td>11.5200</td>\n      <td>4.0200</td>\n    </tr>\n    <tr>\n      <th>1</th>\n      <td>Bream</td>\n      <td>290.0</td>\n      <td>26.3</td>\n      <td>31.2</td>\n      <td>12.4800</td>\n      <td>4.3056</td>\n    </tr>\n    <tr>\n      <th>2</th>\n      <td>Bream</td>\n      <td>340.0</td>\n      <td>26.5</td>\n      <td>31.1</td>\n      <td>12.3778</td>\n      <td>4.6961</td>\n    </tr>\n    <tr>\n      <th>3</th>\n      <td>Bream</td>\n      <td>363.0</td>\n      <td>29.0</td>\n      <td>33.5</td>\n      <td>12.7300</td>\n      <td>4.4555</td>\n    </tr>\n    <tr>\n      <th>4</th>\n      <td>Bream</td>\n      <td>430.0</td>\n      <td>29.0</td>\n      <td>34.0</td>\n      <td>12.4440</td>\n      <td>5.1340</td>\n    </tr>\n    <tr>\n      <th>...</th>\n      <td>...</td>\n      <td>...</td>\n      <td>...</td>\n      <td>...</td>\n      <td>...</td>\n      <td>...</td>\n    </tr>\n    <tr>\n      <th>154</th>\n      <td>Smelt</td>\n      <td>12.2</td>\n      <td>12.2</td>\n      <td>13.4</td>\n      <td>2.0904</td>\n      <td>1.3936</td>\n    </tr>\n    <tr>\n      <th>155</th>\n      <td>Smelt</td>\n      <td>13.4</td>\n      <td>12.4</td>\n      <td>13.5</td>\n      <td>2.4300</td>\n      <td>1.2690</td>\n    </tr>\n    <tr>\n      <th>156</th>\n      <td>Smelt</td>\n      <td>12.2</td>\n      <td>13.0</td>\n      <td>13.8</td>\n      <td>2.2770</td>\n      <td>1.2558</td>\n    </tr>\n    <tr>\n      <th>157</th>\n      <td>Smelt</td>\n      <td>19.7</td>\n      <td>14.3</td>\n      <td>15.2</td>\n      <td>2.8728</td>\n      <td>2.0672</td>\n    </tr>\n    <tr>\n      <th>158</th>\n      <td>Smelt</td>\n      <td>19.9</td>\n      <td>15.0</td>\n      <td>16.2</td>\n      <td>2.9322</td>\n      <td>1.8792</td>\n    </tr>\n  </tbody>\n</table>\n<p>159 rows × 6 columns</p>\n</div>"
     },
     "execution_count": 3,
     "metadata": {},
     "output_type": "execute_result"
    }
   ],
   "source": [
    "# 데이터 준비\n",
    "data_file = '../data/fish.csv'\n",
    "fishDF = pd.read_csv(data_file)\n",
    "fishDF"
   ],
   "metadata": {
    "collapsed": false,
    "ExecuteTime": {
     "end_time": "2024-03-04T05:39:06.722894Z",
     "start_time": "2024-03-04T05:39:06.682286Z"
    }
   },
   "id": "49282eb6e8f45815",
   "execution_count": 3
  },
  {
   "cell_type": "markdown",
   "source": [
    "### (2) 학습 위한 데이터 준비 <hr>"
   ],
   "metadata": {
    "collapsed": false
   },
   "id": "5e7f54cf3b5cfc25"
  },
  {
   "cell_type": "markdown",
   "source": [
    "#### (2-1) 피쳐와 타겟 분리"
   ],
   "metadata": {
    "collapsed": false
   },
   "id": "698f0a0467fd8f8f"
  },
  {
   "cell_type": "code",
   "outputs": [
    {
     "data": {
      "text/plain": "     Weight  Length  Diagonal   Height   Width\n0     242.0    25.4      30.0  11.5200  4.0200\n1     290.0    26.3      31.2  12.4800  4.3056\n2     340.0    26.5      31.1  12.3778  4.6961\n3     363.0    29.0      33.5  12.7300  4.4555\n4     430.0    29.0      34.0  12.4440  5.1340\n..      ...     ...       ...      ...     ...\n154    12.2    12.2      13.4   2.0904  1.3936\n155    13.4    12.4      13.5   2.4300  1.2690\n156    12.2    13.0      13.8   2.2770  1.2558\n157    19.7    14.3      15.2   2.8728  2.0672\n158    19.9    15.0      16.2   2.9322  1.8792\n\n[159 rows x 5 columns]",
      "text/html": "<div>\n<style scoped>\n    .dataframe tbody tr th:only-of-type {\n        vertical-align: middle;\n    }\n\n    .dataframe tbody tr th {\n        vertical-align: top;\n    }\n\n    .dataframe thead th {\n        text-align: right;\n    }\n</style>\n<table border=\"1\" class=\"dataframe\">\n  <thead>\n    <tr style=\"text-align: right;\">\n      <th></th>\n      <th>Weight</th>\n      <th>Length</th>\n      <th>Diagonal</th>\n      <th>Height</th>\n      <th>Width</th>\n    </tr>\n  </thead>\n  <tbody>\n    <tr>\n      <th>0</th>\n      <td>242.0</td>\n      <td>25.4</td>\n      <td>30.0</td>\n      <td>11.5200</td>\n      <td>4.0200</td>\n    </tr>\n    <tr>\n      <th>1</th>\n      <td>290.0</td>\n      <td>26.3</td>\n      <td>31.2</td>\n      <td>12.4800</td>\n      <td>4.3056</td>\n    </tr>\n    <tr>\n      <th>2</th>\n      <td>340.0</td>\n      <td>26.5</td>\n      <td>31.1</td>\n      <td>12.3778</td>\n      <td>4.6961</td>\n    </tr>\n    <tr>\n      <th>3</th>\n      <td>363.0</td>\n      <td>29.0</td>\n      <td>33.5</td>\n      <td>12.7300</td>\n      <td>4.4555</td>\n    </tr>\n    <tr>\n      <th>4</th>\n      <td>430.0</td>\n      <td>29.0</td>\n      <td>34.0</td>\n      <td>12.4440</td>\n      <td>5.1340</td>\n    </tr>\n    <tr>\n      <th>...</th>\n      <td>...</td>\n      <td>...</td>\n      <td>...</td>\n      <td>...</td>\n      <td>...</td>\n    </tr>\n    <tr>\n      <th>154</th>\n      <td>12.2</td>\n      <td>12.2</td>\n      <td>13.4</td>\n      <td>2.0904</td>\n      <td>1.3936</td>\n    </tr>\n    <tr>\n      <th>155</th>\n      <td>13.4</td>\n      <td>12.4</td>\n      <td>13.5</td>\n      <td>2.4300</td>\n      <td>1.2690</td>\n    </tr>\n    <tr>\n      <th>156</th>\n      <td>12.2</td>\n      <td>13.0</td>\n      <td>13.8</td>\n      <td>2.2770</td>\n      <td>1.2558</td>\n    </tr>\n    <tr>\n      <th>157</th>\n      <td>19.7</td>\n      <td>14.3</td>\n      <td>15.2</td>\n      <td>2.8728</td>\n      <td>2.0672</td>\n    </tr>\n    <tr>\n      <th>158</th>\n      <td>19.9</td>\n      <td>15.0</td>\n      <td>16.2</td>\n      <td>2.9322</td>\n      <td>1.8792</td>\n    </tr>\n  </tbody>\n</table>\n<p>159 rows × 5 columns</p>\n</div>"
     },
     "execution_count": 4,
     "metadata": {},
     "output_type": "execute_result"
    }
   ],
   "source": [
    "targetDF = fishDF.Species\n",
    "featureDF = fishDF.drop('Species', axis=1)\n",
    "featureDF"
   ],
   "metadata": {
    "collapsed": false,
    "ExecuteTime": {
     "end_time": "2024-03-04T05:39:06.753812Z",
     "start_time": "2024-03-04T05:39:06.728826Z"
    }
   },
   "id": "684f1f6e9c7ee6b9",
   "execution_count": 4
  },
  {
   "cell_type": "code",
   "outputs": [
    {
     "name": "stdout",
     "output_type": "stream",
     "text": [
      "featureDF.shape: (159, 5), targetDF.shape: (159,)\n"
     ]
    }
   ],
   "source": [
    "print(f'featureDF.shape: {featureDF.shape}, targetDF.shape: {targetDF.shape}')"
   ],
   "metadata": {
    "collapsed": false,
    "ExecuteTime": {
     "end_time": "2024-03-04T05:39:06.755915Z",
     "start_time": "2024-03-04T05:39:06.743929Z"
    }
   },
   "id": "b0ba3d558b642162",
   "execution_count": 5
  },
  {
   "cell_type": "code",
   "outputs": [
    {
     "data": {
      "text/plain": "7"
     },
     "execution_count": 6,
     "metadata": {},
     "output_type": "execute_result"
    }
   ],
   "source": [
    "# 타겟 즉 클래스 수 확인\n",
    "targetDF.nunique()"
   ],
   "metadata": {
    "collapsed": false,
    "ExecuteTime": {
     "end_time": "2024-03-04T05:39:06.835114Z",
     "start_time": "2024-03-04T05:39:06.758097Z"
    }
   },
   "id": "ed2efc86554f7384",
   "execution_count": 6
  },
  {
   "cell_type": "code",
   "outputs": [
    {
     "data": {
      "text/plain": "Species\nPerch        0.352201\nBream        0.220126\nRoach        0.125786\nPike         0.106918\nSmelt        0.088050\nParkki       0.069182\nWhitefish    0.037736\nName: count, dtype: float64"
     },
     "execution_count": 7,
     "metadata": {},
     "output_type": "execute_result"
    }
   ],
   "source": [
    "# 타겟 클래스 별 데이터 수 확인\n",
    "targetDF.value_counts() / targetDF.shape[0]\n",
    "# 데이터가 불균등함"
   ],
   "metadata": {
    "collapsed": false,
    "ExecuteTime": {
     "end_time": "2024-03-04T05:39:06.907614Z",
     "start_time": "2024-03-04T05:39:06.838141Z"
    }
   },
   "id": "4098bbba9e230120",
   "execution_count": 7
  },
  {
   "cell_type": "markdown",
   "source": [
    "#### (2-2) 학습용/테스트용 데이터셋 준비"
   ],
   "metadata": {
    "collapsed": false
   },
   "id": "1640a955eb148ef3"
  },
  {
   "cell_type": "code",
   "outputs": [],
   "source": [
    "from sklearn.model_selection import train_test_split"
   ],
   "metadata": {
    "collapsed": false,
    "ExecuteTime": {
     "end_time": "2024-03-04T05:39:06.942524Z",
     "start_time": "2024-03-04T05:39:06.894795Z"
    }
   },
   "id": "a956b56a8744d3a9",
   "execution_count": 8
  },
  {
   "cell_type": "code",
   "outputs": [],
   "source": [
    "X_train, X_test, y_train, y_test = train_test_split(featureDF,\n",
    "                                                    targetDF,\n",
    "                                                    stratify=targetDF,\n",
    "                                                    random_state=11)"
   ],
   "metadata": {
    "collapsed": false,
    "ExecuteTime": {
     "end_time": "2024-03-04T05:39:06.949932Z",
     "start_time": "2024-03-04T05:39:06.944706Z"
    }
   },
   "id": "5711299e73e9021f",
   "execution_count": 9
  },
  {
   "cell_type": "code",
   "outputs": [
    {
     "name": "stdout",
     "output_type": "stream",
     "text": [
      "Training set: (119, 5), (119,) test set: (40, 5), (40,)\n"
     ]
    }
   ],
   "source": [
    "print(f'Training set: {X_train.shape}, {y_train.shape} test set: {X_test.shape}, {y_test.shape}')"
   ],
   "metadata": {
    "collapsed": false,
    "ExecuteTime": {
     "end_time": "2024-03-04T05:39:06.974547Z",
     "start_time": "2024-03-04T05:39:06.949748Z"
    }
   },
   "id": "a95fbe73b5efd877",
   "execution_count": 10
  },
  {
   "cell_type": "markdown",
   "source": [
    "### (3) 학습 진행<hr>"
   ],
   "metadata": {
    "collapsed": false
   },
   "id": "94a197e17aece7e"
  },
  {
   "cell_type": "code",
   "outputs": [],
   "source": [
    "from sklearn.linear_model import LogisticRegression"
   ],
   "metadata": {
    "collapsed": false,
    "ExecuteTime": {
     "end_time": "2024-03-04T05:39:07.071399Z",
     "start_time": "2024-03-04T05:39:06.953275Z"
    }
   },
   "id": "3e50f5a929310e24",
   "execution_count": 11
  },
  {
   "cell_type": "code",
   "outputs": [
    {
     "data": {
      "text/plain": "LogisticRegression(max_iter=1000, solver='liblinear')",
      "text/html": "<style>#sk-container-id-1 {color: black;}#sk-container-id-1 pre{padding: 0;}#sk-container-id-1 div.sk-toggleable {background-color: white;}#sk-container-id-1 label.sk-toggleable__label {cursor: pointer;display: block;width: 100%;margin-bottom: 0;padding: 0.3em;box-sizing: border-box;text-align: center;}#sk-container-id-1 label.sk-toggleable__label-arrow:before {content: \"▸\";float: left;margin-right: 0.25em;color: #696969;}#sk-container-id-1 label.sk-toggleable__label-arrow:hover:before {color: black;}#sk-container-id-1 div.sk-estimator:hover label.sk-toggleable__label-arrow:before {color: black;}#sk-container-id-1 div.sk-toggleable__content {max-height: 0;max-width: 0;overflow: hidden;text-align: left;background-color: #f0f8ff;}#sk-container-id-1 div.sk-toggleable__content pre {margin: 0.2em;color: black;border-radius: 0.25em;background-color: #f0f8ff;}#sk-container-id-1 input.sk-toggleable__control:checked~div.sk-toggleable__content {max-height: 200px;max-width: 100%;overflow: auto;}#sk-container-id-1 input.sk-toggleable__control:checked~label.sk-toggleable__label-arrow:before {content: \"▾\";}#sk-container-id-1 div.sk-estimator input.sk-toggleable__control:checked~label.sk-toggleable__label {background-color: #d4ebff;}#sk-container-id-1 div.sk-label input.sk-toggleable__control:checked~label.sk-toggleable__label {background-color: #d4ebff;}#sk-container-id-1 input.sk-hidden--visually {border: 0;clip: rect(1px 1px 1px 1px);clip: rect(1px, 1px, 1px, 1px);height: 1px;margin: -1px;overflow: hidden;padding: 0;position: absolute;width: 1px;}#sk-container-id-1 div.sk-estimator {font-family: monospace;background-color: #f0f8ff;border: 1px dotted black;border-radius: 0.25em;box-sizing: border-box;margin-bottom: 0.5em;}#sk-container-id-1 div.sk-estimator:hover {background-color: #d4ebff;}#sk-container-id-1 div.sk-parallel-item::after {content: \"\";width: 100%;border-bottom: 1px solid gray;flex-grow: 1;}#sk-container-id-1 div.sk-label:hover label.sk-toggleable__label {background-color: #d4ebff;}#sk-container-id-1 div.sk-serial::before {content: \"\";position: absolute;border-left: 1px solid gray;box-sizing: border-box;top: 0;bottom: 0;left: 50%;z-index: 0;}#sk-container-id-1 div.sk-serial {display: flex;flex-direction: column;align-items: center;background-color: white;padding-right: 0.2em;padding-left: 0.2em;position: relative;}#sk-container-id-1 div.sk-item {position: relative;z-index: 1;}#sk-container-id-1 div.sk-parallel {display: flex;align-items: stretch;justify-content: center;background-color: white;position: relative;}#sk-container-id-1 div.sk-item::before, #sk-container-id-1 div.sk-parallel-item::before {content: \"\";position: absolute;border-left: 1px solid gray;box-sizing: border-box;top: 0;bottom: 0;left: 50%;z-index: -1;}#sk-container-id-1 div.sk-parallel-item {display: flex;flex-direction: column;z-index: 1;position: relative;background-color: white;}#sk-container-id-1 div.sk-parallel-item:first-child::after {align-self: flex-end;width: 50%;}#sk-container-id-1 div.sk-parallel-item:last-child::after {align-self: flex-start;width: 50%;}#sk-container-id-1 div.sk-parallel-item:only-child::after {width: 0;}#sk-container-id-1 div.sk-dashed-wrapped {border: 1px dashed gray;margin: 0 0.4em 0.5em 0.4em;box-sizing: border-box;padding-bottom: 0.4em;background-color: white;}#sk-container-id-1 div.sk-label label {font-family: monospace;font-weight: bold;display: inline-block;line-height: 1.2em;}#sk-container-id-1 div.sk-label-container {text-align: center;}#sk-container-id-1 div.sk-container {/* jupyter's `normalize.less` sets `[hidden] { display: none; }` but bootstrap.min.css set `[hidden] { display: none !important; }` so we also need the `!important` here to be able to override the default hidden behavior on the sphinx rendered scikit-learn.org. See: https://github.com/scikit-learn/scikit-learn/issues/21755 */display: inline-block !important;position: relative;}#sk-container-id-1 div.sk-text-repr-fallback {display: none;}</style><div id=\"sk-container-id-1\" class=\"sk-top-container\"><div class=\"sk-text-repr-fallback\"><pre>LogisticRegression(max_iter=1000, solver=&#x27;liblinear&#x27;)</pre><b>In a Jupyter environment, please rerun this cell to show the HTML representation or trust the notebook. <br />On GitHub, the HTML representation is unable to render, please try loading this page with nbviewer.org.</b></div><div class=\"sk-container\" hidden><div class=\"sk-item\"><div class=\"sk-estimator sk-toggleable\"><input class=\"sk-toggleable__control sk-hidden--visually\" id=\"sk-estimator-id-1\" type=\"checkbox\" checked><label for=\"sk-estimator-id-1\" class=\"sk-toggleable__label sk-toggleable__label-arrow\">LogisticRegression</label><div class=\"sk-toggleable__content\"><pre>LogisticRegression(max_iter=1000, solver=&#x27;liblinear&#x27;)</pre></div></div></div></div></div>"
     },
     "execution_count": 12,
     "metadata": {},
     "output_type": "execute_result"
    }
   ],
   "source": [
    "# 모델 인스턴스 생성 및 학습\n",
    "model = LogisticRegression(max_iter=1000, solver='liblinear')\n",
    "model.fit(X_train, y_train)"
   ],
   "metadata": {
    "collapsed": false,
    "ExecuteTime": {
     "end_time": "2024-03-04T05:39:07.072510Z",
     "start_time": "2024-03-04T05:39:07.001889Z"
    }
   },
   "id": "cf56501c7b0a9fd6",
   "execution_count": 12
  },
  {
   "cell_type": "code",
   "outputs": [
    {
     "name": "stdout",
     "output_type": "stream",
     "text": [
      "classes_ : ['Bream' 'Parkki' 'Perch' 'Pike' 'Roach' 'Smelt' 'Whitefish']\n",
      "feature_names_in_ : ['Weight' 'Length' 'Diagonal' 'Height' 'Width']\n",
      "max_iter : 1000\n",
      "coef_ : 7개\n",
      "[[ 1.31151754e-02 -1.64944473e+00  8.28009600e-01  1.41621596e+00\n",
      "  -4.15067210e-01]\n",
      " [-2.10617657e-02  3.33701594e-01 -9.64909143e-01  2.19381184e+00\n",
      "   2.66611700e-02]\n",
      " [-1.97453974e-03  2.60616873e+00 -2.66412260e+00 -7.93176709e-03\n",
      "   1.91659551e+00]\n",
      " [ 1.01422059e-02  2.55168743e-01  1.51461260e-01 -1.94779290e+00\n",
      "  -8.36602128e-01]\n",
      " [-9.89829706e-03 -1.72578825e+00  1.53807538e+00 -5.12880032e-01\n",
      "   1.65750894e+00]\n",
      " [-7.29426634e-02  3.82049401e-01  1.62783679e-01 -1.55364795e+00\n",
      "  -5.97839461e-01]\n",
      " [ 5.67536044e-03 -5.15807250e-01  2.50622960e-01 -2.45458511e-01\n",
      "   8.38223029e-01]]\n",
      "intercept_ : \n",
      "[-0.27362899  0.07982094 -0.34682853 -1.23222237 -1.32590576  0.41907035\n",
      " -0.35145235]\n"
     ]
    }
   ],
   "source": [
    "# 모델 파라미터 확인\n",
    "print(f'classes_ : {model.classes_}')\n",
    "print(f'feature_names_in_ : {model.feature_names_in_}')\n",
    "print(f'max_iter : {model.max_iter}')\n",
    "print(f'coef_ : {len(model.coef_)}개\\n{model.coef_}')\n",
    "print(f'intercept_ : \\n{model.intercept_}')\n"
   ],
   "metadata": {
    "collapsed": false,
    "ExecuteTime": {
     "end_time": "2024-03-04T05:39:07.072930Z",
     "start_time": "2024-03-04T05:39:07.008569Z"
    }
   },
   "id": "8459b699adce0fe2",
   "execution_count": 13
  },
  {
   "cell_type": "markdown",
   "source": [
    "### (4) 평가 <hr>"
   ],
   "metadata": {
    "collapsed": false
   },
   "id": "6afa67805f42c46b"
  },
  {
   "cell_type": "code",
   "outputs": [
    {
     "name": "stdout",
     "output_type": "stream",
     "text": [
      "[Train Score] 0.9495798319327731\n",
      "[Test Score] 0.975\n"
     ]
    }
   ],
   "source": [
    "print(f'[Train Score] {model.score(X_train, y_train)}\\n[Test Score] {model.score(X_test, y_test)}')"
   ],
   "metadata": {
    "collapsed": false,
    "ExecuteTime": {
     "end_time": "2024-03-04T05:39:07.121787Z",
     "start_time": "2024-03-04T05:39:07.011854Z"
    }
   },
   "id": "138641ee182bda65",
   "execution_count": 14
  },
  {
   "cell_type": "markdown",
   "source": [
    "### (5) 모델 활용 <hr>"
   ],
   "metadata": {
    "collapsed": false
   },
   "id": "a44678d661350164"
  },
  {
   "cell_type": "code",
   "outputs": [
    {
     "data": {
      "text/plain": "(array(['Bream'], dtype=object),\n 1    Bream\n Name: Species, dtype: object)"
     },
     "execution_count": 15,
     "metadata": {},
     "output_type": "execute_result"
    }
   ],
   "source": [
    "y_pre = model.predict(X_test.iloc[[0]])\n",
    "y_pre, y_test[:1]"
   ],
   "metadata": {
    "collapsed": false,
    "ExecuteTime": {
     "end_time": "2024-03-04T05:39:07.122405Z",
     "start_time": "2024-03-04T05:39:07.017696Z"
    }
   },
   "id": "4d0a6d812541fc35",
   "execution_count": 15
  },
  {
   "cell_type": "code",
   "outputs": [
    {
     "data": {
      "text/plain": "array([[5.0433e-01, 3.1086e-01, 3.8000e-04, 0.0000e+00, 1.7295e-01,\n        0.0000e+00, 1.1480e-02]])"
     },
     "execution_count": 16,
     "metadata": {},
     "output_type": "execute_result"
    }
   ],
   "source": [
    "model.predict_proba(X_test.iloc[[0]]).round(5)"
   ],
   "metadata": {
    "collapsed": false,
    "ExecuteTime": {
     "end_time": "2024-03-04T05:39:07.122818Z",
     "start_time": "2024-03-04T05:39:07.022769Z"
    }
   },
   "id": "232c56bffcebcc4d",
   "execution_count": 16
  },
  {
   "cell_type": "code",
   "outputs": [
    {
     "name": "stdout",
     "output_type": "stream",
     "text": [
      "['Bream' 'Parkki' 'Perch' 'Pike' 'Roach' 'Smelt' 'Whitefish']\n"
     ]
    },
    {
     "data": {
      "text/plain": "array([[0.504, 0.311, 0.   , 0.   , 0.173, 0.   , 0.011],\n       [0.158, 0.73 , 0.044, 0.   , 0.057, 0.   , 0.01 ],\n       [0.772, 0.024, 0.001, 0.   , 0.18 , 0.   , 0.023],\n       [0.001, 0.089, 0.719, 0.002, 0.155, 0.004, 0.03 ],\n       [0.   , 0.021, 0.753, 0.009, 0.176, 0.009, 0.031]])"
     },
     "execution_count": 17,
     "metadata": {},
     "output_type": "execute_result"
    }
   ],
   "source": [
    "# 5개 데이터에 대한 생선 분류 예측\n",
    "print(model.classes_)\n",
    "np.round(model.predict_proba(X_test.iloc[:5]), 3)"
   ],
   "metadata": {
    "collapsed": false,
    "ExecuteTime": {
     "end_time": "2024-03-04T05:39:07.123215Z",
     "start_time": "2024-03-04T05:39:07.027644Z"
    }
   },
   "id": "e71d5ba9a57dfb80",
   "execution_count": 17
  },
  {
   "cell_type": "code",
   "outputs": [],
   "source": [],
   "metadata": {
    "collapsed": false,
    "ExecuteTime": {
     "end_time": "2024-03-04T05:39:07.126930Z",
     "start_time": "2024-03-04T05:39:07.073510Z"
    }
   },
   "id": "ae45e481a7588ebb",
   "execution_count": 17
  },
  {
   "cell_type": "code",
   "outputs": [
    {
     "data": {
      "text/plain": "array([0, 1, 0, 2, 2])"
     },
     "execution_count": 18,
     "metadata": {},
     "output_type": "execute_result"
    }
   ],
   "source": [
    "result = model.predict_proba(X_test.iloc[:5]).argmax(axis=1) # argmax : 결과 인덱스 뽑아줌\n",
    "result"
   ],
   "metadata": {
    "collapsed": false,
    "ExecuteTime": {
     "end_time": "2024-03-04T05:39:07.325317Z",
     "start_time": "2024-03-04T05:39:07.129155Z"
    }
   },
   "id": "b16e25c17126fc5b",
   "execution_count": 18
  },
  {
   "cell_type": "code",
   "outputs": [],
   "source": [
    "data = {\"Pre Y\": [model.classes_[idx] for idx in result], \"True Y\" : y_test[:5].to_list()}"
   ],
   "metadata": {
    "collapsed": false,
    "ExecuteTime": {
     "end_time": "2024-03-04T05:39:07.439067Z",
     "start_time": "2024-03-04T05:39:07.328401Z"
    }
   },
   "id": "d6c7edcb14ec9581",
   "execution_count": 19
  },
  {
   "cell_type": "code",
   "outputs": [
    {
     "data": {
      "text/plain": "    Pre Y  True Y\n0   Bream   Bream\n1  Parkki  Parkki\n2   Bream   Bream\n3   Perch   Perch\n4   Perch   Perch",
      "text/html": "<div>\n<style scoped>\n    .dataframe tbody tr th:only-of-type {\n        vertical-align: middle;\n    }\n\n    .dataframe tbody tr th {\n        vertical-align: top;\n    }\n\n    .dataframe thead th {\n        text-align: right;\n    }\n</style>\n<table border=\"1\" class=\"dataframe\">\n  <thead>\n    <tr style=\"text-align: right;\">\n      <th></th>\n      <th>Pre Y</th>\n      <th>True Y</th>\n    </tr>\n  </thead>\n  <tbody>\n    <tr>\n      <th>0</th>\n      <td>Bream</td>\n      <td>Bream</td>\n    </tr>\n    <tr>\n      <th>1</th>\n      <td>Parkki</td>\n      <td>Parkki</td>\n    </tr>\n    <tr>\n      <th>2</th>\n      <td>Bream</td>\n      <td>Bream</td>\n    </tr>\n    <tr>\n      <th>3</th>\n      <td>Perch</td>\n      <td>Perch</td>\n    </tr>\n    <tr>\n      <th>4</th>\n      <td>Perch</td>\n      <td>Perch</td>\n    </tr>\n  </tbody>\n</table>\n</div>"
     },
     "execution_count": 20,
     "metadata": {},
     "output_type": "execute_result"
    }
   ],
   "source": [
    "pd.DataFrame(data)"
   ],
   "metadata": {
    "collapsed": false,
    "ExecuteTime": {
     "end_time": "2024-03-04T05:39:07.571360Z",
     "start_time": "2024-03-04T05:39:07.409273Z"
    }
   },
   "id": "dbce8ed1b1a379ab",
   "execution_count": 20
  },
  {
   "cell_type": "code",
   "outputs": [
    {
     "ename": "ValueError",
     "evalue": "y contains previously unseen labels: ['Bream' 'Parkki' 'Perch' 'Pike' 'Roach' 'Smelt' 'Whitefish']",
     "output_type": "error",
     "traceback": [
      "\u001B[0;31m---------------------------------------------------------------------------\u001B[0m",
      "\u001B[0;31mValueError\u001B[0m                                Traceback (most recent call last)",
      "Cell \u001B[0;32mIn[21], line 6\u001B[0m\n\u001B[1;32m      3\u001B[0m encoder \u001B[38;5;241m=\u001B[39m LabelEncoder()\n\u001B[1;32m      4\u001B[0m encoder\u001B[38;5;241m.\u001B[39mfit(targetDF)\n\u001B[0;32m----> 6\u001B[0m model\u001B[38;5;241m.\u001B[39mclasses_, \u001B[43mencoder\u001B[49m\u001B[38;5;241;43m.\u001B[39;49m\u001B[43minverse_transform\u001B[49m\u001B[43m(\u001B[49m\u001B[43mmodel\u001B[49m\u001B[38;5;241;43m.\u001B[39;49m\u001B[43mclasses_\u001B[49m\u001B[43m)\u001B[49m\n",
      "File \u001B[0;32m~/anaconda3/envs/EXAM_ML/lib/python3.9/site-packages/sklearn/preprocessing/_label.py:160\u001B[0m, in \u001B[0;36mLabelEncoder.inverse_transform\u001B[0;34m(self, y)\u001B[0m\n\u001B[1;32m    158\u001B[0m diff \u001B[38;5;241m=\u001B[39m np\u001B[38;5;241m.\u001B[39msetdiff1d(y, np\u001B[38;5;241m.\u001B[39marange(\u001B[38;5;28mlen\u001B[39m(\u001B[38;5;28mself\u001B[39m\u001B[38;5;241m.\u001B[39mclasses_)))\n\u001B[1;32m    159\u001B[0m \u001B[38;5;28;01mif\u001B[39;00m \u001B[38;5;28mlen\u001B[39m(diff):\n\u001B[0;32m--> 160\u001B[0m     \u001B[38;5;28;01mraise\u001B[39;00m \u001B[38;5;167;01mValueError\u001B[39;00m(\u001B[38;5;124m\"\u001B[39m\u001B[38;5;124my contains previously unseen labels: \u001B[39m\u001B[38;5;132;01m%s\u001B[39;00m\u001B[38;5;124m\"\u001B[39m \u001B[38;5;241m%\u001B[39m \u001B[38;5;28mstr\u001B[39m(diff))\n\u001B[1;32m    161\u001B[0m y \u001B[38;5;241m=\u001B[39m np\u001B[38;5;241m.\u001B[39masarray(y)\n\u001B[1;32m    162\u001B[0m \u001B[38;5;28;01mreturn\u001B[39;00m \u001B[38;5;28mself\u001B[39m\u001B[38;5;241m.\u001B[39mclasses_[y]\n",
      "\u001B[0;31mValueError\u001B[0m: y contains previously unseen labels: ['Bream' 'Parkki' 'Perch' 'Pike' 'Roach' 'Smelt' 'Whitefish']"
     ]
    }
   ],
   "source": [
    "from sklearn.preprocessing import LabelEncoder\n",
    "\n",
    "encoder = LabelEncoder()\n",
    "encoder.fit(targetDF)\n",
    "\n",
    "model.classes_, encoder.inverse_transform(model.classes_)"
   ],
   "metadata": {
    "collapsed": false,
    "ExecuteTime": {
     "end_time": "2024-03-04T05:39:07.589983Z",
     "start_time": "2024-03-04T05:39:07.511757Z"
    }
   },
   "id": "c6d6222706cc511",
   "execution_count": 21
  },
  {
   "cell_type": "code",
   "outputs": [
    {
     "name": "stdout",
     "output_type": "stream",
     "text": [
      "타겟 라벨  ['Bream' 'Parkki' 'Perch' 'Pike' 'Roach' 'Smelt' 'Whitefish']\n"
     ]
    }
   ],
   "source": [
    "print(\"타겟 라벨 \", model.classes_)\n",
    "labels=encoder.inverse_transform"
   ],
   "metadata": {
    "collapsed": false,
    "ExecuteTime": {
     "end_time": "2024-03-04T05:39:19.250254Z",
     "start_time": "2024-03-04T05:39:19.243133Z"
    }
   },
   "id": "af2797b21f42ee31",
   "execution_count": 22
  },
  {
   "cell_type": "code",
   "outputs": [],
   "source": [],
   "metadata": {
    "collapsed": false
   },
   "id": "49c4fa2a9897d7fd"
  }
 ],
 "metadata": {
  "kernelspec": {
   "display_name": "Python 3",
   "language": "python",
   "name": "python3"
  },
  "language_info": {
   "codemirror_mode": {
    "name": "ipython",
    "version": 2
   },
   "file_extension": ".py",
   "mimetype": "text/x-python",
   "name": "python",
   "nbconvert_exporter": "python",
   "pygments_lexer": "ipython2",
   "version": "2.7.6"
  }
 },
 "nbformat": 4,
 "nbformat_minor": 5
}
